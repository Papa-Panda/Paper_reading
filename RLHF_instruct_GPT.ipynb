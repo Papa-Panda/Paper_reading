{
  "nbformat": 4,
  "nbformat_minor": 0,
  "metadata": {
    "colab": {
      "provenance": [],
      "authorship_tag": "ABX9TyNtR9i58MfyIMOFyRccpEV+",
      "include_colab_link": true
    },
    "kernelspec": {
      "name": "python3",
      "display_name": "Python 3"
    },
    "language_info": {
      "name": "python"
    }
  },
  "cells": [
    {
      "cell_type": "markdown",
      "metadata": {
        "id": "view-in-github",
        "colab_type": "text"
      },
      "source": [
        "<a href=\"https://colab.research.google.com/github/Papa-Panda/Paper_reading/blob/main/RLHF_instruct_GPT.ipynb\" target=\"_parent\"><img src=\"https://colab.research.google.com/assets/colab-badge.svg\" alt=\"Open In Colab\"/></a>"
      ]
    },
    {
      "cell_type": "code",
      "source": [
        "# Supervised Fine-Tuning (SFT): Train a base language model on labeled datasets to perform specific instructions."
      ],
      "metadata": {
        "id": "8TOiUNOhyj_8"
      },
      "execution_count": null,
      "outputs": []
    },
    {
      "cell_type": "code",
      "source": [
        "# URL: https://wandb.ai/settings#api\n",
        "# # api_key: 762475e7d3a86eb2d9ad7cf3860dcbafb1a1448a\n",
        "# !pip install wandb -qU\n",
        "# import wandb\n",
        "# wandb.login()"
      ],
      "metadata": {
        "id": "ObapDN1V1s2K"
      },
      "execution_count": 25,
      "outputs": []
    },
    {
      "cell_type": "code",
      "execution_count": 5,
      "metadata": {
        "id": "uivRZ52gyNt_"
      },
      "outputs": [],
      "source": [
        "import torch\n",
        "from transformers import GPT2Tokenizer, GPT2LMHeadModel, Trainer, TrainingArguments\n",
        "\n",
        "# Load pre-trained model and tokenizer\n",
        "tokenizer = GPT2Tokenizer.from_pretrained(\"gpt2\")\n",
        "model = GPT2LMHeadModel.from_pretrained(\"gpt2\")\n",
        "\n",
        "# Mock dataset: Instruction-Output pairs\n",
        "dataset = [\n",
        "    {\"instruction\": \"Translate 'Hello' to Spanish.\", \"output\": \"Hola\"},\n",
        "    {\"instruction\": \"What is 2 + 2?\", \"output\": \"4\"},\n",
        "    {\"instruction\": \"Write a short poem about the moon.\", \"output\": \"The moon glows bright, in the silent night.\"}\n",
        "]\n",
        "\n",
        "\n",
        "# Preprocess dataset\n",
        "# Set the pad_token to eos_token\n",
        "tokenizer.pad_token = tokenizer.eos_token\n",
        "def preprocess(data):\n",
        "    inputs = [f\"Instruction: {d['instruction']}\\nOutput:\" for d in data]\n",
        "    labels = [f\"{d['output']}\" for d in data]\n",
        "    tokenized = tokenizer(inputs, padding=True, truncation=True, return_tensors=\"pt\")\n",
        "    tokenized_labels = tokenizer(labels, padding=True, truncation=True, return_tensors=\"pt\").input_ids\n",
        "    tokenized['labels'] = tokenized_labels\n",
        "    return tokenized\n",
        "\n",
        "tokenized_dataset = preprocess(dataset)\n",
        "\n",
        "# Fine-tuning settings\n",
        "# training_args = TrainingArguments(\n",
        "#     output_dir=\"./results\",\n",
        "#     num_train_epochs=1,\n",
        "#     per_device_train_batch_size=2,\n",
        "#     logging_dir=\"./logs\",\n",
        "#     logging_steps=10,\n",
        "#     save_steps=1000,\n",
        "#     save_total_limit=1\n",
        "# )\n",
        "training_args = TrainingArguments(\n",
        "    output_dir=\"./results\",\n",
        "    num_train_epochs=1,\n",
        "    per_device_train_batch_size=2,\n",
        "    logging_dir=\"./logs\",\n",
        "    logging_steps=10,\n",
        "    save_steps=100,  # Save checkpoints every 100 steps\n",
        "    save_total_limit=1,  # Keep only the latest checkpoint\n",
        "    save_strategy=\"epoch\"  # Save the model at the end of each epoch\n",
        ")\n",
        "\n",
        "\n",
        "\n",
        "trainer = Trainer(\n",
        "    model=model,\n",
        "    args=training_args,\n",
        "    train_dataset=tokenized_dataset\n",
        ")\n",
        "\n",
        "# trainer.train()\n"
      ]
    },
    {
      "cell_type": "code",
      "source": [
        "# trainer.train()\n",
        "\n",
        "# Save the model and tokenizer manually\n",
        "trainer.save_model(\"./results\")  # Save the fine-tuned model\n",
        "tokenizer.save_pretrained(\"./results\")  # Save the tokenizer\n",
        "# trainer.train()\n"
      ],
      "metadata": {
        "colab": {
          "base_uri": "https://localhost:8080/"
        },
        "id": "pJ1ViB8qasl5",
        "outputId": "5f16e33b-65d7-4c39-8440-db4d84080a6f"
      },
      "execution_count": 7,
      "outputs": [
        {
          "output_type": "execute_result",
          "data": {
            "text/plain": [
              "('./results/tokenizer_config.json',\n",
              " './results/special_tokens_map.json',\n",
              " './results/vocab.json',\n",
              " './results/merges.txt',\n",
              " './results/added_tokens.json')"
            ]
          },
          "metadata": {},
          "execution_count": 7
        }
      ]
    },
    {
      "cell_type": "code",
      "source": [
        "from transformers import GPT2LMHeadModel, GPT2Tokenizer\n",
        "\n",
        "# Load the fine-tuned model\n",
        "fine_tuned_model = GPT2LMHeadModel.from_pretrained(\"./results\")\n",
        "tokenizer = GPT2Tokenizer.from_pretrained(\"./results\")\n"
      ],
      "metadata": {
        "id": "1bZOBy9ma8C3"
      },
      "execution_count": 8,
      "outputs": []
    },
    {
      "cell_type": "code",
      "source": [
        "# Reward Model Training (RMT): Use human-labeled rankings of model outputs to train a reward model that scores outputs based on their alignment with instructions."
      ],
      "metadata": {
        "id": "IaYDDbgYyS6S"
      },
      "execution_count": 2,
      "outputs": []
    },
    {
      "cell_type": "code",
      "source": [
        "import numpy as np\n",
        "\n",
        "# Mock reward data: Ranked outputs\n",
        "reward_data = [\n",
        "    {\"instruction\": \"Translate 'Hello' to Spanish.\", \"outputs\": [\"Hola\", \"Ola\", \"Hi\"], \"ranking\": [2, 1, 0]},\n",
        "    # {\"instruction\": \"What is 2 + 2?\", \"outputs\": [\"4\", \"four\", \"5\"], \"ranking\": [2, 1, 0]},\n",
        "]\n",
        "\n",
        "# Mock Reward Model: Simple ranking system\n",
        "def reward_model(output, outputs, ranking):\n",
        "    if output in outputs:\n",
        "        index = outputs.index(output)\n",
        "        return ranking[index]\n",
        "    else:\n",
        "        raise ValueError(f\"Output '{output}' not found in outputs list.\")\n",
        "\n",
        "# Convert outputs to numeric IDs\n",
        "reward_dataset = []\n",
        "for item in reward_data:\n",
        "    for i, output in enumerate(item[\"outputs\"]):\n",
        "        reward_dataset.append((item[\"instruction\"], output, item[\"ranking\"][i]))\n",
        "\n",
        "# Example for demonstration:\n",
        "# In practice, this would involve training a neural network on the reward dataset.\n"
      ],
      "metadata": {
        "id": "XnyY2Yy6yypK"
      },
      "execution_count": 12,
      "outputs": []
    },
    {
      "cell_type": "code",
      "source": [
        "# Reinforcement Learning (RL): Fine-tune the model using reinforcement learning to optimize the reward model's score."
      ],
      "metadata": {
        "id": "DXrImNylyw6A"
      },
      "execution_count": null,
      "outputs": []
    },
    {
      "cell_type": "code",
      "source": [
        "from transformers import pipeline\n",
        "from torch.optim import Adam\n",
        "\n",
        "# Load the fine-tuned model\n",
        "fine_tuned_model = GPT2LMHeadModel.from_pretrained(\"./results\")\n",
        "\n",
        "# PPO setup\n",
        "optimizer = Adam(fine_tuned_model.parameters(), lr=5e-5)\n",
        "\n",
        "# Mock PPO Loop\n",
        "for epoch in range(5):  # Simulate 5 epochs of RL\n",
        "    for item in reward_data:\n",
        "        instruction = item[\"instruction\"]\n",
        "        outputs = item[\"outputs\"]\n",
        "        ranking = item[\"ranking\"]\n",
        "\n",
        "        # Generate new output and compute reward\n",
        "        response = pipeline(\"text-generation\", model=fine_tuned_model, tokenizer=tokenizer)(f\"Instruction: {instruction}\\nOutput:\")\n",
        "        generated_text = response[0][\"generated_text\"]\n",
        "        print(generated_text)\n",
        "        # reward = reward_model(generated_text, outputs, ranking)\n",
        "        reward = reward_model('Hola', outputs, ranking)\n",
        "\n",
        "        # Optimize using the reward\n",
        "        loss = -reward  # Negative reward as loss\n",
        "        optimizer.zero_grad()\n",
        "        loss.backward()\n",
        "        optimizer.step()"
      ],
      "metadata": {
        "colab": {
          "base_uri": "https://localhost:8080/",
          "height": 332
        },
        "id": "dN3al1gCyztC",
        "outputId": "d973eece-c73f-4fa4-fd3a-5215c09d8270"
      },
      "execution_count": 13,
      "outputs": [
        {
          "output_type": "stream",
          "name": "stdout",
          "text": [
            "Instruction: Translate 'Hello' to Spanish.\n",
            "Output:\n",
            "\n",
            "The translation is not finished.\n",
            "Here is the result:\n",
            "\n",
            "Hello! I hope you love it.\n",
            "You can use the program in the program editor, such\n"
          ]
        },
        {
          "output_type": "error",
          "ename": "AttributeError",
          "evalue": "'int' object has no attribute 'backward'",
          "traceback": [
            "\u001b[0;31m---------------------------------------------------------------------------\u001b[0m",
            "\u001b[0;31mAttributeError\u001b[0m                            Traceback (most recent call last)",
            "\u001b[0;32m<ipython-input-13-8beeaa8dca75>\u001b[0m in \u001b[0;36m<cell line: 11>\u001b[0;34m()\u001b[0m\n\u001b[1;32m     25\u001b[0m         \u001b[0mloss\u001b[0m \u001b[0;34m=\u001b[0m \u001b[0;34m-\u001b[0m\u001b[0mreward\u001b[0m  \u001b[0;31m# Negative reward as loss\u001b[0m\u001b[0;34m\u001b[0m\u001b[0;34m\u001b[0m\u001b[0m\n\u001b[1;32m     26\u001b[0m         \u001b[0moptimizer\u001b[0m\u001b[0;34m.\u001b[0m\u001b[0mzero_grad\u001b[0m\u001b[0;34m(\u001b[0m\u001b[0;34m)\u001b[0m\u001b[0;34m\u001b[0m\u001b[0;34m\u001b[0m\u001b[0m\n\u001b[0;32m---> 27\u001b[0;31m         \u001b[0mloss\u001b[0m\u001b[0;34m.\u001b[0m\u001b[0mbackward\u001b[0m\u001b[0;34m(\u001b[0m\u001b[0;34m)\u001b[0m\u001b[0;34m\u001b[0m\u001b[0;34m\u001b[0m\u001b[0m\n\u001b[0m\u001b[1;32m     28\u001b[0m         \u001b[0moptimizer\u001b[0m\u001b[0;34m.\u001b[0m\u001b[0mstep\u001b[0m\u001b[0;34m(\u001b[0m\u001b[0;34m)\u001b[0m\u001b[0;34m\u001b[0m\u001b[0;34m\u001b[0m\u001b[0m\n",
            "\u001b[0;31mAttributeError\u001b[0m: 'int' object has no attribute 'backward'"
          ]
        }
      ]
    },
    {
      "cell_type": "code",
      "source": [],
      "metadata": {
        "id": "M97-AGyjy4wa"
      },
      "execution_count": 11,
      "outputs": []
    },
    {
      "cell_type": "code",
      "source": [],
      "metadata": {
        "id": "mK_5S5aEbHYC"
      },
      "execution_count": 12,
      "outputs": []
    },
    {
      "cell_type": "code",
      "source": [],
      "metadata": {
        "id": "yY2Zbf_ubhZp"
      },
      "execution_count": null,
      "outputs": []
    }
  ]
}