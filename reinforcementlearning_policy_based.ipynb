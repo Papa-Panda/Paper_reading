{
  "nbformat": 4,
  "nbformat_minor": 0,
  "metadata": {
    "colab": {
      "provenance": [],
      "authorship_tag": "ABX9TyNGW7d6RXnoc82pdyTWW5Cm",
      "include_colab_link": true
    },
    "kernelspec": {
      "name": "python3",
      "display_name": "Python 3"
    },
    "language_info": {
      "name": "python"
    }
  },
  "cells": [
    {
      "cell_type": "markdown",
      "metadata": {
        "id": "view-in-github",
        "colab_type": "text"
      },
      "source": [
        "<a href=\"https://colab.research.google.com/github/Papa-Panda/Paper_reading/blob/main/reinforcementlearning_policy_based.ipynb\" target=\"_parent\"><img src=\"https://colab.research.google.com/assets/colab-badge.svg\" alt=\"Open In Colab\"/></a>"
      ]
    },
    {
      "cell_type": "code",
      "execution_count": null,
      "metadata": {
        "colab": {
          "base_uri": "https://localhost:8080/"
        },
        "id": "yyFzl2A8tE0B",
        "outputId": "2b8483cb-cf30-4f51-e3ea-7191aa145f20"
      },
      "outputs": [
        {
          "output_type": "stream",
          "name": "stdout",
          "text": [
            "Episode 0, total reward: 11.0\n",
            "Episode 100, total reward: 106.0\n",
            "Episode 200, total reward: 125.0\n",
            "Episode 300, total reward: 29.0\n",
            "Episode 400, total reward: 59.0\n"
          ]
        }
      ],
      "source": [
        "import gymnasium as gym\n",
        "import torch\n",
        "import torch.nn as nn\n",
        "import torch.optim as optim\n",
        "from torch.distributions import Categorical\n",
        "\n",
        "# Setup environment\n",
        "env = gym.make(\"CartPole-v1\")\n",
        "state_dim = env.observation_space.shape[0]\n",
        "action_dim = env.action_space.n\n",
        "\n",
        "# Define the policy network\n",
        "class PolicyNetwork(nn.Module):\n",
        "    def __init__(self, state_dim, action_dim):\n",
        "        super().__init__()\n",
        "        self.net = nn.Sequential(\n",
        "            nn.Linear(state_dim, 128),\n",
        "            nn.ReLU(),\n",
        "            nn.Linear(128, action_dim),\n",
        "            nn.Softmax(dim=-1)\n",
        "        )\n",
        "\n",
        "    def forward(self, state):\n",
        "        return self.net(state)\n",
        "\n",
        "# Initialize\n",
        "policy_net = PolicyNetwork(state_dim, action_dim)\n",
        "optimizer = optim.Adam(policy_net.parameters(), lr=1e-2)\n",
        "gamma = 0.99\n",
        "\n",
        "# Training REINFORCE\n",
        "def compute_returns(rewards, gamma):\n",
        "    R = 0\n",
        "    returns = []\n",
        "    for r in reversed(rewards):\n",
        "        R = r + gamma * R\n",
        "        returns.insert(0, R)\n",
        "    return torch.tensor(returns, dtype=torch.float32)\n",
        "\n",
        "num_episodes = 1000\n",
        "for episode in range(num_episodes):\n",
        "    state, _ = env.reset()\n",
        "    log_probs = []\n",
        "    rewards = []\n",
        "    done = False\n",
        "\n",
        "    while not done:\n",
        "        state_tensor = torch.tensor(state, dtype=torch.float32)\n",
        "        action_probs = policy_net(state_tensor)\n",
        "        dist = Categorical(action_probs)\n",
        "        action = dist.sample()\n",
        "\n",
        "        log_probs.append(dist.log_prob(action))\n",
        "\n",
        "        state, reward, terminated, truncated, _ = env.step(action.item())\n",
        "        done = terminated or truncated\n",
        "        rewards.append(reward)\n",
        "\n",
        "    # Compute returns\n",
        "    returns = compute_returns(rewards, gamma)\n",
        "    returns = (returns - returns.mean()) / (returns.std() + 1e-9)  # normalize\n",
        "\n",
        "    # Policy gradient update\n",
        "    loss = -torch.sum(torch.stack(log_probs) * returns)\n",
        "    optimizer.zero_grad()\n",
        "    loss.backward()\n",
        "    optimizer.step()\n",
        "\n",
        "    if episode % 100 == 0:\n",
        "        print(f\"Episode {episode}, total reward: {sum(rewards)}\")\n",
        "\n",
        "env.close()\n"
      ]
    },
    {
      "cell_type": "code",
      "source": [],
      "metadata": {
        "id": "fcttMsaptFj5"
      },
      "execution_count": null,
      "outputs": []
    }
  ]
}