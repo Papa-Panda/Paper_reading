{
  "nbformat": 4,
  "nbformat_minor": 0,
  "metadata": {
    "colab": {
      "provenance": [],
      "authorship_tag": "ABX9TyPewfXnz6mrOEiLOecw8aus",
      "include_colab_link": true
    },
    "kernelspec": {
      "name": "python3",
      "display_name": "Python 3"
    },
    "language_info": {
      "name": "python"
    }
  },
  "cells": [
    {
      "cell_type": "markdown",
      "metadata": {
        "id": "view-in-github",
        "colab_type": "text"
      },
      "source": [
        "<a href=\"https://colab.research.google.com/github/Papa-Panda/Paper_reading/blob/main/DeepSeek%2Battention.ipynb\" target=\"_parent\"><img src=\"https://colab.research.google.com/assets/colab-badge.svg\" alt=\"Open In Colab\"/></a>"
      ]
    },
    {
      "cell_type": "code",
      "execution_count": 1,
      "metadata": {
        "id": "2Atc9qrM6n7e"
      },
      "outputs": [],
      "source": [
        "# https://github.com/deepseek-ai/DeepSeek-V3/blob/main/DeepSeek_V3.pdf\n",
        "\n",
        "# this video is on attentions' implementation\n",
        "# 【手写self-attention的四重境界-part1 pure self-attention】 https://www.bilibili.com/video/BV19YbFeHETz/?share_source=copy_web&vd_source=cdc9fab15e0ce1d464719ce689a12b14"
      ]
    },
    {
      "cell_type": "code",
      "source": [
        "import torch\n",
        "import torch.nn as nn\n",
        "import torch.nn.functional as F\n",
        "\n",
        "class MultiHeadAttention(nn.Module):\n",
        "    def __init__(self, embed_dim, num_heads):\n",
        "        super(MultiHeadAttention, self).__init__()\n",
        "        self.embed_dim = embed_dim\n",
        "        self.num_heads = num_heads\n",
        "\n",
        "        # Ensure embed_dim is divisible by num_heads\n",
        "        assert embed_dim % num_heads == 0, \"Embedding dimension must be divisible by the number of heads.\"\n",
        "\n",
        "        self.head_dim = embed_dim // num_heads\n",
        "\n",
        "        # Learnable projection matrices for query, key, and value\n",
        "        self.q_proj = nn.Linear(embed_dim, embed_dim)\n",
        "        self.k_proj = nn.Linear(embed_dim, embed_dim)\n",
        "        self.v_proj = nn.Linear(embed_dim, embed_dim)\n",
        "\n",
        "        # Output projection\n",
        "        self.out_proj = nn.Linear(embed_dim, embed_dim)\n",
        "\n",
        "    def forward(self, x):\n",
        "        batch_size, seq_len, embed_dim = x.size()\n",
        "\n",
        "        # Project inputs to queries, keys, and values\n",
        "        queries = self.q_proj(x).view(batch_size, seq_len, self.num_heads, self.head_dim).transpose(1, 2)\n",
        "        keys = self.k_proj(x).view(batch_size, seq_len, self.num_heads, self.head_dim).transpose(1, 2)\n",
        "        values = self.v_proj(x).view(batch_size, seq_len, self.num_heads, self.head_dim).transpose(1, 2)\n",
        "\n",
        "        # Scaled dot-product attention\n",
        "        scores = torch.matmul(queries, keys.transpose(-2, -1)) / (self.head_dim ** 0.5)\n",
        "        attention_weights = F.softmax(scores, dim=-1)\n",
        "        attended_values = torch.matmul(attention_weights, values)\n",
        "\n",
        "        # Concatenate attended values from all heads\n",
        "        attended_values = attended_values.transpose(1, 2).contiguous()\n",
        "        attended_values = attended_values.view(batch_size, seq_len, embed_dim)\n",
        "\n",
        "        # Apply the output projection\n",
        "        output = self.out_proj(attended_values)\n",
        "\n",
        "        return output\n",
        "\n",
        "# Example usage\n",
        "if __name__ == \"__main__\":\n",
        "    batch_size = 2\n",
        "    seq_len = 5\n",
        "    embed_dim = 16\n",
        "    num_heads = 4\n",
        "\n",
        "    # Initialize model and input\n",
        "    mla = MultiHeadAttention(embed_dim, num_heads)\n",
        "    x = torch.randn(batch_size, seq_len, embed_dim)\n",
        "\n",
        "    # Forward pass\n",
        "    output = mla(x)\n",
        "    print(\"Output shape:\", output.shape)\n"
      ],
      "metadata": {
        "colab": {
          "base_uri": "https://localhost:8080/"
        },
        "id": "Gte2LhLZ6xyr",
        "outputId": "ed6f6a15-fb09-4679-a8ca-249dfc275d6e"
      },
      "execution_count": 5,
      "outputs": [
        {
          "output_type": "stream",
          "name": "stdout",
          "text": [
            "Output shape: torch.Size([2, 5, 16])\n"
          ]
        }
      ]
    },
    {
      "cell_type": "code",
      "source": [
        "import torch\n",
        "import torch.nn as nn\n",
        "import torch.nn.functional as F\n",
        "\n",
        "class MultiHeadLatentAttention(nn.Module):\n",
        "    def __init__(self, embed_dim, num_heads, num_latents):\n",
        "        super(MultiHeadLatentAttention, self).__init__()\n",
        "        self.embed_dim = embed_dim\n",
        "        self.num_heads = num_heads\n",
        "        self.num_latents = num_latents\n",
        "\n",
        "        # Ensure embed_dim is divisible by num_heads\n",
        "        assert embed_dim % num_heads == 0, \"Embedding dimension must be divisible by the number of heads.\"\n",
        "\n",
        "        self.head_dim = embed_dim // num_heads\n",
        "\n",
        "        # Latent representations (slots)\n",
        "        self.latents = nn.Parameter(torch.randn(num_latents, embed_dim))\n",
        "\n",
        "        # Learnable projection matrices for query, key, and value\n",
        "        self.q_proj = nn.Linear(embed_dim, embed_dim)\n",
        "        self.k_proj = nn.Linear(embed_dim, embed_dim)\n",
        "        self.v_proj = nn.Linear(embed_dim, embed_dim)\n",
        "\n",
        "        # Output projection\n",
        "        self.out_proj = nn.Linear(embed_dim, embed_dim)\n",
        "\n",
        "    def forward(self, x):\n",
        "        batch_size, seq_len, embed_dim = x.size()\n",
        "\n",
        "        # Expand latents for batch size\n",
        "        latents = self.latents.unsqueeze(0).expand(batch_size, -1, -1)  # Shape: (batch_size, num_latents, embed_dim)\n",
        "\n",
        "        # Project inputs and latents to queries, keys, and values\n",
        "        queries = self.q_proj(latents).view(batch_size, self.num_latents, self.num_heads, self.head_dim).transpose(1, 2)\n",
        "        keys = self.k_proj(x).view(batch_size, seq_len, self.num_heads, self.head_dim).transpose(1, 2)\n",
        "        values = self.v_proj(x).view(batch_size, seq_len, self.num_heads, self.head_dim).transpose(1, 2)\n",
        "\n",
        "        # Scaled dot-product attention\n",
        "        scores = torch.matmul(queries, keys.transpose(-2, -1)) / (self.head_dim ** 0.5)\n",
        "        attention_weights = F.softmax(scores, dim=-1)\n",
        "        attended_values = torch.matmul(attention_weights, values)\n",
        "\n",
        "        # Concatenate attended values from all heads\n",
        "        attended_values = attended_values.transpose(1, 2).contiguous()\n",
        "        attended_values = attended_values.view(batch_size, self.num_latents, embed_dim)\n",
        "\n",
        "        # Apply the output projection\n",
        "        output = self.out_proj(attended_values)\n",
        "\n",
        "        return output\n",
        "\n",
        "# Example usage\n",
        "if __name__ == \"__main__\":\n",
        "    batch_size = 2\n",
        "    seq_len = 5\n",
        "    embed_dim = 16\n",
        "    num_heads = 4\n",
        "    num_latents = 3\n",
        "\n",
        "    # Initialize model and input\n",
        "    mla = MultiHeadLatentAttention(embed_dim, num_heads, num_latents)\n",
        "    x = torch.randn(batch_size, seq_len, embed_dim)\n",
        "\n",
        "    # Forward pass\n",
        "    output = mla(x)\n",
        "    print(\"Output shape:\", output.shape)\n"
      ],
      "metadata": {
        "colab": {
          "base_uri": "https://localhost:8080/"
        },
        "id": "UiebQCjx65rW",
        "outputId": "0155f69d-83e1-4997-d1d5-c73adcdd596a"
      },
      "execution_count": 6,
      "outputs": [
        {
          "output_type": "stream",
          "name": "stdout",
          "text": [
            "Output shape: torch.Size([2, 3, 16])\n"
          ]
        }
      ]
    },
    {
      "cell_type": "code",
      "source": [],
      "metadata": {
        "id": "7tvdtYzt7toX"
      },
      "execution_count": null,
      "outputs": []
    }
  ]
}