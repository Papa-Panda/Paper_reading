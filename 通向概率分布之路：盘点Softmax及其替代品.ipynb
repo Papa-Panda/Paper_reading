{
  "nbformat": 4,
  "nbformat_minor": 0,
  "metadata": {
    "colab": {
      "provenance": [],
      "authorship_tag": "ABX9TyPjYHBw+KTIe26jhhD5dEnx",
      "include_colab_link": true
    },
    "kernelspec": {
      "name": "python3",
      "display_name": "Python 3"
    },
    "language_info": {
      "name": "python"
    }
  },
  "cells": [
    {
      "cell_type": "markdown",
      "metadata": {
        "id": "view-in-github",
        "colab_type": "text"
      },
      "source": [
        "<a href=\"https://colab.research.google.com/github/Papa-Panda/Paper_reading/blob/main/%E9%80%9A%E5%90%91%E6%A6%82%E7%8E%87%E5%88%86%E5%B8%83%E4%B9%8B%E8%B7%AF%EF%BC%9A%E7%9B%98%E7%82%B9Softmax%E5%8F%8A%E5%85%B6%E6%9B%BF%E4%BB%A3%E5%93%81.ipynb\" target=\"_parent\"><img src=\"https://colab.research.google.com/assets/colab-badge.svg\" alt=\"Open In Colab\"/></a>"
      ]
    },
    {
      "cell_type": "code",
      "execution_count": null,
      "metadata": {
        "id": "HzdhQF3vzhIi"
      },
      "outputs": [],
      "source": [
        "# 通向概率分布之路：盘点Softmax及其替代品\n",
        "# https://spaces.ac.cn/author/1/9/?utm_source=chatgpt.com"
      ]
    }
  ]
}