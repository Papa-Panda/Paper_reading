{
  "nbformat": 4,
  "nbformat_minor": 0,
  "metadata": {
    "colab": {
      "provenance": [],
      "gpuType": "T4",
      "authorship_tag": "ABX9TyMoQfW7a3agEbZBQQfbCWYi",
      "include_colab_link": true
    },
    "kernelspec": {
      "name": "python3",
      "display_name": "Python 3"
    },
    "language_info": {
      "name": "python"
    },
    "accelerator": "GPU"
  },
  "cells": [
    {
      "cell_type": "markdown",
      "metadata": {
        "id": "view-in-github",
        "colab_type": "text"
      },
      "source": [
        "<a href=\"https://colab.research.google.com/github/Papa-Panda/Paper_reading/blob/main/WGAN.ipynb\" target=\"_parent\"><img src=\"https://colab.research.google.com/assets/colab-badge.svg\" alt=\"Open In Colab\"/></a>"
      ]
    },
    {
      "cell_type": "code",
      "execution_count": 1,
      "metadata": {
        "id": "HqP5te5b3r3O"
      },
      "outputs": [],
      "source": [
        "# based on https://gemini.google.com/app/d0884ebba6891069\n",
        "# original version in tf:  https://spaces.ac.cn/archives/4439\n",
        "\n",
        "# created by https://gemini.google.com/app/d0884ebba6891069"
      ]
    },
    {
      "cell_type": "code",
      "source": [
        "import torch\n",
        "import torch.nn as nn\n",
        "import torch.optim as optim\n",
        "from torch.autograd import grad as torch_grad\n",
        "import torchvision\n",
        "import torchvision.transforms as transforms\n",
        "from torchvision.utils import save_image\n",
        "import os\n",
        "\n",
        "# Create output directory for generated images\n",
        "os.makedirs('out_pytorch', exist_ok=True)\n",
        "\n",
        "## 1. Hyperparameters\n",
        "# =============================================\n",
        "batch_size = 100\n",
        "width, height = 28, 28\n",
        "mnist_dim = width * height  # 784\n",
        "random_dim = 10             # Size of the latent z vector\n",
        "n_iterations = 20000        # Total training iterations (reduced for a reasonable demo time)\n",
        "n_critic = 5                # Number of discriminator updates per generator update\n",
        "lambda_gp = 10              # Gradient penalty coefficient\n",
        "lr = 1e-4\n",
        "beta1 = 0.5\n",
        "beta2 = 0.999               # Default beta2 for Adam\n",
        "\n",
        "# Set device\n",
        "device = torch.device(\"cuda\" if torch.cuda.is_available() else \"cpu\")\n",
        "print(f\"Using device: {device}\")\n",
        "\n",
        "\n",
        "## 2. Data Loading\n",
        "# =============================================\n",
        "transform = transforms.Compose([\n",
        "    transforms.ToTensor(), # Scales images to [0.0, 1.0]\n",
        "    # No normalization to [-1, 1] since the original generator uses sigmoid\n",
        "])\n",
        "\n",
        "dataset = torchvision.datasets.MNIST(\n",
        "    root='./data',\n",
        "    train=True,\n",
        "    download=True,\n",
        "    transform=transform\n",
        ")\n",
        "dataloader = torch.utils.data.DataLoader(\n",
        "    dataset,\n",
        "    batch_size=batch_size,\n",
        "    shuffle=True,\n",
        "    drop_last=True # Ensure constant batch size\n",
        ")\n",
        "\n",
        "\n",
        "## 3. Model Architecture\n",
        "# =============================================\n",
        "# Custom weight initialization from the original script\n",
        "def my_init(m):\n",
        "    if isinstance(m, nn.Linear):\n",
        "        nn.init.uniform_(m.weight, -0.05, 0.05)\n",
        "        if m.bias is not None:\n",
        "            nn.init.constant_(m.bias, 0)\n",
        "\n",
        "# Generator Network\n",
        "class Generator(nn.Module):\n",
        "    def __init__(self):\n",
        "        super(Generator, self).__init__()\n",
        "        self.main = nn.Sequential(\n",
        "            nn.Linear(random_dim, 32),\n",
        "            nn.ReLU(True),\n",
        "            nn.Linear(32, 128),\n",
        "            nn.ReLU(True),\n",
        "            nn.Linear(128, mnist_dim),\n",
        "            nn.Sigmoid()  # Output pixel values between 0 and 1\n",
        "        )\n",
        "\n",
        "    def forward(self, input):\n",
        "        return self.main(input)\n",
        "\n",
        "# Discriminator (Critic) Network\n",
        "class Discriminator(nn.Module):\n",
        "    def __init__(self):\n",
        "        super(Discriminator, self).__init__()\n",
        "        self.main = nn.Sequential(\n",
        "            nn.Linear(mnist_dim, 128),\n",
        "            nn.ReLU(True),\n",
        "            nn.Linear(128, 32),\n",
        "            nn.ReLU(True),\n",
        "            nn.Linear(32, 1)  # No final activation for the WGAN critic\n",
        "        )\n",
        "\n",
        "    def forward(self, input):\n",
        "        return self.main(input)\n",
        "\n",
        "\n",
        "## 4. Initialization\n",
        "# =============================================\n",
        "generator = Generator().to(device)\n",
        "discriminator = Discriminator().to(device)\n",
        "\n",
        "# Apply custom weight initialization\n",
        "generator.apply(my_init)\n",
        "discriminator.apply(my_init)\n",
        "\n",
        "# Optimizers\n",
        "optimizer_G = optim.Adam(generator.parameters(), lr=lr, betas=(beta1, beta2))\n",
        "optimizer_D = optim.Adam(discriminator.parameters(), lr=lr, betas=(beta1, beta2))\n",
        "\n",
        "\n",
        "## 5. Gradient Penalty Function\n",
        "# =============================================\n",
        "def compute_gradient_penalty(D, real_samples, fake_samples):\n",
        "    \"\"\"Calculates the gradient penalty loss for WGAN GP\"\"\"\n",
        "    # Random weight term for interpolation between real and fake samples\n",
        "    alpha = torch.rand(batch_size, 1, device=device)\n",
        "\n",
        "    # Get random interpolation between real and fake samples\n",
        "    interpolates = (alpha * real_samples + ((1 - alpha) * fake_samples)).requires_grad_(True)\n",
        "    d_interpolates = D(interpolates)\n",
        "\n",
        "    # Use a dummy tensor of ones for gradient calculation\n",
        "    fake = torch.ones(batch_size, 1, device=device, requires_grad=False)\n",
        "\n",
        "    # Get gradient w.r.t. interpolates\n",
        "    gradients = torch_grad(\n",
        "        outputs=d_interpolates,\n",
        "        inputs=interpolates,\n",
        "        grad_outputs=fake,\n",
        "        create_graph=True,\n",
        "        retain_graph=True,\n",
        "        only_inputs=True,\n",
        "    )[0]\n",
        "\n",
        "    gradients = gradients.view(gradients.size(0), -1)\n",
        "\n",
        "    # This calculation is based on the original TF script's one-sided penalty\n",
        "    # tf.reduce_mean(tf.nn.relu(grad_norm - 1.))\n",
        "    gradient_norm = gradients.norm(2, dim=1)\n",
        "    gradient_penalty = torch.mean(torch.nn.functional.relu(gradient_norm - 1.0))\n",
        "\n",
        "    return lambda_gp * gradient_penalty"
      ],
      "metadata": {
        "colab": {
          "base_uri": "https://localhost:8080/"
        },
        "id": "ex70qJk14LNe",
        "outputId": "cf18a2bd-4d69-4458-d4fe-2029a2553201"
      },
      "execution_count": 2,
      "outputs": [
        {
          "output_type": "stream",
          "name": "stdout",
          "text": [
            "Using device: cuda\n"
          ]
        },
        {
          "output_type": "stream",
          "name": "stderr",
          "text": [
            "100%|██████████| 9.91M/9.91M [00:00<00:00, 17.9MB/s]\n",
            "100%|██████████| 28.9k/28.9k [00:00<00:00, 481kB/s]\n",
            "100%|██████████| 1.65M/1.65M [00:00<00:00, 4.45MB/s]\n",
            "100%|██████████| 4.54k/4.54k [00:00<00:00, 8.91MB/s]\n"
          ]
        }
      ]
    },
    {
      "cell_type": "code",
      "source": [
        "## 6. Training Loop\n",
        "# =============================================\n",
        "print(\"Starting Training...\")\n",
        "data_iter = iter(dataloader)\n",
        "\n",
        "for iteration in range(1, n_iterations + 1):\n",
        "    # ---------------------\n",
        "    #  Train Discriminator\n",
        "    # ---------------------\n",
        "    for critic_step in range(n_critic):\n",
        "        optimizer_D.zero_grad()\n",
        "\n",
        "        # Get a batch of real images\n",
        "        try:\n",
        "            real_images, _ = next(data_iter)\n",
        "        except StopIteration:\n",
        "            data_iter = iter(dataloader)\n",
        "            real_images, _ = next(data_iter)\n",
        "\n",
        "        real_images = real_images.view(real_images.size(0), -1).to(device)\n",
        "\n",
        "        # Generate a batch of fake images\n",
        "        z = torch.FloatTensor(batch_size, random_dim).uniform_(-1, 1).to(device)\n",
        "        fake_images = generator(z).detach()\n",
        "\n",
        "        # Get critic scores for real and fake images\n",
        "        real_output = discriminator(real_images)\n",
        "        fake_output = discriminator(fake_images)\n",
        "\n",
        "        # Compute gradient penalty\n",
        "        gradient_penalty = compute_gradient_penalty(discriminator, real_images.data, fake_images.data)\n",
        "\n",
        "        # Adversarial loss: E[D(fake)] - E[D(real)] + Gradient Penalty\n",
        "        d_loss = torch.mean(fake_output) - torch.mean(real_output) + gradient_penalty\n",
        "\n",
        "        d_loss.backward()\n",
        "        optimizer_D.step()\n",
        "\n",
        "    # -----------------\n",
        "    #  Train Generator\n",
        "    # -----------------\n",
        "    optimizer_G.zero_grad()\n",
        "\n",
        "    # Generate a new batch of fake images\n",
        "    z_gen = torch.FloatTensor(batch_size, random_dim).uniform_(-1, 1).to(device)\n",
        "    gen_imgs = generator(z_gen)\n",
        "\n",
        "    # Generator loss: -E[D(fake)]\n",
        "    # We want the generator to produce images that the discriminator scores highly.\n",
        "    # NOTE: The original TF script had an incorrect G_loss that it minimized: `tf.reduce_mean(D(random_Y))`.\n",
        "    # This trains the generator to make the discriminator's output *lower*, which is the opposite of the goal.\n",
        "    # The correct loss is to minimize -D(G(z)).\n",
        "    g_loss = -torch.mean(discriminator(gen_imgs))\n",
        "\n",
        "    g_loss.backward()\n",
        "    optimizer_G.step()\n",
        "\n",
        "    # -----------------\n",
        "    #  Log and Save Images\n",
        "    # -----------------\n",
        "    if iteration % 1000 == 0:\n",
        "        print(f\"[Iteration {iteration}/{n_iterations}] [D loss: {d_loss.item():.4f}] [G loss: {g_loss.item():.4f}]\")\n",
        "\n",
        "        # Save a grid of generated images\n",
        "        with torch.no_grad():\n",
        "            n_rows = 6\n",
        "            z_sample = torch.FloatTensor(n_rows**2, random_dim).uniform_(-1, 1).to(device)\n",
        "            generated_samples = generator(z_sample).view(-1, 1, width, height)\n",
        "            save_image(generated_samples, f\"out_pytorch/{iteration}.png\", nrow=n_rows, normalize=True)"
      ],
      "metadata": {
        "colab": {
          "base_uri": "https://localhost:8080/"
        },
        "id": "LYtLLlJD4OXI",
        "outputId": "9f143ded-c9ec-48e8-a158-cc81224839a4"
      },
      "execution_count": null,
      "outputs": [
        {
          "output_type": "stream",
          "name": "stdout",
          "text": [
            "Starting Training...\n"
          ]
        },
        {
          "output_type": "stream",
          "name": "stderr",
          "text": [
            "/usr/local/lib/python3.12/dist-packages/torch/autograd/graph.py:829: UserWarning: Attempting to run cuBLAS, but there was no current CUDA context! Attempting to set the primary context... (Triggered internally at /pytorch/aten/src/ATen/cuda/CublasHandlePool.cpp:179.)\n",
            "  return Variable._execution_engine.run_backward(  # Calls into the C++ engine to run the backward pass\n"
          ]
        },
        {
          "output_type": "stream",
          "name": "stdout",
          "text": [
            "[Iteration 1000/20000] [D loss: -4.2484] [G loss: -0.0562]\n",
            "[Iteration 2000/20000] [D loss: -4.4698] [G loss: -0.1442]\n",
            "[Iteration 3000/20000] [D loss: -4.3712] [G loss: -0.0519]\n",
            "[Iteration 4000/20000] [D loss: -3.9323] [G loss: -0.0330]\n"
          ]
        }
      ]
    }
  ]
}