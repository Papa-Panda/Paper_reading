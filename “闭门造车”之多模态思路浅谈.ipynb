{
  "nbformat": 4,
  "nbformat_minor": 0,
  "metadata": {
    "colab": {
      "provenance": [],
      "authorship_tag": "ABX9TyPEdVkoKJ3tKUichtZaKlMb",
      "include_colab_link": true
    },
    "kernelspec": {
      "name": "python3",
      "display_name": "Python 3"
    },
    "language_info": {
      "name": "python"
    }
  },
  "cells": [
    {
      "cell_type": "markdown",
      "metadata": {
        "id": "view-in-github",
        "colab_type": "text"
      },
      "source": [
        "<a href=\"https://colab.research.google.com/github/Papa-Panda/Paper_reading/blob/main/%E2%80%9C%E9%97%AD%E9%97%A8%E9%80%A0%E8%BD%A6%E2%80%9D%E4%B9%8B%E5%A4%9A%E6%A8%A1%E6%80%81%E6%80%9D%E8%B7%AF%E6%B5%85%E8%B0%88.ipynb\" target=\"_parent\"><img src=\"https://colab.research.google.com/assets/colab-badge.svg\" alt=\"Open In Colab\"/></a>"
      ]
    },
    {
      "cell_type": "code",
      "execution_count": null,
      "metadata": {
        "id": "-M6irBGnbiiB"
      },
      "outputs": [],
      "source": [
        "# “闭门造车”之多模态思路浅谈（一）：无损输入\n",
        "# https://spaces.ac.cn/archives/9984"
      ]
    }
  ]
}