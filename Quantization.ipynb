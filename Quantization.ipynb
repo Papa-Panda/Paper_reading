{
  "nbformat": 4,
  "nbformat_minor": 0,
  "metadata": {
    "colab": {
      "provenance": [],
      "authorship_tag": "ABX9TyNTEyhP1J/i9FY3wxTg4Iu3",
      "include_colab_link": true
    },
    "kernelspec": {
      "name": "python3",
      "display_name": "Python 3"
    },
    "language_info": {
      "name": "python"
    }
  },
  "cells": [
    {
      "cell_type": "markdown",
      "metadata": {
        "id": "view-in-github",
        "colab_type": "text"
      },
      "source": [
        "<a href=\"https://colab.research.google.com/github/Papa-Panda/Paper_reading/blob/main/Quantization.ipynb\" target=\"_parent\"><img src=\"https://colab.research.google.com/assets/colab-badge.svg\" alt=\"Open In Colab\"/></a>"
      ]
    },
    {
      "cell_type": "code",
      "execution_count": null,
      "metadata": {
        "colab": {
          "base_uri": "https://localhost:8080/"
        },
        "id": "hseWJerjWDED",
        "outputId": "e0c2e1f5-81cf-412d-914d-162d01794736"
      },
      "outputs": [
        {
          "output_type": "stream",
          "name": "stderr",
          "text": [
            "/usr/local/lib/python3.11/dist-packages/torchvision/models/_utils.py:208: UserWarning: The parameter 'pretrained' is deprecated since 0.13 and may be removed in the future, please use 'weights' instead.\n",
            "  warnings.warn(\n",
            "/usr/local/lib/python3.11/dist-packages/torchvision/models/_utils.py:223: UserWarning: Arguments other than a weight enum or `None` for 'weights' are deprecated since 0.13 and may be removed in the future. The current behavior is equivalent to passing `weights=None`.\n",
            "  warnings.warn(msg)\n"
          ]
        },
        {
          "output_type": "stream",
          "name": "stdout",
          "text": [
            "Training non-quantized model...\n",
            "Epoch [1/1], Loss: 2.5353\n",
            "Non-quantized model inference time: 22.0852 seconds\n",
            "Calibrating quantized model...\n"
          ]
        },
        {
          "output_type": "stream",
          "name": "stderr",
          "text": [
            "/usr/local/lib/python3.11/dist-packages/torch/ao/quantization/observer.py:229: UserWarning: Please use quant_min and quant_max to specify the range for observers.                     reduce_range will be deprecated in a future release of PyTorch.\n",
            "  warnings.warn(\n"
          ]
        }
      ],
      "source": [
        "import torch\n",
        "import torch.nn as nn\n",
        "import torch.quantization\n",
        "import torchvision.models as models\n",
        "import torchvision.transforms as transforms\n",
        "from torchvision.datasets import FakeData\n",
        "from torch.utils.data import DataLoader\n",
        "import time\n",
        "\n",
        "# Set device\n",
        "device = torch.device(\"cuda\" if torch.cuda.is_available() else \"cpu\")\n",
        "\n",
        "# Helper function to measure inference time\n",
        "def measure_inference_time(model, dataloader, device):\n",
        "    model.eval()\n",
        "    start_time = time.time()\n",
        "    with torch.no_grad():\n",
        "        for inputs, _ in dataloader:\n",
        "            inputs = inputs.to(device)\n",
        "            _ = model(inputs)\n",
        "    end_time = time.time()\n",
        "    return end_time - start_time\n",
        "\n",
        "# Load ResNet18 (non-quantized)\n",
        "resnet_fp32 = models.resnet18(pretrained=False)\n",
        "resnet_fp32.fc = nn.Linear(512, 10)  # Adapting for 10 classes\n",
        "resnet_fp32 = resnet_fp32.to(device)\n",
        "\n",
        "# Create FakeData for training and testing\n",
        "transform = transforms.Compose([transforms.ToTensor(), transforms.Normalize((0.5,), (0.5,))])\n",
        "train_dataset = FakeData(transform=transform, size=1000)\n",
        "test_dataset = FakeData(transform=transform, size=200)\n",
        "\n",
        "train_loader = DataLoader(train_dataset, batch_size=32, shuffle=True)\n",
        "test_loader = DataLoader(test_dataset, batch_size=32, shuffle=False)\n",
        "\n",
        "# Define training function\n",
        "def train_model(model, dataloader, criterion, optimizer, num_epochs=1):\n",
        "    model.train()\n",
        "    for epoch in range(num_epochs):\n",
        "        running_loss = 0.0\n",
        "        for inputs, labels in dataloader:\n",
        "            inputs, labels = inputs.to(device), labels.to(device)\n",
        "            optimizer.zero_grad()\n",
        "            outputs = model(inputs)\n",
        "            loss = criterion(outputs, labels)\n",
        "            loss.backward()\n",
        "            optimizer.step()\n",
        "            running_loss += loss.item()\n",
        "        print(f\"Epoch [{epoch+1}/{num_epochs}], Loss: {running_loss/len(dataloader):.4f}\")\n",
        "\n",
        "# Train non-quantized model\n",
        "print(\"Training non-quantized model...\")\n",
        "criterion = nn.CrossEntropyLoss()\n",
        "optimizer = torch.optim.SGD(resnet_fp32.parameters(), lr=0.01, momentum=0.9)\n",
        "train_model(resnet_fp32, train_loader, criterion, optimizer)\n",
        "\n",
        "# Measure inference time for non-quantized model\n",
        "fp32_inference_time = measure_inference_time(resnet_fp32, test_loader, device)\n",
        "print(f\"Non-quantized model inference time: {fp32_inference_time:.4f} seconds\")\n",
        "\n",
        "# Quantization preparation\n",
        "resnet_fp32.eval()\n",
        "resnet_fp32.qconfig = torch.quantization.get_default_qconfig('fbgemm')  # Backend for quantization\n",
        "torch.quantization.prepare(resnet_fp32, inplace=True)\n",
        "\n",
        "# Calibration step (required for quantization)\n",
        "print(\"Calibrating quantized model...\")\n",
        "with torch.no_grad():\n",
        "    for inputs, _ in train_loader:\n",
        "        inputs = inputs.to(device)\n",
        "        _ = resnet_fp32(inputs)\n",
        "\n",
        "# Convert to quantized model\n",
        "quantized_model = torch.quantization.convert(resnet_fp32.eval(), inplace=False).to(device)\n",
        "\n",
        "# Measure inference time for quantized model\n",
        "quantized_inference_time = measure_inference_time(quantized_model, test_loader, device)\n",
        "print(f\"Quantized model inference time: {quantized_inference_time:.4f} seconds\")\n",
        "\n",
        "# Compare model sizes\n",
        "fp32_model_size = sum(p.numel() for p in resnet_fp32.parameters())\n",
        "quantized_model_size = sum(p.numel() for p in quantized_model.parameters())\n",
        "print(f\"Non-quantized model size: {fp32_model_size} parameters\")\n",
        "print(f\"Quantized model size: {quantized_model_size} parameters\")\n",
        "\n",
        "# Evaluate performance\n",
        "def evaluate_model(model, dataloader, criterion):\n",
        "    model.eval()\n",
        "    total_loss = 0.0\n",
        "    correct = 0\n",
        "    total = 0\n",
        "    with torch.no_grad():\n",
        "        for inputs, labels in dataloader:\n",
        "            inputs, labels = inputs.to(device), labels.to(device)\n",
        "            outputs = model(inputs)\n",
        "            loss = criterion(outputs, labels)\n",
        "            total_loss += loss.item()\n",
        "            _, predicted = torch.max(outputs, 1)\n",
        "            total += labels.size(0)\n",
        "            correct += (predicted == labels).sum().item()\n",
        "    accuracy = 100 * correct / total\n",
        "    return total_loss / len(dataloader), accuracy\n",
        "\n",
        "# Evaluate both models\n",
        "fp32_loss, fp32_accuracy = evaluate_model(resnet_fp32, test_loader, criterion)\n",
        "quantized_loss, quantized_accuracy = evaluate_model(quantized_model, test_loader, criterion)\n",
        "\n",
        "print(f\"Non-quantized model: Loss = {fp32_loss:.4f}, Accuracy = {fp32_accuracy:.2f}%\")\n",
        "print(f\"Quantized model: Loss = {quantized_loss:.4f}, Accuracy = {quantized_accuracy:.2f}%\")"
      ]
    },
    {
      "cell_type": "code",
      "source": [],
      "metadata": {
        "id": "yJube5MkWEgR"
      },
      "execution_count": null,
      "outputs": []
    }
  ]
}