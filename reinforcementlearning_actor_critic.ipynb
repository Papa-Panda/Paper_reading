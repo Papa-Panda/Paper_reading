{
  "nbformat": 4,
  "nbformat_minor": 0,
  "metadata": {
    "colab": {
      "provenance": [],
      "authorship_tag": "ABX9TyO7GMk9YbtaZB5lZaYr+0SX",
      "include_colab_link": true
    },
    "kernelspec": {
      "name": "python3",
      "display_name": "Python 3"
    },
    "language_info": {
      "name": "python"
    }
  },
  "cells": [
    {
      "cell_type": "markdown",
      "metadata": {
        "id": "view-in-github",
        "colab_type": "text"
      },
      "source": [
        "<a href=\"https://colab.research.google.com/github/Papa-Panda/Paper_reading/blob/main/reinforcementlearning_actor_critic.ipynb\" target=\"_parent\"><img src=\"https://colab.research.google.com/assets/colab-badge.svg\" alt=\"Open In Colab\"/></a>"
      ]
    },
    {
      "cell_type": "code",
      "source": [
        "import gymnasium as gym\n",
        "import torch\n",
        "import torch.nn as nn\n",
        "import torch.optim as optim\n",
        "from torch.distributions import Categorical"
      ],
      "metadata": {
        "id": "Me3l1usgqcRa"
      },
      "execution_count": 1,
      "outputs": []
    },
    {
      "cell_type": "code",
      "source": [
        "env = gym.make(\"CartPole-v1\")\n",
        "state_dim = env.observation_space.shape[0]\n",
        "action_dim = env.action_space.n\n",
        "\n",
        "# Actor-Critic Networks\n",
        "class Actor(nn.Module):\n",
        "    def __init__(self, state_dim, action_dim):\n",
        "        super().__init__()\n",
        "        self.net = nn.Sequential(\n",
        "            nn.Linear(state_dim, 128),\n",
        "            nn.ReLU(),\n",
        "            nn.Linear(128, action_dim),\n",
        "            nn.Softmax(dim=-1)\n",
        "        )\n",
        "\n",
        "    def forward(self, state):\n",
        "        return self.net(state)\n",
        "\n",
        "class Critic(nn.Module):\n",
        "    def __init__(self, state_dim):\n",
        "        super().__init__()\n",
        "        self.net = nn.Sequential(\n",
        "            nn.Linear(state_dim, 128),\n",
        "            nn.ReLU(),\n",
        "            nn.Linear(128, 1)\n",
        "        )\n",
        "\n",
        "    def forward(self, state):\n",
        "        return self.net(state)"
      ],
      "metadata": {
        "id": "_jArOifJqg9D"
      },
      "execution_count": 3,
      "outputs": []
    },
    {
      "cell_type": "code",
      "source": [
        "actor = Actor(state_dim, action_dim)\n",
        "critic = Critic(state_dim)\n",
        "actor_optim = optim.Adam(actor.parameters(), lr=1e-3)\n",
        "critic_optim = optim.Adam(critic.parameters(), lr=1e-3)\n",
        "gamma = 0.99\n",
        "num_episodes = 1000"
      ],
      "metadata": {
        "id": "66010b2RqysA"
      },
      "execution_count": 5,
      "outputs": []
    },
    {
      "cell_type": "code",
      "execution_count": null,
      "metadata": {
        "colab": {
          "base_uri": "https://localhost:8080/"
        },
        "id": "VctktGKdqaA0",
        "outputId": "533a0dc5-acc2-4721-8fd5-557b42672998"
      },
      "outputs": [
        {
          "output_type": "stream",
          "name": "stdout",
          "text": [
            "Episode 0, Total Reward: 20.00\n",
            "Episode 100, Total Reward: 12.00\n"
          ]
        }
      ],
      "source": [
        "for episode in range(num_episodes):\n",
        "    state, _ = env.reset()\n",
        "    done = False\n",
        "    total_reward = 0\n",
        "\n",
        "    while not done:\n",
        "        state_tensor = torch.tensor(state, dtype=torch.float32)\n",
        "        action_probs = actor(state_tensor)\n",
        "        dist = Categorical(action_probs)\n",
        "        action = dist.sample()\n",
        "        log_prob = dist.log_prob(action)\n",
        "\n",
        "        next_state, reward, terminated, truncated, _ = env.step(action.item())\n",
        "        done = terminated or truncated\n",
        "        total_reward += reward\n",
        "\n",
        "        next_state_tensor = torch.tensor(next_state, dtype=torch.float32)\n",
        "        target = reward + gamma * critic(next_state_tensor).item() * (1 - done)\n",
        "        value = critic(state_tensor)\n",
        "        advantage = target - value.item()\n",
        "\n",
        "        # Critic update (value loss)\n",
        "        critic_loss = (value - target) ** 2\n",
        "        critic_optim.zero_grad()\n",
        "        critic_loss.backward()\n",
        "        critic_optim.step()\n",
        "\n",
        "        # Actor update (policy gradient)\n",
        "        actor_loss = -log_prob * advantage\n",
        "        actor_optim.zero_grad()\n",
        "        actor_loss.backward()\n",
        "        actor_optim.step()\n",
        "\n",
        "        state = next_state\n",
        "\n",
        "    if episode % 100 == 0:\n",
        "        print(f\"Episode {episode}, Total Reward: {total_reward:.2f}\")"
      ]
    },
    {
      "cell_type": "code",
      "source": [],
      "metadata": {
        "id": "fHHx9MsNq6yM"
      },
      "execution_count": null,
      "outputs": []
    }
  ]
}