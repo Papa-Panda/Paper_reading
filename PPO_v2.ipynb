{
  "nbformat": 4,
  "nbformat_minor": 0,
  "metadata": {
    "colab": {
      "provenance": [],
      "authorship_tag": "ABX9TyMy4FS63bVlo0AR9WkPrS5N",
      "include_colab_link": true
    },
    "kernelspec": {
      "name": "python3",
      "display_name": "Python 3"
    },
    "language_info": {
      "name": "python"
    }
  },
  "cells": [
    {
      "cell_type": "markdown",
      "metadata": {
        "id": "view-in-github",
        "colab_type": "text"
      },
      "source": [
        "<a href=\"https://colab.research.google.com/github/Papa-Panda/Paper_reading/blob/main/PPO_v2.ipynb\" target=\"_parent\"><img src=\"https://colab.research.google.com/assets/colab-badge.svg\" alt=\"Open In Colab\"/></a>"
      ]
    },
    {
      "cell_type": "code",
      "source": [
        "# from https://github.com/RethinkFun/trian_ppo/blob/main/train_ppo/train_ppo.py"
      ],
      "metadata": {
        "id": "KZaapASr0VvD"
      },
      "execution_count": null,
      "outputs": []
    },
    {
      "cell_type": "code",
      "execution_count": null,
      "metadata": {
        "id": "j5H9x8uO0TAM"
      },
      "outputs": [],
      "source": [
        "import torch\n",
        "from peft import LoraConfig, TaskType\n",
        "from transformers import AutoTokenizer, BitsAndBytesConfig\n",
        "from trl import AutoModelForCausalLMWithValueHead, PPOConfig, PPOTrainer\n",
        "from datasets import Dataset\n",
        "import json\n",
        "\n",
        "model_path = r'D:\\work\\models\\Meta-Llama-3.1-8B-Instruct'\n",
        "tokenizer = AutoTokenizer.from_pretrained(model_path, use_fast=False)\n",
        "tokenizer.padding_side = \"right\"\n",
        "tokenizer.pad_token = tokenizer.eos_token\n",
        "bnb_config = BitsAndBytesConfig(\n",
        "    load_in_4bit=True,\n",
        "    bnb_4bit_use_double_quant=True,\n",
        "    bnb_4bit_quant_type=\"nf4\",\n",
        "    bnb_4bit_compute_dtype=torch.bfloat16\n",
        ")\n",
        "\n",
        "peft_config = LoraConfig(\n",
        "    r=8,\n",
        "    target_modules=[\"q_proj\",\n",
        "                    \"v_proj\",\n",
        "                    \"k_proj\",\n",
        "                    \"o_proj\",\n",
        "                    \"gate_proj\",\n",
        "                    \"down_proj\",\n",
        "                    \"up_proj\"\n",
        "                    ],\n",
        "    task_type=TaskType.CAUSAL_LM,\n",
        "    lora_alpha=16,\n",
        "    lora_dropout=0.05\n",
        ")\n",
        "\n",
        "model = AutoModelForCausalLMWithValueHead.from_pretrained(model_path,\n",
        "                                                          reward_adapter=\"./reward_model\",\n",
        "                                                          peft_config=peft_config,\n",
        "                                                          quantization_config=bnb_config\n",
        "                                                          )\n",
        "model.to(\"cuda\")\n",
        "\n",
        "items = []\n",
        "with open(\"./data/queries.json\", \"r\", encoding=\"utf8\") as f:\n",
        "    for line in f:\n",
        "        items.append(json.loads(line))\n",
        "queries_dataset = Dataset.from_list(items)\n",
        "\n",
        "\n",
        "def collator(data):\n",
        "    queries = []\n",
        "    for item in data:\n",
        "        queries.append(tokenizer(item[\"query\"], return_tensors=\"pt\")[\"input_ids\"].squeeze().to(\"cuda\"))\n",
        "    return queries\n",
        "\n",
        "\n",
        "ppo_config = PPOConfig(kl_penalty=\"full\", ppo_epochs=3, batch_size=2, mini_batch_size=1)\n",
        "ppo_trainer = PPOTrainer(config=ppo_config, model=model, ref_model=None, tokenizer=tokenizer, dataset=queries_dataset,\n",
        "                         data_collator=collator)\n",
        "\n",
        "generation_kwargs = {\n",
        "    \"min_length\": -1,\n",
        "    \"top_k\": 0.0,\n",
        "    \"top_p\": 1.0,\n",
        "    \"do_sample\": True,\n",
        "    \"pad_token_id\": tokenizer.pad_token_id,\n",
        "    \"max_new_tokens\": 32,\n",
        "}\n",
        "\n",
        "for batch in ppo_trainer.dataloader:\n",
        "    query_tensors = batch\n",
        "\n",
        "    response_tensors = ppo_trainer.generate(\n",
        "        query_tensors, return_prompt=False,  **generation_kwargs)\n",
        "    scores = []\n",
        "    for query, response in zip(query_tensors, response_tensors):\n",
        "        input_ids = torch.concat([query, response], dim=0)\n",
        "        input_ids = torch.unsqueeze(input_ids, dim=0)\n",
        "        score = ppo_trainer.model.compute_reward_score(input_ids=input_ids)[0, -1, 0]\n",
        "        scores.append(score)\n",
        "    stats = ppo_trainer.step(query_tensors, response_tensors, scores)\n",
        "ppo_trainer.save_pretrained(\"./rl_model\")"
      ]
    },
    {
      "cell_type": "code",
      "source": [],
      "metadata": {
        "id": "ejo9zCqN0VI4"
      },
      "execution_count": null,
      "outputs": []
    }
  ]
}