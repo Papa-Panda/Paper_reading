{
  "cells": [
    {
      "cell_type": "markdown",
      "metadata": {
        "id": "view-in-github",
        "colab_type": "text"
      },
      "source": [
        "<a href=\"https://colab.research.google.com/github/Papa-Panda/Paper_reading/blob/main/FewShotLearning_SiameseNetwork.ipynb\" target=\"_parent\"><img src=\"https://colab.research.google.com/assets/colab-badge.svg\" alt=\"Open In Colab\"/></a>"
      ]
    },
    {
      "cell_type": "code",
      "execution_count": 1,
      "metadata": {
        "id": "YoOgiWVdGBpn"
      },
      "outputs": [],
      "source": [
        "#【Few-Shot Learning (1/3): 基本概念】 https://www.bilibili.com/video/BV1V44y1r7cx/?share_source=copy_web# https://chatgpt.com/c/671a643c-22b0-800e-b834-c4fa9ad90032"
      ]
    },
    {
      "cell_type": "code",
      "execution_count": 15,
      "metadata": {
        "id": "kHcLJfs_GI22"
      },
      "outputs": [],
      "source": [
        "# 1\n",
        "import torch\n",
        "import torch.nn as nn\n",
        "import torch.optim as optim\n",
        "from torch.utils.data import DataLoader, Dataset\n",
        "import torchvision.transforms as transforms\n",
        "from torchvision.datasets import MNIST\n",
        "import random\n",
        "import time\n",
        "import matplotlib.pyplot as plt\n"
      ]
    },
    {
      "cell_type": "code",
      "execution_count": 3,
      "metadata": {
        "id": "EH_BMCxAGR-8"
      },
      "outputs": [],
      "source": [
        "# class SiameseDataset(Dataset):\n",
        "class SiameseMNISTDataset(Dataset):\n",
        "    def __init__(self, dataset, transform=None):\n",
        "        self.dataset = dataset  # MNIST dataset\n",
        "        self.transform = transform\n",
        "\n",
        "        # Create a dictionary to quickly access all samples by class\n",
        "        self.class_to_indices = self._group_by_class()\n",
        "\n",
        "    def _group_by_class(self):\n",
        "        class_dict = {}\n",
        "        for idx, (_, label) in enumerate(self.dataset):\n",
        "            if label not in class_dict:\n",
        "                class_dict[label] = []\n",
        "            class_dict[label].append(idx)\n",
        "        return class_dict\n",
        "\n",
        "    def __len__(self):\n",
        "        return len(self.dataset)\n",
        "\n",
        "    def __getitem__(self, idx):\n",
        "        img1, label1 = self.dataset[idx]\n",
        "\n",
        "        # Decide if the pair should be positive (same class) or negative (different class)\n",
        "        is_same = random.randint(0, 1)\n",
        "\n",
        "        if is_same:\n",
        "            # Positive pair: Select another image from the same class\n",
        "            img2_idx = random.choice(self.class_to_indices[label1])\n",
        "            label = 1.0\n",
        "        else:\n",
        "            # Negative pair: Select a random image from a different class\n",
        "            other_label = random.choice([x for x in range(10) if x != label1])\n",
        "            img2_idx = random.choice(self.class_to_indices[other_label])\n",
        "            label = 0.0\n",
        "\n",
        "        img2, _ = self.dataset[img2_idx]\n",
        "\n",
        "        if self.transform:\n",
        "            img1 = self.transform(img1)\n",
        "            img2 = self.transform(img2)\n",
        "\n",
        "        return (img1, img2), torch.tensor(label, dtype=torch.float32)\n"
      ]
    },
    {
      "cell_type": "code",
      "execution_count": 4,
      "metadata": {
        "id": "4vRwzPMiGX4a"
      },
      "outputs": [],
      "source": [
        "def siamese_network(input_shape):\n",
        "    shared_network = create_shared_network(input_shape)\n",
        "\n",
        "    # Define the two inputs\n",
        "    input_a = Input(shape=input_shape)\n",
        "    input_b = Input(shape=input_shape)\n",
        "\n",
        "    # Get feature vectors from the shared network\n",
        "    encoded_a = shared_network(input_a)\n",
        "    encoded_b = shared_network(input_b)\n",
        "\n",
        "    # Compute the L1 distance between the two feature vectors\n",
        "    l1_distance = Lambda(lambda tensors: K.abs(tensors[0] - tensors[1]))([encoded_a, encoded_b])\n",
        "\n",
        "    # Add a dense layer with sigmoid activation to get the similarity score\n",
        "    outputs = Dense(1, activation='sigmoid')(l1_distance)\n",
        "\n",
        "    return Model(inputs=[input_a, input_b], outputs=outputs)\n"
      ]
    },
    {
      "cell_type": "code",
      "execution_count": 5,
      "metadata": {
        "id": "a11bIKAzGaZs"
      },
      "outputs": [],
      "source": [
        "# 3\n",
        "class SiameseDataset(Dataset):\n",
        "    def __init__(self, size=1000, transform=None):\n",
        "        self.size = size  # Total number of pairs\n",
        "        self.transform = transform\n",
        "\n",
        "    def __len__(self):\n",
        "        return self.size\n",
        "\n",
        "    def __getitem__(self, idx):\n",
        "        # Randomly generate two 1D \"images\" (vector) of size 10\n",
        "        image1 = torch.randn(10)\n",
        "        label = random.randint(0, 1)  # 1 for \"same\", 0 for \"different\"\n",
        "\n",
        "        if label == 1:\n",
        "            # Positive pair: Same class (for simplicity, similar vector)\n",
        "            image2 = image1 + torch.randn(10) * 0.1\n",
        "        else:\n",
        "            # Negative pair: Different classes (random vector)\n",
        "            image2 = torch.randn(10)\n",
        "\n",
        "        if self.transform:\n",
        "            image1 = self.transform(image1)\n",
        "            image2 = self.transform(image2)\n",
        "\n",
        "        return (image1, image2), torch.tensor(label, dtype=torch.float32)\n"
      ]
    },
    {
      "cell_type": "code",
      "execution_count": 6,
      "metadata": {
        "id": "xt-rdpfgGdVT"
      },
      "outputs": [],
      "source": [
        "def generate_pairs(data, labels, num_classes):\n",
        "    pairs = []\n",
        "    labels_pair = []\n",
        "\n",
        "    # Create positive and negative pairs\n",
        "    for class_idx in range(num_classes):\n",
        "        class_indices = np.where(labels == class_idx)[0]\n",
        "        np.random.shuffle(class_indices)\n",
        "\n",
        "        # Generate positive pairs\n",
        "        for i in range(len(class_indices) - 1):\n",
        "            pairs += [[data[class_indices[i]], data[class_indices[i + 1]]]]\n",
        "            labels_pair += [1]\n",
        "\n",
        "        # Generate negative pairs\n",
        "        other_class = (class_idx + 1) % num_classes\n",
        "        other_class_indices = np.where(labels == other_class)[0]\n",
        "        pairs += [[data[class_indices[0]], data[other_class_indices[0]]]]\n",
        "        labels_pair += [0]\n",
        "\n",
        "    return np.array(pairs), np.array(labels_pair)\n"
      ]
    },
    {
      "cell_type": "code",
      "execution_count": 7,
      "metadata": {
        "id": "Y8JoNx3cGiLD"
      },
      "outputs": [],
      "source": [
        "class SiameseNetwork(nn.Module):\n",
        "    def __init__(self):\n",
        "        super(SiameseNetwork, self).__init__()\n",
        "        self.conv = nn.Sequential(\n",
        "            nn.Conv2d(1, 32, kernel_size=5, stride=1, padding=2),  # Input: (B, 1, 28, 28)\n",
        "            nn.ReLU(),\n",
        "            nn.MaxPool2d(2),  # Output: (B, 32, 14, 14)\n",
        "            nn.Conv2d(32, 64, kernel_size=5, stride=1, padding=2),  # Output: (B, 64, 14, 14)\n",
        "            nn.ReLU(),\n",
        "            nn.MaxPool2d(2)  # Output: (B, 64, 7, 7)\n",
        "        )\n",
        "\n",
        "        # Calculate the flattened size of the output: 64 * 7 * 7 = 3136\n",
        "        self.fc = nn.Sequential(\n",
        "            nn.Linear(64 * 7 * 7, 256),\n",
        "            nn.ReLU(),\n",
        "            nn.Linear(256, 128),\n",
        "            nn.ReLU(),\n",
        "            nn.Linear(128, 64)\n",
        "        )\n",
        "\n",
        "    def forward(self, x1, x2):\n",
        "        # Pass both images through the same convolutional layers\n",
        "        out1 = self.conv(x1)  # Shape: (B, 64, 7, 7)\n",
        "        out2 = self.conv(x2)  # Shape: (B, 64, 7, 7)\n",
        "\n",
        "        # Flatten the outputs to (B, 3136)\n",
        "        out1 = out1.view(out1.size(0), -1)\n",
        "        out2 = out2.view(out2.size(0), -1)\n",
        "\n",
        "        # Encode both images using the fully connected layers\n",
        "        out1 = self.fc(out1)\n",
        "        out2 = self.fc(out2)\n",
        "\n",
        "        # Return the L1 distance between the two encodings\n",
        "        return torch.abs(out1 - out2)\n"
      ]
    },
    {
      "cell_type": "code",
      "execution_count": 8,
      "metadata": {
        "id": "P5fKzexmGmSr"
      },
      "outputs": [],
      "source": [
        "# 4\n",
        "class ContrastiveLoss(nn.Module):\n",
        "    def __init__(self, margin=1.0):\n",
        "        super(ContrastiveLoss, self).__init__()\n",
        "        self.margin = margin\n",
        "\n",
        "    def forward(self, distance, label):\n",
        "        pos_loss = label * torch.pow(distance, 2)\n",
        "        neg_loss = (1 - label) * torch.pow(torch.clamp(self.margin - distance, min=0), 2)\n",
        "        loss = 0.5 * torch.mean(pos_loss + neg_loss)\n",
        "        return loss\n"
      ]
    },
    {
      "cell_type": "code",
      "execution_count": 9,
      "metadata": {
        "colab": {
          "base_uri": "https://localhost:8080/"
        },
        "id": "ij3FkL8AmK3I",
        "outputId": "dfd655c3-3eb6-43ac-b33e-bb35ee1c387e"
      },
      "outputs": [
        {
          "output_type": "stream",
          "name": "stdout",
          "text": [
            "Downloading http://yann.lecun.com/exdb/mnist/train-images-idx3-ubyte.gz\n",
            "Failed to download (trying next):\n",
            "HTTP Error 403: Forbidden\n",
            "\n",
            "Downloading https://ossci-datasets.s3.amazonaws.com/mnist/train-images-idx3-ubyte.gz\n",
            "Downloading https://ossci-datasets.s3.amazonaws.com/mnist/train-images-idx3-ubyte.gz to ./data/MNIST/raw/train-images-idx3-ubyte.gz\n"
          ]
        },
        {
          "output_type": "stream",
          "name": "stderr",
          "text": [
            "100%|██████████| 9.91M/9.91M [00:00<00:00, 16.4MB/s]\n"
          ]
        },
        {
          "output_type": "stream",
          "name": "stdout",
          "text": [
            "Extracting ./data/MNIST/raw/train-images-idx3-ubyte.gz to ./data/MNIST/raw\n",
            "\n",
            "Downloading http://yann.lecun.com/exdb/mnist/train-labels-idx1-ubyte.gz\n",
            "Failed to download (trying next):\n",
            "HTTP Error 403: Forbidden\n",
            "\n",
            "Downloading https://ossci-datasets.s3.amazonaws.com/mnist/train-labels-idx1-ubyte.gz\n",
            "Downloading https://ossci-datasets.s3.amazonaws.com/mnist/train-labels-idx1-ubyte.gz to ./data/MNIST/raw/train-labels-idx1-ubyte.gz\n"
          ]
        },
        {
          "output_type": "stream",
          "name": "stderr",
          "text": [
            "100%|██████████| 28.9k/28.9k [00:00<00:00, 492kB/s]\n"
          ]
        },
        {
          "output_type": "stream",
          "name": "stdout",
          "text": [
            "Extracting ./data/MNIST/raw/train-labels-idx1-ubyte.gz to ./data/MNIST/raw\n",
            "\n",
            "Downloading http://yann.lecun.com/exdb/mnist/t10k-images-idx3-ubyte.gz\n",
            "Failed to download (trying next):\n",
            "HTTP Error 403: Forbidden\n",
            "\n",
            "Downloading https://ossci-datasets.s3.amazonaws.com/mnist/t10k-images-idx3-ubyte.gz\n",
            "Downloading https://ossci-datasets.s3.amazonaws.com/mnist/t10k-images-idx3-ubyte.gz to ./data/MNIST/raw/t10k-images-idx3-ubyte.gz\n"
          ]
        },
        {
          "output_type": "stream",
          "name": "stderr",
          "text": [
            "100%|██████████| 1.65M/1.65M [00:00<00:00, 4.50MB/s]\n"
          ]
        },
        {
          "output_type": "stream",
          "name": "stdout",
          "text": [
            "Extracting ./data/MNIST/raw/t10k-images-idx3-ubyte.gz to ./data/MNIST/raw\n",
            "\n",
            "Downloading http://yann.lecun.com/exdb/mnist/t10k-labels-idx1-ubyte.gz\n",
            "Failed to download (trying next):\n",
            "HTTP Error 403: Forbidden\n",
            "\n",
            "Downloading https://ossci-datasets.s3.amazonaws.com/mnist/t10k-labels-idx1-ubyte.gz\n",
            "Downloading https://ossci-datasets.s3.amazonaws.com/mnist/t10k-labels-idx1-ubyte.gz to ./data/MNIST/raw/t10k-labels-idx1-ubyte.gz\n"
          ]
        },
        {
          "output_type": "stream",
          "name": "stderr",
          "text": [
            "100%|██████████| 4.54k/4.54k [00:00<00:00, 2.21MB/s]\n"
          ]
        },
        {
          "output_type": "stream",
          "name": "stdout",
          "text": [
            "Extracting ./data/MNIST/raw/t10k-labels-idx1-ubyte.gz to ./data/MNIST/raw\n",
            "\n"
          ]
        }
      ],
      "source": [
        "# 5\n",
        "transform = transforms.Compose([\n",
        "    transforms.ToTensor(),\n",
        "    transforms.Normalize((0.1307,), (0.3081,))\n",
        "])\n",
        "\n",
        "# Load the train and test datasets\n",
        "train_dataset = MNIST(root='./data', train=True, download=True, transform=transform)\n",
        "test_dataset = MNIST(root='./data', train=False, download=True, transform=transform)\n",
        "\n",
        "# Create the Siamese Datasets\n",
        "train_loader = DataLoader(SiameseMNISTDataset(train_dataset), batch_size=32, shuffle=True)\n",
        "test_loader = DataLoader(SiameseMNISTDataset(test_dataset), batch_size=32, shuffle=True)\n"
      ]
    },
    {
      "cell_type": "code",
      "execution_count": 10,
      "metadata": {
        "colab": {
          "base_uri": "https://localhost:8080/"
        },
        "id": "dADOC1BDm6Zx",
        "outputId": "ee31c894-3499-4ea1-f8e5-9c185b366245"
      },
      "outputs": [
        {
          "output_type": "stream",
          "name": "stdout",
          "text": [
            "It takes  5 minutes.\n",
            "Epoch [1/10], Loss: 0.0230\n",
            "It takes  9 minutes.\n",
            "Epoch [2/10], Loss: 0.0076\n",
            "It takes  14 minutes.\n",
            "Epoch [3/10], Loss: 0.0060\n",
            "It takes  19 minutes.\n",
            "Epoch [4/10], Loss: 0.0053\n",
            "It takes  23 minutes.\n",
            "Epoch [5/10], Loss: 0.0042\n",
            "It takes  28 minutes.\n",
            "Epoch [6/10], Loss: 0.0037\n",
            "It takes  33 minutes.\n",
            "Epoch [7/10], Loss: 0.0036\n",
            "It takes  38 minutes.\n",
            "Epoch [8/10], Loss: 0.0031\n",
            "It takes  43 minutes.\n",
            "Epoch [9/10], Loss: 0.0031\n",
            "It takes  47 minutes.\n",
            "Epoch [10/10], Loss: 0.0028\n"
          ]
        }
      ],
      "source": [
        "# 6\n",
        "model = SiameseNetwork()\n",
        "criterion = ContrastiveLoss(margin=1.0)\n",
        "optimizer = optim.Adam(model.parameters(), lr=0.001)\n",
        "\n",
        "# Training loop\n",
        "start_time = time.time()\n",
        "for epoch in range(10):\n",
        "    model.train()\n",
        "    total_loss = 0.0\n",
        "\n",
        "    for (img1, img2), label in train_loader:\n",
        "        optimizer.zero_grad()\n",
        "        # Forward pass\n",
        "        distance = model(img1, img2).norm(p=1, dim=1)\n",
        "        # Compute loss\n",
        "        loss = criterion(distance, label)\n",
        "        # Backpropagation\n",
        "        loss.backward()\n",
        "        optimizer.step()\n",
        "        total_loss += loss.item()\n",
        "    print('It takes ',round((time.time() - start_time)/60.0), 'minutes.')\n",
        "    print(f'Epoch [{epoch+1}/10], Loss: {total_loss / len(train_loader):.4f}')"
      ]
    },
    {
      "cell_type": "code",
      "source": [
        "torch.save(model.state_dict(), \"siamese_model.pth\")"
      ],
      "metadata": {
        "id": "ioXu6beRL58p"
      },
      "execution_count": 11,
      "outputs": []
    },
    {
      "cell_type": "code",
      "execution_count": 12,
      "metadata": {
        "id": "P6yhkoY5m81C",
        "colab": {
          "base_uri": "https://localhost:8080/"
        },
        "outputId": "752d7718-6f6e-4055-9336-29d1bf3e30e5"
      },
      "outputs": [
        {
          "output_type": "stream",
          "name": "stdout",
          "text": [
            "Accuracy: 98.69%\n"
          ]
        }
      ],
      "source": [
        "# 7\n",
        "def evaluate(model, data_loader):\n",
        "    model.eval()\n",
        "    correct = 0\n",
        "    total = 0\n",
        "\n",
        "    with torch.no_grad():\n",
        "        for (img1, img2), label in data_loader:\n",
        "            distance = model(img1, img2).norm(p=1, dim=1)\n",
        "            prediction = (distance < 0.5).float()  # Threshold at 0.5\n",
        "            correct += (prediction == label).sum().item()\n",
        "            total += label.size(0)\n",
        "\n",
        "    accuracy = correct / total * 100\n",
        "    print(f'Accuracy: {accuracy:.2f}%')\n",
        "\n",
        "# Evaluate on the test dataset\n",
        "evaluate(model, test_loader)"
      ]
    },
    {
      "cell_type": "code",
      "execution_count": 19,
      "metadata": {
        "id": "L0Nacv-nn_vc",
        "colab": {
          "base_uri": "https://localhost:8080/",
          "height": 1000
        },
        "outputId": "0e121092-3204-4b3a-e559-1cf86faf0ae9"
      },
      "outputs": [
        {
          "output_type": "stream",
          "name": "stdout",
          "text": [
            "Support Image Label: 1\n"
          ]
        },
        {
          "output_type": "display_data",
          "data": {
            "text/plain": [
              "<Figure size 640x480 with 1 Axes>"
            ],
            "image/png": "[encoded data removed]"
          },
          "metadata": {}
        },
        {
          "output_type": "stream",
          "name": "stdout",
          "text": [
            "Query Image Label: 2, Distance: 1.1037\n"
          ]
        },
        {
          "output_type": "display_data",
          "data": {
            "text/plain": [
              "<Figure size 640x480 with 1 Axes>"
            ],
            "image/png": "[encoded data removed]"
          },
          "metadata": {}
        },
        {
          "output_type": "stream",
          "name": "stdout",
          "text": [
            "Prediction: Different\n",
            "Query Image Label: 6, Distance: 1.1276\n"
          ]
        },
        {
          "output_type": "display_data",
          "data": {
            "text/plain": [
              "<Figure size 640x480 with 1 Axes>"
            ],
            "image/png": "[encoded data removed]"
          },
          "metadata": {}
        },
        {
          "output_type": "stream",
          "name": "stdout",
          "text": [
            "Prediction: Different\n",
            "Query Image Label: 4, Distance: 1.0697\n"
          ]
        },
        {
          "output_type": "display_data",
          "data": {
            "text/plain": [
              "<Figure size 640x480 with 1 Axes>"
            ],
            "image/png": "[encoded data removed]"
          },
          "metadata": {}
        },
        {
          "output_type": "stream",
          "name": "stdout",
          "text": [
            "Prediction: Different\n",
            "Query Image Label: 6, Distance: 1.1243\n"
          ]
        },
        {
          "output_type": "display_data",
          "data": {
            "text/plain": [
              "<Figure size 640x480 with 1 Axes>"
            ],
            "image/png": "[encoded data removed]"
          },
          "metadata": {}
        },
        {
          "output_type": "stream",
          "name": "stdout",
          "text": [
            "Prediction: Different\n",
            "Query Image Label: 1, Distance: 0.0214\n"
          ]
        },
        {
          "output_type": "display_data",
          "data": {
            "text/plain": [
              "<Figure size 640x480 with 1 Axes>"
            ],
            "image/png": "[encoded data removed]"
          },
          "metadata": {}
        },
        {
          "output_type": "stream",
          "name": "stdout",
          "text": [
            "Prediction: Same\n"
          ]
        }
      ],
      "source": [
        "# few shot example\n",
        "def few_shot_inference(model):\n",
        "    transform = transforms.Compose([\n",
        "        transforms.ToTensor(),\n",
        "        transforms.Normalize((0.1307,), (0.3081,))\n",
        "    ])\n",
        "\n",
        "    # Load MNIST test dataset\n",
        "    test_dataset = MNIST(root='./data', train=False, download=True, transform=transform)\n",
        "\n",
        "    # Pick a random image from the test set as the \"support\" image\n",
        "    support_idx = random.randint(0, len(test_dataset) - 1)\n",
        "    support_img, support_label = test_dataset[support_idx]\n",
        "\n",
        "    print(f\"Support Image Label: {support_label}\")\n",
        "\n",
        "    # Display the support image\n",
        "    plt.imshow(support_img.squeeze(), cmap='gray')\n",
        "    plt.show()\n",
        "\n",
        "    # Generate a few query pairs (new images to compare against the support image)\n",
        "    for i in range(5):\n",
        "        query_idx = random.randint(0, len(test_dataset) - 1)\n",
        "        query_img, query_label = test_dataset[query_idx]\n",
        "\n",
        "        # Use the model to compute the similarity score\n",
        "        model.eval()\n",
        "        with torch.no_grad():\n",
        "            support_img_batch = support_img.unsqueeze(0)#.unsqueeze(0)  # (1, 1, 28, 28)\n",
        "            query_img_batch = query_img.unsqueeze(0)#.unsqueeze(0)  # (1, 1, 28, 28)\n",
        "\n",
        "            distance = model(support_img_batch, query_img_batch).norm(p=1, dim=1).item()\n",
        "\n",
        "        print(f\"Query Image Label: {query_label}, Distance: {distance:.4f}\")\n",
        "\n",
        "        plt.imshow(query_img.squeeze(), cmap='gray')\n",
        "        plt.show()\n",
        "\n",
        "        if distance < 0.5:\n",
        "            print(\"Prediction: Same\")\n",
        "        else:\n",
        "            print(\"Prediction: Different\")\n",
        "\n",
        "# Perform 1-shot learning inference\n",
        "few_shot_inference(model)"
      ]
    },
    {
      "cell_type": "code",
      "source": [],
      "metadata": {
        "id": "ud9vexYTqUXi"
      },
      "execution_count": 17,
      "outputs": []
    },
    {
      "cell_type": "code",
      "source": [],
      "metadata": {
        "id": "Kj6IP8gVsFTp"
      },
      "execution_count": null,
      "outputs": []
    }
  ],
  "metadata": {
    "colab": {
      "provenance": [],
      "include_colab_link": true
    },
    "kernelspec": {
      "display_name": "Python 3",
      "name": "python3"
    },
    "language_info": {
      "name": "python"
    }
  },
  "nbformat": 4,
  "nbformat_minor": 0
}