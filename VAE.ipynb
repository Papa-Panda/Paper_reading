{
  "nbformat": 4,
  "nbformat_minor": 0,
  "metadata": {
    "colab": {
      "provenance": [],
      "authorship_tag": "ABX9TyMSsD2jGW38TMHY50H6es01",
      "include_colab_link": true
    },
    "kernelspec": {
      "name": "python3",
      "display_name": "Python 3"
    },
    "language_info": {
      "name": "python"
    }
  },
  "cells": [
    {
      "cell_type": "markdown",
      "metadata": {
        "id": "view-in-github",
        "colab_type": "text"
      },
      "source": [
        "<a href=\"https://colab.research.google.com/github/Papa-Panda/paper_reading/blob/main/VAE.ipynb\" target=\"_parent\"><img src=\"https://colab.research.google.com/assets/colab-badge.svg\" alt=\"Open In Colab\"/></a>"
      ]
    },
    {
      "cell_type": "code",
      "execution_count": null,
      "metadata": {
        "id": "-gIOg6mY6878"
      },
      "outputs": [],
      "source": [
        "import torch\n",
        "import torch.nn as nn\n",
        "import torch.optim as optim\n",
        "import torchvision\n",
        "import torchvision.transforms as transforms\n",
        "import matplotlib.pyplot as plt\n",
        "\n",
        "# Step 1: Define Variational Autoencoder (VAE) Model\n",
        "class VAE(nn.Module):\n",
        "    def __init__(self, latent_dim=128):\n",
        "        super(VAE, self).__init__()\n",
        "\n",
        "        # Encoder: Convolutional layers to downsample the input\n",
        "        self.encoder = nn.Sequential(\n",
        "            nn.Conv2d(3, 64, kernel_size=4, stride=2, padding=1),  # 32x32 -> 16x16\n",
        "            nn.ReLU(),\n",
        "            nn.Conv2d(64, 128, kernel_size=4, stride=2, padding=1), # 16x16 -> 8x8\n",
        "            nn.ReLU(),\n",
        "            nn.Conv2d(128, 256, kernel_size=4, stride=2, padding=1), # 8x8 -> 4x4\n",
        "            nn.ReLU(),\n",
        "        )\n",
        "\n",
        "        # Latent vectors `mu` and `log_var`\n",
        "        self.fc_mu = nn.Linear(256*4*4, latent_dim)     # Mean of the latent space\n",
        "        self.fc_log_var = nn.Linear(256*4*4, latent_dim) # Log-variance of the latent space\n",
        "\n",
        "        # Decoder: Fully connected + transposed convolutions to upsample the latent representation\n",
        "        self.fc_decoder = nn.Linear(latent_dim, 256*4*4)\n",
        "        self.decoder = nn.Sequential(\n",
        "            nn.ConvTranspose2d(256, 128, kernel_size=4, stride=2, padding=1),  # 4x4 -> 8x8\n",
        "            nn.ReLU(),\n",
        "            nn.ConvTranspose2d(128, 64, kernel_size=4, stride=2, padding=1),   # 8x8 -> 16x16\n",
        "            nn.ReLU(),\n",
        "            nn.ConvTranspose2d(64, 3, kernel_size=4, stride=2, padding=1),     # 16x16 -> 32x32\n",
        "            nn.Sigmoid()\n",
        "        )\n",
        "\n",
        "    def encode(self, x):\n",
        "        \"\"\"Encodes the input into latent space\"\"\"\n",
        "        x = self.encoder(x)\n",
        "        x = x.view(x.size(0), -1)  # Flatten the image to a vector\n",
        "        mu = self.fc_mu(x)\n",
        "        log_var = self.fc_log_var(x)\n",
        "        return mu, log_var\n",
        "\n",
        "    def reparameterize(self, mu, log_var):\n",
        "        \"\"\"Sample from a Gaussian distribution using the reparameterization trick\"\"\"\n",
        "        std = torch.exp(0.5 * log_var)\n",
        "        eps = torch.randn_like(std)\n",
        "        return mu + eps * std\n",
        "\n",
        "    def decode(self, z):\n",
        "        \"\"\"Decodes the latent variable `z` back to an image\"\"\"\n",
        "        x = self.fc_decoder(z)\n",
        "        x = x.view(x.size(0), 256, 4, 4)  # Reshape to image size\n",
        "        x = self.decoder(x)\n",
        "        return x\n",
        "\n",
        "    def forward(self, x):\n",
        "        \"\"\"Forward pass through VAE\"\"\"\n",
        "        mu, log_var = self.encode(x)\n",
        "        z = self.reparameterize(mu, log_var)\n",
        "        reconstructed = self.decode(z)\n",
        "        return reconstructed, mu, log_var\n",
        "\n",
        "# Step 2: Define the loss function (Reconstruction loss + KL Divergence)\n",
        "# def vae_loss(reconstructed, original, mu, log_var):\n",
        "#     # Reconstruction loss (binary cross entropy)\n",
        "#     recon_loss = nn.functional.binary_cross_entropy(reconstructed, original, reduction='sum')\n",
        "\n",
        "#     # KL Divergence loss (encourages the latent space to be Gaussian)\n",
        "#     kl_divergence = -0.5 * torch.sum(1 + log_var - mu.pow(2) - log_var.exp())\n",
        "\n",
        "#     return recon_loss + kl_divergence\n",
        "\n",
        "\n",
        "# note the vae loss function is the core why it works\n",
        "# see explanation here: https://spaces.ac.cn/archives/5343\n",
        "def vae_loss(reconstructed, original, mu, log_var):\n",
        "    # Reconstruction loss using Mean Squared Error (MSE)\n",
        "    recon_loss = nn.functional.mse_loss(reconstructed, original, reduction='sum')\n",
        "\n",
        "    # KL Divergence loss (encourages the latent space to be Gaussian)\n",
        "    kl_divergence = -0.5 * torch.sum(1 + log_var - mu.pow(2) - log_var.exp())\n",
        "\n",
        "    return recon_loss + kl_divergence\n"
      ]
    },
    {
      "cell_type": "code",
      "source": [
        "# Step 3: Load CIFAR-10 dataset\n",
        "transform = transforms.Compose([transforms.ToTensor(), transforms.Normalize((0.5,), (0.5,))])\n",
        "\n",
        "trainset = torchvision.datasets.CIFAR10(root='./data', train=True, download=True, transform=transform)\n",
        "trainloader = torch.utils.data.DataLoader(trainset, batch_size=64, shuffle=True)\n",
        "\n",
        "# Step 4: Initialize VAE model, optimizer\n",
        "device = torch.device('cuda' if torch.cuda.is_available() else 'cpu')\n",
        "model = VAE(latent_dim=128).to(device)\n",
        "optimizer = optim.Adam(model.parameters(), lr=0.001)"
      ],
      "metadata": {
        "colab": {
          "base_uri": "https://localhost:8080/"
        },
        "id": "gWS3Skyv9wOM",
        "outputId": "5a32f8db-ec16-4f66-ec8e-3ec49a50b9f8"
      },
      "execution_count": null,
      "outputs": [
        {
          "output_type": "stream",
          "name": "stdout",
          "text": [
            "Downloading https://www.cs.toronto.edu/~kriz/cifar-10-python.tar.gz to ./data/cifar-10-python.tar.gz\n"
          ]
        },
        {
          "output_type": "stream",
          "name": "stderr",
          "text": [
            "100%|██████████| 170498071/170498071 [00:04<00:00, 36181240.81it/s]\n"
          ]
        },
        {
          "output_type": "stream",
          "name": "stdout",
          "text": [
            "Extracting ./data/cifar-10-python.tar.gz to ./data\n"
          ]
        }
      ]
    },
    {
      "cell_type": "code",
      "source": [
        "# Step 5: Training loop\n",
        "num_epochs = 10\n",
        "for epoch in range(num_epochs):\n",
        "    running_loss = 0.0\n",
        "    for i, data in enumerate(trainloader):\n",
        "        inputs, _ = data\n",
        "        inputs = inputs.to(device)\n",
        "\n",
        "        # Zero the parameter gradients\n",
        "        optimizer.zero_grad()\n",
        "\n",
        "        # Forward pass through the model\n",
        "        reconstructed, mu, log_var = model(inputs)\n",
        "\n",
        "        # Compute VAE loss\n",
        "        loss = vae_loss(reconstructed, inputs, mu, log_var)\n",
        "\n",
        "        # Backward pass and optimization\n",
        "        loss.backward()\n",
        "        optimizer.step()\n",
        "\n",
        "        # Print statistics\n",
        "        running_loss += loss.item()\n",
        "        if i % 100 == 2:\n",
        "            print(f'Epoch [{epoch+1}/{num_epochs}], Step [{i+1}/{len(trainloader)}], Loss: {loss.item()}')\n",
        "\n",
        "    print(f'Epoch [{epoch+1}/{num_epochs}], Loss: {running_loss / len(trainloader)}')\n",
        "\n",
        "print('Finished Training')\n",
        "\n",
        "# Step 6: Sample from the latent space to generate new images\n",
        "def sample_from_latent_space(model, num_samples=5):\n",
        "    model.eval()\n",
        "    with torch.no_grad():\n",
        "        z = torch.randn(num_samples, 128).to(device)  # Sample random latent vectors\n",
        "        generated_images = model.decode(z)\n",
        "        generated_images = generated_images.cpu()\n",
        "\n",
        "    # Plot the generated images\n",
        "    plt.figure(figsize=(10, 2))\n",
        "    for i in range(num_samples):\n",
        "        plt.subplot(1, num_samples, i+1)\n",
        "        plt.imshow(generated_images[i].permute(1, 2, 0).numpy())\n",
        "        plt.axis('off')\n",
        "    plt.show()\n",
        "\n",
        "# Generate new images\n",
        "sample_from_latent_space(model, num_samples=5)"
      ],
      "metadata": {
        "colab": {
          "base_uri": "https://localhost:8080/",
          "height": 1000
        },
        "id": "U9pqZjce94xa",
        "outputId": "9aae0022-8b06-4ec8-e3f8-3b0d6fc5bdf3"
      },
      "execution_count": null,
      "outputs": [
        {
          "output_type": "stream",
          "name": "stdout",
          "text": [
            "Epoch [1/10], Step [3/782], Loss: 43622.16796875\n",
            "Epoch [1/10], Step [103/782], Loss: 38468.92578125\n",
            "Epoch [1/10], Step [203/782], Loss: 42971.65625\n",
            "Epoch [1/10], Step [303/782], Loss: 39210.34765625\n",
            "Epoch [1/10], Step [403/782], Loss: 38029.515625\n",
            "Epoch [1/10], Step [503/782], Loss: 39319.15625\n",
            "Epoch [1/10], Step [603/782], Loss: 42106.17578125\n",
            "Epoch [1/10], Step [703/782], Loss: 31534.890625\n",
            "Epoch [1/10], Loss: 37864.44105908328\n",
            "Epoch [2/10], Step [3/782], Loss: 35585.0859375\n",
            "Epoch [2/10], Step [103/782], Loss: 33536.5\n",
            "Epoch [2/10], Step [203/782], Loss: 38649.703125\n",
            "Epoch [2/10], Step [303/782], Loss: 35493.49609375\n",
            "Epoch [2/10], Step [403/782], Loss: 34420.13671875\n",
            "Epoch [2/10], Step [503/782], Loss: 33296.421875\n",
            "Epoch [2/10], Step [603/782], Loss: 33221.72265625\n",
            "Epoch [2/10], Step [703/782], Loss: 39455.96875\n",
            "Epoch [2/10], Loss: 35133.885086566894\n",
            "Epoch [3/10], Step [3/782], Loss: 32602.884765625\n",
            "Epoch [3/10], Step [103/782], Loss: 35598.67578125\n",
            "Epoch [3/10], Step [203/782], Loss: 31721.244140625\n",
            "Epoch [3/10], Step [303/782], Loss: 35450.78515625\n",
            "Epoch [3/10], Step [403/782], Loss: 34698.4765625\n",
            "Epoch [3/10], Step [503/782], Loss: 40699.4375\n",
            "Epoch [3/10], Step [603/782], Loss: 35245.21484375\n",
            "Epoch [3/10], Step [703/782], Loss: 31468.369140625\n",
            "Epoch [3/10], Loss: 34684.11550661365\n",
            "Epoch [4/10], Step [3/782], Loss: 40483.73828125\n",
            "Epoch [4/10], Step [103/782], Loss: 35238.4765625\n",
            "Epoch [4/10], Step [203/782], Loss: 32977.51953125\n",
            "Epoch [4/10], Step [303/782], Loss: 34366.26953125\n",
            "Epoch [4/10], Step [403/782], Loss: 33260.94140625\n",
            "Epoch [4/10], Step [503/782], Loss: 33651.3203125\n",
            "Epoch [4/10], Step [603/782], Loss: 32886.05078125\n",
            "Epoch [4/10], Step [703/782], Loss: 33628.48828125\n",
            "Epoch [4/10], Loss: 34491.21861512947\n",
            "Epoch [5/10], Step [3/782], Loss: 35456.203125\n",
            "Epoch [5/10], Step [103/782], Loss: 36926.3046875\n",
            "Epoch [5/10], Step [203/782], Loss: 35862.59375\n",
            "Epoch [5/10], Step [303/782], Loss: 30633.322265625\n",
            "Epoch [5/10], Step [403/782], Loss: 36891.3046875\n",
            "Epoch [5/10], Step [503/782], Loss: 39313.98828125\n",
            "Epoch [5/10], Step [603/782], Loss: 34563.7890625\n",
            "Epoch [5/10], Step [703/782], Loss: 33258.515625\n",
            "Epoch [5/10], Loss: 34364.67500199808\n",
            "Epoch [6/10], Step [3/782], Loss: 36228.86328125\n",
            "Epoch [6/10], Step [103/782], Loss: 35493.671875\n",
            "Epoch [6/10], Step [203/782], Loss: 34097.87109375\n",
            "Epoch [6/10], Step [303/782], Loss: 40212.05859375\n",
            "Epoch [6/10], Step [403/782], Loss: 39423.2109375\n",
            "Epoch [6/10], Step [503/782], Loss: 33546.33984375\n",
            "Epoch [6/10], Step [603/782], Loss: 34991.296875\n",
            "Epoch [6/10], Step [703/782], Loss: 33905.83984375\n",
            "Epoch [6/10], Loss: 34295.95726102941\n",
            "Epoch [7/10], Step [3/782], Loss: 36582.59765625\n",
            "Epoch [7/10], Step [103/782], Loss: 37003.23046875\n",
            "Epoch [7/10], Step [203/782], Loss: 33414.46484375\n",
            "Epoch [7/10], Step [303/782], Loss: 34169.5078125\n",
            "Epoch [7/10], Step [403/782], Loss: 32582.462890625\n",
            "Epoch [7/10], Step [503/782], Loss: 32785.5703125\n",
            "Epoch [7/10], Step [603/782], Loss: 30980.873046875\n",
            "Epoch [7/10], Step [703/782], Loss: 37861.1875\n",
            "Epoch [7/10], Loss: 34229.17955637588\n",
            "Epoch [8/10], Step [3/782], Loss: 38524.796875\n",
            "Epoch [8/10], Step [103/782], Loss: 34616.8515625\n",
            "Epoch [8/10], Step [203/782], Loss: 33102.21875\n",
            "Epoch [8/10], Step [303/782], Loss: 38952.24609375\n",
            "Epoch [8/10], Step [403/782], Loss: 33701.97265625\n",
            "Epoch [8/10], Step [503/782], Loss: 32283.904296875\n",
            "Epoch [8/10], Step [603/782], Loss: 30459.16015625\n",
            "Epoch [8/10], Step [703/782], Loss: 33516.859375\n",
            "Epoch [8/10], Loss: 34189.54415386229\n",
            "Epoch [9/10], Step [3/782], Loss: 35650.49609375\n",
            "Epoch [9/10], Step [103/782], Loss: 35292.18359375\n",
            "Epoch [9/10], Step [203/782], Loss: 28675.99609375\n",
            "Epoch [9/10], Step [303/782], Loss: 35700.6484375\n",
            "Epoch [9/10], Step [403/782], Loss: 31016.876953125\n",
            "Epoch [9/10], Step [503/782], Loss: 34168.47265625\n",
            "Epoch [9/10], Step [603/782], Loss: 33038.09375\n",
            "Epoch [9/10], Step [703/782], Loss: 32079.818359375\n",
            "Epoch [9/10], Loss: 34134.97871793079\n",
            "Epoch [10/10], Step [3/782], Loss: 34413.375\n",
            "Epoch [10/10], Step [103/782], Loss: 35875.3515625\n",
            "Epoch [10/10], Step [203/782], Loss: 39264.68359375\n",
            "Epoch [10/10], Step [303/782], Loss: 30082.75390625\n",
            "Epoch [10/10], Step [403/782], Loss: 31305.427734375\n",
            "Epoch [10/10], Step [503/782], Loss: 34863.1796875\n",
            "Epoch [10/10], Step [603/782], Loss: 33106.828125\n",
            "Epoch [10/10], Step [703/782], Loss: 34209.35546875\n",
            "Epoch [10/10], Loss: 34099.26176995085\n",
            "Finished Training\n"
          ]
        },
        {
          "output_type": "display_data",
          "data": {
            "text/plain": [
              "<Figure size 1000x200 with 5 Axes>"
            ],
            "image/png": "[encoded data removed]"
          },
          "metadata": {}
        }
      ]
    },
    {
      "cell_type": "code",
      "source": [],
      "metadata": {
        "id": "uT--yAxe_D_T"
      },
      "execution_count": null,
      "outputs": []
    }
  ]
}