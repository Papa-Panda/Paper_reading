{
  "nbformat": 4,
  "nbformat_minor": 0,
  "metadata": {
    "colab": {
      "provenance": [],
      "authorship_tag": "ABX9TyOXlP9nhlC9LaGFDxGR3Nap",
      "include_colab_link": true
    },
    "kernelspec": {
      "name": "python3",
      "display_name": "Python 3"
    },
    "language_info": {
      "name": "python"
    }
  },
  "cells": [
    {
      "cell_type": "markdown",
      "metadata": {
        "id": "view-in-github",
        "colab_type": "text"
      },
      "source": [
        "<a href=\"https://colab.research.google.com/github/Papa-Panda/Paper_reading/blob/main/%E7%94%9F%E6%88%90%E6%89%A9%E6%95%A3%E6%A8%A1%E5%9E%8B%E6%BC%AB%E8%B0%88.ipynb\" target=\"_parent\"><img src=\"https://colab.research.google.com/assets/colab-badge.svg\" alt=\"Open In Colab\"/></a>"
      ]
    },
    {
      "cell_type": "code",
      "source": [
        "# 生成扩散模型漫谈（一）\n",
        "# https://spaces.ac.cn/archives/9119/comment-page-1"
      ],
      "metadata": {
        "id": "qK2mzC8Itojb"
      },
      "execution_count": null,
      "outputs": []
    },
    {
      "cell_type": "code",
      "source": [
        "# 生成扩散模型漫谈（二）：DDPM = 自回归式VAE\n",
        "# https://kexue.fm/archives/9152"
      ],
      "metadata": {
        "id": "TQHF75sCIS7T"
      },
      "execution_count": null,
      "outputs": []
    },
    {
      "cell_type": "code",
      "source": [
        "# 生成扩散模型漫谈（三）：DDPM = 贝叶斯 + 去噪\n",
        "# https://kexue.fm/archives/9164"
      ],
      "metadata": {
        "id": "XHp7hsF0ncz2"
      },
      "execution_count": null,
      "outputs": []
    },
    {
      "cell_type": "code",
      "source": [
        "# 生成扩散模型漫谈（十四）：构建ODE的一般步骤（上）\n",
        "# https://kexue.fm/archives/9370"
      ],
      "metadata": {
        "id": "Mw5gzJl6DMnh"
      },
      "execution_count": null,
      "outputs": []
    },
    {
      "cell_type": "code",
      "execution_count": null,
      "metadata": {
        "id": "jjTSWqz2PWU6"
      },
      "outputs": [],
      "source": [
        "# 生成扩散模型漫谈（三十）：从瞬时速度到平均速度 - 苏剑林的文章 - 知乎\n",
        "# https://zhuanlan.zhihu.com/p/1914623406890021596"
      ]
    }
  ]
}