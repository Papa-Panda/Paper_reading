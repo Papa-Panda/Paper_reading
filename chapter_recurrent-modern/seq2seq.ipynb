{
  "cells": [
    {
      "cell_type": "markdown",
      "metadata": {
        "id": "view-in-github",
        "colab_type": "text"
      },
      "source": [
        "<a href=\"https://colab.research.google.com/github/Papa-Panda/paper_reading/blob/main/chapter_recurrent-modern/seq2seq.ipynb\" target=\"_parent\"><img src=\"https://colab.research.google.com/assets/colab-badge.svg\" alt=\"Open In Colab\"/></a>"
      ]
    },
    {
      "cell_type": "markdown",
      "id": "e8e79e3c",
      "metadata": {
        "id": "e8e79e3c"
      },
      "source": [
        "The following additional libraries are needed to run this\n",
        "notebook. Note that running on Colab is experimental, please report a Github\n",
        "issue if you have any problem."
      ]
    },
    {
      "cell_type": "code",
      "execution_count": 30,
      "id": "23a57089",
      "metadata": {
        "id": "23a57089"
      },
      "outputs": [],
      "source": [
        "# !pip install git+https://github.com/d2l-ai/d2l-zh@release  # installing d2l"
      ]
    },
    {
      "cell_type": "code",
      "source": [
        "!pip install d2l\n"
      ],
      "metadata": {
        "id": "XkMyQ7SjZK--",
        "outputId": "fa86d191-fe39-4c83-c782-ded978b41f26",
        "colab": {
          "base_uri": "https://localhost:8080/",
          "height": 1000
        }
      },
      "id": "XkMyQ7SjZK--",
      "execution_count": 2,
      "outputs": [
        {
          "output_type": "stream",
          "name": "stdout",
          "text": [
            "Collecting d2l\n",
            "  Downloading d2l-1.0.3-py3-none-any.whl.metadata (556 bytes)\n",
            "Collecting jupyter==1.0.0 (from d2l)\n",
            "  Using cached jupyter-1.0.0-py2.py3-none-any.whl.metadata (995 bytes)\n",
            "Collecting numpy==1.23.5 (from d2l)\n",
            "  Downloading numpy-1.23.5-cp311-cp311-manylinux_2_17_x86_64.manylinux2014_x86_64.whl.metadata (2.3 kB)\n",
            "Collecting matplotlib==3.7.2 (from d2l)\n",
            "  Downloading matplotlib-3.7.2-cp311-cp311-manylinux_2_17_x86_64.manylinux2014_x86_64.whl.metadata (5.6 kB)\n",
            "Collecting matplotlib-inline==0.1.6 (from d2l)\n",
            "  Downloading matplotlib_inline-0.1.6-py3-none-any.whl.metadata (2.8 kB)\n",
            "Collecting requests==2.31.0 (from d2l)\n",
            "  Downloading requests-2.31.0-py3-none-any.whl.metadata (4.6 kB)\n",
            "Collecting pandas==2.0.3 (from d2l)\n",
            "  Downloading pandas-2.0.3-cp311-cp311-manylinux_2_17_x86_64.manylinux2014_x86_64.whl.metadata (18 kB)\n",
            "Collecting scipy==1.10.1 (from d2l)\n",
            "  Downloading scipy-1.10.1-cp311-cp311-manylinux_2_17_x86_64.manylinux2014_x86_64.whl.metadata (58 kB)\n",
            "\u001b[2K     \u001b[90m━━━━━━━━━━━━━━━━━━━━━━━━━━━━━━━━━━━━━━━━\u001b[0m \u001b[32m58.9/58.9 kB\u001b[0m \u001b[31m3.6 MB/s\u001b[0m eta \u001b[36m0:00:00\u001b[0m\n",
            "\u001b[?25hRequirement already satisfied: notebook in /usr/local/lib/python3.11/dist-packages (from jupyter==1.0.0->d2l) (6.5.7)\n",
            "Collecting qtconsole (from jupyter==1.0.0->d2l)\n",
            "  Downloading qtconsole-5.6.1-py3-none-any.whl.metadata (5.0 kB)\n",
            "Requirement already satisfied: jupyter-console in /usr/local/lib/python3.11/dist-packages (from jupyter==1.0.0->d2l) (6.1.0)\n",
            "Requirement already satisfied: nbconvert in /usr/local/lib/python3.11/dist-packages (from jupyter==1.0.0->d2l) (7.16.6)\n",
            "Requirement already satisfied: ipykernel in /usr/local/lib/python3.11/dist-packages (from jupyter==1.0.0->d2l) (6.17.1)\n",
            "Requirement already satisfied: ipywidgets in /usr/local/lib/python3.11/dist-packages (from jupyter==1.0.0->d2l) (7.7.1)\n",
            "Requirement already satisfied: contourpy>=1.0.1 in /usr/local/lib/python3.11/dist-packages (from matplotlib==3.7.2->d2l) (1.3.2)\n",
            "Requirement already satisfied: cycler>=0.10 in /usr/local/lib/python3.11/dist-packages (from matplotlib==3.7.2->d2l) (0.12.1)\n",
            "Requirement already satisfied: fonttools>=4.22.0 in /usr/local/lib/python3.11/dist-packages (from matplotlib==3.7.2->d2l) (4.58.4)\n",
            "Requirement already satisfied: kiwisolver>=1.0.1 in /usr/local/lib/python3.11/dist-packages (from matplotlib==3.7.2->d2l) (1.4.8)\n",
            "Requirement already satisfied: packaging>=20.0 in /usr/local/lib/python3.11/dist-packages (from matplotlib==3.7.2->d2l) (24.2)\n",
            "Requirement already satisfied: pillow>=6.2.0 in /usr/local/lib/python3.11/dist-packages (from matplotlib==3.7.2->d2l) (11.2.1)\n",
            "Collecting pyparsing<3.1,>=2.3.1 (from matplotlib==3.7.2->d2l)\n",
            "  Downloading pyparsing-3.0.9-py3-none-any.whl.metadata (4.2 kB)\n",
            "Requirement already satisfied: python-dateutil>=2.7 in /usr/local/lib/python3.11/dist-packages (from matplotlib==3.7.2->d2l) (2.9.0.post0)\n",
            "Requirement already satisfied: traitlets in /usr/local/lib/python3.11/dist-packages (from matplotlib-inline==0.1.6->d2l) (5.7.1)\n",
            "Requirement already satisfied: pytz>=2020.1 in /usr/local/lib/python3.11/dist-packages (from pandas==2.0.3->d2l) (2025.2)\n",
            "Requirement already satisfied: tzdata>=2022.1 in /usr/local/lib/python3.11/dist-packages (from pandas==2.0.3->d2l) (2025.2)\n",
            "Requirement already satisfied: charset-normalizer<4,>=2 in /usr/local/lib/python3.11/dist-packages (from requests==2.31.0->d2l) (3.4.2)\n",
            "Requirement already satisfied: idna<4,>=2.5 in /usr/local/lib/python3.11/dist-packages (from requests==2.31.0->d2l) (3.10)\n",
            "Requirement already satisfied: urllib3<3,>=1.21.1 in /usr/local/lib/python3.11/dist-packages (from requests==2.31.0->d2l) (2.4.0)\n",
            "Requirement already satisfied: certifi>=2017.4.17 in /usr/local/lib/python3.11/dist-packages (from requests==2.31.0->d2l) (2025.6.15)\n",
            "Requirement already satisfied: six>=1.5 in /usr/local/lib/python3.11/dist-packages (from python-dateutil>=2.7->matplotlib==3.7.2->d2l) (1.17.0)\n",
            "Requirement already satisfied: debugpy>=1.0 in /usr/local/lib/python3.11/dist-packages (from ipykernel->jupyter==1.0.0->d2l) (1.8.0)\n",
            "Requirement already satisfied: ipython>=7.23.1 in /usr/local/lib/python3.11/dist-packages (from ipykernel->jupyter==1.0.0->d2l) (7.34.0)\n",
            "Requirement already satisfied: jupyter-client>=6.1.12 in /usr/local/lib/python3.11/dist-packages (from ipykernel->jupyter==1.0.0->d2l) (6.1.12)\n",
            "Requirement already satisfied: nest-asyncio in /usr/local/lib/python3.11/dist-packages (from ipykernel->jupyter==1.0.0->d2l) (1.6.0)\n",
            "Requirement already satisfied: psutil in /usr/local/lib/python3.11/dist-packages (from ipykernel->jupyter==1.0.0->d2l) (5.9.5)\n",
            "Requirement already satisfied: pyzmq>=17 in /usr/local/lib/python3.11/dist-packages (from ipykernel->jupyter==1.0.0->d2l) (24.0.1)\n",
            "Requirement already satisfied: tornado>=6.1 in /usr/local/lib/python3.11/dist-packages (from ipykernel->jupyter==1.0.0->d2l) (6.4.2)\n",
            "Requirement already satisfied: ipython-genutils~=0.2.0 in /usr/local/lib/python3.11/dist-packages (from ipywidgets->jupyter==1.0.0->d2l) (0.2.0)\n",
            "Requirement already satisfied: widgetsnbextension~=3.6.0 in /usr/local/lib/python3.11/dist-packages (from ipywidgets->jupyter==1.0.0->d2l) (3.6.10)\n",
            "Requirement already satisfied: jupyterlab-widgets>=1.0.0 in /usr/local/lib/python3.11/dist-packages (from ipywidgets->jupyter==1.0.0->d2l) (3.0.15)\n",
            "Requirement already satisfied: prompt-toolkit!=3.0.0,!=3.0.1,<3.1.0,>=2.0.0 in /usr/local/lib/python3.11/dist-packages (from jupyter-console->jupyter==1.0.0->d2l) (3.0.51)\n",
            "Requirement already satisfied: pygments in /usr/local/lib/python3.11/dist-packages (from jupyter-console->jupyter==1.0.0->d2l) (2.19.2)\n",
            "Requirement already satisfied: beautifulsoup4 in /usr/local/lib/python3.11/dist-packages (from nbconvert->jupyter==1.0.0->d2l) (4.13.4)\n",
            "Requirement already satisfied: bleach!=5.0.0 in /usr/local/lib/python3.11/dist-packages (from bleach[css]!=5.0.0->nbconvert->jupyter==1.0.0->d2l) (6.2.0)\n",
            "Requirement already satisfied: defusedxml in /usr/local/lib/python3.11/dist-packages (from nbconvert->jupyter==1.0.0->d2l) (0.7.1)\n",
            "Requirement already satisfied: jinja2>=3.0 in /usr/local/lib/python3.11/dist-packages (from nbconvert->jupyter==1.0.0->d2l) (3.1.6)\n",
            "Requirement already satisfied: jupyter-core>=4.7 in /usr/local/lib/python3.11/dist-packages (from nbconvert->jupyter==1.0.0->d2l) (5.8.1)\n",
            "Requirement already satisfied: jupyterlab-pygments in /usr/local/lib/python3.11/dist-packages (from nbconvert->jupyter==1.0.0->d2l) (0.3.0)\n",
            "Requirement already satisfied: markupsafe>=2.0 in /usr/local/lib/python3.11/dist-packages (from nbconvert->jupyter==1.0.0->d2l) (3.0.2)\n",
            "Requirement already satisfied: mistune<4,>=2.0.3 in /usr/local/lib/python3.11/dist-packages (from nbconvert->jupyter==1.0.0->d2l) (3.1.3)\n",
            "Requirement already satisfied: nbclient>=0.5.0 in /usr/local/lib/python3.11/dist-packages (from nbconvert->jupyter==1.0.0->d2l) (0.10.2)\n",
            "Requirement already satisfied: nbformat>=5.7 in /usr/local/lib/python3.11/dist-packages (from nbconvert->jupyter==1.0.0->d2l) (5.10.4)\n",
            "Requirement already satisfied: pandocfilters>=1.4.1 in /usr/local/lib/python3.11/dist-packages (from nbconvert->jupyter==1.0.0->d2l) (1.5.1)\n",
            "Requirement already satisfied: argon2-cffi in /usr/local/lib/python3.11/dist-packages (from notebook->jupyter==1.0.0->d2l) (25.1.0)\n",
            "Requirement already satisfied: Send2Trash>=1.8.0 in /usr/local/lib/python3.11/dist-packages (from notebook->jupyter==1.0.0->d2l) (1.8.3)\n",
            "Requirement already satisfied: terminado>=0.8.3 in /usr/local/lib/python3.11/dist-packages (from notebook->jupyter==1.0.0->d2l) (0.18.1)\n",
            "Requirement already satisfied: prometheus-client in /usr/local/lib/python3.11/dist-packages (from notebook->jupyter==1.0.0->d2l) (0.22.1)\n",
            "Requirement already satisfied: nbclassic>=0.4.7 in /usr/local/lib/python3.11/dist-packages (from notebook->jupyter==1.0.0->d2l) (1.3.1)\n",
            "Collecting qtpy>=2.4.0 (from qtconsole->jupyter==1.0.0->d2l)\n",
            "  Downloading QtPy-2.4.3-py3-none-any.whl.metadata (12 kB)\n",
            "Requirement already satisfied: webencodings in /usr/local/lib/python3.11/dist-packages (from bleach!=5.0.0->bleach[css]!=5.0.0->nbconvert->jupyter==1.0.0->d2l) (0.5.1)\n",
            "Requirement already satisfied: tinycss2<1.5,>=1.1.0 in /usr/local/lib/python3.11/dist-packages (from bleach[css]!=5.0.0->nbconvert->jupyter==1.0.0->d2l) (1.4.0)\n",
            "Requirement already satisfied: setuptools>=18.5 in /usr/local/lib/python3.11/dist-packages (from ipython>=7.23.1->ipykernel->jupyter==1.0.0->d2l) (75.2.0)\n",
            "Collecting jedi>=0.16 (from ipython>=7.23.1->ipykernel->jupyter==1.0.0->d2l)\n",
            "  Downloading jedi-0.19.2-py2.py3-none-any.whl.metadata (22 kB)\n",
            "Requirement already satisfied: decorator in /usr/local/lib/python3.11/dist-packages (from ipython>=7.23.1->ipykernel->jupyter==1.0.0->d2l) (4.4.2)\n",
            "Requirement already satisfied: pickleshare in /usr/local/lib/python3.11/dist-packages (from ipython>=7.23.1->ipykernel->jupyter==1.0.0->d2l) (0.7.5)\n",
            "Requirement already satisfied: backcall in /usr/local/lib/python3.11/dist-packages (from ipython>=7.23.1->ipykernel->jupyter==1.0.0->d2l) (0.2.0)\n",
            "Requirement already satisfied: pexpect>4.3 in /usr/local/lib/python3.11/dist-packages (from ipython>=7.23.1->ipykernel->jupyter==1.0.0->d2l) (4.9.0)\n",
            "Requirement already satisfied: platformdirs>=2.5 in /usr/local/lib/python3.11/dist-packages (from jupyter-core>=4.7->nbconvert->jupyter==1.0.0->d2l) (4.3.8)\n",
            "Requirement already satisfied: notebook-shim>=0.2.3 in /usr/local/lib/python3.11/dist-packages (from nbclassic>=0.4.7->notebook->jupyter==1.0.0->d2l) (0.2.4)\n",
            "Requirement already satisfied: fastjsonschema>=2.15 in /usr/local/lib/python3.11/dist-packages (from nbformat>=5.7->nbconvert->jupyter==1.0.0->d2l) (2.21.1)\n",
            "Requirement already satisfied: jsonschema>=2.6 in /usr/local/lib/python3.11/dist-packages (from nbformat>=5.7->nbconvert->jupyter==1.0.0->d2l) (4.24.0)\n",
            "Requirement already satisfied: wcwidth in /usr/local/lib/python3.11/dist-packages (from prompt-toolkit!=3.0.0,!=3.0.1,<3.1.0,>=2.0.0->jupyter-console->jupyter==1.0.0->d2l) (0.2.13)\n",
            "Requirement already satisfied: ptyprocess in /usr/local/lib/python3.11/dist-packages (from terminado>=0.8.3->notebook->jupyter==1.0.0->d2l) (0.7.0)\n",
            "Requirement already satisfied: argon2-cffi-bindings in /usr/local/lib/python3.11/dist-packages (from argon2-cffi->notebook->jupyter==1.0.0->d2l) (21.2.0)\n",
            "Requirement already satisfied: soupsieve>1.2 in /usr/local/lib/python3.11/dist-packages (from beautifulsoup4->nbconvert->jupyter==1.0.0->d2l) (2.7)\n",
            "Requirement already satisfied: typing-extensions>=4.0.0 in /usr/local/lib/python3.11/dist-packages (from beautifulsoup4->nbconvert->jupyter==1.0.0->d2l) (4.14.0)\n",
            "Requirement already satisfied: parso<0.9.0,>=0.8.4 in /usr/local/lib/python3.11/dist-packages (from jedi>=0.16->ipython>=7.23.1->ipykernel->jupyter==1.0.0->d2l) (0.8.4)\n",
            "Requirement already satisfied: attrs>=22.2.0 in /usr/local/lib/python3.11/dist-packages (from jsonschema>=2.6->nbformat>=5.7->nbconvert->jupyter==1.0.0->d2l) (25.3.0)\n",
            "Requirement already satisfied: jsonschema-specifications>=2023.03.6 in /usr/local/lib/python3.11/dist-packages (from jsonschema>=2.6->nbformat>=5.7->nbconvert->jupyter==1.0.0->d2l) (2025.4.1)\n",
            "Requirement already satisfied: referencing>=0.28.4 in /usr/local/lib/python3.11/dist-packages (from jsonschema>=2.6->nbformat>=5.7->nbconvert->jupyter==1.0.0->d2l) (0.36.2)\n",
            "Requirement already satisfied: rpds-py>=0.7.1 in /usr/local/lib/python3.11/dist-packages (from jsonschema>=2.6->nbformat>=5.7->nbconvert->jupyter==1.0.0->d2l) (0.26.0)\n",
            "Requirement already satisfied: jupyter-server<3,>=1.8 in /usr/local/lib/python3.11/dist-packages (from notebook-shim>=0.2.3->nbclassic>=0.4.7->notebook->jupyter==1.0.0->d2l) (1.16.0)\n",
            "Requirement already satisfied: cffi>=1.0.1 in /usr/local/lib/python3.11/dist-packages (from argon2-cffi-bindings->argon2-cffi->notebook->jupyter==1.0.0->d2l) (1.17.1)\n",
            "Requirement already satisfied: pycparser in /usr/local/lib/python3.11/dist-packages (from cffi>=1.0.1->argon2-cffi-bindings->argon2-cffi->notebook->jupyter==1.0.0->d2l) (2.22)\n",
            "Requirement already satisfied: anyio>=3.1.0 in /usr/local/lib/python3.11/dist-packages (from jupyter-server<3,>=1.8->notebook-shim>=0.2.3->nbclassic>=0.4.7->notebook->jupyter==1.0.0->d2l) (4.9.0)\n",
            "Requirement already satisfied: websocket-client in /usr/local/lib/python3.11/dist-packages (from jupyter-server<3,>=1.8->notebook-shim>=0.2.3->nbclassic>=0.4.7->notebook->jupyter==1.0.0->d2l) (1.8.0)\n",
            "Requirement already satisfied: sniffio>=1.1 in /usr/local/lib/python3.11/dist-packages (from anyio>=3.1.0->jupyter-server<3,>=1.8->notebook-shim>=0.2.3->nbclassic>=0.4.7->notebook->jupyter==1.0.0->d2l) (1.3.1)\n",
            "Downloading d2l-1.0.3-py3-none-any.whl (111 kB)\n",
            "\u001b[2K   \u001b[90m━━━━━━━━━━━━━━━━━━━━━━━━━━━━━━━━━━━━━━━━\u001b[0m \u001b[32m111.7/111.7 kB\u001b[0m \u001b[31m7.3 MB/s\u001b[0m eta \u001b[36m0:00:00\u001b[0m\n",
            "\u001b[?25hDownloading jupyter-1.0.0-py2.py3-none-any.whl (2.7 kB)\n",
            "Downloading matplotlib-3.7.2-cp311-cp311-manylinux_2_17_x86_64.manylinux2014_x86_64.whl (11.6 MB)\n",
            "\u001b[2K   \u001b[90m━━━━━━━━━━━━━━━━━━━━━━━━━━━━━━━━━━━━━━━━\u001b[0m \u001b[32m11.6/11.6 MB\u001b[0m \u001b[31m114.7 MB/s\u001b[0m eta \u001b[36m0:00:00\u001b[0m\n",
            "\u001b[?25hDownloading matplotlib_inline-0.1.6-py3-none-any.whl (9.4 kB)\n",
            "Downloading numpy-1.23.5-cp311-cp311-manylinux_2_17_x86_64.manylinux2014_x86_64.whl (17.1 MB)\n",
            "\u001b[2K   \u001b[90m━━━━━━━━━━━━━━━━━━━━━━━━━━━━━━━━━━━━━━━━\u001b[0m \u001b[32m17.1/17.1 MB\u001b[0m \u001b[31m115.7 MB/s\u001b[0m eta \u001b[36m0:00:00\u001b[0m\n",
            "\u001b[?25hDownloading pandas-2.0.3-cp311-cp311-manylinux_2_17_x86_64.manylinux2014_x86_64.whl (12.2 MB)\n",
            "\u001b[2K   \u001b[90m━━━━━━━━━━━━━━━━━━━━━━━━━━━━━━━━━━━━━━━━\u001b[0m \u001b[32m12.2/12.2 MB\u001b[0m \u001b[31m117.9 MB/s\u001b[0m eta \u001b[36m0:00:00\u001b[0m\n",
            "\u001b[?25hDownloading requests-2.31.0-py3-none-any.whl (62 kB)\n",
            "\u001b[2K   \u001b[90m━━━━━━━━━━━━━━━━━━━━━━━━━━━━━━━━━━━━━━━━\u001b[0m \u001b[32m62.6/62.6 kB\u001b[0m \u001b[31m6.9 MB/s\u001b[0m eta \u001b[36m0:00:00\u001b[0m\n",
            "\u001b[?25hDownloading scipy-1.10.1-cp311-cp311-manylinux_2_17_x86_64.manylinux2014_x86_64.whl (34.1 MB)\n",
            "\u001b[2K   \u001b[90m━━━━━━━━━━━━━━━━━━━━━━━━━━━━━━━━━━━━━━━━\u001b[0m \u001b[32m34.1/34.1 MB\u001b[0m \u001b[31m19.3 MB/s\u001b[0m eta \u001b[36m0:00:00\u001b[0m\n",
            "\u001b[?25hDownloading pyparsing-3.0.9-py3-none-any.whl (98 kB)\n",
            "\u001b[2K   \u001b[90m━━━━━━━━━━━━━━━━━━━━━━━━━━━━━━━━━━━━━━━━\u001b[0m \u001b[32m98.3/98.3 kB\u001b[0m \u001b[31m10.2 MB/s\u001b[0m eta \u001b[36m0:00:00\u001b[0m\n",
            "\u001b[?25hDownloading qtconsole-5.6.1-py3-none-any.whl (125 kB)\n",
            "\u001b[2K   \u001b[90m━━━━━━━━━━━━━━━━━━━━━━━━━━━━━━━━━━━━━━━━\u001b[0m \u001b[32m125.0/125.0 kB\u001b[0m \u001b[31m11.1 MB/s\u001b[0m eta \u001b[36m0:00:00\u001b[0m\n",
            "\u001b[?25hDownloading QtPy-2.4.3-py3-none-any.whl (95 kB)\n",
            "\u001b[2K   \u001b[90m━━━━━━━━━━━━━━━━━━━━━━━━━━━━━━━━━━━━━━━━\u001b[0m \u001b[32m95.0/95.0 kB\u001b[0m \u001b[31m8.8 MB/s\u001b[0m eta \u001b[36m0:00:00\u001b[0m\n",
            "\u001b[?25hDownloading jedi-0.19.2-py2.py3-none-any.whl (1.6 MB)\n",
            "\u001b[2K   \u001b[90m━━━━━━━━━━━━━━━━━━━━━━━━━━━━━━━━━━━━━━━━\u001b[0m \u001b[32m1.6/1.6 MB\u001b[0m \u001b[31m81.1 MB/s\u001b[0m eta \u001b[36m0:00:00\u001b[0m\n",
            "\u001b[?25hInstalling collected packages: requests, qtpy, pyparsing, numpy, matplotlib-inline, jedi, scipy, pandas, matplotlib, qtconsole, jupyter, d2l\n",
            "  Attempting uninstall: requests\n",
            "    Found existing installation: requests 2.32.3\n",
            "    Uninstalling requests-2.32.3:\n",
            "      Successfully uninstalled requests-2.32.3\n",
            "  Attempting uninstall: pyparsing\n",
            "    Found existing installation: pyparsing 3.2.3\n",
            "    Uninstalling pyparsing-3.2.3:\n",
            "      Successfully uninstalled pyparsing-3.2.3\n",
            "  Attempting uninstall: numpy\n",
            "    Found existing installation: numpy 2.0.2\n",
            "    Uninstalling numpy-2.0.2:\n",
            "      Successfully uninstalled numpy-2.0.2\n",
            "  Attempting uninstall: matplotlib-inline\n",
            "    Found existing installation: matplotlib-inline 0.1.7\n",
            "    Uninstalling matplotlib-inline-0.1.7:\n",
            "      Successfully uninstalled matplotlib-inline-0.1.7\n",
            "  Attempting uninstall: scipy\n",
            "    Found existing installation: scipy 1.15.3\n",
            "    Uninstalling scipy-1.15.3:\n",
            "      Successfully uninstalled scipy-1.15.3\n",
            "  Attempting uninstall: pandas\n",
            "    Found existing installation: pandas 2.2.2\n",
            "    Uninstalling pandas-2.2.2:\n",
            "      Successfully uninstalled pandas-2.2.2\n",
            "  Attempting uninstall: matplotlib\n",
            "    Found existing installation: matplotlib 3.10.0\n",
            "    Uninstalling matplotlib-3.10.0:\n",
            "      Successfully uninstalled matplotlib-3.10.0\n",
            "\u001b[31mERROR: pip's dependency resolver does not currently take into account all the packages that are installed. This behaviour is the source of the following dependency conflicts.\n",
            "google-colab 1.0.0 requires pandas==2.2.2, but you have pandas 2.0.3 which is incompatible.\n",
            "google-colab 1.0.0 requires requests==2.32.3, but you have requests 2.31.0 which is incompatible.\n",
            "imbalanced-learn 0.13.0 requires numpy<3,>=1.24.3, but you have numpy 1.23.5 which is incompatible.\n",
            "jaxlib 0.5.1 requires numpy>=1.25, but you have numpy 1.23.5 which is incompatible.\n",
            "jaxlib 0.5.1 requires scipy>=1.11.1, but you have scipy 1.10.1 which is incompatible.\n",
            "albumentations 2.0.8 requires numpy>=1.24.4, but you have numpy 1.23.5 which is incompatible.\n",
            "xarray 2025.3.1 requires numpy>=1.24, but you have numpy 1.23.5 which is incompatible.\n",
            "xarray 2025.3.1 requires pandas>=2.1, but you have pandas 2.0.3 which is incompatible.\n",
            "chex 0.1.89 requires numpy>=1.24.1, but you have numpy 1.23.5 which is incompatible.\n",
            "blosc2 3.5.1 requires numpy>=1.26, but you have numpy 1.23.5 which is incompatible.\n",
            "tensorflow 2.18.0 requires numpy<2.1.0,>=1.26.0, but you have numpy 1.23.5 which is incompatible.\n",
            "tsfresh 0.21.0 requires scipy>=1.14.0; python_version >= \"3.10\", but you have scipy 1.10.1 which is incompatible.\n",
            "cvxpy 1.6.6 requires scipy>=1.11.0, but you have scipy 1.10.1 which is incompatible.\n",
            "thinc 8.3.6 requires numpy<3.0.0,>=2.0.0, but you have numpy 1.23.5 which is incompatible.\n",
            "scikit-image 0.25.2 requires numpy>=1.24, but you have numpy 1.23.5 which is incompatible.\n",
            "scikit-image 0.25.2 requires scipy>=1.11.4, but you have scipy 1.10.1 which is incompatible.\n",
            "jax 0.5.2 requires numpy>=1.25, but you have numpy 1.23.5 which is incompatible.\n",
            "jax 0.5.2 requires scipy>=1.11.1, but you have scipy 1.10.1 which is incompatible.\n",
            "xarray-einstats 0.9.1 requires numpy>=1.25, but you have numpy 1.23.5 which is incompatible.\n",
            "xarray-einstats 0.9.1 requires scipy>=1.11, but you have scipy 1.10.1 which is incompatible.\n",
            "plotnine 0.14.6 requires matplotlib>=3.8.0, but you have matplotlib 3.7.2 which is incompatible.\n",
            "plotnine 0.14.6 requires pandas>=2.2.0, but you have pandas 2.0.3 which is incompatible.\n",
            "bigframes 2.8.0 requires numpy>=1.24.0, but you have numpy 1.23.5 which is incompatible.\n",
            "pymc 5.23.0 requires numpy>=1.25.0, but you have numpy 1.23.5 which is incompatible.\n",
            "albucore 0.0.24 requires numpy>=1.24.4, but you have numpy 1.23.5 which is incompatible.\n",
            "treescope 0.1.9 requires numpy>=1.25.2, but you have numpy 1.23.5 which is incompatible.\n",
            "mizani 0.13.5 requires pandas>=2.2.0, but you have pandas 2.0.3 which is incompatible.\n",
            "db-dtypes 1.4.3 requires numpy>=1.24.0, but you have numpy 1.23.5 which is incompatible.\u001b[0m\u001b[31m\n",
            "\u001b[0mSuccessfully installed d2l-1.0.3 jedi-0.19.2 jupyter-1.0.0 matplotlib-3.7.2 matplotlib-inline-0.1.6 numpy-1.23.5 pandas-2.0.3 pyparsing-3.0.9 qtconsole-5.6.1 qtpy-2.4.3 requests-2.31.0 scipy-1.10.1\n"
          ]
        },
        {
          "output_type": "display_data",
          "data": {
            "application/vnd.colab-display-data+json": {
              "pip_warning": {
                "packages": [
                  "matplotlib",
                  "matplotlib_inline",
                  "mpl_toolkits",
                  "numpy",
                  "pyparsing"
                ]
              },
              "id": "454ef6d499a64392aa2cf2f1c87b3684"
            }
          },
          "metadata": {}
        }
      ]
    },
    {
      "cell_type": "markdown",
      "id": "74f92c25",
      "metadata": {
        "origin_pos": 0,
        "id": "74f92c25"
      },
      "source": [
        "#  序列到序列学习（seq2seq）\n",
        ":label:`sec_seq2seq`\n",
        "\n",
        "正如我们在 :numref:`sec_machine_translation`中看到的，\n",
        "机器翻译中的输入序列和输出序列都是长度可变的。\n",
        "为了解决这类问题，我们在 :numref:`sec_encoder-decoder`中\n",
        "设计了一个通用的”编码器－解码器“架构。\n",
        "本节，我们将使用两个循环神经网络的编码器和解码器，\n",
        "并将其应用于*序列到序列*（sequence to sequence，seq2seq）类的学习任务\n",
        " :cite:`Sutskever.Vinyals.Le.2014,Cho.Van-Merrienboer.Gulcehre.ea.2014`。\n",
        "\n",
        "遵循编码器－解码器架构的设计原则，\n",
        "循环神经网络编码器使用长度可变的序列作为输入，\n",
        "将其转换为固定形状的隐状态。\n",
        "换言之，输入序列的信息被*编码*到循环神经网络编码器的隐状态中。\n",
        "为了连续生成输出序列的词元，\n",
        "独立的循环神经网络解码器是基于输入序列的编码信息\n",
        "和输出序列已经看见的或者生成的词元来预测下一个词元。\n",
        " :numref:`fig_seq2seq`演示了\n",
        "如何在机器翻译中使用两个循环神经网络进行序列到序列学习。\n",
        "\n",
        "![使用循环神经网络编码器和循环神经网络解码器的序列到序列学习](http://d2l.ai/_images/seq2seq.svg)\n",
        ":label:`fig_seq2seq`\n",
        "\n",
        "在 :numref:`fig_seq2seq`中，\n",
        "特定的“&lt;eos&gt;”表示序列结束词元。\n",
        "一旦输出序列生成此词元，模型就会停止预测。\n",
        "在循环神经网络解码器的初始化时间步，有两个特定的设计决定：\n",
        "首先，特定的“&lt;bos&gt;”表示序列开始词元，它是解码器的输入序列的第一个词元。\n",
        "其次，使用循环神经网络编码器最终的隐状态来初始化解码器的隐状态。\n",
        "例如，在 :cite:`Sutskever.Vinyals.Le.2014`的设计中，\n",
        "正是基于这种设计将输入序列的编码信息送入到解码器中来生成输出序列的。\n",
        "在其他一些设计中 :cite:`Cho.Van-Merrienboer.Gulcehre.ea.2014`，\n",
        "如 :numref:`fig_seq2seq`所示，\n",
        "编码器最终的隐状态在每一个时间步都作为解码器的输入序列的一部分。\n",
        "类似于 :numref:`sec_language_model`中语言模型的训练，\n",
        "可以允许标签成为原始的输出序列，\n",
        "从源序列词元“&lt;bos&gt;”“Ils”“regardent”“.”\n",
        "到新序列词元\n",
        "“Ils”“regardent”“.”“&lt;eos&gt;”来移动预测的位置。\n",
        "\n",
        "下面，我们动手构建 :numref:`fig_seq2seq`的设计，\n",
        "并将基于 :numref:`sec_machine_translation`中\n",
        "介绍的“英－法”数据集来训练这个机器翻译模型。\n"
      ]
    },
    {
      "cell_type": "code",
      "execution_count": 1,
      "id": "bc9aa4b5",
      "metadata": {
        "execution": {
          "iopub.execute_input": "2023-08-18T07:15:31.967521Z",
          "iopub.status.busy": "2023-08-18T07:15:31.966534Z",
          "iopub.status.idle": "2023-08-18T07:15:33.959337Z",
          "shell.execute_reply": "2023-08-18T07:15:33.958486Z"
        },
        "origin_pos": 2,
        "tab": [
          "pytorch"
        ],
        "id": "bc9aa4b5"
      },
      "outputs": [],
      "source": [
        "import collections\n",
        "import math\n",
        "import torch\n",
        "from torch import nn\n",
        "from d2l import torch as d2l"
      ]
    },
    {
      "cell_type": "markdown",
      "id": "cb6cae12",
      "metadata": {
        "origin_pos": 5,
        "id": "cb6cae12"
      },
      "source": [
        "## 编码器\n",
        "\n",
        "从技术上讲，编码器将长度可变的输入序列转换成\n",
        "形状固定的上下文变量$\\mathbf{c}$，\n",
        "并且将输入序列的信息在该上下文变量中进行编码。\n",
        "如 :numref:`fig_seq2seq`所示，可以使用循环神经网络来设计编码器。\n",
        "\n",
        "考虑由一个序列组成的样本（批量大小是$1$）。\n",
        "假设输入序列是$x_1, \\ldots, x_T$，\n",
        "其中$x_t$是输入文本序列中的第$t$个词元。\n",
        "在时间步$t$，循环神经网络将词元$x_t$的输入特征向量\n",
        "$\\mathbf{x}_t$和$\\mathbf{h} _{t-1}$（即上一时间步的隐状态）\n",
        "转换为$\\mathbf{h}_t$（即当前步的隐状态）。\n",
        "使用一个函数$f$来描述循环神经网络的循环层所做的变换：\n",
        "\n",
        "$$\\mathbf{h}_t = f(\\mathbf{x}_t, \\mathbf{h}_{t-1}). $$\n",
        "\n",
        "总之，编码器通过选定的函数$q$，\n",
        "将所有时间步的隐状态转换为上下文变量：\n",
        "\n",
        "$$\\mathbf{c} =  q(\\mathbf{h}_1, \\ldots, \\mathbf{h}_T).$$\n",
        "\n",
        "比如，当选择$q(\\mathbf{h}_1, \\ldots, \\mathbf{h}_T) = \\mathbf{h}_T$时\n",
        "（就像 :numref:`fig_seq2seq`中一样），\n",
        "上下文变量仅仅是输入序列在最后时间步的隐状态$\\mathbf{h}_T$。\n",
        "\n",
        "到目前为止，我们使用的是一个单向循环神经网络来设计编码器，\n",
        "其中隐状态只依赖于输入子序列，\n",
        "这个子序列是由输入序列的开始位置到隐状态所在的时间步的位置\n",
        "（包括隐状态所在的时间步）组成。\n",
        "我们也可以使用双向循环神经网络构造编码器，\n",
        "其中隐状态依赖于两个输入子序列，\n",
        "两个子序列是由隐状态所在的时间步的位置之前的序列和之后的序列\n",
        "（包括隐状态所在的时间步），\n",
        "因此隐状态对整个序列的信息都进行了编码。\n",
        "\n",
        "现在，让我们[**实现循环神经网络编码器**]。\n",
        "注意，我们使用了*嵌入层*（embedding layer）\n",
        "来获得输入序列中每个词元的特征向量。\n",
        "嵌入层的权重是一个矩阵，\n",
        "其行数等于输入词表的大小（`vocab_size`），\n",
        "其列数等于特征向量的维度（`embed_size`）。\n",
        "对于任意输入词元的索引$i$，\n",
        "嵌入层获取权重矩阵的第$i$行（从$0$开始）以返回其特征向量。\n",
        "另外，本文选择了一个多层门控循环单元来实现编码器。\n"
      ]
    },
    {
      "cell_type": "code",
      "execution_count": 2,
      "id": "3dbfb3ed",
      "metadata": {
        "execution": {
          "iopub.execute_input": "2023-08-18T07:15:33.963601Z",
          "iopub.status.busy": "2023-08-18T07:15:33.962917Z",
          "iopub.status.idle": "2023-08-18T07:15:33.969272Z",
          "shell.execute_reply": "2023-08-18T07:15:33.968489Z"
        },
        "origin_pos": 7,
        "tab": [
          "pytorch"
        ],
        "id": "3dbfb3ed"
      },
      "outputs": [],
      "source": [
        "class Seq2SeqEncoder(d2l.Encoder):\n",
        "    \"\"\"用于序列到序列学习的循环神经网络编码器\"\"\"\n",
        "    def __init__(self, vocab_size, embed_size, num_hiddens, num_layers,\n",
        "                 dropout=0, **kwargs):\n",
        "        super(Seq2SeqEncoder, self).__init__(**kwargs)\n",
        "        # 嵌入层\n",
        "        self.embedding = nn.Embedding(vocab_size, embed_size)\n",
        "        self.rnn = nn.GRU(embed_size, num_hiddens, num_layers,\n",
        "                          dropout=dropout)\n",
        "\n",
        "    def forward(self, X, *args):\n",
        "        # 输出'X'的形状：(batch_size,num_steps,embed_size)\n",
        "        X = self.embedding(X)\n",
        "        # 在循环神经网络模型中，第一个轴对应于时间步\n",
        "        X = X.permute(1, 0, 2)\n",
        "        # 如果未提及状态，则默认为0\n",
        "        output, state = self.rnn(X)\n",
        "        # output的形状:(num_steps,batch_size,num_hiddens)\n",
        "        # state的形状:(num_layers,batch_size,num_hiddens)\n",
        "        return output, state"
      ]
    },
    {
      "cell_type": "markdown",
      "id": "9ba9f2c0",
      "metadata": {
        "origin_pos": 10,
        "id": "9ba9f2c0"
      },
      "source": [
        "循环层返回变量的说明可以参考 :numref:`sec_rnn-concise`。\n",
        "\n",
        "下面，我们实例化[**上述编码器的实现**]：\n",
        "我们使用一个两层门控循环单元编码器，其隐藏单元数为$16$。\n",
        "给定一小批量的输入序列`X`（批量大小为$4$，时间步为$7$）。\n",
        "在完成所有时间步后，\n",
        "最后一层的隐状态的输出是一个张量（`output`由编码器的循环层返回），\n",
        "其形状为（时间步数，批量大小，隐藏单元数）。\n"
      ]
    },
    {
      "cell_type": "code",
      "execution_count": 34,
      "id": "1780ca82",
      "metadata": {
        "execution": {
          "iopub.execute_input": "2023-08-18T07:15:33.972667Z",
          "iopub.status.busy": "2023-08-18T07:15:33.972142Z",
          "iopub.status.idle": "2023-08-18T07:15:34.003637Z",
          "shell.execute_reply": "2023-08-18T07:15:34.002907Z"
        },
        "origin_pos": 12,
        "tab": [
          "pytorch"
        ],
        "id": "1780ca82",
        "outputId": "68051428-a8b8-4b56-c26f-70207d8e6102",
        "colab": {
          "base_uri": "https://localhost:8080/"
        }
      },
      "outputs": [
        {
          "output_type": "execute_result",
          "data": {
            "text/plain": [
              "torch.Size([7, 4, 16])"
            ]
          },
          "metadata": {},
          "execution_count": 34
        }
      ],
      "source": [
        "encoder = Seq2SeqEncoder(vocab_size=10, embed_size=8, num_hiddens=16,\n",
        "                         num_layers=2)\n",
        "encoder.eval()\n",
        "X = torch.zeros((4, 7), dtype=torch.long)\n",
        "output, state = encoder(X)\n",
        "output.shape"
      ]
    },
    {
      "cell_type": "markdown",
      "id": "b6eea9d1",
      "metadata": {
        "origin_pos": 15,
        "id": "b6eea9d1"
      },
      "source": [
        "由于这里使用的是门控循环单元，\n",
        "所以在最后一个时间步的多层隐状态的形状是\n",
        "（隐藏层的数量，批量大小，隐藏单元的数量）。\n",
        "如果使用长短期记忆网络，`state`中还将包含记忆单元信息。\n"
      ]
    },
    {
      "cell_type": "code",
      "execution_count": 35,
      "id": "32a2c1d8",
      "metadata": {
        "execution": {
          "iopub.execute_input": "2023-08-18T07:15:34.007123Z",
          "iopub.status.busy": "2023-08-18T07:15:34.006595Z",
          "iopub.status.idle": "2023-08-18T07:15:34.011456Z",
          "shell.execute_reply": "2023-08-18T07:15:34.010716Z"
        },
        "origin_pos": 17,
        "tab": [
          "pytorch"
        ],
        "id": "32a2c1d8",
        "outputId": "c342eea8-eebf-4bdf-cbc9-bccc2e6aefde",
        "colab": {
          "base_uri": "https://localhost:8080/"
        }
      },
      "outputs": [
        {
          "output_type": "execute_result",
          "data": {
            "text/plain": [
              "torch.Size([2, 4, 16])"
            ]
          },
          "metadata": {},
          "execution_count": 35
        }
      ],
      "source": [
        "state.shape"
      ]
    },
    {
      "cell_type": "markdown",
      "id": "131eaa96",
      "metadata": {
        "origin_pos": 19,
        "id": "131eaa96"
      },
      "source": [
        "## [**解码器**]\n",
        ":label:`sec_seq2seq_decoder`\n",
        "\n",
        "正如上文提到的，编码器输出的上下文变量$\\mathbf{c}$\n",
        "对整个输入序列$x_1, \\ldots, x_T$进行编码。\n",
        "来自训练数据集的输出序列$y_1, y_2, \\ldots, y_{T'}$，\n",
        "对于每个时间步$t'$（与输入序列或编码器的时间步$t$不同），\n",
        "解码器输出$y_{t'}$的概率取决于先前的输出子序列\n",
        "$y_1, \\ldots, y_{t'-1}$和上下文变量$\\mathbf{c}$，\n",
        "即$P(y_{t'} \\mid y_1, \\ldots, y_{t'-1}, \\mathbf{c})$。\n",
        "\n",
        "为了在序列上模型化这种条件概率，\n",
        "我们可以使用另一个循环神经网络作为解码器。\n",
        "在输出序列上的任意时间步$t^\\prime$，\n",
        "循环神经网络将来自上一时间步的输出$y_{t^\\prime-1}$\n",
        "和上下文变量$\\mathbf{c}$作为其输入，\n",
        "然后在当前时间步将它们和上一隐状态\n",
        "$\\mathbf{s}_{t^\\prime-1}$转换为\n",
        "隐状态$\\mathbf{s}_{t^\\prime}$。\n",
        "因此，可以使用函数$g$来表示解码器的隐藏层的变换：\n",
        "\n",
        "$$\\mathbf{s}_{t^\\prime} = g(y_{t^\\prime-1}, \\mathbf{c}, \\mathbf{s}_{t^\\prime-1}).$$\n",
        ":eqlabel:`eq_seq2seq_s_t`\n",
        "\n",
        "在获得解码器的隐状态之后，\n",
        "我们可以使用输出层和softmax操作\n",
        "来计算在时间步$t^\\prime$时输出$y_{t^\\prime}$的条件概率分布\n",
        "$P(y_{t^\\prime} \\mid y_1, \\ldots, y_{t^\\prime-1}, \\mathbf{c})$。\n",
        "\n",
        "根据 :numref:`fig_seq2seq`，当实现解码器时，\n",
        "我们直接使用编码器最后一个时间步的隐状态来初始化解码器的隐状态。\n",
        "这就要求使用循环神经网络实现的编码器和解码器具有相同数量的层和隐藏单元。\n",
        "为了进一步包含经过编码的输入序列的信息，\n",
        "上下文变量在所有的时间步与解码器的输入进行拼接（concatenate）。\n",
        "为了预测输出词元的概率分布，\n",
        "在循环神经网络解码器的最后一层使用全连接层来变换隐状态。\n"
      ]
    },
    {
      "cell_type": "code",
      "execution_count": 32,
      "id": "09143bb3",
      "metadata": {
        "execution": {
          "iopub.execute_input": "2023-08-18T07:15:34.014841Z",
          "iopub.status.busy": "2023-08-18T07:15:34.014327Z",
          "iopub.status.idle": "2023-08-18T07:15:34.021372Z",
          "shell.execute_reply": "2023-08-18T07:15:34.020591Z"
        },
        "origin_pos": 21,
        "tab": [
          "pytorch"
        ],
        "id": "09143bb3"
      },
      "outputs": [],
      "source": [
        "class Seq2SeqDecoder(d2l.Decoder):\n",
        "    \"\"\"用于序列到序列学习的循环神经网络解码器\"\"\"\n",
        "    def __init__(self, vocab_size, embed_size, num_hiddens, num_layers,\n",
        "                 dropout=0, **kwargs):\n",
        "        super(Seq2SeqDecoder, self).__init__(**kwargs)\n",
        "        self.embedding = nn.Embedding(vocab_size, embed_size)\n",
        "        self.rnn = nn.GRU(embed_size + num_hiddens, num_hiddens, num_layers,\n",
        "                          dropout=dropout)\n",
        "        self.dense = nn.Linear(num_hiddens, vocab_size)\n",
        "\n",
        "    def init_state(self, enc_outputs, *args):\n",
        "        return enc_outputs[1]\n",
        "\n",
        "    def forward(self, X, state):\n",
        "        # 输出'X'的形状：(batch_size,num_steps,embed_size)\n",
        "        X = self.embedding(X).permute(1, 0, 2)\n",
        "        # 广播context，使其具有与X相同的num_steps\n",
        "        context = state[-1].repeat(X.shape[0], 1, 1)\n",
        "        X_and_context = torch.cat((X, context), 2)\n",
        "        output, state = self.rnn(X_and_context, state)\n",
        "        output = self.dense(output).permute(1, 0, 2)\n",
        "        # output的形状:(batch_size,num_steps,vocab_size)\n",
        "        # state的形状:(num_layers,batch_size,num_hiddens)\n",
        "        return output, state"
      ]
    },
    {
      "cell_type": "markdown",
      "id": "7eb99248",
      "metadata": {
        "origin_pos": 24,
        "id": "7eb99248"
      },
      "source": [
        "下面，我们用与前面提到的编码器中相同的超参数来[**实例化解码器**]。\n",
        "如我们所见，解码器的输出形状变为（批量大小，时间步数，词表大小），\n",
        "其中张量的最后一个维度存储预测的词元分布。\n"
      ]
    },
    {
      "cell_type": "code",
      "execution_count": 37,
      "id": "ad17a24d",
      "metadata": {
        "execution": {
          "iopub.execute_input": "2023-08-18T07:15:34.024844Z",
          "iopub.status.busy": "2023-08-18T07:15:34.024212Z",
          "iopub.status.idle": "2023-08-18T07:15:34.034277Z",
          "shell.execute_reply": "2023-08-18T07:15:34.033517Z"
        },
        "origin_pos": 26,
        "tab": [
          "pytorch"
        ],
        "id": "ad17a24d",
        "outputId": "138d3f61-ac7f-43ca-af4d-0f05bd935444",
        "colab": {
          "base_uri": "https://localhost:8080/"
        }
      },
      "outputs": [
        {
          "output_type": "execute_result",
          "data": {
            "text/plain": [
              "(torch.Size([4, 7, 10]), torch.Size([2, 4, 16]))"
            ]
          },
          "metadata": {},
          "execution_count": 37
        }
      ],
      "source": [
        "decoder = Seq2SeqDecoder(vocab_size=10, embed_size=8, num_hiddens=16,\n",
        "                         num_layers=2)\n",
        "decoder.eval()\n",
        "state = decoder.init_state(encoder(X))\n",
        "output, state = decoder(X, state)\n",
        "output.shape, state.shape"
      ]
    },
    {
      "cell_type": "markdown",
      "id": "eb13a51a",
      "metadata": {
        "origin_pos": 29,
        "id": "eb13a51a"
      },
      "source": [
        "总之，上述循环神经网络“编码器－解码器”模型中的各层如\n",
        " :numref:`fig_seq2seq_details`所示。\n",
        "\n",
        "![循环神经网络编码器-解码器模型中的层](https://github.com/d2l-ai/d2l-zh-pytorch-colab/blob/master/img/seq2seq-details.svg?raw=1)\n",
        ":label:`fig_seq2seq_details`\n",
        "\n",
        "## 损失函数\n",
        "\n",
        "在每个时间步，解码器预测了输出词元的概率分布。\n",
        "类似于语言模型，可以使用softmax来获得分布，\n",
        "并通过计算交叉熵损失函数来进行优化。\n",
        "回想一下 :numref:`sec_machine_translation`中，\n",
        "特定的填充词元被添加到序列的末尾，\n",
        "因此不同长度的序列可以以相同形状的小批量加载。\n",
        "但是，我们应该将填充词元的预测排除在损失函数的计算之外。\n",
        "\n",
        "为此，我们可以使用下面的`sequence_mask`函数\n",
        "[**通过零值化屏蔽不相关的项**]，\n",
        "以便后面任何不相关预测的计算都是与零的乘积，结果都等于零。\n",
        "例如，如果两个序列的有效长度（不包括填充词元）分别为$1$和$2$，\n",
        "则第一个序列的第一项和第二个序列的前两项之后的剩余项将被清除为零。\n"
      ]
    },
    {
      "cell_type": "code",
      "execution_count": 7,
      "id": "57c5a5f4",
      "metadata": {
        "execution": {
          "iopub.execute_input": "2023-08-18T07:15:34.037911Z",
          "iopub.status.busy": "2023-08-18T07:15:34.037256Z",
          "iopub.status.idle": "2023-08-18T07:15:34.044866Z",
          "shell.execute_reply": "2023-08-18T07:15:34.044120Z"
        },
        "origin_pos": 31,
        "tab": [
          "pytorch"
        ],
        "id": "57c5a5f4",
        "outputId": "1d3866ae-6f7b-4b93-cef8-07b7248a9947",
        "colab": {
          "base_uri": "https://localhost:8080/"
        }
      },
      "outputs": [
        {
          "output_type": "execute_result",
          "data": {
            "text/plain": [
              "tensor([[1, 0, 0],\n",
              "        [4, 5, 0]])"
            ]
          },
          "metadata": {},
          "execution_count": 7
        }
      ],
      "source": [
        "#@save\n",
        "def sequence_mask(X, valid_len, value=0):\n",
        "    \"\"\"在序列中屏蔽不相关的项\"\"\"\n",
        "    maxlen = X.size(1)\n",
        "    mask = torch.arange((maxlen), dtype=torch.float32,\n",
        "                        device=X.device)[None, :] < valid_len[:, None]\n",
        "    X[~mask] = value\n",
        "    return X\n",
        "\n",
        "X = torch.tensor([[1, 2, 3], [4, 5, 6]])\n",
        "sequence_mask(X, torch.tensor([1, 2]))"
      ]
    },
    {
      "cell_type": "markdown",
      "id": "f6b25824",
      "metadata": {
        "origin_pos": 34,
        "id": "f6b25824"
      },
      "source": [
        "(**我们还可以使用此函数屏蔽最后几个轴上的所有项。**)如果愿意，也可以使用指定的非零值来替换这些项。\n"
      ]
    },
    {
      "cell_type": "code",
      "execution_count": 8,
      "id": "fbb003c2",
      "metadata": {
        "execution": {
          "iopub.execute_input": "2023-08-18T07:15:34.048373Z",
          "iopub.status.busy": "2023-08-18T07:15:34.047745Z",
          "iopub.status.idle": "2023-08-18T07:15:34.054283Z",
          "shell.execute_reply": "2023-08-18T07:15:34.053539Z"
        },
        "origin_pos": 36,
        "tab": [
          "pytorch"
        ],
        "id": "fbb003c2",
        "outputId": "69f2e6ab-3c92-4afa-bffb-cd4d8a8826e0",
        "colab": {
          "base_uri": "https://localhost:8080/"
        }
      },
      "outputs": [
        {
          "output_type": "execute_result",
          "data": {
            "text/plain": [
              "tensor([[[ 1.,  1.,  1.,  1.],\n",
              "         [-1., -1., -1., -1.],\n",
              "         [-1., -1., -1., -1.]],\n",
              "\n",
              "        [[ 1.,  1.,  1.,  1.],\n",
              "         [ 1.,  1.,  1.,  1.],\n",
              "         [-1., -1., -1., -1.]]])"
            ]
          },
          "metadata": {},
          "execution_count": 8
        }
      ],
      "source": [
        "X = torch.ones(2, 3, 4)\n",
        "sequence_mask(X, torch.tensor([1, 2]), value=-1)"
      ]
    },
    {
      "cell_type": "markdown",
      "id": "ecf893af",
      "metadata": {
        "origin_pos": 39,
        "id": "ecf893af"
      },
      "source": [
        "现在，我们可以[**通过扩展softmax交叉熵损失函数来遮蔽不相关的预测**]。\n",
        "最初，所有预测词元的掩码都设置为1。\n",
        "一旦给定了有效长度，与填充词元对应的掩码将被设置为0。\n",
        "最后，将所有词元的损失乘以掩码，以过滤掉损失中填充词元产生的不相关预测。\n"
      ]
    },
    {
      "cell_type": "code",
      "execution_count": 9,
      "id": "0da33ae4",
      "metadata": {
        "execution": {
          "iopub.execute_input": "2023-08-18T07:15:34.057946Z",
          "iopub.status.busy": "2023-08-18T07:15:34.057267Z",
          "iopub.status.idle": "2023-08-18T07:15:34.062428Z",
          "shell.execute_reply": "2023-08-18T07:15:34.061664Z"
        },
        "origin_pos": 41,
        "tab": [
          "pytorch"
        ],
        "id": "0da33ae4"
      },
      "outputs": [],
      "source": [
        "#@save\n",
        "class MaskedSoftmaxCELoss(nn.CrossEntropyLoss):\n",
        "    \"\"\"带遮蔽的softmax交叉熵损失函数\"\"\"\n",
        "    # pred的形状：(batch_size,num_steps,vocab_size)\n",
        "    # label的形状：(batch_size,num_steps)\n",
        "    # valid_len的形状：(batch_size,)\n",
        "    def forward(self, pred, label, valid_len):\n",
        "        weights = torch.ones_like(label)\n",
        "        weights = sequence_mask(weights, valid_len)\n",
        "        self.reduction='none'\n",
        "        unweighted_loss = super(MaskedSoftmaxCELoss, self).forward(\n",
        "            pred.permute(0, 2, 1), label)\n",
        "        weighted_loss = (unweighted_loss * weights).mean(dim=1)\n",
        "        return weighted_loss"
      ]
    },
    {
      "cell_type": "markdown",
      "id": "f6b7600c",
      "metadata": {
        "origin_pos": 44,
        "id": "f6b7600c"
      },
      "source": [
        "我们可以创建三个相同的序列来进行[**代码健全性检查**]，\n",
        "然后分别指定这些序列的有效长度为$4$、$2$和$0$。\n",
        "结果就是，第一个序列的损失应为第二个序列的两倍，而第三个序列的损失应为零。\n"
      ]
    },
    {
      "cell_type": "code",
      "execution_count": 10,
      "id": "65239ee5",
      "metadata": {
        "execution": {
          "iopub.execute_input": "2023-08-18T07:15:34.065956Z",
          "iopub.status.busy": "2023-08-18T07:15:34.065339Z",
          "iopub.status.idle": "2023-08-18T07:15:34.073758Z",
          "shell.execute_reply": "2023-08-18T07:15:34.072755Z"
        },
        "origin_pos": 46,
        "tab": [
          "pytorch"
        ],
        "id": "65239ee5",
        "outputId": "609e0244-b984-4d36-9717-cf13b6698031",
        "colab": {
          "base_uri": "https://localhost:8080/"
        }
      },
      "outputs": [
        {
          "output_type": "execute_result",
          "data": {
            "text/plain": [
              "tensor([2.3026, 1.1513, 0.0000])"
            ]
          },
          "metadata": {},
          "execution_count": 10
        }
      ],
      "source": [
        "loss = MaskedSoftmaxCELoss()\n",
        "loss(torch.ones(3, 4, 10), torch.ones((3, 4), dtype=torch.long),\n",
        "     torch.tensor([4, 2, 0]))"
      ]
    },
    {
      "cell_type": "markdown",
      "id": "6bdc4e96",
      "metadata": {
        "origin_pos": 49,
        "id": "6bdc4e96"
      },
      "source": [
        "## [**训练**]\n",
        ":label:`sec_seq2seq_training`\n",
        "\n",
        "在下面的循环训练过程中，如 :numref:`fig_seq2seq`所示，\n",
        "特定的序列开始词元（“&lt;bos&gt;”）和\n",
        "原始的输出序列（不包括序列结束词元“&lt;eos&gt;”）\n",
        "拼接在一起作为解码器的输入。\n",
        "这被称为*强制教学*（teacher forcing），\n",
        "因为原始的输出序列（词元的标签）被送入解码器。\n",
        "或者，将来自上一个时间步的*预测*得到的词元作为解码器的当前输入。\n"
      ]
    },
    {
      "cell_type": "code",
      "execution_count": 17,
      "id": "9d7b922e",
      "metadata": {
        "execution": {
          "iopub.execute_input": "2023-08-18T07:15:34.077404Z",
          "iopub.status.busy": "2023-08-18T07:15:34.076756Z",
          "iopub.status.idle": "2023-08-18T07:15:34.087405Z",
          "shell.execute_reply": "2023-08-18T07:15:34.086461Z"
        },
        "origin_pos": 51,
        "tab": [
          "pytorch"
        ],
        "id": "9d7b922e"
      },
      "outputs": [],
      "source": [
        "def train_seq2seq(net, data_iter, lr, num_epochs, tgt_vocab, device):\n",
        "    \"\"\"训练序列到序列模型\"\"\"\n",
        "    def xavier_init_weights(m):\n",
        "        if type(m) == nn.Linear:\n",
        "            nn.init.xavier_uniform_(m.weight)\n",
        "        if type(m) == nn.GRU:\n",
        "            for param in m._flat_weights_names:\n",
        "                if \"weight\" in param:\n",
        "                    nn.init.xavier_uniform_(m._parameters[param])\n",
        "\n",
        "    net.apply(xavier_init_weights)\n",
        "    net.to(device)\n",
        "    optimizer = torch.optim.Adam(net.parameters(), lr=lr)\n",
        "    loss = MaskedSoftmaxCELoss()\n",
        "    net.train()\n",
        "    animator = d2l.Animator(xlabel='epoch', ylabel='loss',\n",
        "                     xlim=[10, num_epochs])\n",
        "    for epoch in range(num_epochs):\n",
        "        timer = d2l.Timer()\n",
        "        metric = d2l.Accumulator(2)  # 训练损失总和，词元数量\n",
        "        for batch in data_iter:\n",
        "            optimizer.zero_grad()\n",
        "            X, X_valid_len, Y, Y_valid_len = [x.to(device) for x in batch]\n",
        "            bos = torch.tensor([tgt_vocab['<bos>']] * Y.shape[0],\n",
        "                          device=device).reshape(-1, 1)\n",
        "            dec_input = torch.cat([bos, Y[:, :-1]], 1)  # 强制教学\n",
        "            # Y_hat, _ = net(X, dec_input, X_valid_len)\n",
        "            Y_hat = net(X, dec_input, X_valid_len)\n",
        "            l = loss(Y_hat, Y, Y_valid_len)\n",
        "            l.sum().backward()\t# 损失函数的标量进行“反向传播”\n",
        "            d2l.grad_clipping(net, 1)\n",
        "            num_tokens = Y_valid_len.sum()\n",
        "            optimizer.step()\n",
        "            with torch.no_grad():\n",
        "                metric.add(l.sum(), num_tokens)\n",
        "        if (epoch + 1) % 10 == 0:\n",
        "            animator.add(epoch + 1, (metric[0] / metric[1],))\n",
        "    print(f'loss {metric[0] / metric[1]:.3f}, {metric[1] / timer.stop():.1f} '\n",
        "        f'tokens/sec on {str(device)}')"
      ]
    },
    {
      "cell_type": "markdown",
      "id": "fe583c85",
      "metadata": {
        "origin_pos": 54,
        "id": "fe583c85"
      },
      "source": [
        "现在，在机器翻译数据集上，我们可以\n",
        "[**创建和训练一个循环神经网络“编码器－解码器”模型**]用于序列到序列的学习。\n"
      ]
    },
    {
      "cell_type": "code",
      "execution_count": 18,
      "id": "79f585d6",
      "metadata": {
        "execution": {
          "iopub.execute_input": "2023-08-18T07:15:34.091791Z",
          "iopub.status.busy": "2023-08-18T07:15:34.090975Z",
          "iopub.status.idle": "2023-08-18T07:16:11.767145Z",
          "shell.execute_reply": "2023-08-18T07:16:11.765998Z"
        },
        "origin_pos": 55,
        "tab": [
          "pytorch"
        ],
        "id": "79f585d6",
        "outputId": "3a35d4c7-d4f7-4519-c7db-ef82e57a3a12",
        "colab": {
          "base_uri": "https://localhost:8080/",
          "height": 283
        }
      },
      "outputs": [
        {
          "output_type": "stream",
          "name": "stdout",
          "text": [
            "loss 0.019, 11821.7 tokens/sec on cuda:0\n"
          ]
        },
        {
          "output_type": "display_data",
          "data": {
            "text/plain": [
              "<Figure size 350x250 with 1 Axes>"
            ],
            "image/svg+xml": "<?xml version=\"1.0\" encoding=\"utf-8\" standalone=\"no\"?>\n<!DOCTYPE svg PUBLIC \"-//W3C//DTD SVG 1.1//EN\"\n  \"http://www.w3.org/Graphics/SVG/1.1/DTD/svg11.dtd\">\n<svg xmlns:xlink=\"http://www.w3.org/1999/xlink\" width=\"262.1875pt\" height=\"183.35625pt\" viewBox=\"0 0 262.1875 183.35625\" xmlns=\"http://www.w3.org/2000/svg\" version=\"1.1\">\n <metadata>\n  <rdf:RDF xmlns:dc=\"http://purl.org/dc/elements/1.1/\" xmlns:cc=\"http://creativecommons.org/ns#\" xmlns:rdf=\"http://www.w3.org/1999/02/22-rdf-syntax-ns#\">\n   <cc:Work>\n    <dc:type rdf:resource=\"http://purl.org/dc/dcmitype/StillImage\"/>\n    <dc:date>2025-07-08T18:58:49.013572</dc:date>\n    <dc:format>image/svg+xml</dc:format>\n    <dc:creator>\n     <cc:Agent>\n      <dc:title>Matplotlib v3.7.2, https://matplotlib.org/</dc:title>\n     </cc:Agent>\n    </dc:creator>\n   </cc:Work>\n  </rdf:RDF>\n </metadata>\n <defs>\n  <style type=\"text/css\">*{stroke-linejoin: round; stroke-linecap: butt}</style>\n </defs>\n <g id=\"figure_1\">\n  <g id=\"patch_1\">\n   <path d=\"M 0 183.35625 \nL 262.1875 183.35625 \nL 262.1875 0 \nL 0 0 \nz\n\" style=\"fill: #ffffff\"/>\n  </g>\n  <g id=\"axes_1\">\n   <g id=\"patch_2\">\n    <path d=\"M 50.14375 145.8 \nL 245.44375 145.8 \nL 245.44375 7.2 \nL 50.14375 7.2 \nz\n\" style=\"fill: #ffffff\"/>\n   </g>\n   <g id=\"matplotlib.axis_1\">\n    <g id=\"xtick_1\">\n     <g id=\"line2d_1\">\n      <path d=\"M 77.081681 145.8 \nL 77.081681 7.2 \n\" clip-path=\"url(#p8453c828a0)\" style=\"fill: none; stroke: #b0b0b0; stroke-width: 0.8; stroke-linecap: square\"/>\n     </g>\n     <g id=\"line2d_2\">\n      <defs>\n       <path id=\"meac1aa5acd\" d=\"M 0 0 \nL 0 3.5 \n\" style=\"stroke: #000000; stroke-width: 0.8\"/>\n      </defs>\n      <g>\n       <use xlink:href=\"#meac1aa5acd\" x=\"77.081681\" y=\"145.8\" style=\"stroke: #000000; stroke-width: 0.8\"/>\n      </g>\n     </g>\n     <g id=\"text_1\">\n      <!-- 50 -->\n      <g transform=\"translate(70.719181 160.398438) scale(0.1 -0.1)\">\n       <defs>\n        <path id=\"DejaVuSans-35\" d=\"M 691 4666 \nL 3169 4666 \nL 3169 4134 \nL 1269 4134 \nL 1269 2991 \nQ 1406 3038 1543 3061 \nQ 1681 3084 1819 3084 \nQ 2600 3084 3056 2656 \nQ 3513 2228 3513 1497 \nQ 3513 744 3044 326 \nQ 2575 -91 1722 -91 \nQ 1428 -91 1123 -41 \nQ 819 9 494 109 \nL 494 744 \nQ 775 591 1075 516 \nQ 1375 441 1709 441 \nQ 2250 441 2565 725 \nQ 2881 1009 2881 1497 \nQ 2881 1984 2565 2268 \nQ 2250 2553 1709 2553 \nQ 1456 2553 1204 2497 \nQ 953 2441 691 2322 \nL 691 4666 \nz\n\" transform=\"scale(0.015625)\"/>\n        <path id=\"DejaVuSans-30\" d=\"M 2034 4250 \nQ 1547 4250 1301 3770 \nQ 1056 3291 1056 2328 \nQ 1056 1369 1301 889 \nQ 1547 409 2034 409 \nQ 2525 409 2770 889 \nQ 3016 1369 3016 2328 \nQ 3016 3291 2770 3770 \nQ 2525 4250 2034 4250 \nz\nM 2034 4750 \nQ 2819 4750 3233 4129 \nQ 3647 3509 3647 2328 \nQ 3647 1150 3233 529 \nQ 2819 -91 2034 -91 \nQ 1250 -91 836 529 \nQ 422 1150 422 2328 \nQ 422 3509 836 4129 \nQ 1250 4750 2034 4750 \nz\n\" transform=\"scale(0.015625)\"/>\n       </defs>\n       <use xlink:href=\"#DejaVuSans-35\"/>\n       <use xlink:href=\"#DejaVuSans-30\" x=\"63.623047\"/>\n      </g>\n     </g>\n    </g>\n    <g id=\"xtick_2\">\n     <g id=\"line2d_3\">\n      <path d=\"M 110.754095 145.8 \nL 110.754095 7.2 \n\" clip-path=\"url(#p8453c828a0)\" style=\"fill: none; stroke: #b0b0b0; stroke-width: 0.8; stroke-linecap: square\"/>\n     </g>\n     <g id=\"line2d_4\">\n      <g>\n       <use xlink:href=\"#meac1aa5acd\" x=\"110.754095\" y=\"145.8\" style=\"stroke: #000000; stroke-width: 0.8\"/>\n      </g>\n     </g>\n     <g id=\"text_2\">\n      <!-- 100 -->\n      <g transform=\"translate(101.210345 160.398438) scale(0.1 -0.1)\">\n       <defs>\n        <path id=\"DejaVuSans-31\" d=\"M 794 531 \nL 1825 531 \nL 1825 4091 \nL 703 3866 \nL 703 4441 \nL 1819 4666 \nL 2450 4666 \nL 2450 531 \nL 3481 531 \nL 3481 0 \nL 794 0 \nL 794 531 \nz\n\" transform=\"scale(0.015625)\"/>\n       </defs>\n       <use xlink:href=\"#DejaVuSans-31\"/>\n       <use xlink:href=\"#DejaVuSans-30\" x=\"63.623047\"/>\n       <use xlink:href=\"#DejaVuSans-30\" x=\"127.246094\"/>\n      </g>\n     </g>\n    </g>\n    <g id=\"xtick_3\">\n     <g id=\"line2d_5\">\n      <path d=\"M 144.426509 145.8 \nL 144.426509 7.2 \n\" clip-path=\"url(#p8453c828a0)\" style=\"fill: none; stroke: #b0b0b0; stroke-width: 0.8; stroke-linecap: square\"/>\n     </g>\n     <g id=\"line2d_6\">\n      <g>\n       <use xlink:href=\"#meac1aa5acd\" x=\"144.426509\" y=\"145.8\" style=\"stroke: #000000; stroke-width: 0.8\"/>\n      </g>\n     </g>\n     <g id=\"text_3\">\n      <!-- 150 -->\n      <g transform=\"translate(134.882759 160.398438) scale(0.1 -0.1)\">\n       <use xlink:href=\"#DejaVuSans-31\"/>\n       <use xlink:href=\"#DejaVuSans-35\" x=\"63.623047\"/>\n       <use xlink:href=\"#DejaVuSans-30\" x=\"127.246094\"/>\n      </g>\n     </g>\n    </g>\n    <g id=\"xtick_4\">\n     <g id=\"line2d_7\">\n      <path d=\"M 178.098922 145.8 \nL 178.098922 7.2 \n\" clip-path=\"url(#p8453c828a0)\" style=\"fill: none; stroke: #b0b0b0; stroke-width: 0.8; stroke-linecap: square\"/>\n     </g>\n     <g id=\"line2d_8\">\n      <g>\n       <use xlink:href=\"#meac1aa5acd\" x=\"178.098922\" y=\"145.8\" style=\"stroke: #000000; stroke-width: 0.8\"/>\n      </g>\n     </g>\n     <g id=\"text_4\">\n      <!-- 200 -->\n      <g transform=\"translate(168.555172 160.398438) scale(0.1 -0.1)\">\n       <defs>\n        <path id=\"DejaVuSans-32\" d=\"M 1228 531 \nL 3431 531 \nL 3431 0 \nL 469 0 \nL 469 531 \nQ 828 903 1448 1529 \nQ 2069 2156 2228 2338 \nQ 2531 2678 2651 2914 \nQ 2772 3150 2772 3378 \nQ 2772 3750 2511 3984 \nQ 2250 4219 1831 4219 \nQ 1534 4219 1204 4116 \nQ 875 4013 500 3803 \nL 500 4441 \nQ 881 4594 1212 4672 \nQ 1544 4750 1819 4750 \nQ 2544 4750 2975 4387 \nQ 3406 4025 3406 3419 \nQ 3406 3131 3298 2873 \nQ 3191 2616 2906 2266 \nQ 2828 2175 2409 1742 \nQ 1991 1309 1228 531 \nz\n\" transform=\"scale(0.015625)\"/>\n       </defs>\n       <use xlink:href=\"#DejaVuSans-32\"/>\n       <use xlink:href=\"#DejaVuSans-30\" x=\"63.623047\"/>\n       <use xlink:href=\"#DejaVuSans-30\" x=\"127.246094\"/>\n      </g>\n     </g>\n    </g>\n    <g id=\"xtick_5\">\n     <g id=\"line2d_9\">\n      <path d=\"M 211.771336 145.8 \nL 211.771336 7.2 \n\" clip-path=\"url(#p8453c828a0)\" style=\"fill: none; stroke: #b0b0b0; stroke-width: 0.8; stroke-linecap: square\"/>\n     </g>\n     <g id=\"line2d_10\">\n      <g>\n       <use xlink:href=\"#meac1aa5acd\" x=\"211.771336\" y=\"145.8\" style=\"stroke: #000000; stroke-width: 0.8\"/>\n      </g>\n     </g>\n     <g id=\"text_5\">\n      <!-- 250 -->\n      <g transform=\"translate(202.227586 160.398438) scale(0.1 -0.1)\">\n       <use xlink:href=\"#DejaVuSans-32\"/>\n       <use xlink:href=\"#DejaVuSans-35\" x=\"63.623047\"/>\n       <use xlink:href=\"#DejaVuSans-30\" x=\"127.246094\"/>\n      </g>\n     </g>\n    </g>\n    <g id=\"xtick_6\">\n     <g id=\"line2d_11\">\n      <path d=\"M 245.44375 145.8 \nL 245.44375 7.2 \n\" clip-path=\"url(#p8453c828a0)\" style=\"fill: none; stroke: #b0b0b0; stroke-width: 0.8; stroke-linecap: square\"/>\n     </g>\n     <g id=\"line2d_12\">\n      <g>\n       <use xlink:href=\"#meac1aa5acd\" x=\"245.44375\" y=\"145.8\" style=\"stroke: #000000; stroke-width: 0.8\"/>\n      </g>\n     </g>\n     <g id=\"text_6\">\n      <!-- 300 -->\n      <g transform=\"translate(235.9 160.398438) scale(0.1 -0.1)\">\n       <defs>\n        <path id=\"DejaVuSans-33\" d=\"M 2597 2516 \nQ 3050 2419 3304 2112 \nQ 3559 1806 3559 1356 \nQ 3559 666 3084 287 \nQ 2609 -91 1734 -91 \nQ 1441 -91 1130 -33 \nQ 819 25 488 141 \nL 488 750 \nQ 750 597 1062 519 \nQ 1375 441 1716 441 \nQ 2309 441 2620 675 \nQ 2931 909 2931 1356 \nQ 2931 1769 2642 2001 \nQ 2353 2234 1838 2234 \nL 1294 2234 \nL 1294 2753 \nL 1863 2753 \nQ 2328 2753 2575 2939 \nQ 2822 3125 2822 3475 \nQ 2822 3834 2567 4026 \nQ 2313 4219 1838 4219 \nQ 1578 4219 1281 4162 \nQ 984 4106 628 3988 \nL 628 4550 \nQ 988 4650 1302 4700 \nQ 1616 4750 1894 4750 \nQ 2613 4750 3031 4423 \nQ 3450 4097 3450 3541 \nQ 3450 3153 3228 2886 \nQ 3006 2619 2597 2516 \nz\n\" transform=\"scale(0.015625)\"/>\n       </defs>\n       <use xlink:href=\"#DejaVuSans-33\"/>\n       <use xlink:href=\"#DejaVuSans-30\" x=\"63.623047\"/>\n       <use xlink:href=\"#DejaVuSans-30\" x=\"127.246094\"/>\n      </g>\n     </g>\n    </g>\n    <g id=\"text_7\">\n     <!-- epoch -->\n     <g transform=\"translate(132.565625 174.076563) scale(0.1 -0.1)\">\n      <defs>\n       <path id=\"DejaVuSans-65\" d=\"M 3597 1894 \nL 3597 1613 \nL 953 1613 \nQ 991 1019 1311 708 \nQ 1631 397 2203 397 \nQ 2534 397 2845 478 \nQ 3156 559 3463 722 \nL 3463 178 \nQ 3153 47 2828 -22 \nQ 2503 -91 2169 -91 \nQ 1331 -91 842 396 \nQ 353 884 353 1716 \nQ 353 2575 817 3079 \nQ 1281 3584 2069 3584 \nQ 2775 3584 3186 3129 \nQ 3597 2675 3597 1894 \nz\nM 3022 2063 \nQ 3016 2534 2758 2815 \nQ 2500 3097 2075 3097 \nQ 1594 3097 1305 2825 \nQ 1016 2553 972 2059 \nL 3022 2063 \nz\n\" transform=\"scale(0.015625)\"/>\n       <path id=\"DejaVuSans-70\" d=\"M 1159 525 \nL 1159 -1331 \nL 581 -1331 \nL 581 3500 \nL 1159 3500 \nL 1159 2969 \nQ 1341 3281 1617 3432 \nQ 1894 3584 2278 3584 \nQ 2916 3584 3314 3078 \nQ 3713 2572 3713 1747 \nQ 3713 922 3314 415 \nQ 2916 -91 2278 -91 \nQ 1894 -91 1617 61 \nQ 1341 213 1159 525 \nz\nM 3116 1747 \nQ 3116 2381 2855 2742 \nQ 2594 3103 2138 3103 \nQ 1681 3103 1420 2742 \nQ 1159 2381 1159 1747 \nQ 1159 1113 1420 752 \nQ 1681 391 2138 391 \nQ 2594 391 2855 752 \nQ 3116 1113 3116 1747 \nz\n\" transform=\"scale(0.015625)\"/>\n       <path id=\"DejaVuSans-6f\" d=\"M 1959 3097 \nQ 1497 3097 1228 2736 \nQ 959 2375 959 1747 \nQ 959 1119 1226 758 \nQ 1494 397 1959 397 \nQ 2419 397 2687 759 \nQ 2956 1122 2956 1747 \nQ 2956 2369 2687 2733 \nQ 2419 3097 1959 3097 \nz\nM 1959 3584 \nQ 2709 3584 3137 3096 \nQ 3566 2609 3566 1747 \nQ 3566 888 3137 398 \nQ 2709 -91 1959 -91 \nQ 1206 -91 779 398 \nQ 353 888 353 1747 \nQ 353 2609 779 3096 \nQ 1206 3584 1959 3584 \nz\n\" transform=\"scale(0.015625)\"/>\n       <path id=\"DejaVuSans-63\" d=\"M 3122 3366 \nL 3122 2828 \nQ 2878 2963 2633 3030 \nQ 2388 3097 2138 3097 \nQ 1578 3097 1268 2742 \nQ 959 2388 959 1747 \nQ 959 1106 1268 751 \nQ 1578 397 2138 397 \nQ 2388 397 2633 464 \nQ 2878 531 3122 666 \nL 3122 134 \nQ 2881 22 2623 -34 \nQ 2366 -91 2075 -91 \nQ 1284 -91 818 406 \nQ 353 903 353 1747 \nQ 353 2603 823 3093 \nQ 1294 3584 2113 3584 \nQ 2378 3584 2631 3529 \nQ 2884 3475 3122 3366 \nz\n\" transform=\"scale(0.015625)\"/>\n       <path id=\"DejaVuSans-68\" d=\"M 3513 2113 \nL 3513 0 \nL 2938 0 \nL 2938 2094 \nQ 2938 2591 2744 2837 \nQ 2550 3084 2163 3084 \nQ 1697 3084 1428 2787 \nQ 1159 2491 1159 1978 \nL 1159 0 \nL 581 0 \nL 581 4863 \nL 1159 4863 \nL 1159 2956 \nQ 1366 3272 1645 3428 \nQ 1925 3584 2291 3584 \nQ 2894 3584 3203 3211 \nQ 3513 2838 3513 2113 \nz\n\" transform=\"scale(0.015625)\"/>\n      </defs>\n      <use xlink:href=\"#DejaVuSans-65\"/>\n      <use xlink:href=\"#DejaVuSans-70\" x=\"61.523438\"/>\n      <use xlink:href=\"#DejaVuSans-6f\" x=\"125\"/>\n      <use xlink:href=\"#DejaVuSans-63\" x=\"186.181641\"/>\n      <use xlink:href=\"#DejaVuSans-68\" x=\"241.162109\"/>\n     </g>\n    </g>\n   </g>\n   <g id=\"matplotlib.axis_2\">\n    <g id=\"ytick_1\">\n     <g id=\"line2d_13\">\n      <path d=\"M 50.14375 119.898375 \nL 245.44375 119.898375 \n\" clip-path=\"url(#p8453c828a0)\" style=\"fill: none; stroke: #b0b0b0; stroke-width: 0.8; stroke-linecap: square\"/>\n     </g>\n     <g id=\"line2d_14\">\n      <defs>\n       <path id=\"md050996c8a\" d=\"M 0 0 \nL -3.5 0 \n\" style=\"stroke: #000000; stroke-width: 0.8\"/>\n      </defs>\n      <g>\n       <use xlink:href=\"#md050996c8a\" x=\"50.14375\" y=\"119.898375\" style=\"stroke: #000000; stroke-width: 0.8\"/>\n      </g>\n     </g>\n     <g id=\"text_8\">\n      <!-- 0.05 -->\n      <g transform=\"translate(20.878125 123.697594) scale(0.1 -0.1)\">\n       <defs>\n        <path id=\"DejaVuSans-2e\" d=\"M 684 794 \nL 1344 794 \nL 1344 0 \nL 684 0 \nL 684 794 \nz\n\" transform=\"scale(0.015625)\"/>\n       </defs>\n       <use xlink:href=\"#DejaVuSans-30\"/>\n       <use xlink:href=\"#DejaVuSans-2e\" x=\"63.623047\"/>\n       <use xlink:href=\"#DejaVuSans-30\" x=\"95.410156\"/>\n       <use xlink:href=\"#DejaVuSans-35\" x=\"159.033203\"/>\n      </g>\n     </g>\n    </g>\n    <g id=\"ytick_2\">\n     <g id=\"line2d_15\">\n      <path d=\"M 50.14375 88.394331 \nL 245.44375 88.394331 \n\" clip-path=\"url(#p8453c828a0)\" style=\"fill: none; stroke: #b0b0b0; stroke-width: 0.8; stroke-linecap: square\"/>\n     </g>\n     <g id=\"line2d_16\">\n      <g>\n       <use xlink:href=\"#md050996c8a\" x=\"50.14375\" y=\"88.394331\" style=\"stroke: #000000; stroke-width: 0.8\"/>\n      </g>\n     </g>\n     <g id=\"text_9\">\n      <!-- 0.10 -->\n      <g transform=\"translate(20.878125 92.193549) scale(0.1 -0.1)\">\n       <use xlink:href=\"#DejaVuSans-30\"/>\n       <use xlink:href=\"#DejaVuSans-2e\" x=\"63.623047\"/>\n       <use xlink:href=\"#DejaVuSans-31\" x=\"95.410156\"/>\n       <use xlink:href=\"#DejaVuSans-30\" x=\"159.033203\"/>\n      </g>\n     </g>\n    </g>\n    <g id=\"ytick_3\">\n     <g id=\"line2d_17\">\n      <path d=\"M 50.14375 56.890286 \nL 245.44375 56.890286 \n\" clip-path=\"url(#p8453c828a0)\" style=\"fill: none; stroke: #b0b0b0; stroke-width: 0.8; stroke-linecap: square\"/>\n     </g>\n     <g id=\"line2d_18\">\n      <g>\n       <use xlink:href=\"#md050996c8a\" x=\"50.14375\" y=\"56.890286\" style=\"stroke: #000000; stroke-width: 0.8\"/>\n      </g>\n     </g>\n     <g id=\"text_10\">\n      <!-- 0.15 -->\n      <g transform=\"translate(20.878125 60.689505) scale(0.1 -0.1)\">\n       <use xlink:href=\"#DejaVuSans-30\"/>\n       <use xlink:href=\"#DejaVuSans-2e\" x=\"63.623047\"/>\n       <use xlink:href=\"#DejaVuSans-31\" x=\"95.410156\"/>\n       <use xlink:href=\"#DejaVuSans-35\" x=\"159.033203\"/>\n      </g>\n     </g>\n    </g>\n    <g id=\"ytick_4\">\n     <g id=\"line2d_19\">\n      <path d=\"M 50.14375 25.386242 \nL 245.44375 25.386242 \n\" clip-path=\"url(#p8453c828a0)\" style=\"fill: none; stroke: #b0b0b0; stroke-width: 0.8; stroke-linecap: square\"/>\n     </g>\n     <g id=\"line2d_20\">\n      <g>\n       <use xlink:href=\"#md050996c8a\" x=\"50.14375\" y=\"25.386242\" style=\"stroke: #000000; stroke-width: 0.8\"/>\n      </g>\n     </g>\n     <g id=\"text_11\">\n      <!-- 0.20 -->\n      <g transform=\"translate(20.878125 29.185461) scale(0.1 -0.1)\">\n       <use xlink:href=\"#DejaVuSans-30\"/>\n       <use xlink:href=\"#DejaVuSans-2e\" x=\"63.623047\"/>\n       <use xlink:href=\"#DejaVuSans-32\" x=\"95.410156\"/>\n       <use xlink:href=\"#DejaVuSans-30\" x=\"159.033203\"/>\n      </g>\n     </g>\n    </g>\n    <g id=\"text_12\">\n     <!-- loss -->\n     <g transform=\"translate(14.798437 86.157813) rotate(-90) scale(0.1 -0.1)\">\n      <defs>\n       <path id=\"DejaVuSans-6c\" d=\"M 603 4863 \nL 1178 4863 \nL 1178 0 \nL 603 0 \nL 603 4863 \nz\n\" transform=\"scale(0.015625)\"/>\n       <path id=\"DejaVuSans-73\" d=\"M 2834 3397 \nL 2834 2853 \nQ 2591 2978 2328 3040 \nQ 2066 3103 1784 3103 \nQ 1356 3103 1142 2972 \nQ 928 2841 928 2578 \nQ 928 2378 1081 2264 \nQ 1234 2150 1697 2047 \nL 1894 2003 \nQ 2506 1872 2764 1633 \nQ 3022 1394 3022 966 \nQ 3022 478 2636 193 \nQ 2250 -91 1575 -91 \nQ 1294 -91 989 -36 \nQ 684 19 347 128 \nL 347 722 \nQ 666 556 975 473 \nQ 1284 391 1588 391 \nQ 1994 391 2212 530 \nQ 2431 669 2431 922 \nQ 2431 1156 2273 1281 \nQ 2116 1406 1581 1522 \nL 1381 1569 \nQ 847 1681 609 1914 \nQ 372 2147 372 2553 \nQ 372 3047 722 3315 \nQ 1072 3584 1716 3584 \nQ 2034 3584 2315 3537 \nQ 2597 3491 2834 3397 \nz\n\" transform=\"scale(0.015625)\"/>\n      </defs>\n      <use xlink:href=\"#DejaVuSans-6c\"/>\n      <use xlink:href=\"#DejaVuSans-6f\" x=\"27.783203\"/>\n      <use xlink:href=\"#DejaVuSans-73\" x=\"88.964844\"/>\n      <use xlink:href=\"#DejaVuSans-73\" x=\"141.064453\"/>\n     </g>\n    </g>\n   </g>\n   <g id=\"line2d_21\">\n    <path d=\"M 50.14375 13.5 \nL 56.878233 56.478189 \nL 63.612716 80.579568 \nL 70.347198 96.445489 \nL 77.081681 107.735876 \nL 83.816164 116.539603 \nL 90.550647 121.864393 \nL 97.285129 126.018809 \nL 104.019612 129.248203 \nL 110.754095 131.086795 \nL 117.488578 132.992676 \nL 124.22306 134.272363 \nL 130.957543 135.712386 \nL 137.692026 136.485279 \nL 144.426509 136.823219 \nL 151.160991 136.926275 \nL 157.895474 137.212001 \nL 164.629957 138.17874 \nL 171.36444 138.055658 \nL 178.098922 138.744234 \nL 184.833405 137.946854 \nL 191.567888 138.851498 \nL 198.302371 138.703016 \nL 205.036853 138.972861 \nL 211.771336 139.156672 \nL 218.505819 138.692013 \nL 225.240302 139.009208 \nL 231.974784 139.5 \nL 238.709267 139.266376 \nL 245.44375 139.443028 \n\" clip-path=\"url(#p8453c828a0)\" style=\"fill: none; stroke: #1f77b4; stroke-width: 1.5; stroke-linecap: square\"/>\n   </g>\n   <g id=\"patch_3\">\n    <path d=\"M 50.14375 145.8 \nL 50.14375 7.2 \n\" style=\"fill: none; stroke: #000000; stroke-width: 0.8; stroke-linejoin: miter; stroke-linecap: square\"/>\n   </g>\n   <g id=\"patch_4\">\n    <path d=\"M 245.44375 145.8 \nL 245.44375 7.2 \n\" style=\"fill: none; stroke: #000000; stroke-width: 0.8; stroke-linejoin: miter; stroke-linecap: square\"/>\n   </g>\n   <g id=\"patch_5\">\n    <path d=\"M 50.14375 145.8 \nL 245.44375 145.8 \n\" style=\"fill: none; stroke: #000000; stroke-width: 0.8; stroke-linejoin: miter; stroke-linecap: square\"/>\n   </g>\n   <g id=\"patch_6\">\n    <path d=\"M 50.14375 7.2 \nL 245.44375 7.2 \n\" style=\"fill: none; stroke: #000000; stroke-width: 0.8; stroke-linejoin: miter; stroke-linecap: square\"/>\n   </g>\n  </g>\n </g>\n <defs>\n  <clipPath id=\"p8453c828a0\">\n   <rect x=\"50.14375\" y=\"7.2\" width=\"195.3\" height=\"138.6\"/>\n  </clipPath>\n </defs>\n</svg>\n"
          },
          "metadata": {}
        }
      ],
      "source": [
        "embed_size, num_hiddens, num_layers, dropout = 32, 32, 2, 0.1\n",
        "batch_size, num_steps = 64, 10\n",
        "lr, num_epochs, device = 0.005, 300, d2l.try_gpu()\n",
        "\n",
        "train_iter, src_vocab, tgt_vocab = d2l.load_data_nmt(batch_size, num_steps)\n",
        "encoder = Seq2SeqEncoder(len(src_vocab), embed_size, num_hiddens, num_layers,\n",
        "                        dropout)\n",
        "decoder = Seq2SeqDecoder(len(tgt_vocab), embed_size, num_hiddens, num_layers,\n",
        "                        dropout)\n",
        "net = d2l.EncoderDecoder(encoder, decoder)\n",
        "train_seq2seq(net, train_iter, lr, num_epochs, tgt_vocab, device)"
      ]
    },
    {
      "cell_type": "markdown",
      "id": "b24c26df",
      "metadata": {
        "origin_pos": 56,
        "id": "b24c26df"
      },
      "source": [
        "## [**预测**]\n",
        "\n",
        "为了采用一个接着一个词元的方式预测输出序列，\n",
        "每个解码器当前时间步的输入都将来自于前一时间步的预测词元。\n",
        "与训练类似，序列开始词元（“&lt;bos&gt;”）\n",
        "在初始时间步被输入到解码器中。\n",
        "该预测过程如 :numref:`fig_seq2seq_predict`所示，\n",
        "当输出序列的预测遇到序列结束词元（“&lt;eos&gt;”）时，预测就结束了。\n",
        "\n",
        "![使用循环神经网络编码器-解码器逐词元地预测输出序列。](https://github.com/d2l-ai/d2l-zh-pytorch-colab/blob/master/img/seq2seq-predict.svg?raw=1)\n",
        ":label:`fig_seq2seq_predict`\n",
        "\n",
        "我们将在 :numref:`sec_beam-search`中介绍不同的序列生成策略。\n"
      ]
    },
    {
      "cell_type": "code",
      "execution_count": 24,
      "id": "7510bee7",
      "metadata": {
        "execution": {
          "iopub.execute_input": "2023-08-18T07:16:11.771151Z",
          "iopub.status.busy": "2023-08-18T07:16:11.770496Z",
          "iopub.status.idle": "2023-08-18T07:16:11.779631Z",
          "shell.execute_reply": "2023-08-18T07:16:11.778678Z"
        },
        "origin_pos": 58,
        "tab": [
          "pytorch"
        ],
        "id": "7510bee7"
      },
      "outputs": [],
      "source": [
        "def predict_seq2seq(net, src_sentence, src_vocab, tgt_vocab, num_steps,\n",
        "                    device, save_attention_weights=False):\n",
        "    \"\"\"序列到序列模型的预测\"\"\"\n",
        "    # 在预测时将net设置为评估模式\n",
        "    net.eval()\n",
        "    src_tokens = src_vocab[src_sentence.lower().split(' ')] + [\n",
        "        src_vocab['<eos>']]\n",
        "    enc_valid_len = torch.tensor([len(src_tokens)], device=device)\n",
        "    src_tokens = d2l.truncate_pad(src_tokens, num_steps, src_vocab['<pad>'])\n",
        "    # 添加批量轴\n",
        "    enc_X = torch.unsqueeze(\n",
        "        torch.tensor(src_tokens, dtype=torch.long, device=device), dim=0)\n",
        "    enc_outputs = net.encoder(enc_X, enc_valid_len)\n",
        "    dec_state = net.decoder.init_state(enc_outputs, enc_valid_len)\n",
        "    # 添加批量轴\n",
        "    dec_X = torch.unsqueeze(torch.tensor(\n",
        "        [tgt_vocab['<bos>']], dtype=torch.long, device=device), dim=0)\n",
        "    output_seq, attention_weight_seq = [], []\n",
        "    for _ in range(num_steps):\n",
        "        Y, dec_state = net.decoder(dec_X, dec_state)\n",
        "        # 我们使用具有预测最高可能性的词元，作为解码器在下一时间步的输入\n",
        "        dec_X = Y.argmax(dim=2)\n",
        "        pred = dec_X.squeeze(dim=0).type(torch.int32).item()\n",
        "        # 保存注意力权重（稍后讨论）\n",
        "        if save_attention_weights:\n",
        "            attention_weight_seq.append(net.decoder.attention_weights)\n",
        "        # 一旦序列结束词元被预测，输出序列的生成就完成了\n",
        "        if pred == tgt_vocab['<eos>']:\n",
        "            break\n",
        "        output_seq.append(pred)\n",
        "    return ' '.join(tgt_vocab.to_tokens(output_seq)), attention_weight_seq"
      ]
    },
    {
      "cell_type": "markdown",
      "id": "71773ad1",
      "metadata": {
        "origin_pos": 61,
        "id": "71773ad1"
      },
      "source": [
        "## 预测序列的评估\n",
        "\n",
        "我们可以通过与真实的标签序列进行比较来评估预测序列。\n",
        "虽然 :cite:`Papineni.Roukos.Ward.ea.2002`\n",
        "提出的BLEU（bilingual evaluation understudy）\n",
        "最先是用于评估机器翻译的结果，\n",
        "但现在它已经被广泛用于测量许多应用的输出序列的质量。\n",
        "原则上说，对于预测序列中的任意$n$元语法（n-grams），\n",
        "BLEU的评估都是这个$n$元语法是否出现在标签序列中。\n",
        "\n",
        "我们将BLEU定义为：\n",
        "\n",
        "$$ \\exp\\left(\\min\\left(0, 1 - \\frac{\\mathrm{len}_{\\text{label}}}{\\mathrm{len}_{\\text{pred}}}\\right)\\right) \\prod_{n=1}^k p_n^{1/2^n},$$\n",
        ":eqlabel:`eq_bleu`\n",
        "\n",
        "其中$\\mathrm{len}_{\\text{label}}$表示标签序列中的词元数和\n",
        "$\\mathrm{len}_{\\text{pred}}$表示预测序列中的词元数，\n",
        "$k$是用于匹配的最长的$n$元语法。\n",
        "另外，用$p_n$表示$n$元语法的精确度，它是两个数量的比值：\n",
        "第一个是预测序列与标签序列中匹配的$n$元语法的数量，\n",
        "第二个是预测序列中$n$元语法的数量的比率。\n",
        "具体地说，给定标签序列$A$、$B$、$C$、$D$、$E$、$F$\n",
        "和预测序列$A$、$B$、$B$、$C$、$D$，\n",
        "我们有$p_1 = 4/5$、$p_2 = 3/4$、$p_3 = 1/3$和$p_4 = 0$。\n",
        "\n",
        "根据 :eqref:`eq_bleu`中BLEU的定义，\n",
        "当预测序列与标签序列完全相同时，BLEU为$1$。\n",
        "此外，由于$n$元语法越长则匹配难度越大，\n",
        "所以BLEU为更长的$n$元语法的精确度分配更大的权重。\n",
        "具体来说，当$p_n$固定时，$p_n^{1/2^n}$\n",
        "会随着$n$的增长而增加（原始论文使用$p_n^{1/n}$）。\n",
        "而且，由于预测的序列越短获得的$p_n$值越高，\n",
        "所以 :eqref:`eq_bleu`中乘法项之前的系数用于惩罚较短的预测序列。\n",
        "例如，当$k=2$时，给定标签序列$A$、$B$、$C$、$D$、$E$、$F$\n",
        "和预测序列$A$、$B$，尽管$p_1 = p_2 = 1$，\n",
        "惩罚因子$\\exp(1-6/2) \\approx 0.14$会降低BLEU。\n",
        "\n",
        "[**BLEU的代码实现**]如下。\n"
      ]
    },
    {
      "cell_type": "code",
      "execution_count": 28,
      "id": "9135ade0",
      "metadata": {
        "execution": {
          "iopub.execute_input": "2023-08-18T07:16:11.784109Z",
          "iopub.status.busy": "2023-08-18T07:16:11.783827Z",
          "iopub.status.idle": "2023-08-18T07:16:11.791568Z",
          "shell.execute_reply": "2023-08-18T07:16:11.790396Z"
        },
        "origin_pos": 62,
        "tab": [
          "pytorch"
        ],
        "id": "9135ade0"
      },
      "outputs": [],
      "source": [
        "def bleu(pred_seq, label_seq, k):\n",
        "    \"\"\"计算BLEU\"\"\"\n",
        "    pred_tokens, label_tokens = pred_seq.split(' '), label_seq.split(' ')\n",
        "    len_pred, len_label = len(pred_tokens), len(label_tokens)\n",
        "    score = math.exp(min(0, 1 - len_label / len_pred))\n",
        "    for n in range(1, k + 1):\n",
        "        num_matches, label_subs = 0, collections.defaultdict(int)\n",
        "        for i in range(len_label - n + 1):\n",
        "            label_subs[' '.join(label_tokens[i: i + n])] += 1\n",
        "        for i in range(len_pred - n + 1):\n",
        "            if label_subs[' '.join(pred_tokens[i: i + n])] > 0:\n",
        "                num_matches += 1\n",
        "                label_subs[' '.join(pred_tokens[i: i + n])] -= 1\n",
        "        score *= math.pow(num_matches / (len_pred - n + 1), math.pow(0.5, n))\n",
        "    return score"
      ]
    },
    {
      "cell_type": "markdown",
      "id": "16c57898",
      "metadata": {
        "origin_pos": 63,
        "id": "16c57898"
      },
      "source": [
        "最后，利用训练好的循环神经网络“编码器－解码器”模型，\n",
        "[**将几个英语句子翻译成法语**]，并计算BLEU的最终结果。\n"
      ]
    },
    {
      "cell_type": "code",
      "execution_count": 29,
      "id": "653f0dd4",
      "metadata": {
        "execution": {
          "iopub.execute_input": "2023-08-18T07:16:11.796025Z",
          "iopub.status.busy": "2023-08-18T07:16:11.795107Z",
          "iopub.status.idle": "2023-08-18T07:16:11.818936Z",
          "shell.execute_reply": "2023-08-18T07:16:11.817788Z"
        },
        "origin_pos": 64,
        "tab": [
          "pytorch"
        ],
        "id": "653f0dd4",
        "outputId": "bfc79d44-ab24-4294-e8f0-3c6310383a8b",
        "colab": {
          "base_uri": "https://localhost:8080/"
        }
      },
      "outputs": [
        {
          "output_type": "stream",
          "name": "stdout",
          "text": [
            "go . => va doucement !, bleu 0.000\n",
            "i lost . => j'ai perdu ., bleu 1.000\n",
            "he's calm . => il est bon bon malade !, bleu 0.386\n",
            "i'm home . => je suis chez bonne tom malade ., bleu 0.574\n"
          ]
        }
      ],
      "source": [
        "engs = ['go .', \"i lost .\", 'he\\'s calm .', 'i\\'m home .']\n",
        "fras = ['va !', 'j\\'ai perdu .', 'il est calme .', 'je suis chez moi .']\n",
        "for eng, fra in zip(engs, fras):\n",
        "    translation, attention_weight_seq = predict_seq2seq(\n",
        "        net, eng, src_vocab, tgt_vocab, num_steps, device)\n",
        "    print(f'{eng} => {translation}, bleu {bleu(translation, fra, k=2):.3f}')"
      ]
    },
    {
      "cell_type": "markdown",
      "id": "2448f426",
      "metadata": {
        "origin_pos": 66,
        "id": "2448f426"
      },
      "source": [
        "## 小结\n",
        "\n",
        "* 根据“编码器-解码器”架构的设计，\n",
        "  我们可以使用两个循环神经网络来设计一个序列到序列学习的模型。\n",
        "* 在实现编码器和解码器时，我们可以使用多层循环神经网络。\n",
        "* 我们可以使用遮蔽来过滤不相关的计算，例如在计算损失时。\n",
        "* 在“编码器－解码器”训练中，强制教学方法将原始输出序列（而非预测结果）输入解码器。\n",
        "* BLEU是一种常用的评估方法，它通过测量预测序列和标签序列之间的$n$元语法的匹配度来评估预测。\n",
        "\n",
        "## 练习\n",
        "\n",
        "1. 试着通过调整超参数来改善翻译效果。\n",
        "1. 重新运行实验并在计算损失时不使用遮蔽，可以观察到什么结果？为什么会有这个结果？\n",
        "1. 如果编码器和解码器的层数或者隐藏单元数不同，那么如何初始化解码器的隐状态？\n",
        "1. 在训练中，如果用前一时间步的预测输入到解码器来代替强制教学，对性能有何影响？\n",
        "1. 用长短期记忆网络替换门控循环单元重新运行实验。\n",
        "1. 有没有其他方法来设计解码器的输出层？\n"
      ]
    },
    {
      "cell_type": "markdown",
      "id": "89b706ef",
      "metadata": {
        "origin_pos": 68,
        "tab": [
          "pytorch"
        ],
        "id": "89b706ef"
      },
      "source": [
        "[Discussions](https://discuss.d2l.ai/t/2782)\n"
      ]
    }
  ],
  "metadata": {
    "accelerator": "GPU",
    "kernelspec": {
      "display_name": "Python 3",
      "name": "python3"
    },
    "language_info": {
      "name": "python"
    },
    "required_libs": [],
    "colab": {
      "provenance": [],
      "include_colab_link": true
    }
  },
  "nbformat": 4,
  "nbformat_minor": 5
}