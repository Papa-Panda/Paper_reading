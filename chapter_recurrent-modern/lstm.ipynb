{
  "cells": [
    {
      "cell_type": "markdown",
      "metadata": {
        "id": "view-in-github",
        "colab_type": "text"
      },
      "source": [
        "<a href=\"https://colab.research.google.com/github/Papa-Panda/paper_reading/blob/main/chapter_recurrent-modern/lstm.ipynb\" target=\"_parent\"><img src=\"https://colab.research.google.com/assets/colab-badge.svg\" alt=\"Open In Colab\"/></a>"
      ]
    },
    {
      "cell_type": "markdown",
      "id": "a4f960f0",
      "metadata": {
        "id": "a4f960f0"
      },
      "source": [
        "The following additional libraries are needed to run this\n",
        "notebook. Note that running on Colab is experimental, please report a Github\n",
        "issue if you have any problem."
      ]
    },
    {
      "cell_type": "code",
      "execution_count": 24,
      "id": "4e700954",
      "metadata": {
        "id": "4e700954"
      },
      "outputs": [],
      "source": [
        "# !pip install d2l==1.0.3\n",
        "# # !pip install git+https://github.com/d2l-ai/d2l-zh@release  # installing d2l"
      ]
    },
    {
      "cell_type": "markdown",
      "id": "310ac5cd",
      "metadata": {
        "origin_pos": 0,
        "id": "310ac5cd"
      },
      "source": [
        "# 长短期记忆网络（LSTM）\n",
        ":label:`sec_lstm`\n",
        "\n",
        "长期以来，隐变量模型存在着长期信息保存和短期输入缺失的问题。\n",
        "解决这一问题的最早方法之一是长短期存储器（long short-term memory，LSTM）\n",
        " :cite:`Hochreiter.Schmidhuber.1997`。\n",
        "它有许多与门控循环单元（ :numref:`sec_gru`）一样的属性。\n",
        "有趣的是，长短期记忆网络的设计比门控循环单元稍微复杂一些，\n",
        "却比门控循环单元早诞生了近20年。\n",
        "\n",
        "## 门控记忆元\n",
        "\n",
        "可以说，长短期记忆网络的设计灵感来自于计算机的逻辑门。\n",
        "长短期记忆网络引入了*记忆元*（memory cell），或简称为*单元*（cell）。\n",
        "有些文献认为记忆元是隐状态的一种特殊类型，\n",
        "它们与隐状态具有相同的形状，其设计目的是用于记录附加的信息。\n",
        "为了控制记忆元，我们需要许多门。\n",
        "其中一个门用来从单元中输出条目，我们将其称为*输出门*（output gate）。\n",
        "另外一个门用来决定何时将数据读入单元，我们将其称为*输入门*（input gate）。\n",
        "我们还需要一种机制来重置单元的内容，由*遗忘门*（forget gate）来管理，\n",
        "这种设计的动机与门控循环单元相同，\n",
        "能够通过专用机制决定什么时候记忆或忽略隐状态中的输入。\n",
        "让我们看看这在实践中是如何运作的。\n",
        "\n",
        "### 输入门、忘记门和输出门\n",
        "\n",
        "就如在门控循环单元中一样，\n",
        "当前时间步的输入和前一个时间步的隐状态\n",
        "作为数据送入长短期记忆网络的门中，\n",
        "如 :numref:`lstm_0`所示。\n",
        "它们由三个具有sigmoid激活函数的全连接层处理，\n",
        "以计算输入门、遗忘门和输出门的值。\n",
        "因此，这三个门的值都在$(0, 1)$的范围内。\n",
        "\n",
        "![长短期记忆模型中的输入门、遗忘门和输出门](https://github.com/d2l-ai/d2l-zh-pytorch-colab/blob/master/img/lstm-0.svg?raw=1)\n",
        ":label:`lstm_0`\n",
        "\n",
        "我们来细化一下长短期记忆网络的数学表达。\n",
        "假设有$h$个隐藏单元，批量大小为$n$，输入数为$d$。\n",
        "因此，输入为$\\mathbf{X}_t \\in \\mathbb{R}^{n \\times d}$，\n",
        "前一时间步的隐状态为$\\mathbf{H}_{t-1} \\in \\mathbb{R}^{n \\times h}$。\n",
        "相应地，时间步$t$的门被定义如下：\n",
        "输入门是$\\mathbf{I}_t \\in \\mathbb{R}^{n \\times h}$，\n",
        "遗忘门是$\\mathbf{F}_t \\in \\mathbb{R}^{n \\times h}$，\n",
        "输出门是$\\mathbf{O}_t \\in \\mathbb{R}^{n \\times h}$。\n",
        "它们的计算方法如下：\n",
        "\n",
        "$$\n",
        "\\begin{aligned}\n",
        "\\mathbf{I}_t &= \\sigma(\\mathbf{X}_t \\mathbf{W}_{xi} + \\mathbf{H}_{t-1} \\mathbf{W}_{hi} + \\mathbf{b}_i),\\\\\n",
        "\\mathbf{F}_t &= \\sigma(\\mathbf{X}_t \\mathbf{W}_{xf} + \\mathbf{H}_{t-1} \\mathbf{W}_{hf} + \\mathbf{b}_f),\\\\\n",
        "\\mathbf{O}_t &= \\sigma(\\mathbf{X}_t \\mathbf{W}_{xo} + \\mathbf{H}_{t-1} \\mathbf{W}_{ho} + \\mathbf{b}_o),\n",
        "\\end{aligned}\n",
        "$$\n",
        "\n",
        "其中$\\mathbf{W}_{xi}, \\mathbf{W}_{xf}, \\mathbf{W}_{xo} \\in \\mathbb{R}^{d \\times h}$\n",
        "和$\\mathbf{W}_{hi}, \\mathbf{W}_{hf}, \\mathbf{W}_{ho} \\in \\mathbb{R}^{h \\times h}$是权重参数，\n",
        "$\\mathbf{b}_i, \\mathbf{b}_f, \\mathbf{b}_o \\in \\mathbb{R}^{1 \\times h}$是偏置参数。\n",
        "\n",
        "### 候选记忆元\n",
        "\n",
        "由于还没有指定各种门的操作，所以先介绍*候选记忆元*（candidate memory cell）\n",
        "$\\tilde{\\mathbf{C}}_t \\in \\mathbb{R}^{n \\times h}$。\n",
        "它的计算与上面描述的三个门的计算类似，\n",
        "但是使用$\\tanh$函数作为激活函数，函数的值范围为$(-1, 1)$。\n",
        "下面导出在时间步$t$处的方程：\n",
        "\n",
        "$$\\tilde{\\mathbf{C}}_t = \\text{tanh}(\\mathbf{X}_t \\mathbf{W}_{xc} + \\mathbf{H}_{t-1} \\mathbf{W}_{hc} + \\mathbf{b}_c),$$\n",
        "\n",
        "其中$\\mathbf{W}_{xc} \\in \\mathbb{R}^{d \\times h}$和\n",
        "$\\mathbf{W}_{hc} \\in \\mathbb{R}^{h \\times h}$是权重参数，\n",
        "$\\mathbf{b}_c \\in \\mathbb{R}^{1 \\times h}$是偏置参数。\n",
        "\n",
        "候选记忆元的如 :numref:`lstm_1`所示。\n",
        "\n",
        "![长短期记忆模型中的候选记忆元](https://github.com/d2l-ai/d2l-zh-pytorch-colab/blob/master/img/lstm-1.svg?raw=1)\n",
        ":label:`lstm_1`\n",
        "\n",
        "### 记忆元\n",
        "\n",
        "在门控循环单元中，有一种机制来控制输入和遗忘（或跳过）。\n",
        "类似地，在长短期记忆网络中，也有两个门用于这样的目的：\n",
        "输入门$\\mathbf{I}_t$控制采用多少来自$\\tilde{\\mathbf{C}}_t$的新数据，\n",
        "而遗忘门$\\mathbf{F}_t$控制保留多少过去的\n",
        "记忆元$\\mathbf{C}_{t-1} \\in \\mathbb{R}^{n \\times h}$的内容。\n",
        "使用按元素乘法，得出：\n",
        "\n",
        "$$\\mathbf{C}_t = \\mathbf{F}_t \\odot \\mathbf{C}_{t-1} + \\mathbf{I}_t \\odot \\tilde{\\mathbf{C}}_t.$$\n",
        "\n",
        "如果遗忘门始终为$1$且输入门始终为$0$，\n",
        "则过去的记忆元$\\mathbf{C}_{t-1}$\n",
        "将随时间被保存并传递到当前时间步。\n",
        "引入这种设计是为了缓解梯度消失问题，\n",
        "并更好地捕获序列中的长距离依赖关系。\n",
        "\n",
        "这样我们就得到了计算记忆元的流程图，如 :numref:`lstm_2`。\n",
        "\n",
        "![在长短期记忆网络模型中计算记忆元](https://github.com/d2l-ai/d2l-zh-pytorch-colab/blob/master/img/lstm-2.svg?raw=1)\n",
        "\n",
        ":label:`lstm_2`\n",
        "\n",
        "### 隐状态\n",
        "\n",
        "最后，我们需要定义如何计算隐状态\n",
        "$\\mathbf{H}_t \\in \\mathbb{R}^{n \\times h}$，\n",
        "这就是输出门发挥作用的地方。\n",
        "在长短期记忆网络中，它仅仅是记忆元的$\\tanh$的门控版本。\n",
        "这就确保了$\\mathbf{H}_t$的值始终在区间$(-1, 1)$内：\n",
        "\n",
        "$$\\mathbf{H}_t = \\mathbf{O}_t \\odot \\tanh(\\mathbf{C}_t).$$\n",
        "\n",
        "只要输出门接近$1$，我们就能够有效地将所有记忆信息传递给预测部分，\n",
        "而对于输出门接近$0$，我们只保留记忆元内的所有信息，而不需要更新隐状态。\n",
        "\n",
        " :numref:`lstm_3`提供了数据流的图形化演示。\n",
        "\n",
        "![在长短期记忆模型中计算隐状态](https://github.com/d2l-ai/d2l-zh-pytorch-colab/blob/master/img/lstm-3.svg?raw=1)\n",
        ":label:`lstm_3`\n",
        "\n",
        "## 从零开始实现\n",
        "\n",
        "现在，我们从零开始实现长短期记忆网络。\n",
        "与 :numref:`sec_rnn_scratch`中的实验相同，\n",
        "我们首先加载时光机器数据集。\n"
      ]
    },
    {
      "cell_type": "code",
      "source": [
        "# d2l.download('time_machine')"
      ],
      "metadata": {
        "id": "HYqZpRv-Kmxw"
      },
      "id": "HYqZpRv-Kmxw",
      "execution_count": 18,
      "outputs": []
    },
    {
      "cell_type": "code",
      "source": [],
      "metadata": {
        "id": "vWnuAFKlMZwE"
      },
      "id": "vWnuAFKlMZwE",
      "execution_count": 21,
      "outputs": []
    },
    {
      "cell_type": "code",
      "source": [
        "import os\n",
        "import requests\n",
        "import re\n",
        "import hashlib\n",
        "import collections\n",
        "\n",
        "def tokenize(lines, token='word'):\n",
        "    \"\"\"将文本行拆分为单词或字符词元\n",
        "\n",
        "    Defined in :numref:`sec_text_preprocessing`\"\"\"\n",
        "    if token == 'word':\n",
        "        return [line.split() for line in lines]\n",
        "    elif token == 'char':\n",
        "        return [list(line) for line in lines]\n",
        "    else:\n",
        "        print('错误：未知词元类型：' + token)\n",
        "\n",
        "class Vocab:\n",
        "    \"\"\"文本词表\"\"\"\n",
        "    def __init__(self, tokens=None, min_freq=0, reserved_tokens=None):\n",
        "        \"\"\"Defined in :numref:`sec_text_preprocessing`\"\"\"\n",
        "        if tokens is None:\n",
        "            tokens = []\n",
        "        if reserved_tokens is None:\n",
        "            reserved_tokens = []\n",
        "        # 按出现频率排序\n",
        "        counter = count_corpus(tokens)\n",
        "        self._token_freqs = sorted(counter.items(), key=lambda x: x[1],\n",
        "                                   reverse=True)\n",
        "        # 未知词元的索引为0\n",
        "        self.idx_to_token = ['<unk>'] + reserved_tokens\n",
        "        self.token_to_idx = {token: idx\n",
        "                             for idx, token in enumerate(self.idx_to_token)}\n",
        "        for token, freq in self._token_freqs:\n",
        "            if freq < min_freq:\n",
        "                break\n",
        "            if token not in self.token_to_idx:\n",
        "                self.idx_to_token.append(token)\n",
        "                self.token_to_idx[token] = len(self.idx_to_token) - 1\n",
        "\n",
        "    def __len__(self):\n",
        "        return len(self.idx_to_token)\n",
        "\n",
        "    def __getitem__(self, tokens):\n",
        "        if not isinstance(tokens, (list, tuple)):\n",
        "            return self.token_to_idx.get(tokens, self.unk)\n",
        "        return [self.__getitem__(token) for token in tokens]\n",
        "\n",
        "    def to_tokens(self, indices):\n",
        "        if not isinstance(indices, (list, tuple)):\n",
        "            return self.idx_to_token[indices]\n",
        "        return [self.idx_to_token[index] for index in indices]\n",
        "\n",
        "    @property\n",
        "    def unk(self):  # 未知词元的索引为0\n",
        "        return 0\n",
        "\n",
        "    @property\n",
        "    def token_freqs(self):\n",
        "        return self._token_freqs\n",
        "\n",
        "def count_corpus(tokens):\n",
        "    \"\"\"统计词元的频率\n",
        "\n",
        "    Defined in :numref:`sec_text_preprocessing`\"\"\"\n",
        "    # 这里的tokens是1D列表或2D列表\n",
        "    if len(tokens) == 0 or isinstance(tokens[0], list):\n",
        "        # 将词元列表展平成一个列表\n",
        "        tokens = [token for line in tokens for token in line]\n",
        "    return collections.Counter(tokens)\n",
        "\n",
        "\n",
        "\n",
        "DATA_HUB = dict()\n",
        "DATA_URL = 'http://d2l-data.s3-accelerate.amazonaws.com/'\n",
        "\n",
        "DATA_HUB['time_machine'] = (DATA_URL + 'timemachine.txt', '090b5e7e70c295757f55df93cb0a180b9691891a')\n",
        "\n",
        "def download(name, cache_dir=os.path.join('..', 'data')):\n",
        "    \"\"\"下载一个DATA_HUB中的文件，返回本地文件名\n",
        "\n",
        "    Defined in :numref:`sec_kaggle_house`\"\"\"\n",
        "    assert name in DATA_HUB, f\"{name} 不存在于 {DATA_HUB}\"\n",
        "    url, sha1_hash = DATA_HUB[name]\n",
        "    os.makedirs(cache_dir, exist_ok=True)\n",
        "    fname = os.path.join(cache_dir, url.split('/')[-1])\n",
        "    if os.path.exists(fname):\n",
        "        sha1 = hashlib.sha1()\n",
        "        with open(fname, 'rb') as f:\n",
        "            while True:\n",
        "                data = f.read(1048576)\n",
        "                if not data:\n",
        "                    break\n",
        "                sha1.update(data)\n",
        "        if sha1.hexdigest() == sha1_hash:\n",
        "            return fname  # 命中缓存\n",
        "    print(f'正在从{url}下载{fname}...')\n",
        "    r = requests.get(url, stream=True, verify=True)\n",
        "    with open(fname, 'wb') as f:\n",
        "        f.write(r.content)\n",
        "    return fname\n",
        "\n",
        "def read_time_machine():\n",
        "    \"\"\"将时间机器数据集加载到文本行的列表中\n",
        "\n",
        "    Defined in :numref:`sec_text_preprocessing`\"\"\"\n",
        "    with open(download('time_machine'), 'r') as f:\n",
        "        lines = f.readlines()\n",
        "    return [re.sub('[^A-Za-z]+', ' ', line).strip().lower() for line in lines]\n",
        "\n",
        "def load_corpus_time_machine(max_tokens=-1):\n",
        "    \"\"\"返回时光机器数据集的词元索引列表和词表\n",
        "\n",
        "    Defined in :numref:`sec_text_preprocessing`\"\"\"\n",
        "    lines = read_time_machine()\n",
        "    tokens = tokenize(lines, 'char')\n",
        "    vocab = Vocab(tokens)\n",
        "    # 因为时光机器数据集中的每个文本行不一定是一个句子或一个段落，\n",
        "    # 所以将所有文本行展平到一个列表中\n",
        "    corpus = [vocab[token] for line in tokens for token in line]\n",
        "    if max_tokens > 0:\n",
        "        corpus = corpus[:max_tokens]\n",
        "    return corpus, vocab\n",
        "\n",
        "def seq_data_iter_sequential(corpus, batch_size, num_steps):\n",
        "    \"\"\"使用顺序分区生成一个小批量子序列\n",
        "\n",
        "    Defined in :numref:`sec_language_model`\"\"\"\n",
        "    # 从随机偏移量开始划分序列\n",
        "    offset = random.randint(0, num_steps)\n",
        "    num_tokens = ((len(corpus) - offset - 1) // batch_size) * batch_size\n",
        "    Xs = d2l.tensor(corpus[offset: offset + num_tokens])\n",
        "    Ys = d2l.tensor(corpus[offset + 1: offset + 1 + num_tokens])\n",
        "    Xs, Ys = Xs.reshape(batch_size, -1), Ys.reshape(batch_size, -1)\n",
        "    num_batches = Xs.shape[1] // num_steps\n",
        "    for i in range(0, num_steps * num_batches, num_steps):\n",
        "        X = Xs[:, i: i + num_steps]\n",
        "        Y = Ys[:, i: i + num_steps]\n",
        "        yield X, Y\n",
        "\n",
        "class SeqDataLoader:\n",
        "    \"\"\"加载序列数据的迭代器\"\"\"\n",
        "    def __init__(self, batch_size, num_steps, use_random_iter, max_tokens):\n",
        "        \"\"\"Defined in :numref:`sec_language_model`\"\"\"\n",
        "        if use_random_iter:\n",
        "            self.data_iter_fn = d2l.seq_data_iter_random\n",
        "        else:\n",
        "            self.data_iter_fn = seq_data_iter_sequential\n",
        "        self.corpus, self.vocab = load_corpus_time_machine(max_tokens)\n",
        "        self.batch_size, self.num_steps = batch_size, num_steps\n",
        "\n",
        "    def __iter__(self):\n",
        "        return self.data_iter_fn(self.corpus, self.batch_size, self.num_steps)\n",
        "\n",
        "def load_data_time_machine(batch_size, num_steps,\n",
        "                           use_random_iter=False, max_tokens=10000):\n",
        "    \"\"\"返回时光机器数据集的迭代器和词表\n",
        "\n",
        "    Defined in :numref:`sec_language_model`\"\"\"\n",
        "    data_iter = SeqDataLoader(\n",
        "        batch_size, num_steps, use_random_iter, max_tokens)\n",
        "    return data_iter, data_iter.vocab\n"
      ],
      "metadata": {
        "id": "zaGO8rCTJ1aC"
      },
      "id": "zaGO8rCTJ1aC",
      "execution_count": 37,
      "outputs": []
    },
    {
      "cell_type": "code",
      "execution_count": 38,
      "id": "96a7231c",
      "metadata": {
        "execution": {
          "iopub.execute_input": "2023-08-18T07:24:18.324326Z",
          "iopub.status.busy": "2023-08-18T07:24:18.323673Z",
          "iopub.status.idle": "2023-08-18T07:24:21.607373Z",
          "shell.execute_reply": "2023-08-18T07:24:21.606483Z"
        },
        "origin_pos": 2,
        "tab": [
          "pytorch"
        ],
        "id": "96a7231c"
      },
      "outputs": [],
      "source": [
        "import torch\n",
        "from torch import nn\n",
        "from d2l import torch as d2l\n",
        "\n",
        "batch_size, num_steps = 32, 35\n",
        "train_iter, vocab = load_data_time_machine(batch_size, num_steps)"
      ]
    },
    {
      "cell_type": "markdown",
      "id": "3ef97237",
      "metadata": {
        "origin_pos": 5,
        "id": "3ef97237"
      },
      "source": [
        "### [**初始化模型参数**]\n",
        "\n",
        "接下来，我们需要定义和初始化模型参数。\n",
        "如前所述，超参数`num_hiddens`定义隐藏单元的数量。\n",
        "我们按照标准差$0.01$的高斯分布初始化权重，并将偏置项设为$0$。\n"
      ]
    },
    {
      "cell_type": "code",
      "execution_count": 39,
      "id": "2d90745d",
      "metadata": {
        "execution": {
          "iopub.execute_input": "2023-08-18T07:24:21.612618Z",
          "iopub.status.busy": "2023-08-18T07:24:21.611785Z",
          "iopub.status.idle": "2023-08-18T07:24:21.619127Z",
          "shell.execute_reply": "2023-08-18T07:24:21.618267Z"
        },
        "origin_pos": 7,
        "tab": [
          "pytorch"
        ],
        "id": "2d90745d"
      },
      "outputs": [],
      "source": [
        "def get_lstm_params(vocab_size, num_hiddens, device):\n",
        "    num_inputs = num_outputs = vocab_size\n",
        "\n",
        "    def normal(shape):\n",
        "        return torch.randn(size=shape, device=device)*0.01\n",
        "\n",
        "    def three():\n",
        "        return (normal((num_inputs, num_hiddens)),\n",
        "                normal((num_hiddens, num_hiddens)),\n",
        "                torch.zeros(num_hiddens, device=device))\n",
        "\n",
        "    W_xi, W_hi, b_i = three()  # 输入门参数\n",
        "    W_xf, W_hf, b_f = three()  # 遗忘门参数\n",
        "    W_xo, W_ho, b_o = three()  # 输出门参数\n",
        "    W_xc, W_hc, b_c = three()  # 候选记忆元参数\n",
        "    # 输出层参数\n",
        "    W_hq = normal((num_hiddens, num_outputs))\n",
        "    b_q = torch.zeros(num_outputs, device=device)\n",
        "    # 附加梯度\n",
        "    params = [W_xi, W_hi, b_i, W_xf, W_hf, b_f, W_xo, W_ho, b_o, W_xc, W_hc,\n",
        "              b_c, W_hq, b_q]\n",
        "    for param in params:\n",
        "        param.requires_grad_(True)\n",
        "    return params"
      ]
    },
    {
      "cell_type": "markdown",
      "id": "57aecd87",
      "metadata": {
        "origin_pos": 10,
        "id": "57aecd87"
      },
      "source": [
        "### 定义模型\n",
        "\n",
        "在[**初始化函数**]中，\n",
        "长短期记忆网络的隐状态需要返回一个*额外*的记忆元，\n",
        "单元的值为0，形状为（批量大小，隐藏单元数）。\n",
        "因此，我们得到以下的状态初始化。\n"
      ]
    },
    {
      "cell_type": "code",
      "execution_count": 41,
      "id": "beeae3b9",
      "metadata": {
        "execution": {
          "iopub.execute_input": "2023-08-18T07:24:21.623788Z",
          "iopub.status.busy": "2023-08-18T07:24:21.623183Z",
          "iopub.status.idle": "2023-08-18T07:24:21.628423Z",
          "shell.execute_reply": "2023-08-18T07:24:21.627603Z"
        },
        "origin_pos": 12,
        "tab": [
          "pytorch"
        ],
        "id": "beeae3b9"
      },
      "outputs": [],
      "source": [
        "def init_lstm_state(batch_size, num_hiddens, device):\n",
        "    return (torch.zeros((batch_size, num_hiddens), device=device),\n",
        "            torch.zeros((batch_size, num_hiddens), device=device))"
      ]
    },
    {
      "cell_type": "markdown",
      "id": "9c45563d",
      "metadata": {
        "origin_pos": 15,
        "id": "9c45563d"
      },
      "source": [
        "[**实际模型**]的定义与我们前面讨论的一样：\n",
        "提供三个门和一个额外的记忆元。\n",
        "请注意，只有隐状态才会传递到输出层，\n",
        "而记忆元$\\mathbf{C}_t$不直接参与输出计算。\n"
      ]
    },
    {
      "cell_type": "code",
      "execution_count": 42,
      "id": "50de4e9c",
      "metadata": {
        "execution": {
          "iopub.execute_input": "2023-08-18T07:24:21.632468Z",
          "iopub.status.busy": "2023-08-18T07:24:21.631955Z",
          "iopub.status.idle": "2023-08-18T07:24:21.638292Z",
          "shell.execute_reply": "2023-08-18T07:24:21.637498Z"
        },
        "origin_pos": 17,
        "tab": [
          "pytorch"
        ],
        "id": "50de4e9c"
      },
      "outputs": [],
      "source": [
        "def lstm(inputs, state, params):\n",
        "    [W_xi, W_hi, b_i, W_xf, W_hf, b_f, W_xo, W_ho, b_o, W_xc, W_hc, b_c,\n",
        "     W_hq, b_q] = params\n",
        "    (H, C) = state\n",
        "    outputs = []\n",
        "    for X in inputs:\n",
        "        I = torch.sigmoid((X @ W_xi) + (H @ W_hi) + b_i)\n",
        "        F = torch.sigmoid((X @ W_xf) + (H @ W_hf) + b_f)\n",
        "        O = torch.sigmoid((X @ W_xo) + (H @ W_ho) + b_o)\n",
        "        C_tilda = torch.tanh((X @ W_xc) + (H @ W_hc) + b_c)\n",
        "        C = F * C + I * C_tilda\n",
        "        H = O * torch.tanh(C)\n",
        "        Y = (H @ W_hq) + b_q\n",
        "        outputs.append(Y)\n",
        "    return torch.cat(outputs, dim=0), (H, C)"
      ]
    },
    {
      "cell_type": "markdown",
      "id": "c36361aa",
      "metadata": {
        "origin_pos": 20,
        "id": "c36361aa"
      },
      "source": [
        "### [**训练**]和预测\n",
        "\n",
        "让我们通过实例化 :numref:`sec_rnn_scratch`中\n",
        "引入的`RNNModelScratch`类来训练一个长短期记忆网络，\n",
        "就如我们在 :numref:`sec_gru`中所做的一样。\n"
      ]
    },
    {
      "cell_type": "code",
      "execution_count": 43,
      "id": "e2025d7a",
      "metadata": {
        "execution": {
          "iopub.execute_input": "2023-08-18T07:24:21.642387Z",
          "iopub.status.busy": "2023-08-18T07:24:21.641860Z",
          "iopub.status.idle": "2023-08-18T07:28:54.778673Z",
          "shell.execute_reply": "2023-08-18T07:28:54.777826Z"
        },
        "origin_pos": 21,
        "tab": [
          "pytorch"
        ],
        "id": "e2025d7a",
        "outputId": "84216c09-e76a-42be-a7b8-f9428c3b7152",
        "colab": {
          "base_uri": "https://localhost:8080/",
          "height": 211
        }
      },
      "outputs": [
        {
          "output_type": "error",
          "ename": "AttributeError",
          "evalue": "module 'd2l.torch' has no attribute 'RNNModelScratch'",
          "traceback": [
            "\u001b[0;31m---------------------------------------------------------------------------\u001b[0m",
            "\u001b[0;31mAttributeError\u001b[0m                            Traceback (most recent call last)",
            "\u001b[0;32m/tmp/ipython-input-43-1003484883.py\u001b[0m in \u001b[0;36m<cell line: 0>\u001b[0;34m()\u001b[0m\n\u001b[1;32m      1\u001b[0m \u001b[0mvocab_size\u001b[0m\u001b[0;34m,\u001b[0m \u001b[0mnum_hiddens\u001b[0m\u001b[0;34m,\u001b[0m \u001b[0mdevice\u001b[0m \u001b[0;34m=\u001b[0m \u001b[0mlen\u001b[0m\u001b[0;34m(\u001b[0m\u001b[0mvocab\u001b[0m\u001b[0;34m)\u001b[0m\u001b[0;34m,\u001b[0m \u001b[0;36m256\u001b[0m\u001b[0;34m,\u001b[0m \u001b[0md2l\u001b[0m\u001b[0;34m.\u001b[0m\u001b[0mtry_gpu\u001b[0m\u001b[0;34m(\u001b[0m\u001b[0;34m)\u001b[0m\u001b[0;34m\u001b[0m\u001b[0;34m\u001b[0m\u001b[0m\n\u001b[1;32m      2\u001b[0m \u001b[0mnum_epochs\u001b[0m\u001b[0;34m,\u001b[0m \u001b[0mlr\u001b[0m \u001b[0;34m=\u001b[0m \u001b[0;36m500\u001b[0m\u001b[0;34m,\u001b[0m \u001b[0;36m1\u001b[0m\u001b[0;34m\u001b[0m\u001b[0;34m\u001b[0m\u001b[0m\n\u001b[0;32m----> 3\u001b[0;31m model = d2l.RNNModelScratch(len(vocab), num_hiddens, device, get_lstm_params,\n\u001b[0m\u001b[1;32m      4\u001b[0m                             init_lstm_state, lstm)\n\u001b[1;32m      5\u001b[0m \u001b[0md2l\u001b[0m\u001b[0;34m.\u001b[0m\u001b[0mtrain_ch8\u001b[0m\u001b[0;34m(\u001b[0m\u001b[0mmodel\u001b[0m\u001b[0;34m,\u001b[0m \u001b[0mtrain_iter\u001b[0m\u001b[0;34m,\u001b[0m \u001b[0mvocab\u001b[0m\u001b[0;34m,\u001b[0m \u001b[0mlr\u001b[0m\u001b[0;34m,\u001b[0m \u001b[0mnum_epochs\u001b[0m\u001b[0;34m,\u001b[0m \u001b[0mdevice\u001b[0m\u001b[0;34m)\u001b[0m\u001b[0;34m\u001b[0m\u001b[0;34m\u001b[0m\u001b[0m\n",
            "\u001b[0;31mAttributeError\u001b[0m: module 'd2l.torch' has no attribute 'RNNModelScratch'"
          ]
        }
      ],
      "source": [
        "vocab_size, num_hiddens, device = len(vocab), 256, d2l.try_gpu()\n",
        "num_epochs, lr = 500, 1\n",
        "model = d2l.RNNModelScratch(len(vocab), num_hiddens, device, get_lstm_params,\n",
        "                            init_lstm_state, lstm)\n",
        "d2l.train_ch8(model, train_iter, vocab, lr, num_epochs, device)"
      ]
    },
    {
      "cell_type": "markdown",
      "id": "245cff43",
      "metadata": {
        "origin_pos": 24,
        "id": "245cff43"
      },
      "source": [
        "## [**简洁实现**]\n",
        "\n",
        "使用高级API，我们可以直接实例化`LSTM`模型。\n",
        "高级API封装了前文介绍的所有配置细节。\n",
        "这段代码的运行速度要快得多，\n",
        "因为它使用的是编译好的运算符而不是Python来处理之前阐述的许多细节。\n"
      ]
    },
    {
      "cell_type": "code",
      "source": [],
      "metadata": {
        "id": "4_1ni8vhNQDC"
      },
      "id": "4_1ni8vhNQDC",
      "execution_count": 49,
      "outputs": []
    },
    {
      "cell_type": "code",
      "execution_count": 49,
      "id": "ca7c37b2",
      "metadata": {
        "execution": {
          "iopub.execute_input": "2023-08-18T07:28:54.782381Z",
          "iopub.status.busy": "2023-08-18T07:28:54.781811Z",
          "iopub.status.idle": "2023-08-18T07:29:19.488133Z",
          "shell.execute_reply": "2023-08-18T07:29:19.487180Z"
        },
        "origin_pos": 26,
        "tab": [
          "pytorch"
        ],
        "id": "ca7c37b2",
        "outputId": "0d60b293-e5a7-4853-e6ca-411c18f1258b",
        "colab": {
          "base_uri": "https://localhost:8080/",
          "height": 176
        }
      },
      "outputs": [
        {
          "output_type": "error",
          "ename": "AttributeError",
          "evalue": "module 'd2l.torch' has no attribute 'train_ch8'",
          "traceback": [
            "\u001b[0;31m---------------------------------------------------------------------------\u001b[0m",
            "\u001b[0;31mAttributeError\u001b[0m                            Traceback (most recent call last)",
            "\u001b[0;32m/tmp/ipython-input-49-2106692731.py\u001b[0m in \u001b[0;36m<cell line: 0>\u001b[0;34m()\u001b[0m\n\u001b[1;32m      3\u001b[0m \u001b[0mmodel\u001b[0m \u001b[0;34m=\u001b[0m \u001b[0mRNNModel\u001b[0m\u001b[0;34m(\u001b[0m\u001b[0mlstm_layer\u001b[0m\u001b[0;34m,\u001b[0m \u001b[0mlen\u001b[0m\u001b[0;34m(\u001b[0m\u001b[0mvocab\u001b[0m\u001b[0;34m)\u001b[0m\u001b[0;34m)\u001b[0m\u001b[0;34m\u001b[0m\u001b[0;34m\u001b[0m\u001b[0m\n\u001b[1;32m      4\u001b[0m \u001b[0mmodel\u001b[0m \u001b[0;34m=\u001b[0m \u001b[0mmodel\u001b[0m\u001b[0;34m.\u001b[0m\u001b[0mto\u001b[0m\u001b[0;34m(\u001b[0m\u001b[0mdevice\u001b[0m\u001b[0;34m)\u001b[0m\u001b[0;34m\u001b[0m\u001b[0;34m\u001b[0m\u001b[0m\n\u001b[0;32m----> 5\u001b[0;31m \u001b[0md2l\u001b[0m\u001b[0;34m.\u001b[0m\u001b[0mtrain_ch8\u001b[0m\u001b[0;34m(\u001b[0m\u001b[0mmodel\u001b[0m\u001b[0;34m,\u001b[0m \u001b[0mtrain_iter\u001b[0m\u001b[0;34m,\u001b[0m \u001b[0mvocab\u001b[0m\u001b[0;34m,\u001b[0m \u001b[0mlr\u001b[0m\u001b[0;34m,\u001b[0m \u001b[0mnum_epochs\u001b[0m\u001b[0;34m,\u001b[0m \u001b[0mdevice\u001b[0m\u001b[0;34m)\u001b[0m\u001b[0;34m\u001b[0m\u001b[0;34m\u001b[0m\u001b[0m\n\u001b[0m",
            "\u001b[0;31mAttributeError\u001b[0m: module 'd2l.torch' has no attribute 'train_ch8'"
          ]
        }
      ],
      "source": [
        "num_inputs = vocab_size\n",
        "lstm_layer = nn.LSTM(num_inputs, num_hiddens)\n",
        "model = d2l.RNNModel(lstm_layer, len(vocab))\n",
        "model = model.to(device)\n",
        "d2l.train_ch8(model, train_iter, vocab, lr, num_epochs, device)"
      ]
    },
    {
      "cell_type": "markdown",
      "id": "bc39a6bb",
      "metadata": {
        "origin_pos": 29,
        "id": "bc39a6bb"
      },
      "source": [
        "长短期记忆网络是典型的具有重要状态控制的隐变量自回归模型。\n",
        "多年来已经提出了其许多变体，例如，多层、残差连接、不同类型的正则化。\n",
        "然而，由于序列的长距离依赖性，训练长短期记忆网络\n",
        "和其他序列模型（例如门控循环单元）的成本是相当高的。\n",
        "在后面的内容中，我们将讲述更高级的替代模型，如Transformer。\n",
        "\n",
        "## 小结\n",
        "\n",
        "* 长短期记忆网络有三种类型的门：输入门、遗忘门和输出门。\n",
        "* 长短期记忆网络的隐藏层输出包括“隐状态”和“记忆元”。只有隐状态会传递到输出层，而记忆元完全属于内部信息。\n",
        "* 长短期记忆网络可以缓解梯度消失和梯度爆炸。\n",
        "\n",
        "\n",
        "## 练习\n",
        "\n",
        "1. 调整和分析超参数对运行时间、困惑度和输出顺序的影响。\n",
        "1. 如何更改模型以生成适当的单词，而不是字符序列？\n",
        "1. 在给定隐藏层维度的情况下，比较门控循环单元、长短期记忆网络和常规循环神经网络的计算成本。要特别注意训练和推断成本。\n",
        "1. 既然候选记忆元通过使用$\\tanh$函数来确保值范围在$(-1,1)$之间，那么为什么隐状态需要再次使用$\\tanh$函数来确保输出值范围在$(-1,1)$之间呢？\n",
        "1. 实现一个能够基于时间序列进行预测而不是基于字符序列进行预测的长短期记忆网络模型。\n"
      ]
    },
    {
      "cell_type": "markdown",
      "id": "416f6654",
      "metadata": {
        "origin_pos": 31,
        "tab": [
          "pytorch"
        ],
        "id": "416f6654"
      },
      "source": [
        "[Discussions](https://discuss.d2l.ai/t/2768)\n"
      ]
    }
  ],
  "metadata": {
    "accelerator": "GPU",
    "kernelspec": {
      "display_name": "Python 3",
      "name": "python3"
    },
    "language_info": {
      "name": "python"
    },
    "required_libs": [],
    "colab": {
      "provenance": [],
      "include_colab_link": true
    }
  },
  "nbformat": 4,
  "nbformat_minor": 5
}