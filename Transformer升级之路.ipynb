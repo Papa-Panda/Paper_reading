{
  "nbformat": 4,
  "nbformat_minor": 0,
  "metadata": {
    "colab": {
      "provenance": [],
      "authorship_tag": "ABX9TyOWOU65YcfWvseC+D7QLSyM",
      "include_colab_link": true
    },
    "kernelspec": {
      "name": "python3",
      "display_name": "Python 3"
    },
    "language_info": {
      "name": "python"
    }
  },
  "cells": [
    {
      "cell_type": "markdown",
      "metadata": {
        "id": "view-in-github",
        "colab_type": "text"
      },
      "source": [
        "<a href=\"https://colab.research.google.com/github/Papa-Panda/Paper_reading/blob/main/Transformer%E5%8D%87%E7%BA%A7%E4%B9%8B%E8%B7%AF.ipynb\" target=\"_parent\"><img src=\"https://colab.research.google.com/assets/colab-badge.svg\" alt=\"Open In Colab\"/></a>"
      ]
    },
    {
      "cell_type": "code",
      "source": [
        "# Transformer升级之路：1、Sinusoidal位置编码追根溯源\n",
        "# https://spaces.ac.cn/archives/8231\n",
        "\n",
        "# browsed, know the big idea"
      ],
      "metadata": {
        "id": "fI_OPZ-8XiXK"
      },
      "execution_count": null,
      "outputs": []
    },
    {
      "cell_type": "code",
      "execution_count": null,
      "metadata": {
        "id": "IraBS1_3TPXV"
      },
      "outputs": [],
      "source": [
        "# Transformer升级之路：19、第二类旋转位置编码 - 苏剑林的文章 - 知乎\n",
        "# https://zhuanlan.zhihu.com/p/1901222790457188508"
      ]
    }
  ]
}