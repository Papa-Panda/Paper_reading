{
  "nbformat": 4,
  "nbformat_minor": 0,
  "metadata": {
    "colab": {
      "provenance": [],
      "authorship_tag": "ABX9TyPpgRWM+HWtWTqO1O5TSA5I",
      "include_colab_link": true
    },
    "kernelspec": {
      "name": "python3",
      "display_name": "Python 3"
    },
    "language_info": {
      "name": "python"
    }
  },
  "cells": [
    {
      "cell_type": "markdown",
      "metadata": {
        "id": "view-in-github",
        "colab_type": "text"
      },
      "source": [
        "<a href=\"https://colab.research.google.com/github/Papa-Panda/paper_reading/blob/main/MoE%E7%8E%AF%E6%B8%B8%E8%AE%B0.ipynb\" target=\"_parent\"><img src=\"https://colab.research.google.com/assets/colab-badge.svg\" alt=\"Open In Colab\"/></a>"
      ]
    },
    {
      "cell_type": "code",
      "source": [
        "# MoE环游记：1、从几何意义出发\n",
        "# https://spaces.ac.cn/archives/10699"
      ],
      "metadata": {
        "id": "jh5_3D_pdimi"
      },
      "execution_count": null,
      "outputs": []
    },
    {
      "cell_type": "code",
      "source": [
        "# MoE环游记：2、不患寡而患不均\n",
        "# https://spaces.ac.cn/archives/10735"
      ],
      "metadata": {
        "id": "kKXAiJGxxozq"
      },
      "execution_count": null,
      "outputs": []
    },
    {
      "cell_type": "code",
      "source": [
        "# MoE环游记：4、难处应当多投入 - 苏剑林的文章 - 知乎\n",
        "# https://zhuanlan.zhihu.com/p/1896658881716934028"
      ],
      "metadata": {
        "id": "esKyVOkhjpOm"
      },
      "execution_count": null,
      "outputs": []
    },
    {
      "cell_type": "code",
      "execution_count": null,
      "metadata": {
        "id": "7r4zWCYlP_kF"
      },
      "outputs": [],
      "source": [
        "# MoE环游记：5、均匀分布的反思 - 苏剑林的文章 - 知乎\n",
        "# https://zhuanlan.zhihu.com/p/1914057786775548610"
      ]
    }
  ]
}