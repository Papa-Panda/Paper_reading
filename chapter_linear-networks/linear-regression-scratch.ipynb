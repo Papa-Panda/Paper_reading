{
  "cells": [
    {
      "cell_type": "markdown",
      "id": "8b2fbfca",
      "metadata": {
        "id": "8b2fbfca"
      },
      "source": [
        "The following additional libraries are needed to run this\n",
        "notebook. Note that running on Colab is experimental, please report a Github\n",
        "issue if you have any problem."
      ]
    },
    {
      "cell_type": "code",
      "execution_count": 1,
      "id": "4d4b16ae",
      "metadata": {
        "id": "4d4b16ae",
        "outputId": "5e6e7700-a6ce-47ef-98b0-9f6fa1459368",
        "colab": {
          "base_uri": "https://localhost:8080/",
          "height": 1000
        }
      },
      "outputs": [
        {
          "output_type": "stream",
          "name": "stdout",
          "text": [
            "Collecting d2l==1.0.3\n",
            "  Downloading d2l-1.0.3-py3-none-any.whl (111 kB)\n",
            "\u001b[2K     \u001b[90m━━━━━━━━━━━━━━━━━━━━━━━━━━━━━━━━━━━━━━━━\u001b[0m \u001b[32m111.7/111.7 kB\u001b[0m \u001b[31m1.4 MB/s\u001b[0m eta \u001b[36m0:00:00\u001b[0m\n",
            "\u001b[?25hCollecting jupyter==1.0.0 (from d2l==1.0.3)\n",
            "  Downloading jupyter-1.0.0-py2.py3-none-any.whl (2.7 kB)\n",
            "Collecting numpy==1.23.5 (from d2l==1.0.3)\n",
            "  Downloading numpy-1.23.5-cp310-cp310-manylinux_2_17_x86_64.manylinux2014_x86_64.whl (17.1 MB)\n",
            "\u001b[2K     \u001b[90m━━━━━━━━━━━━━━━━━━━━━━━━━━━━━━━━━━━━━━━━\u001b[0m \u001b[32m17.1/17.1 MB\u001b[0m \u001b[31m12.8 MB/s\u001b[0m eta \u001b[36m0:00:00\u001b[0m\n",
            "\u001b[?25hCollecting matplotlib==3.7.2 (from d2l==1.0.3)\n",
            "  Downloading matplotlib-3.7.2-cp310-cp310-manylinux_2_17_x86_64.manylinux2014_x86_64.whl (11.6 MB)\n",
            "\u001b[2K     \u001b[90m━━━━━━━━━━━━━━━━━━━━━━━━━━━━━━━━━━━━━━━━\u001b[0m \u001b[32m11.6/11.6 MB\u001b[0m \u001b[31m31.7 MB/s\u001b[0m eta \u001b[36m0:00:00\u001b[0m\n",
            "\u001b[?25hCollecting matplotlib-inline==0.1.6 (from d2l==1.0.3)\n",
            "  Downloading matplotlib_inline-0.1.6-py3-none-any.whl (9.4 kB)\n",
            "Requirement already satisfied: requests==2.31.0 in /usr/local/lib/python3.10/dist-packages (from d2l==1.0.3) (2.31.0)\n",
            "Requirement already satisfied: pandas==2.0.3 in /usr/local/lib/python3.10/dist-packages (from d2l==1.0.3) (2.0.3)\n",
            "Collecting scipy==1.10.1 (from d2l==1.0.3)\n",
            "  Downloading scipy-1.10.1-cp310-cp310-manylinux_2_17_x86_64.manylinux2014_x86_64.whl (34.4 MB)\n",
            "\u001b[2K     \u001b[90m━━━━━━━━━━━━━━━━━━━━━━━━━━━━━━━━━━━━━━━━\u001b[0m \u001b[32m34.4/34.4 MB\u001b[0m \u001b[31m12.5 MB/s\u001b[0m eta \u001b[36m0:00:00\u001b[0m\n",
            "\u001b[?25hRequirement already satisfied: notebook in /usr/local/lib/python3.10/dist-packages (from jupyter==1.0.0->d2l==1.0.3) (6.5.5)\n",
            "Collecting qtconsole (from jupyter==1.0.0->d2l==1.0.3)\n",
            "  Downloading qtconsole-5.5.2-py3-none-any.whl (123 kB)\n",
            "\u001b[2K     \u001b[90m━━━━━━━━━━━━━━━━━━━━━━━━━━━━━━━━━━━━━━━━\u001b[0m \u001b[32m123.4/123.4 kB\u001b[0m \u001b[31m11.1 MB/s\u001b[0m eta \u001b[36m0:00:00\u001b[0m\n",
            "\u001b[?25hRequirement already satisfied: jupyter-console in /usr/local/lib/python3.10/dist-packages (from jupyter==1.0.0->d2l==1.0.3) (6.1.0)\n",
            "Requirement already satisfied: nbconvert in /usr/local/lib/python3.10/dist-packages (from jupyter==1.0.0->d2l==1.0.3) (6.5.4)\n",
            "Requirement already satisfied: ipykernel in /usr/local/lib/python3.10/dist-packages (from jupyter==1.0.0->d2l==1.0.3) (5.5.6)\n",
            "Requirement already satisfied: ipywidgets in /usr/local/lib/python3.10/dist-packages (from jupyter==1.0.0->d2l==1.0.3) (7.7.1)\n",
            "Requirement already satisfied: contourpy>=1.0.1 in /usr/local/lib/python3.10/dist-packages (from matplotlib==3.7.2->d2l==1.0.3) (1.2.1)\n",
            "Requirement already satisfied: cycler>=0.10 in /usr/local/lib/python3.10/dist-packages (from matplotlib==3.7.2->d2l==1.0.3) (0.12.1)\n",
            "Requirement already satisfied: fonttools>=4.22.0 in /usr/local/lib/python3.10/dist-packages (from matplotlib==3.7.2->d2l==1.0.3) (4.53.0)\n",
            "Requirement already satisfied: kiwisolver>=1.0.1 in /usr/local/lib/python3.10/dist-packages (from matplotlib==3.7.2->d2l==1.0.3) (1.4.5)\n",
            "Requirement already satisfied: packaging>=20.0 in /usr/local/lib/python3.10/dist-packages (from matplotlib==3.7.2->d2l==1.0.3) (24.1)\n",
            "Requirement already satisfied: pillow>=6.2.0 in /usr/local/lib/python3.10/dist-packages (from matplotlib==3.7.2->d2l==1.0.3) (9.4.0)\n",
            "Collecting pyparsing<3.1,>=2.3.1 (from matplotlib==3.7.2->d2l==1.0.3)\n",
            "  Downloading pyparsing-3.0.9-py3-none-any.whl (98 kB)\n",
            "\u001b[2K     \u001b[90m━━━━━━━━━━━━━━━━━━━━━━━━━━━━━━━━━━━━━━━━\u001b[0m \u001b[32m98.3/98.3 kB\u001b[0m \u001b[31m8.4 MB/s\u001b[0m eta \u001b[36m0:00:00\u001b[0m\n",
            "\u001b[?25hRequirement already satisfied: python-dateutil>=2.7 in /usr/local/lib/python3.10/dist-packages (from matplotlib==3.7.2->d2l==1.0.3) (2.8.2)\n",
            "Requirement already satisfied: traitlets in /usr/local/lib/python3.10/dist-packages (from matplotlib-inline==0.1.6->d2l==1.0.3) (5.7.1)\n",
            "Requirement already satisfied: pytz>=2020.1 in /usr/local/lib/python3.10/dist-packages (from pandas==2.0.3->d2l==1.0.3) (2023.4)\n",
            "Requirement already satisfied: tzdata>=2022.1 in /usr/local/lib/python3.10/dist-packages (from pandas==2.0.3->d2l==1.0.3) (2024.1)\n",
            "Requirement already satisfied: charset-normalizer<4,>=2 in /usr/local/lib/python3.10/dist-packages (from requests==2.31.0->d2l==1.0.3) (3.3.2)\n",
            "Requirement already satisfied: idna<4,>=2.5 in /usr/local/lib/python3.10/dist-packages (from requests==2.31.0->d2l==1.0.3) (3.7)\n",
            "Requirement already satisfied: urllib3<3,>=1.21.1 in /usr/local/lib/python3.10/dist-packages (from requests==2.31.0->d2l==1.0.3) (2.0.7)\n",
            "Requirement already satisfied: certifi>=2017.4.17 in /usr/local/lib/python3.10/dist-packages (from requests==2.31.0->d2l==1.0.3) (2024.6.2)\n",
            "Requirement already satisfied: six>=1.5 in /usr/local/lib/python3.10/dist-packages (from python-dateutil>=2.7->matplotlib==3.7.2->d2l==1.0.3) (1.16.0)\n",
            "Requirement already satisfied: ipython-genutils in /usr/local/lib/python3.10/dist-packages (from ipykernel->jupyter==1.0.0->d2l==1.0.3) (0.2.0)\n",
            "Requirement already satisfied: ipython>=5.0.0 in /usr/local/lib/python3.10/dist-packages (from ipykernel->jupyter==1.0.0->d2l==1.0.3) (7.34.0)\n",
            "Requirement already satisfied: jupyter-client in /usr/local/lib/python3.10/dist-packages (from ipykernel->jupyter==1.0.0->d2l==1.0.3) (6.1.12)\n",
            "Requirement already satisfied: tornado>=4.2 in /usr/local/lib/python3.10/dist-packages (from ipykernel->jupyter==1.0.0->d2l==1.0.3) (6.3.3)\n",
            "Requirement already satisfied: widgetsnbextension~=3.6.0 in /usr/local/lib/python3.10/dist-packages (from ipywidgets->jupyter==1.0.0->d2l==1.0.3) (3.6.6)\n",
            "Requirement already satisfied: jupyterlab-widgets>=1.0.0 in /usr/local/lib/python3.10/dist-packages (from ipywidgets->jupyter==1.0.0->d2l==1.0.3) (3.0.11)\n",
            "Requirement already satisfied: prompt-toolkit!=3.0.0,!=3.0.1,<3.1.0,>=2.0.0 in /usr/local/lib/python3.10/dist-packages (from jupyter-console->jupyter==1.0.0->d2l==1.0.3) (3.0.47)\n",
            "Requirement already satisfied: pygments in /usr/local/lib/python3.10/dist-packages (from jupyter-console->jupyter==1.0.0->d2l==1.0.3) (2.16.1)\n",
            "Requirement already satisfied: lxml in /usr/local/lib/python3.10/dist-packages (from nbconvert->jupyter==1.0.0->d2l==1.0.3) (4.9.4)\n",
            "Requirement already satisfied: beautifulsoup4 in /usr/local/lib/python3.10/dist-packages (from nbconvert->jupyter==1.0.0->d2l==1.0.3) (4.12.3)\n",
            "Requirement already satisfied: bleach in /usr/local/lib/python3.10/dist-packages (from nbconvert->jupyter==1.0.0->d2l==1.0.3) (6.1.0)\n",
            "Requirement already satisfied: defusedxml in /usr/local/lib/python3.10/dist-packages (from nbconvert->jupyter==1.0.0->d2l==1.0.3) (0.7.1)\n",
            "Requirement already satisfied: entrypoints>=0.2.2 in /usr/local/lib/python3.10/dist-packages (from nbconvert->jupyter==1.0.0->d2l==1.0.3) (0.4)\n",
            "Requirement already satisfied: jinja2>=3.0 in /usr/local/lib/python3.10/dist-packages (from nbconvert->jupyter==1.0.0->d2l==1.0.3) (3.1.4)\n",
            "Requirement already satisfied: jupyter-core>=4.7 in /usr/local/lib/python3.10/dist-packages (from nbconvert->jupyter==1.0.0->d2l==1.0.3) (5.7.2)\n",
            "Requirement already satisfied: jupyterlab-pygments in /usr/local/lib/python3.10/dist-packages (from nbconvert->jupyter==1.0.0->d2l==1.0.3) (0.3.0)\n",
            "Requirement already satisfied: MarkupSafe>=2.0 in /usr/local/lib/python3.10/dist-packages (from nbconvert->jupyter==1.0.0->d2l==1.0.3) (2.1.5)\n",
            "Requirement already satisfied: mistune<2,>=0.8.1 in /usr/local/lib/python3.10/dist-packages (from nbconvert->jupyter==1.0.0->d2l==1.0.3) (0.8.4)\n",
            "Requirement already satisfied: nbclient>=0.5.0 in /usr/local/lib/python3.10/dist-packages (from nbconvert->jupyter==1.0.0->d2l==1.0.3) (0.10.0)\n",
            "Requirement already satisfied: nbformat>=5.1 in /usr/local/lib/python3.10/dist-packages (from nbconvert->jupyter==1.0.0->d2l==1.0.3) (5.10.4)\n",
            "Requirement already satisfied: pandocfilters>=1.4.1 in /usr/local/lib/python3.10/dist-packages (from nbconvert->jupyter==1.0.0->d2l==1.0.3) (1.5.1)\n",
            "Requirement already satisfied: tinycss2 in /usr/local/lib/python3.10/dist-packages (from nbconvert->jupyter==1.0.0->d2l==1.0.3) (1.3.0)\n",
            "Requirement already satisfied: pyzmq<25,>=17 in /usr/local/lib/python3.10/dist-packages (from notebook->jupyter==1.0.0->d2l==1.0.3) (24.0.1)\n",
            "Requirement already satisfied: argon2-cffi in /usr/local/lib/python3.10/dist-packages (from notebook->jupyter==1.0.0->d2l==1.0.3) (23.1.0)\n",
            "Requirement already satisfied: nest-asyncio>=1.5 in /usr/local/lib/python3.10/dist-packages (from notebook->jupyter==1.0.0->d2l==1.0.3) (1.6.0)\n",
            "Requirement already satisfied: Send2Trash>=1.8.0 in /usr/local/lib/python3.10/dist-packages (from notebook->jupyter==1.0.0->d2l==1.0.3) (1.8.3)\n",
            "Requirement already satisfied: terminado>=0.8.3 in /usr/local/lib/python3.10/dist-packages (from notebook->jupyter==1.0.0->d2l==1.0.3) (0.18.1)\n",
            "Requirement already satisfied: prometheus-client in /usr/local/lib/python3.10/dist-packages (from notebook->jupyter==1.0.0->d2l==1.0.3) (0.20.0)\n",
            "Requirement already satisfied: nbclassic>=0.4.7 in /usr/local/lib/python3.10/dist-packages (from notebook->jupyter==1.0.0->d2l==1.0.3) (1.1.0)\n",
            "Collecting qtpy>=2.4.0 (from qtconsole->jupyter==1.0.0->d2l==1.0.3)\n",
            "  Downloading QtPy-2.4.1-py3-none-any.whl (93 kB)\n",
            "\u001b[2K     \u001b[90m━━━━━━━━━━━━━━━━━━━━━━━━━━━━━━━━━━━━━━━━\u001b[0m \u001b[32m93.5/93.5 kB\u001b[0m \u001b[31m10.3 MB/s\u001b[0m eta \u001b[36m0:00:00\u001b[0m\n",
            "\u001b[?25hRequirement already satisfied: setuptools>=18.5 in /usr/local/lib/python3.10/dist-packages (from ipython>=5.0.0->ipykernel->jupyter==1.0.0->d2l==1.0.3) (67.7.2)\n",
            "Collecting jedi>=0.16 (from ipython>=5.0.0->ipykernel->jupyter==1.0.0->d2l==1.0.3)\n",
            "  Downloading jedi-0.19.1-py2.py3-none-any.whl (1.6 MB)\n",
            "\u001b[2K     \u001b[90m━━━━━━━━━━━━━━━━━━━━━━━━━━━━━━━━━━━━━━━━\u001b[0m \u001b[32m1.6/1.6 MB\u001b[0m \u001b[31m52.9 MB/s\u001b[0m eta \u001b[36m0:00:00\u001b[0m\n",
            "\u001b[?25hRequirement already satisfied: decorator in /usr/local/lib/python3.10/dist-packages (from ipython>=5.0.0->ipykernel->jupyter==1.0.0->d2l==1.0.3) (4.4.2)\n",
            "Requirement already satisfied: pickleshare in /usr/local/lib/python3.10/dist-packages (from ipython>=5.0.0->ipykernel->jupyter==1.0.0->d2l==1.0.3) (0.7.5)\n",
            "Requirement already satisfied: backcall in /usr/local/lib/python3.10/dist-packages (from ipython>=5.0.0->ipykernel->jupyter==1.0.0->d2l==1.0.3) (0.2.0)\n",
            "Requirement already satisfied: pexpect>4.3 in /usr/local/lib/python3.10/dist-packages (from ipython>=5.0.0->ipykernel->jupyter==1.0.0->d2l==1.0.3) (4.9.0)\n",
            "Requirement already satisfied: platformdirs>=2.5 in /usr/local/lib/python3.10/dist-packages (from jupyter-core>=4.7->nbconvert->jupyter==1.0.0->d2l==1.0.3) (4.2.2)\n",
            "Requirement already satisfied: notebook-shim>=0.2.3 in /usr/local/lib/python3.10/dist-packages (from nbclassic>=0.4.7->notebook->jupyter==1.0.0->d2l==1.0.3) (0.2.4)\n",
            "Requirement already satisfied: fastjsonschema>=2.15 in /usr/local/lib/python3.10/dist-packages (from nbformat>=5.1->nbconvert->jupyter==1.0.0->d2l==1.0.3) (2.20.0)\n",
            "Requirement already satisfied: jsonschema>=2.6 in /usr/local/lib/python3.10/dist-packages (from nbformat>=5.1->nbconvert->jupyter==1.0.0->d2l==1.0.3) (4.19.2)\n",
            "Requirement already satisfied: wcwidth in /usr/local/lib/python3.10/dist-packages (from prompt-toolkit!=3.0.0,!=3.0.1,<3.1.0,>=2.0.0->jupyter-console->jupyter==1.0.0->d2l==1.0.3) (0.2.13)\n",
            "Requirement already satisfied: ptyprocess in /usr/local/lib/python3.10/dist-packages (from terminado>=0.8.3->notebook->jupyter==1.0.0->d2l==1.0.3) (0.7.0)\n",
            "Requirement already satisfied: argon2-cffi-bindings in /usr/local/lib/python3.10/dist-packages (from argon2-cffi->notebook->jupyter==1.0.0->d2l==1.0.3) (21.2.0)\n",
            "Requirement already satisfied: soupsieve>1.2 in /usr/local/lib/python3.10/dist-packages (from beautifulsoup4->nbconvert->jupyter==1.0.0->d2l==1.0.3) (2.5)\n",
            "Requirement already satisfied: webencodings in /usr/local/lib/python3.10/dist-packages (from bleach->nbconvert->jupyter==1.0.0->d2l==1.0.3) (0.5.1)\n",
            "Requirement already satisfied: parso<0.9.0,>=0.8.3 in /usr/local/lib/python3.10/dist-packages (from jedi>=0.16->ipython>=5.0.0->ipykernel->jupyter==1.0.0->d2l==1.0.3) (0.8.4)\n",
            "Requirement already satisfied: attrs>=22.2.0 in /usr/local/lib/python3.10/dist-packages (from jsonschema>=2.6->nbformat>=5.1->nbconvert->jupyter==1.0.0->d2l==1.0.3) (23.2.0)\n",
            "Requirement already satisfied: jsonschema-specifications>=2023.03.6 in /usr/local/lib/python3.10/dist-packages (from jsonschema>=2.6->nbformat>=5.1->nbconvert->jupyter==1.0.0->d2l==1.0.3) (2023.12.1)\n",
            "Requirement already satisfied: referencing>=0.28.4 in /usr/local/lib/python3.10/dist-packages (from jsonschema>=2.6->nbformat>=5.1->nbconvert->jupyter==1.0.0->d2l==1.0.3) (0.35.1)\n",
            "Requirement already satisfied: rpds-py>=0.7.1 in /usr/local/lib/python3.10/dist-packages (from jsonschema>=2.6->nbformat>=5.1->nbconvert->jupyter==1.0.0->d2l==1.0.3) (0.18.1)\n",
            "Requirement already satisfied: jupyter-server<3,>=1.8 in /usr/local/lib/python3.10/dist-packages (from notebook-shim>=0.2.3->nbclassic>=0.4.7->notebook->jupyter==1.0.0->d2l==1.0.3) (1.24.0)\n",
            "Requirement already satisfied: cffi>=1.0.1 in /usr/local/lib/python3.10/dist-packages (from argon2-cffi-bindings->argon2-cffi->notebook->jupyter==1.0.0->d2l==1.0.3) (1.16.0)\n",
            "Requirement already satisfied: pycparser in /usr/local/lib/python3.10/dist-packages (from cffi>=1.0.1->argon2-cffi-bindings->argon2-cffi->notebook->jupyter==1.0.0->d2l==1.0.3) (2.22)\n",
            "Requirement already satisfied: anyio<4,>=3.1.0 in /usr/local/lib/python3.10/dist-packages (from jupyter-server<3,>=1.8->notebook-shim>=0.2.3->nbclassic>=0.4.7->notebook->jupyter==1.0.0->d2l==1.0.3) (3.7.1)\n",
            "Requirement already satisfied: websocket-client in /usr/local/lib/python3.10/dist-packages (from jupyter-server<3,>=1.8->notebook-shim>=0.2.3->nbclassic>=0.4.7->notebook->jupyter==1.0.0->d2l==1.0.3) (1.8.0)\n",
            "Requirement already satisfied: sniffio>=1.1 in /usr/local/lib/python3.10/dist-packages (from anyio<4,>=3.1.0->jupyter-server<3,>=1.8->notebook-shim>=0.2.3->nbclassic>=0.4.7->notebook->jupyter==1.0.0->d2l==1.0.3) (1.3.1)\n",
            "Requirement already satisfied: exceptiongroup in /usr/local/lib/python3.10/dist-packages (from anyio<4,>=3.1.0->jupyter-server<3,>=1.8->notebook-shim>=0.2.3->nbclassic>=0.4.7->notebook->jupyter==1.0.0->d2l==1.0.3) (1.2.1)\n",
            "Installing collected packages: qtpy, pyparsing, numpy, matplotlib-inline, jedi, scipy, matplotlib, qtconsole, jupyter, d2l\n",
            "  Attempting uninstall: pyparsing\n",
            "    Found existing installation: pyparsing 3.1.2\n",
            "    Uninstalling pyparsing-3.1.2:\n",
            "      Successfully uninstalled pyparsing-3.1.2\n",
            "  Attempting uninstall: numpy\n",
            "    Found existing installation: numpy 1.25.2\n",
            "    Uninstalling numpy-1.25.2:\n",
            "      Successfully uninstalled numpy-1.25.2\n",
            "  Attempting uninstall: matplotlib-inline\n",
            "    Found existing installation: matplotlib-inline 0.1.7\n",
            "    Uninstalling matplotlib-inline-0.1.7:\n",
            "      Successfully uninstalled matplotlib-inline-0.1.7\n",
            "  Attempting uninstall: scipy\n",
            "    Found existing installation: scipy 1.11.4\n",
            "    Uninstalling scipy-1.11.4:\n",
            "      Successfully uninstalled scipy-1.11.4\n",
            "  Attempting uninstall: matplotlib\n",
            "    Found existing installation: matplotlib 3.7.1\n",
            "    Uninstalling matplotlib-3.7.1:\n",
            "      Successfully uninstalled matplotlib-3.7.1\n",
            "\u001b[31mERROR: pip's dependency resolver does not currently take into account all the packages that are installed. This behaviour is the source of the following dependency conflicts.\n",
            "chex 0.1.86 requires numpy>=1.24.1, but you have numpy 1.23.5 which is incompatible.\n",
            "pandas-stubs 2.0.3.230814 requires numpy>=1.25.0; python_version >= \"3.9\", but you have numpy 1.23.5 which is incompatible.\u001b[0m\u001b[31m\n",
            "\u001b[0mSuccessfully installed d2l-1.0.3 jedi-0.19.1 jupyter-1.0.0 matplotlib-3.7.2 matplotlib-inline-0.1.6 numpy-1.23.5 pyparsing-3.0.9 qtconsole-5.5.2 qtpy-2.4.1 scipy-1.10.1\n"
          ]
        },
        {
          "output_type": "display_data",
          "data": {
            "application/vnd.colab-display-data+json": {
              "pip_warning": {
                "packages": [
                  "matplotlib",
                  "matplotlib_inline",
                  "mpl_toolkits",
                  "numpy"
                ]
              },
              "id": "a8d66c62198f49bbb71db2cff9e074d7"
            }
          },
          "metadata": {}
        }
      ],
      "source": [
        "# !pip install git+https://github.com/d2l-ai/d2l-zh@release  # installing d2l\n",
        "!pip install d2l==1.0.3\n"
      ]
    },
    {
      "cell_type": "markdown",
      "id": "3b3e0a72",
      "metadata": {
        "origin_pos": 0,
        "id": "3b3e0a72"
      },
      "source": [
        "# 线性回归的从零开始实现\n",
        ":label:`sec_linear_scratch`\n",
        "\n",
        "在了解线性回归的关键思想之后，我们可以开始通过代码来动手实现线性回归了。\n",
        "在这一节中，(**我们将从零开始实现整个方法，\n",
        "包括数据流水线、模型、损失函数和小批量随机梯度下降优化器**)。\n",
        "虽然现代的深度学习框架几乎可以自动化地进行所有这些工作，但从零开始实现可以确保我们真正知道自己在做什么。\n",
        "同时，了解更细致的工作原理将方便我们自定义模型、自定义层或自定义损失函数。\n",
        "在这一节中，我们将只使用张量和自动求导。\n",
        "在之后的章节中，我们会充分利用深度学习框架的优势，介绍更简洁的实现方式。\n"
      ]
    },
    {
      "cell_type": "code",
      "execution_count": 1,
      "id": "c6f4cd71",
      "metadata": {
        "execution": {
          "iopub.execute_input": "2023-08-18T07:02:01.462670Z",
          "iopub.status.busy": "2023-08-18T07:02:01.461918Z",
          "iopub.status.idle": "2023-08-18T07:02:04.547486Z",
          "shell.execute_reply": "2023-08-18T07:02:04.546281Z"
        },
        "origin_pos": 2,
        "tab": [
          "pytorch"
        ],
        "id": "c6f4cd71"
      },
      "outputs": [],
      "source": [
        "%matplotlib inline\n",
        "import random\n",
        "import torch\n",
        "from d2l import torch as d2l"
      ]
    },
    {
      "cell_type": "markdown",
      "id": "18283191",
      "metadata": {
        "origin_pos": 5,
        "id": "18283191"
      },
      "source": [
        "## 生成数据集\n",
        "\n",
        "为了简单起见，我们将[**根据带有噪声的线性模型构造一个人造数据集。**]\n",
        "我们的任务是使用这个有限样本的数据集来恢复这个模型的参数。\n",
        "我们将使用低维数据，这样可以很容易地将其可视化。\n",
        "在下面的代码中，我们生成一个包含1000个样本的数据集，\n",
        "每个样本包含从标准正态分布中采样的2个特征。\n",
        "我们的合成数据集是一个矩阵$\\mathbf{X}\\in \\mathbb{R}^{1000 \\times 2}$。\n",
        "\n",
        "(**我们使用线性模型参数$\\mathbf{w} = [2, -3.4]^\\top$、$b = 4.2$\n",
        "和噪声项$\\epsilon$生成数据集及其标签：\n",
        "\n",
        "$$\\mathbf{y}= \\mathbf{X} \\mathbf{w} + b + \\mathbf\\epsilon.$$\n",
        "**)\n",
        "\n",
        "$\\epsilon$可以视为模型预测和标签时的潜在观测误差。\n",
        "在这里我们认为标准假设成立，即$\\epsilon$服从均值为0的正态分布。\n",
        "为了简化问题，我们将标准差设为0.01。\n",
        "下面的代码生成合成数据集。\n"
      ]
    },
    {
      "cell_type": "code",
      "execution_count": 2,
      "id": "54efeafe",
      "metadata": {
        "execution": {
          "iopub.execute_input": "2023-08-18T07:02:04.553500Z",
          "iopub.status.busy": "2023-08-18T07:02:04.552544Z",
          "iopub.status.idle": "2023-08-18T07:02:04.560226Z",
          "shell.execute_reply": "2023-08-18T07:02:04.559125Z"
        },
        "origin_pos": 6,
        "tab": [
          "pytorch"
        ],
        "id": "54efeafe"
      },
      "outputs": [],
      "source": [
        "def synthetic_data(w, b, num_examples):\n",
        "    \"\"\"生成y=Xw+b+噪声\"\"\"\n",
        "    X = torch.normal(0, 1, (num_examples, len(w)))\n",
        "    y = torch.matmul(X, w) + b\n",
        "    y += torch.normal(0, 0.01, y.shape)\n",
        "    return X, y.reshape((-1, 1))"
      ]
    },
    {
      "cell_type": "code",
      "execution_count": 3,
      "id": "1e60261c",
      "metadata": {
        "execution": {
          "iopub.execute_input": "2023-08-18T07:02:04.564932Z",
          "iopub.status.busy": "2023-08-18T07:02:04.564190Z",
          "iopub.status.idle": "2023-08-18T07:02:04.575309Z",
          "shell.execute_reply": "2023-08-18T07:02:04.574216Z"
        },
        "origin_pos": 8,
        "tab": [
          "pytorch"
        ],
        "id": "1e60261c"
      },
      "outputs": [],
      "source": [
        "true_w = torch.tensor([2, -3.4])\n",
        "true_b = 4.2\n",
        "features, labels = synthetic_data(true_w, true_b, 1000)"
      ]
    },
    {
      "cell_type": "markdown",
      "id": "772256cb",
      "metadata": {
        "origin_pos": 9,
        "id": "772256cb"
      },
      "source": [
        "注意，[**`features`中的每一行都包含一个二维数据样本，\n",
        "`labels`中的每一行都包含一维标签值（一个标量）**]。\n"
      ]
    },
    {
      "cell_type": "code",
      "execution_count": 4,
      "id": "ec13e4f8",
      "metadata": {
        "execution": {
          "iopub.execute_input": "2023-08-18T07:02:04.580067Z",
          "iopub.status.busy": "2023-08-18T07:02:04.579449Z",
          "iopub.status.idle": "2023-08-18T07:02:04.587391Z",
          "shell.execute_reply": "2023-08-18T07:02:04.586306Z"
        },
        "origin_pos": 10,
        "tab": [
          "pytorch"
        ],
        "id": "ec13e4f8",
        "outputId": "63e034ff-480b-4e02-e914-cdebf0119f1b",
        "colab": {
          "base_uri": "https://localhost:8080/"
        }
      },
      "outputs": [
        {
          "output_type": "stream",
          "name": "stdout",
          "text": [
            "features: tensor([-0.8293,  0.6693]) \n",
            "label: tensor([0.2681])\n"
          ]
        }
      ],
      "source": [
        "print('features:', features[0],'\\nlabel:', labels[0])"
      ]
    },
    {
      "cell_type": "markdown",
      "id": "6b8c624b",
      "metadata": {
        "origin_pos": 11,
        "id": "6b8c624b"
      },
      "source": [
        "通过生成第二个特征`features[:, 1]`和`labels`的散点图，\n",
        "可以直观观察到两者之间的线性关系。\n"
      ]
    },
    {
      "cell_type": "code",
      "execution_count": 5,
      "id": "53ef493c",
      "metadata": {
        "execution": {
          "iopub.execute_input": "2023-08-18T07:02:04.592131Z",
          "iopub.status.busy": "2023-08-18T07:02:04.591402Z",
          "iopub.status.idle": "2023-08-18T07:02:04.829190Z",
          "shell.execute_reply": "2023-08-18T07:02:04.827927Z"
        },
        "origin_pos": 12,
        "tab": [
          "pytorch"
        ],
        "id": "53ef493c",
        "outputId": "f132d655-2b0d-4aab-d67d-a351d79bfa62",
        "colab": {
          "base_uri": "https://localhost:8080/",
          "height": 247
        }
      },
      "outputs": [
        {
          "output_type": "display_data",
          "data": {
            "text/plain": [
              "<Figure size 350x250 with 1 Axes>"
            ],
            "image/svg+xml": "<?xml version=\"1.0\" encoding=\"utf-8\" standalone=\"no\"?>\n<!DOCTYPE svg PUBLIC \"-//W3C//DTD SVG 1.1//EN\"\n  \"http://www.w3.org/Graphics/SVG/1.1/DTD/svg11.dtd\">\n<svg xmlns:xlink=\"http://www.w3.org/1999/xlink\" width=\"231.442187pt\" height=\"169.678125pt\" viewBox=\"0 0 231.442187 169.678125\" xmlns=\"http://www.w3.org/2000/svg\" version=\"1.1\">\n <metadata>\n  <rdf:RDF xmlns:dc=\"http://purl.org/dc/elements/1.1/\" xmlns:cc=\"http://creativecommons.org/ns#\" xmlns:rdf=\"http://www.w3.org/1999/02/22-rdf-syntax-ns#\">\n   <cc:Work>\n    <dc:type rdf:resource=\"http://purl.org/dc/dcmitype/StillImage\"/>\n    <dc:date>2024-06-30T05:17:01.220648</dc:date>\n    <dc:format>image/svg+xml</dc:format>\n    <dc:creator>\n     <cc:Agent>\n      <dc:title>Matplotlib v3.7.2, https://matplotlib.org/</dc:title>\n     </cc:Agent>\n    </dc:creator>\n   </cc:Work>\n  </rdf:RDF>\n </metadata>\n <defs>\n  <style type=\"text/css\">*{stroke-linejoin: round; stroke-linecap: butt}</style>\n </defs>\n <g id=\"figure_1\">\n  <g id=\"patch_1\">\n   <path d=\"M 0 169.678125 \nL 231.442187 169.678125 \nL 231.442187 0 \nL 0 0 \nz\n\" style=\"fill: #ffffff\"/>\n  </g>\n  <g id=\"axes_1\">\n   <g id=\"patch_2\">\n    <path d=\"M 28.942188 145.8 \nL 224.242188 145.8 \nL 224.242188 7.2 \nL 28.942188 7.2 \nz\n\" style=\"fill: #ffffff\"/>\n   </g>\n   <g id=\"PathCollection_1\">\n    <defs>\n     <path id=\"m5123090806\" d=\"M 0 0.5 \nC 0.132602 0.5 0.25979 0.447317 0.353553 0.353553 \nC 0.447317 0.25979 0.5 0.132602 0.5 0 \nC 0.5 -0.132602 0.447317 -0.25979 0.353553 -0.353553 \nC 0.25979 -0.447317 0.132602 -0.5 0 -0.5 \nC -0.132602 -0.5 -0.25979 -0.447317 -0.353553 -0.353553 \nC -0.447317 -0.25979 -0.5 -0.132602 -0.5 0 \nC -0.5 0.132602 -0.447317 0.25979 -0.353553 0.353553 \nC -0.25979 0.447317 -0.132602 0.5 0 0.5 \nz\n\" style=\"stroke: #1f77b4\"/>\n    </defs>\n    <g clip-path=\"url(#p7e97c023ac)\">\n     <use xlink:href=\"#m5123090806\" x=\"150.450884\" y=\"95.262473\" style=\"fill: #1f77b4; stroke: #1f77b4\"/>\n     <use xlink:href=\"#m5123090806\" x=\"135.00222\" y=\"75.305055\" style=\"fill: #1f77b4; stroke: #1f77b4\"/>\n     <use xlink:href=\"#m5123090806\" x=\"108.309547\" y=\"54.90984\" style=\"fill: #1f77b4; stroke: #1f77b4\"/>\n     <use xlink:href=\"#m5123090806\" x=\"131.443481\" y=\"80.951511\" style=\"fill: #1f77b4; stroke: #1f77b4\"/>\n     <use xlink:href=\"#m5123090806\" x=\"140.368819\" y=\"64.667345\" style=\"fill: #1f77b4; stroke: #1f77b4\"/>\n     <use xlink:href=\"#m5123090806\" x=\"178.776989\" y=\"105.429749\" style=\"fill: #1f77b4; stroke: #1f77b4\"/>\n     <use xlink:href=\"#m5123090806\" x=\"115.018516\" y=\"47.012997\" style=\"fill: #1f77b4; stroke: #1f77b4\"/>\n     <use xlink:href=\"#m5123090806\" x=\"117.670569\" y=\"80.502118\" style=\"fill: #1f77b4; stroke: #1f77b4\"/>\n     <use xlink:href=\"#m5123090806\" x=\"96.035456\" y=\"44.19898\" style=\"fill: #1f77b4; stroke: #1f77b4\"/>\n     <use xlink:href=\"#m5123090806\" x=\"161.454833\" y=\"105.126475\" style=\"fill: #1f77b4; stroke: #1f77b4\"/>\n     <use xlink:href=\"#m5123090806\" x=\"163.55232\" y=\"90.211887\" style=\"fill: #1f77b4; stroke: #1f77b4\"/>\n     <use xlink:href=\"#m5123090806\" x=\"128.754151\" y=\"55.800934\" style=\"fill: #1f77b4; stroke: #1f77b4\"/>\n     <use xlink:href=\"#m5123090806\" x=\"131.507486\" y=\"66.800407\" style=\"fill: #1f77b4; stroke: #1f77b4\"/>\n     <use xlink:href=\"#m5123090806\" x=\"102.688578\" y=\"51.821097\" style=\"fill: #1f77b4; stroke: #1f77b4\"/>\n     <use xlink:href=\"#m5123090806\" x=\"152.107385\" y=\"80.590204\" style=\"fill: #1f77b4; stroke: #1f77b4\"/>\n     <use xlink:href=\"#m5123090806\" x=\"119.591941\" y=\"53.026476\" style=\"fill: #1f77b4; stroke: #1f77b4\"/>\n     <use xlink:href=\"#m5123090806\" x=\"148.385016\" y=\"102.544218\" style=\"fill: #1f77b4; stroke: #1f77b4\"/>\n     <use xlink:href=\"#m5123090806\" x=\"150.296029\" y=\"75.430949\" style=\"fill: #1f77b4; stroke: #1f77b4\"/>\n     <use xlink:href=\"#m5123090806\" x=\"160.087299\" y=\"80.111551\" style=\"fill: #1f77b4; stroke: #1f77b4\"/>\n     <use xlink:href=\"#m5123090806\" x=\"92.812063\" y=\"60.039291\" style=\"fill: #1f77b4; stroke: #1f77b4\"/>\n     <use xlink:href=\"#m5123090806\" x=\"110.801971\" y=\"78.209828\" style=\"fill: #1f77b4; stroke: #1f77b4\"/>\n     <use xlink:href=\"#m5123090806\" x=\"126.012279\" y=\"78.317359\" style=\"fill: #1f77b4; stroke: #1f77b4\"/>\n     <use xlink:href=\"#m5123090806\" x=\"138.325322\" y=\"95.239989\" style=\"fill: #1f77b4; stroke: #1f77b4\"/>\n     <use xlink:href=\"#m5123090806\" x=\"123.418636\" y=\"61.059326\" style=\"fill: #1f77b4; stroke: #1f77b4\"/>\n     <use xlink:href=\"#m5123090806\" x=\"146.960954\" y=\"75.331403\" style=\"fill: #1f77b4; stroke: #1f77b4\"/>\n     <use xlink:href=\"#m5123090806\" x=\"138.652856\" y=\"82.540218\" style=\"fill: #1f77b4; stroke: #1f77b4\"/>\n     <use xlink:href=\"#m5123090806\" x=\"141.234266\" y=\"53.948189\" style=\"fill: #1f77b4; stroke: #1f77b4\"/>\n     <use xlink:href=\"#m5123090806\" x=\"125.241876\" y=\"91.410738\" style=\"fill: #1f77b4; stroke: #1f77b4\"/>\n     <use xlink:href=\"#m5123090806\" x=\"126.178026\" y=\"84.026067\" style=\"fill: #1f77b4; stroke: #1f77b4\"/>\n     <use xlink:href=\"#m5123090806\" x=\"117.08351\" y=\"65.024921\" style=\"fill: #1f77b4; stroke: #1f77b4\"/>\n     <use xlink:href=\"#m5123090806\" x=\"82.204863\" y=\"57.155578\" style=\"fill: #1f77b4; stroke: #1f77b4\"/>\n     <use xlink:href=\"#m5123090806\" x=\"137.525213\" y=\"68.363849\" style=\"fill: #1f77b4; stroke: #1f77b4\"/>\n     <use xlink:href=\"#m5123090806\" x=\"143.068242\" y=\"73.344132\" style=\"fill: #1f77b4; stroke: #1f77b4\"/>\n     <use xlink:href=\"#m5123090806\" x=\"163.422015\" y=\"85.889025\" style=\"fill: #1f77b4; stroke: #1f77b4\"/>\n     <use xlink:href=\"#m5123090806\" x=\"191.120356\" y=\"109.312779\" style=\"fill: #1f77b4; stroke: #1f77b4\"/>\n     <use xlink:href=\"#m5123090806\" x=\"150.993201\" y=\"95.058939\" style=\"fill: #1f77b4; stroke: #1f77b4\"/>\n     <use xlink:href=\"#m5123090806\" x=\"134.285703\" y=\"76.764613\" style=\"fill: #1f77b4; stroke: #1f77b4\"/>\n     <use xlink:href=\"#m5123090806\" x=\"136.434882\" y=\"73.065555\" style=\"fill: #1f77b4; stroke: #1f77b4\"/>\n     <use xlink:href=\"#m5123090806\" x=\"121.67704\" y=\"68.941825\" style=\"fill: #1f77b4; stroke: #1f77b4\"/>\n     <use xlink:href=\"#m5123090806\" x=\"145.838559\" y=\"79.124931\" style=\"fill: #1f77b4; stroke: #1f77b4\"/>\n     <use xlink:href=\"#m5123090806\" x=\"126.636664\" y=\"59.43576\" style=\"fill: #1f77b4; stroke: #1f77b4\"/>\n     <use xlink:href=\"#m5123090806\" x=\"134.734992\" y=\"99.882468\" style=\"fill: #1f77b4; stroke: #1f77b4\"/>\n     <use xlink:href=\"#m5123090806\" x=\"114.978105\" y=\"60.142173\" style=\"fill: #1f77b4; stroke: #1f77b4\"/>\n     <use xlink:href=\"#m5123090806\" x=\"132.017003\" y=\"76.037098\" style=\"fill: #1f77b4; stroke: #1f77b4\"/>\n     <use xlink:href=\"#m5123090806\" x=\"145.032114\" y=\"95.297812\" style=\"fill: #1f77b4; stroke: #1f77b4\"/>\n     <use xlink:href=\"#m5123090806\" x=\"122.479957\" y=\"74.627383\" style=\"fill: #1f77b4; stroke: #1f77b4\"/>\n     <use xlink:href=\"#m5123090806\" x=\"170.515234\" y=\"113.444895\" style=\"fill: #1f77b4; stroke: #1f77b4\"/>\n     <use xlink:href=\"#m5123090806\" x=\"135.2486\" y=\"82.334118\" style=\"fill: #1f77b4; stroke: #1f77b4\"/>\n     <use xlink:href=\"#m5123090806\" x=\"175.862828\" y=\"99.407053\" style=\"fill: #1f77b4; stroke: #1f77b4\"/>\n     <use xlink:href=\"#m5123090806\" x=\"104.827606\" y=\"54.094097\" style=\"fill: #1f77b4; stroke: #1f77b4\"/>\n     <use xlink:href=\"#m5123090806\" x=\"103.497792\" y=\"62.456259\" style=\"fill: #1f77b4; stroke: #1f77b4\"/>\n     <use xlink:href=\"#m5123090806\" x=\"126.224557\" y=\"81.813586\" style=\"fill: #1f77b4; stroke: #1f77b4\"/>\n     <use xlink:href=\"#m5123090806\" x=\"186.559413\" y=\"113.60658\" style=\"fill: #1f77b4; stroke: #1f77b4\"/>\n     <use xlink:href=\"#m5123090806\" x=\"148.538504\" y=\"77.483223\" style=\"fill: #1f77b4; stroke: #1f77b4\"/>\n     <use xlink:href=\"#m5123090806\" x=\"182.323334\" y=\"100.032005\" style=\"fill: #1f77b4; stroke: #1f77b4\"/>\n     <use xlink:href=\"#m5123090806\" x=\"77.475773\" y=\"59.119916\" style=\"fill: #1f77b4; stroke: #1f77b4\"/>\n     <use xlink:href=\"#m5123090806\" x=\"88.406201\" y=\"33.31983\" style=\"fill: #1f77b4; stroke: #1f77b4\"/>\n     <use xlink:href=\"#m5123090806\" x=\"94.331455\" y=\"48.021299\" style=\"fill: #1f77b4; stroke: #1f77b4\"/>\n     <use xlink:href=\"#m5123090806\" x=\"136.421683\" y=\"83.690829\" style=\"fill: #1f77b4; stroke: #1f77b4\"/>\n     <use xlink:href=\"#m5123090806\" x=\"144.434176\" y=\"73.675465\" style=\"fill: #1f77b4; stroke: #1f77b4\"/>\n     <use xlink:href=\"#m5123090806\" x=\"148.998131\" y=\"82.18586\" style=\"fill: #1f77b4; stroke: #1f77b4\"/>\n     <use xlink:href=\"#m5123090806\" x=\"123.624966\" y=\"64.487749\" style=\"fill: #1f77b4; stroke: #1f77b4\"/>\n     <use xlink:href=\"#m5123090806\" x=\"164.618636\" y=\"95.078296\" style=\"fill: #1f77b4; stroke: #1f77b4\"/>\n     <use xlink:href=\"#m5123090806\" x=\"142.443643\" y=\"85.719777\" style=\"fill: #1f77b4; stroke: #1f77b4\"/>\n     <use xlink:href=\"#m5123090806\" x=\"147.197285\" y=\"96.831334\" style=\"fill: #1f77b4; stroke: #1f77b4\"/>\n     <use xlink:href=\"#m5123090806\" x=\"124.151881\" y=\"78.63305\" style=\"fill: #1f77b4; stroke: #1f77b4\"/>\n     <use xlink:href=\"#m5123090806\" x=\"105.321331\" y=\"57.980273\" style=\"fill: #1f77b4; stroke: #1f77b4\"/>\n     <use xlink:href=\"#m5123090806\" x=\"139.32777\" y=\"65.801385\" style=\"fill: #1f77b4; stroke: #1f77b4\"/>\n     <use xlink:href=\"#m5123090806\" x=\"110.622435\" y=\"57.486251\" style=\"fill: #1f77b4; stroke: #1f77b4\"/>\n     <use xlink:href=\"#m5123090806\" x=\"171.348464\" y=\"104.344125\" style=\"fill: #1f77b4; stroke: #1f77b4\"/>\n     <use xlink:href=\"#m5123090806\" x=\"134.222842\" y=\"71.976888\" style=\"fill: #1f77b4; stroke: #1f77b4\"/>\n     <use xlink:href=\"#m5123090806\" x=\"124.635578\" y=\"84.84263\" style=\"fill: #1f77b4; stroke: #1f77b4\"/>\n     <use xlink:href=\"#m5123090806\" x=\"138.508113\" y=\"72.149727\" style=\"fill: #1f77b4; stroke: #1f77b4\"/>\n     <use xlink:href=\"#m5123090806\" x=\"171.649732\" y=\"89.880946\" style=\"fill: #1f77b4; stroke: #1f77b4\"/>\n     <use xlink:href=\"#m5123090806\" x=\"79.753679\" y=\"56.489378\" style=\"fill: #1f77b4; stroke: #1f77b4\"/>\n     <use xlink:href=\"#m5123090806\" x=\"140.947519\" y=\"85.998665\" style=\"fill: #1f77b4; stroke: #1f77b4\"/>\n     <use xlink:href=\"#m5123090806\" x=\"190.568993\" y=\"110.79361\" style=\"fill: #1f77b4; stroke: #1f77b4\"/>\n     <use xlink:href=\"#m5123090806\" x=\"80.351328\" y=\"30.732773\" style=\"fill: #1f77b4; stroke: #1f77b4\"/>\n     <use xlink:href=\"#m5123090806\" x=\"85.558209\" y=\"30.870056\" style=\"fill: #1f77b4; stroke: #1f77b4\"/>\n     <use xlink:href=\"#m5123090806\" x=\"104.464957\" y=\"36.216913\" style=\"fill: #1f77b4; stroke: #1f77b4\"/>\n     <use xlink:href=\"#m5123090806\" x=\"146.230962\" y=\"82.591732\" style=\"fill: #1f77b4; stroke: #1f77b4\"/>\n     <use xlink:href=\"#m5123090806\" x=\"127.945791\" y=\"62.45097\" style=\"fill: #1f77b4; stroke: #1f77b4\"/>\n     <use xlink:href=\"#m5123090806\" x=\"119.504544\" y=\"64.960969\" style=\"fill: #1f77b4; stroke: #1f77b4\"/>\n     <use xlink:href=\"#m5123090806\" x=\"87.432551\" y=\"29.069547\" style=\"fill: #1f77b4; stroke: #1f77b4\"/>\n     <use xlink:href=\"#m5123090806\" x=\"178.038917\" y=\"89.401347\" style=\"fill: #1f77b4; stroke: #1f77b4\"/>\n     <use xlink:href=\"#m5123090806\" x=\"103.654095\" y=\"48.110249\" style=\"fill: #1f77b4; stroke: #1f77b4\"/>\n     <use xlink:href=\"#m5123090806\" x=\"150.612123\" y=\"80.284045\" style=\"fill: #1f77b4; stroke: #1f77b4\"/>\n     <use xlink:href=\"#m5123090806\" x=\"122.713272\" y=\"58.983359\" style=\"fill: #1f77b4; stroke: #1f77b4\"/>\n     <use xlink:href=\"#m5123090806\" x=\"127.88799\" y=\"70.78046\" style=\"fill: #1f77b4; stroke: #1f77b4\"/>\n     <use xlink:href=\"#m5123090806\" x=\"139.74277\" y=\"74.654964\" style=\"fill: #1f77b4; stroke: #1f77b4\"/>\n     <use xlink:href=\"#m5123090806\" x=\"157.68422\" y=\"92.546311\" style=\"fill: #1f77b4; stroke: #1f77b4\"/>\n     <use xlink:href=\"#m5123090806\" x=\"181.198155\" y=\"110.049981\" style=\"fill: #1f77b4; stroke: #1f77b4\"/>\n     <use xlink:href=\"#m5123090806\" x=\"176.2021\" y=\"116.79051\" style=\"fill: #1f77b4; stroke: #1f77b4\"/>\n     <use xlink:href=\"#m5123090806\" x=\"143.319984\" y=\"75.538198\" style=\"fill: #1f77b4; stroke: #1f77b4\"/>\n     <use xlink:href=\"#m5123090806\" x=\"141.326854\" y=\"64.626628\" style=\"fill: #1f77b4; stroke: #1f77b4\"/>\n     <use xlink:href=\"#m5123090806\" x=\"154.247632\" y=\"89.679181\" style=\"fill: #1f77b4; stroke: #1f77b4\"/>\n     <use xlink:href=\"#m5123090806\" x=\"77.008336\" y=\"32.327042\" style=\"fill: #1f77b4; stroke: #1f77b4\"/>\n     <use xlink:href=\"#m5123090806\" x=\"104.761679\" y=\"60.617287\" style=\"fill: #1f77b4; stroke: #1f77b4\"/>\n     <use xlink:href=\"#m5123090806\" x=\"137.346206\" y=\"71.149008\" style=\"fill: #1f77b4; stroke: #1f77b4\"/>\n     <use xlink:href=\"#m5123090806\" x=\"119.455054\" y=\"55.67786\" style=\"fill: #1f77b4; stroke: #1f77b4\"/>\n     <use xlink:href=\"#m5123090806\" x=\"149.857573\" y=\"87.13957\" style=\"fill: #1f77b4; stroke: #1f77b4\"/>\n     <use xlink:href=\"#m5123090806\" x=\"198.876052\" y=\"110.701992\" style=\"fill: #1f77b4; stroke: #1f77b4\"/>\n     <use xlink:href=\"#m5123090806\" x=\"169.958675\" y=\"90.277545\" style=\"fill: #1f77b4; stroke: #1f77b4\"/>\n     <use xlink:href=\"#m5123090806\" x=\"145.098965\" y=\"67.86499\" style=\"fill: #1f77b4; stroke: #1f77b4\"/>\n     <use xlink:href=\"#m5123090806\" x=\"92.230752\" y=\"53.514838\" style=\"fill: #1f77b4; stroke: #1f77b4\"/>\n     <use xlink:href=\"#m5123090806\" x=\"116.247829\" y=\"51.280893\" style=\"fill: #1f77b4; stroke: #1f77b4\"/>\n     <use xlink:href=\"#m5123090806\" x=\"104.73741\" y=\"51.08257\" style=\"fill: #1f77b4; stroke: #1f77b4\"/>\n     <use xlink:href=\"#m5123090806\" x=\"159.951409\" y=\"77.029275\" style=\"fill: #1f77b4; stroke: #1f77b4\"/>\n     <use xlink:href=\"#m5123090806\" x=\"131.153488\" y=\"78.681847\" style=\"fill: #1f77b4; stroke: #1f77b4\"/>\n     <use xlink:href=\"#m5123090806\" x=\"114.168207\" y=\"76.910965\" style=\"fill: #1f77b4; stroke: #1f77b4\"/>\n     <use xlink:href=\"#m5123090806\" x=\"121.408079\" y=\"57.032095\" style=\"fill: #1f77b4; stroke: #1f77b4\"/>\n     <use xlink:href=\"#m5123090806\" x=\"119.051103\" y=\"55.217902\" style=\"fill: #1f77b4; stroke: #1f77b4\"/>\n     <use xlink:href=\"#m5123090806\" x=\"128.225599\" y=\"73.712536\" style=\"fill: #1f77b4; stroke: #1f77b4\"/>\n     <use xlink:href=\"#m5123090806\" x=\"160.240697\" y=\"86.779863\" style=\"fill: #1f77b4; stroke: #1f77b4\"/>\n     <use xlink:href=\"#m5123090806\" x=\"184.778924\" y=\"106.658536\" style=\"fill: #1f77b4; stroke: #1f77b4\"/>\n     <use xlink:href=\"#m5123090806\" x=\"135.663559\" y=\"62.052399\" style=\"fill: #1f77b4; stroke: #1f77b4\"/>\n     <use xlink:href=\"#m5123090806\" x=\"148.900494\" y=\"72.505746\" style=\"fill: #1f77b4; stroke: #1f77b4\"/>\n     <use xlink:href=\"#m5123090806\" x=\"129.735511\" y=\"59.067913\" style=\"fill: #1f77b4; stroke: #1f77b4\"/>\n     <use xlink:href=\"#m5123090806\" x=\"165.206479\" y=\"105.632255\" style=\"fill: #1f77b4; stroke: #1f77b4\"/>\n     <use xlink:href=\"#m5123090806\" x=\"175.137913\" y=\"119.346635\" style=\"fill: #1f77b4; stroke: #1f77b4\"/>\n     <use xlink:href=\"#m5123090806\" x=\"164.704023\" y=\"96.311074\" style=\"fill: #1f77b4; stroke: #1f77b4\"/>\n     <use xlink:href=\"#m5123090806\" x=\"102.335623\" y=\"62.228975\" style=\"fill: #1f77b4; stroke: #1f77b4\"/>\n     <use xlink:href=\"#m5123090806\" x=\"140.793369\" y=\"71.928543\" style=\"fill: #1f77b4; stroke: #1f77b4\"/>\n     <use xlink:href=\"#m5123090806\" x=\"151.724333\" y=\"79.466541\" style=\"fill: #1f77b4; stroke: #1f77b4\"/>\n     <use xlink:href=\"#m5123090806\" x=\"127.077898\" y=\"82.814223\" style=\"fill: #1f77b4; stroke: #1f77b4\"/>\n     <use xlink:href=\"#m5123090806\" x=\"151.06018\" y=\"88.536464\" style=\"fill: #1f77b4; stroke: #1f77b4\"/>\n     <use xlink:href=\"#m5123090806\" x=\"109.353263\" y=\"53.892184\" style=\"fill: #1f77b4; stroke: #1f77b4\"/>\n     <use xlink:href=\"#m5123090806\" x=\"195.373796\" y=\"128.345876\" style=\"fill: #1f77b4; stroke: #1f77b4\"/>\n     <use xlink:href=\"#m5123090806\" x=\"123.490264\" y=\"59.477976\" style=\"fill: #1f77b4; stroke: #1f77b4\"/>\n     <use xlink:href=\"#m5123090806\" x=\"103.000634\" y=\"51.430943\" style=\"fill: #1f77b4; stroke: #1f77b4\"/>\n     <use xlink:href=\"#m5123090806\" x=\"163.8629\" y=\"95.860506\" style=\"fill: #1f77b4; stroke: #1f77b4\"/>\n     <use xlink:href=\"#m5123090806\" x=\"101.195499\" y=\"38.628335\" style=\"fill: #1f77b4; stroke: #1f77b4\"/>\n     <use xlink:href=\"#m5123090806\" x=\"166.260449\" y=\"92.777583\" style=\"fill: #1f77b4; stroke: #1f77b4\"/>\n     <use xlink:href=\"#m5123090806\" x=\"155.393217\" y=\"108.387085\" style=\"fill: #1f77b4; stroke: #1f77b4\"/>\n     <use xlink:href=\"#m5123090806\" x=\"145.540207\" y=\"74.395864\" style=\"fill: #1f77b4; stroke: #1f77b4\"/>\n     <use xlink:href=\"#m5123090806\" x=\"81.195336\" y=\"61.976955\" style=\"fill: #1f77b4; stroke: #1f77b4\"/>\n     <use xlink:href=\"#m5123090806\" x=\"109.232844\" y=\"73.314842\" style=\"fill: #1f77b4; stroke: #1f77b4\"/>\n     <use xlink:href=\"#m5123090806\" x=\"113.923215\" y=\"43.588714\" style=\"fill: #1f77b4; stroke: #1f77b4\"/>\n     <use xlink:href=\"#m5123090806\" x=\"89.915315\" y=\"37.446914\" style=\"fill: #1f77b4; stroke: #1f77b4\"/>\n     <use xlink:href=\"#m5123090806\" x=\"143.884835\" y=\"80.555296\" style=\"fill: #1f77b4; stroke: #1f77b4\"/>\n     <use xlink:href=\"#m5123090806\" x=\"135.211084\" y=\"64.842578\" style=\"fill: #1f77b4; stroke: #1f77b4\"/>\n     <use xlink:href=\"#m5123090806\" x=\"120.504728\" y=\"56.677436\" style=\"fill: #1f77b4; stroke: #1f77b4\"/>\n     <use xlink:href=\"#m5123090806\" x=\"156.319578\" y=\"86.802242\" style=\"fill: #1f77b4; stroke: #1f77b4\"/>\n     <use xlink:href=\"#m5123090806\" x=\"132.924166\" y=\"75.358866\" style=\"fill: #1f77b4; stroke: #1f77b4\"/>\n     <use xlink:href=\"#m5123090806\" x=\"127.712298\" y=\"71.773565\" style=\"fill: #1f77b4; stroke: #1f77b4\"/>\n     <use xlink:href=\"#m5123090806\" x=\"200.1454\" y=\"112.377296\" style=\"fill: #1f77b4; stroke: #1f77b4\"/>\n     <use xlink:href=\"#m5123090806\" x=\"139.339139\" y=\"82.163123\" style=\"fill: #1f77b4; stroke: #1f77b4\"/>\n     <use xlink:href=\"#m5123090806\" x=\"135.412608\" y=\"69.531911\" style=\"fill: #1f77b4; stroke: #1f77b4\"/>\n     <use xlink:href=\"#m5123090806\" x=\"163.92649\" y=\"104.673614\" style=\"fill: #1f77b4; stroke: #1f77b4\"/>\n     <use xlink:href=\"#m5123090806\" x=\"106.533459\" y=\"58.496157\" style=\"fill: #1f77b4; stroke: #1f77b4\"/>\n     <use xlink:href=\"#m5123090806\" x=\"146.791862\" y=\"91.660983\" style=\"fill: #1f77b4; stroke: #1f77b4\"/>\n     <use xlink:href=\"#m5123090806\" x=\"105.813579\" y=\"59.854793\" style=\"fill: #1f77b4; stroke: #1f77b4\"/>\n     <use xlink:href=\"#m5123090806\" x=\"145.60712\" y=\"67.763243\" style=\"fill: #1f77b4; stroke: #1f77b4\"/>\n     <use xlink:href=\"#m5123090806\" x=\"136.414954\" y=\"84.834141\" style=\"fill: #1f77b4; stroke: #1f77b4\"/>\n     <use xlink:href=\"#m5123090806\" x=\"141.095417\" y=\"77.089975\" style=\"fill: #1f77b4; stroke: #1f77b4\"/>\n     <use xlink:href=\"#m5123090806\" x=\"71.962983\" y=\"19.857278\" style=\"fill: #1f77b4; stroke: #1f77b4\"/>\n     <use xlink:href=\"#m5123090806\" x=\"129.644797\" y=\"84.784937\" style=\"fill: #1f77b4; stroke: #1f77b4\"/>\n     <use xlink:href=\"#m5123090806\" x=\"122.022963\" y=\"65.310114\" style=\"fill: #1f77b4; stroke: #1f77b4\"/>\n     <use xlink:href=\"#m5123090806\" x=\"141.3358\" y=\"77.102745\" style=\"fill: #1f77b4; stroke: #1f77b4\"/>\n     <use xlink:href=\"#m5123090806\" x=\"133.915663\" y=\"76.897802\" style=\"fill: #1f77b4; stroke: #1f77b4\"/>\n     <use xlink:href=\"#m5123090806\" x=\"162.528307\" y=\"117.085409\" style=\"fill: #1f77b4; stroke: #1f77b4\"/>\n     <use xlink:href=\"#m5123090806\" x=\"149.050724\" y=\"94.852618\" style=\"fill: #1f77b4; stroke: #1f77b4\"/>\n     <use xlink:href=\"#m5123090806\" x=\"155.638986\" y=\"93.835895\" style=\"fill: #1f77b4; stroke: #1f77b4\"/>\n     <use xlink:href=\"#m5123090806\" x=\"116.126096\" y=\"53.997285\" style=\"fill: #1f77b4; stroke: #1f77b4\"/>\n     <use xlink:href=\"#m5123090806\" x=\"145.908869\" y=\"79.023842\" style=\"fill: #1f77b4; stroke: #1f77b4\"/>\n     <use xlink:href=\"#m5123090806\" x=\"129.880858\" y=\"66.846845\" style=\"fill: #1f77b4; stroke: #1f77b4\"/>\n     <use xlink:href=\"#m5123090806\" x=\"100.654876\" y=\"65.423338\" style=\"fill: #1f77b4; stroke: #1f77b4\"/>\n     <use xlink:href=\"#m5123090806\" x=\"131.891469\" y=\"74.254367\" style=\"fill: #1f77b4; stroke: #1f77b4\"/>\n     <use xlink:href=\"#m5123090806\" x=\"133.481643\" y=\"74.143726\" style=\"fill: #1f77b4; stroke: #1f77b4\"/>\n     <use xlink:href=\"#m5123090806\" x=\"49.020398\" y=\"23.785512\" style=\"fill: #1f77b4; stroke: #1f77b4\"/>\n     <use xlink:href=\"#m5123090806\" x=\"113.70661\" y=\"53.011651\" style=\"fill: #1f77b4; stroke: #1f77b4\"/>\n     <use xlink:href=\"#m5123090806\" x=\"166.50948\" y=\"82.587032\" style=\"fill: #1f77b4; stroke: #1f77b4\"/>\n     <use xlink:href=\"#m5123090806\" x=\"124.299508\" y=\"79.768525\" style=\"fill: #1f77b4; stroke: #1f77b4\"/>\n     <use xlink:href=\"#m5123090806\" x=\"114.032302\" y=\"58.362949\" style=\"fill: #1f77b4; stroke: #1f77b4\"/>\n     <use xlink:href=\"#m5123090806\" x=\"67.662533\" y=\"32.791269\" style=\"fill: #1f77b4; stroke: #1f77b4\"/>\n     <use xlink:href=\"#m5123090806\" x=\"155.677775\" y=\"87.272663\" style=\"fill: #1f77b4; stroke: #1f77b4\"/>\n     <use xlink:href=\"#m5123090806\" x=\"136.484742\" y=\"78.062948\" style=\"fill: #1f77b4; stroke: #1f77b4\"/>\n     <use xlink:href=\"#m5123090806\" x=\"155.478788\" y=\"100.762303\" style=\"fill: #1f77b4; stroke: #1f77b4\"/>\n     <use xlink:href=\"#m5123090806\" x=\"137.394389\" y=\"75.127586\" style=\"fill: #1f77b4; stroke: #1f77b4\"/>\n     <use xlink:href=\"#m5123090806\" x=\"152.447825\" y=\"85.607689\" style=\"fill: #1f77b4; stroke: #1f77b4\"/>\n     <use xlink:href=\"#m5123090806\" x=\"139.139717\" y=\"87.636767\" style=\"fill: #1f77b4; stroke: #1f77b4\"/>\n     <use xlink:href=\"#m5123090806\" x=\"164.184998\" y=\"93.736646\" style=\"fill: #1f77b4; stroke: #1f77b4\"/>\n     <use xlink:href=\"#m5123090806\" x=\"140.433677\" y=\"89.858467\" style=\"fill: #1f77b4; stroke: #1f77b4\"/>\n     <use xlink:href=\"#m5123090806\" x=\"136.788192\" y=\"82.722087\" style=\"fill: #1f77b4; stroke: #1f77b4\"/>\n     <use xlink:href=\"#m5123090806\" x=\"184.508831\" y=\"115.764371\" style=\"fill: #1f77b4; stroke: #1f77b4\"/>\n     <use xlink:href=\"#m5123090806\" x=\"120.955676\" y=\"56.027862\" style=\"fill: #1f77b4; stroke: #1f77b4\"/>\n     <use xlink:href=\"#m5123090806\" x=\"136.900003\" y=\"82.743664\" style=\"fill: #1f77b4; stroke: #1f77b4\"/>\n     <use xlink:href=\"#m5123090806\" x=\"129.566764\" y=\"77.497455\" style=\"fill: #1f77b4; stroke: #1f77b4\"/>\n     <use xlink:href=\"#m5123090806\" x=\"123.31554\" y=\"55.633159\" style=\"fill: #1f77b4; stroke: #1f77b4\"/>\n     <use xlink:href=\"#m5123090806\" x=\"109.195459\" y=\"59.781173\" style=\"fill: #1f77b4; stroke: #1f77b4\"/>\n     <use xlink:href=\"#m5123090806\" x=\"165.674439\" y=\"103.622606\" style=\"fill: #1f77b4; stroke: #1f77b4\"/>\n     <use xlink:href=\"#m5123090806\" x=\"113.149005\" y=\"60.511009\" style=\"fill: #1f77b4; stroke: #1f77b4\"/>\n     <use xlink:href=\"#m5123090806\" x=\"135.637853\" y=\"81.400713\" style=\"fill: #1f77b4; stroke: #1f77b4\"/>\n     <use xlink:href=\"#m5123090806\" x=\"157.419894\" y=\"94.976093\" style=\"fill: #1f77b4; stroke: #1f77b4\"/>\n     <use xlink:href=\"#m5123090806\" x=\"169.634351\" y=\"111.37856\" style=\"fill: #1f77b4; stroke: #1f77b4\"/>\n     <use xlink:href=\"#m5123090806\" x=\"119.87694\" y=\"54.088298\" style=\"fill: #1f77b4; stroke: #1f77b4\"/>\n     <use xlink:href=\"#m5123090806\" x=\"146.624777\" y=\"72.015364\" style=\"fill: #1f77b4; stroke: #1f77b4\"/>\n     <use xlink:href=\"#m5123090806\" x=\"187.130299\" y=\"105.732999\" style=\"fill: #1f77b4; stroke: #1f77b4\"/>\n     <use xlink:href=\"#m5123090806\" x=\"113.90041\" y=\"78.026822\" style=\"fill: #1f77b4; stroke: #1f77b4\"/>\n     <use xlink:href=\"#m5123090806\" x=\"127.690209\" y=\"71.187825\" style=\"fill: #1f77b4; stroke: #1f77b4\"/>\n     <use xlink:href=\"#m5123090806\" x=\"113.694459\" y=\"54.697567\" style=\"fill: #1f77b4; stroke: #1f77b4\"/>\n     <use xlink:href=\"#m5123090806\" x=\"132.394995\" y=\"73.709446\" style=\"fill: #1f77b4; stroke: #1f77b4\"/>\n     <use xlink:href=\"#m5123090806\" x=\"95.075757\" y=\"51.048505\" style=\"fill: #1f77b4; stroke: #1f77b4\"/>\n     <use xlink:href=\"#m5123090806\" x=\"176.43346\" y=\"94.919703\" style=\"fill: #1f77b4; stroke: #1f77b4\"/>\n     <use xlink:href=\"#m5123090806\" x=\"121.781114\" y=\"66.166971\" style=\"fill: #1f77b4; stroke: #1f77b4\"/>\n     <use xlink:href=\"#m5123090806\" x=\"129.773793\" y=\"68.849351\" style=\"fill: #1f77b4; stroke: #1f77b4\"/>\n     <use xlink:href=\"#m5123090806\" x=\"139.824338\" y=\"96.29727\" style=\"fill: #1f77b4; stroke: #1f77b4\"/>\n     <use xlink:href=\"#m5123090806\" x=\"120.601289\" y=\"62.804589\" style=\"fill: #1f77b4; stroke: #1f77b4\"/>\n     <use xlink:href=\"#m5123090806\" x=\"153.890581\" y=\"101.373065\" style=\"fill: #1f77b4; stroke: #1f77b4\"/>\n     <use xlink:href=\"#m5123090806\" x=\"160.80077\" y=\"98.937788\" style=\"fill: #1f77b4; stroke: #1f77b4\"/>\n     <use xlink:href=\"#m5123090806\" x=\"129.768305\" y=\"100.358364\" style=\"fill: #1f77b4; stroke: #1f77b4\"/>\n     <use xlink:href=\"#m5123090806\" x=\"128.610088\" y=\"56.308072\" style=\"fill: #1f77b4; stroke: #1f77b4\"/>\n     <use xlink:href=\"#m5123090806\" x=\"135.469722\" y=\"81.037613\" style=\"fill: #1f77b4; stroke: #1f77b4\"/>\n     <use xlink:href=\"#m5123090806\" x=\"138.171278\" y=\"79.291804\" style=\"fill: #1f77b4; stroke: #1f77b4\"/>\n     <use xlink:href=\"#m5123090806\" x=\"146.557906\" y=\"96.565292\" style=\"fill: #1f77b4; stroke: #1f77b4\"/>\n     <use xlink:href=\"#m5123090806\" x=\"165.574828\" y=\"98.522819\" style=\"fill: #1f77b4; stroke: #1f77b4\"/>\n     <use xlink:href=\"#m5123090806\" x=\"78.870733\" y=\"38.704015\" style=\"fill: #1f77b4; stroke: #1f77b4\"/>\n     <use xlink:href=\"#m5123090806\" x=\"122.048841\" y=\"76.515071\" style=\"fill: #1f77b4; stroke: #1f77b4\"/>\n     <use xlink:href=\"#m5123090806\" x=\"88.189378\" y=\"40.754218\" style=\"fill: #1f77b4; stroke: #1f77b4\"/>\n     <use xlink:href=\"#m5123090806\" x=\"134.222697\" y=\"78.407431\" style=\"fill: #1f77b4; stroke: #1f77b4\"/>\n     <use xlink:href=\"#m5123090806\" x=\"116.554222\" y=\"55.717859\" style=\"fill: #1f77b4; stroke: #1f77b4\"/>\n     <use xlink:href=\"#m5123090806\" x=\"90.800039\" y=\"48.624426\" style=\"fill: #1f77b4; stroke: #1f77b4\"/>\n     <use xlink:href=\"#m5123090806\" x=\"182.01737\" y=\"109.966394\" style=\"fill: #1f77b4; stroke: #1f77b4\"/>\n     <use xlink:href=\"#m5123090806\" x=\"100.279089\" y=\"36.205913\" style=\"fill: #1f77b4; stroke: #1f77b4\"/>\n     <use xlink:href=\"#m5123090806\" x=\"140.64919\" y=\"74.978116\" style=\"fill: #1f77b4; stroke: #1f77b4\"/>\n     <use xlink:href=\"#m5123090806\" x=\"88.408317\" y=\"36.065558\" style=\"fill: #1f77b4; stroke: #1f77b4\"/>\n     <use xlink:href=\"#m5123090806\" x=\"129.352334\" y=\"94.271721\" style=\"fill: #1f77b4; stroke: #1f77b4\"/>\n     <use xlink:href=\"#m5123090806\" x=\"134.761013\" y=\"67.257553\" style=\"fill: #1f77b4; stroke: #1f77b4\"/>\n     <use xlink:href=\"#m5123090806\" x=\"96.309578\" y=\"52.301119\" style=\"fill: #1f77b4; stroke: #1f77b4\"/>\n     <use xlink:href=\"#m5123090806\" x=\"122.732737\" y=\"75.437714\" style=\"fill: #1f77b4; stroke: #1f77b4\"/>\n     <use xlink:href=\"#m5123090806\" x=\"140.714379\" y=\"76.443576\" style=\"fill: #1f77b4; stroke: #1f77b4\"/>\n     <use xlink:href=\"#m5123090806\" x=\"126.894091\" y=\"69.547774\" style=\"fill: #1f77b4; stroke: #1f77b4\"/>\n     <use xlink:href=\"#m5123090806\" x=\"147.20621\" y=\"79.575127\" style=\"fill: #1f77b4; stroke: #1f77b4\"/>\n     <use xlink:href=\"#m5123090806\" x=\"83.990468\" y=\"57.533477\" style=\"fill: #1f77b4; stroke: #1f77b4\"/>\n     <use xlink:href=\"#m5123090806\" x=\"118.300998\" y=\"52.459438\" style=\"fill: #1f77b4; stroke: #1f77b4\"/>\n     <use xlink:href=\"#m5123090806\" x=\"137.254815\" y=\"85.46211\" style=\"fill: #1f77b4; stroke: #1f77b4\"/>\n     <use xlink:href=\"#m5123090806\" x=\"136.240033\" y=\"85.599747\" style=\"fill: #1f77b4; stroke: #1f77b4\"/>\n     <use xlink:href=\"#m5123090806\" x=\"109.256051\" y=\"52.634314\" style=\"fill: #1f77b4; stroke: #1f77b4\"/>\n     <use xlink:href=\"#m5123090806\" x=\"162.284212\" y=\"96.11895\" style=\"fill: #1f77b4; stroke: #1f77b4\"/>\n     <use xlink:href=\"#m5123090806\" x=\"139.952744\" y=\"75.36603\" style=\"fill: #1f77b4; stroke: #1f77b4\"/>\n     <use xlink:href=\"#m5123090806\" x=\"94.644433\" y=\"56.580936\" style=\"fill: #1f77b4; stroke: #1f77b4\"/>\n     <use xlink:href=\"#m5123090806\" x=\"109.538685\" y=\"51.79137\" style=\"fill: #1f77b4; stroke: #1f77b4\"/>\n     <use xlink:href=\"#m5123090806\" x=\"156.516836\" y=\"99.789379\" style=\"fill: #1f77b4; stroke: #1f77b4\"/>\n     <use xlink:href=\"#m5123090806\" x=\"115.435194\" y=\"63.951838\" style=\"fill: #1f77b4; stroke: #1f77b4\"/>\n     <use xlink:href=\"#m5123090806\" x=\"104.303373\" y=\"57.885236\" style=\"fill: #1f77b4; stroke: #1f77b4\"/>\n     <use xlink:href=\"#m5123090806\" x=\"108.278997\" y=\"55.177474\" style=\"fill: #1f77b4; stroke: #1f77b4\"/>\n     <use xlink:href=\"#m5123090806\" x=\"132.506603\" y=\"69.342364\" style=\"fill: #1f77b4; stroke: #1f77b4\"/>\n     <use xlink:href=\"#m5123090806\" x=\"133.617421\" y=\"75.512676\" style=\"fill: #1f77b4; stroke: #1f77b4\"/>\n     <use xlink:href=\"#m5123090806\" x=\"159.885463\" y=\"87.633803\" style=\"fill: #1f77b4; stroke: #1f77b4\"/>\n     <use xlink:href=\"#m5123090806\" x=\"124.691352\" y=\"69.869201\" style=\"fill: #1f77b4; stroke: #1f77b4\"/>\n     <use xlink:href=\"#m5123090806\" x=\"127.599787\" y=\"87.300944\" style=\"fill: #1f77b4; stroke: #1f77b4\"/>\n     <use xlink:href=\"#m5123090806\" x=\"138.819304\" y=\"96.809591\" style=\"fill: #1f77b4; stroke: #1f77b4\"/>\n     <use xlink:href=\"#m5123090806\" x=\"135.891846\" y=\"84.565067\" style=\"fill: #1f77b4; stroke: #1f77b4\"/>\n     <use xlink:href=\"#m5123090806\" x=\"103.704107\" y=\"64.195788\" style=\"fill: #1f77b4; stroke: #1f77b4\"/>\n     <use xlink:href=\"#m5123090806\" x=\"141.719829\" y=\"74.139883\" style=\"fill: #1f77b4; stroke: #1f77b4\"/>\n     <use xlink:href=\"#m5123090806\" x=\"144.999521\" y=\"78.92605\" style=\"fill: #1f77b4; stroke: #1f77b4\"/>\n     <use xlink:href=\"#m5123090806\" x=\"134.931922\" y=\"77.058523\" style=\"fill: #1f77b4; stroke: #1f77b4\"/>\n     <use xlink:href=\"#m5123090806\" x=\"117.367769\" y=\"76.779622\" style=\"fill: #1f77b4; stroke: #1f77b4\"/>\n     <use xlink:href=\"#m5123090806\" x=\"104.403567\" y=\"72.884468\" style=\"fill: #1f77b4; stroke: #1f77b4\"/>\n     <use xlink:href=\"#m5123090806\" x=\"117.151623\" y=\"65.632671\" style=\"fill: #1f77b4; stroke: #1f77b4\"/>\n     <use xlink:href=\"#m5123090806\" x=\"167.443519\" y=\"98.78367\" style=\"fill: #1f77b4; stroke: #1f77b4\"/>\n     <use xlink:href=\"#m5123090806\" x=\"118.166879\" y=\"65.334015\" style=\"fill: #1f77b4; stroke: #1f77b4\"/>\n     <use xlink:href=\"#m5123090806\" x=\"145.67136\" y=\"85.36482\" style=\"fill: #1f77b4; stroke: #1f77b4\"/>\n     <use xlink:href=\"#m5123090806\" x=\"176.343186\" y=\"106.660158\" style=\"fill: #1f77b4; stroke: #1f77b4\"/>\n     <use xlink:href=\"#m5123090806\" x=\"132.873623\" y=\"66.981775\" style=\"fill: #1f77b4; stroke: #1f77b4\"/>\n     <use xlink:href=\"#m5123090806\" x=\"107.196071\" y=\"72.536304\" style=\"fill: #1f77b4; stroke: #1f77b4\"/>\n     <use xlink:href=\"#m5123090806\" x=\"102.141372\" y=\"52.649737\" style=\"fill: #1f77b4; stroke: #1f77b4\"/>\n     <use xlink:href=\"#m5123090806\" x=\"127.934176\" y=\"63.951592\" style=\"fill: #1f77b4; stroke: #1f77b4\"/>\n     <use xlink:href=\"#m5123090806\" x=\"136.467483\" y=\"74.470259\" style=\"fill: #1f77b4; stroke: #1f77b4\"/>\n     <use xlink:href=\"#m5123090806\" x=\"128.579601\" y=\"75.642511\" style=\"fill: #1f77b4; stroke: #1f77b4\"/>\n     <use xlink:href=\"#m5123090806\" x=\"129.603863\" y=\"62.646654\" style=\"fill: #1f77b4; stroke: #1f77b4\"/>\n     <use xlink:href=\"#m5123090806\" x=\"139.423501\" y=\"91.49341\" style=\"fill: #1f77b4; stroke: #1f77b4\"/>\n     <use xlink:href=\"#m5123090806\" x=\"152.232433\" y=\"97.12494\" style=\"fill: #1f77b4; stroke: #1f77b4\"/>\n     <use xlink:href=\"#m5123090806\" x=\"158.453832\" y=\"67.953756\" style=\"fill: #1f77b4; stroke: #1f77b4\"/>\n     <use xlink:href=\"#m5123090806\" x=\"125.550881\" y=\"79.551411\" style=\"fill: #1f77b4; stroke: #1f77b4\"/>\n     <use xlink:href=\"#m5123090806\" x=\"161.855145\" y=\"97.813194\" style=\"fill: #1f77b4; stroke: #1f77b4\"/>\n     <use xlink:href=\"#m5123090806\" x=\"143.885986\" y=\"74.198508\" style=\"fill: #1f77b4; stroke: #1f77b4\"/>\n     <use xlink:href=\"#m5123090806\" x=\"169.073179\" y=\"114.176482\" style=\"fill: #1f77b4; stroke: #1f77b4\"/>\n     <use xlink:href=\"#m5123090806\" x=\"94.202665\" y=\"52.058023\" style=\"fill: #1f77b4; stroke: #1f77b4\"/>\n     <use xlink:href=\"#m5123090806\" x=\"133.786741\" y=\"59.95422\" style=\"fill: #1f77b4; stroke: #1f77b4\"/>\n     <use xlink:href=\"#m5123090806\" x=\"96.918908\" y=\"44.880016\" style=\"fill: #1f77b4; stroke: #1f77b4\"/>\n     <use xlink:href=\"#m5123090806\" x=\"142.356581\" y=\"92.56123\" style=\"fill: #1f77b4; stroke: #1f77b4\"/>\n     <use xlink:href=\"#m5123090806\" x=\"130.689581\" y=\"52.098815\" style=\"fill: #1f77b4; stroke: #1f77b4\"/>\n     <use xlink:href=\"#m5123090806\" x=\"123.120684\" y=\"59.418919\" style=\"fill: #1f77b4; stroke: #1f77b4\"/>\n     <use xlink:href=\"#m5123090806\" x=\"110.365183\" y=\"74.491993\" style=\"fill: #1f77b4; stroke: #1f77b4\"/>\n     <use xlink:href=\"#m5123090806\" x=\"107.972303\" y=\"53.472961\" style=\"fill: #1f77b4; stroke: #1f77b4\"/>\n     <use xlink:href=\"#m5123090806\" x=\"126.263431\" y=\"43.303344\" style=\"fill: #1f77b4; stroke: #1f77b4\"/>\n     <use xlink:href=\"#m5123090806\" x=\"88.510986\" y=\"41.700325\" style=\"fill: #1f77b4; stroke: #1f77b4\"/>\n     <use xlink:href=\"#m5123090806\" x=\"155.644211\" y=\"109.506043\" style=\"fill: #1f77b4; stroke: #1f77b4\"/>\n     <use xlink:href=\"#m5123090806\" x=\"116.035677\" y=\"74.02814\" style=\"fill: #1f77b4; stroke: #1f77b4\"/>\n     <use xlink:href=\"#m5123090806\" x=\"155.055061\" y=\"101.82755\" style=\"fill: #1f77b4; stroke: #1f77b4\"/>\n     <use xlink:href=\"#m5123090806\" x=\"215.364915\" y=\"129.988309\" style=\"fill: #1f77b4; stroke: #1f77b4\"/>\n     <use xlink:href=\"#m5123090806\" x=\"158.034178\" y=\"96.565632\" style=\"fill: #1f77b4; stroke: #1f77b4\"/>\n     <use xlink:href=\"#m5123090806\" x=\"132.542293\" y=\"58.824078\" style=\"fill: #1f77b4; stroke: #1f77b4\"/>\n     <use xlink:href=\"#m5123090806\" x=\"74.666962\" y=\"47.332697\" style=\"fill: #1f77b4; stroke: #1f77b4\"/>\n     <use xlink:href=\"#m5123090806\" x=\"145.612271\" y=\"77.318024\" style=\"fill: #1f77b4; stroke: #1f77b4\"/>\n     <use xlink:href=\"#m5123090806\" x=\"169.102932\" y=\"97.861226\" style=\"fill: #1f77b4; stroke: #1f77b4\"/>\n     <use xlink:href=\"#m5123090806\" x=\"121.51656\" y=\"64.839526\" style=\"fill: #1f77b4; stroke: #1f77b4\"/>\n     <use xlink:href=\"#m5123090806\" x=\"147.668319\" y=\"88.181744\" style=\"fill: #1f77b4; stroke: #1f77b4\"/>\n     <use xlink:href=\"#m5123090806\" x=\"127.032268\" y=\"66.483978\" style=\"fill: #1f77b4; stroke: #1f77b4\"/>\n     <use xlink:href=\"#m5123090806\" x=\"117.190136\" y=\"49.141957\" style=\"fill: #1f77b4; stroke: #1f77b4\"/>\n     <use xlink:href=\"#m5123090806\" x=\"128.27771\" y=\"64.891318\" style=\"fill: #1f77b4; stroke: #1f77b4\"/>\n     <use xlink:href=\"#m5123090806\" x=\"140.11409\" y=\"86.348005\" style=\"fill: #1f77b4; stroke: #1f77b4\"/>\n     <use xlink:href=\"#m5123090806\" x=\"180.82461\" y=\"105.826902\" style=\"fill: #1f77b4; stroke: #1f77b4\"/>\n     <use xlink:href=\"#m5123090806\" x=\"106.370548\" y=\"42.618563\" style=\"fill: #1f77b4; stroke: #1f77b4\"/>\n     <use xlink:href=\"#m5123090806\" x=\"185.080861\" y=\"97.73673\" style=\"fill: #1f77b4; stroke: #1f77b4\"/>\n     <use xlink:href=\"#m5123090806\" x=\"127.654339\" y=\"75.937199\" style=\"fill: #1f77b4; stroke: #1f77b4\"/>\n     <use xlink:href=\"#m5123090806\" x=\"172.416923\" y=\"109.850268\" style=\"fill: #1f77b4; stroke: #1f77b4\"/>\n     <use xlink:href=\"#m5123090806\" x=\"144.513509\" y=\"65.024117\" style=\"fill: #1f77b4; stroke: #1f77b4\"/>\n     <use xlink:href=\"#m5123090806\" x=\"127.618098\" y=\"56.486732\" style=\"fill: #1f77b4; stroke: #1f77b4\"/>\n     <use xlink:href=\"#m5123090806\" x=\"159.238222\" y=\"101.213736\" style=\"fill: #1f77b4; stroke: #1f77b4\"/>\n     <use xlink:href=\"#m5123090806\" x=\"159.724382\" y=\"102.871126\" style=\"fill: #1f77b4; stroke: #1f77b4\"/>\n     <use xlink:href=\"#m5123090806\" x=\"115.85974\" y=\"59.740492\" style=\"fill: #1f77b4; stroke: #1f77b4\"/>\n     <use xlink:href=\"#m5123090806\" x=\"133.688887\" y=\"74.716313\" style=\"fill: #1f77b4; stroke: #1f77b4\"/>\n     <use xlink:href=\"#m5123090806\" x=\"140.624485\" y=\"83.74315\" style=\"fill: #1f77b4; stroke: #1f77b4\"/>\n     <use xlink:href=\"#m5123090806\" x=\"153.184414\" y=\"101.044234\" style=\"fill: #1f77b4; stroke: #1f77b4\"/>\n     <use xlink:href=\"#m5123090806\" x=\"139.871456\" y=\"71.532171\" style=\"fill: #1f77b4; stroke: #1f77b4\"/>\n     <use xlink:href=\"#m5123090806\" x=\"183.626845\" y=\"118.379168\" style=\"fill: #1f77b4; stroke: #1f77b4\"/>\n     <use xlink:href=\"#m5123090806\" x=\"102.375023\" y=\"47.636783\" style=\"fill: #1f77b4; stroke: #1f77b4\"/>\n     <use xlink:href=\"#m5123090806\" x=\"97.634639\" y=\"67.830217\" style=\"fill: #1f77b4; stroke: #1f77b4\"/>\n     <use xlink:href=\"#m5123090806\" x=\"146.634613\" y=\"87.863384\" style=\"fill: #1f77b4; stroke: #1f77b4\"/>\n     <use xlink:href=\"#m5123090806\" x=\"126.812466\" y=\"71.110264\" style=\"fill: #1f77b4; stroke: #1f77b4\"/>\n     <use xlink:href=\"#m5123090806\" x=\"127.752282\" y=\"65.561374\" style=\"fill: #1f77b4; stroke: #1f77b4\"/>\n     <use xlink:href=\"#m5123090806\" x=\"139.299205\" y=\"72.286028\" style=\"fill: #1f77b4; stroke: #1f77b4\"/>\n     <use xlink:href=\"#m5123090806\" x=\"96.249648\" y=\"50.694469\" style=\"fill: #1f77b4; stroke: #1f77b4\"/>\n     <use xlink:href=\"#m5123090806\" x=\"141.989176\" y=\"94.85128\" style=\"fill: #1f77b4; stroke: #1f77b4\"/>\n     <use xlink:href=\"#m5123090806\" x=\"152.933872\" y=\"104.800962\" style=\"fill: #1f77b4; stroke: #1f77b4\"/>\n     <use xlink:href=\"#m5123090806\" x=\"148.287354\" y=\"88.013449\" style=\"fill: #1f77b4; stroke: #1f77b4\"/>\n     <use xlink:href=\"#m5123090806\" x=\"112.747863\" y=\"44.851534\" style=\"fill: #1f77b4; stroke: #1f77b4\"/>\n     <use xlink:href=\"#m5123090806\" x=\"140.3114\" y=\"69.727641\" style=\"fill: #1f77b4; stroke: #1f77b4\"/>\n     <use xlink:href=\"#m5123090806\" x=\"140.368909\" y=\"84.602386\" style=\"fill: #1f77b4; stroke: #1f77b4\"/>\n     <use xlink:href=\"#m5123090806\" x=\"100.911229\" y=\"50.055968\" style=\"fill: #1f77b4; stroke: #1f77b4\"/>\n     <use xlink:href=\"#m5123090806\" x=\"163.243474\" y=\"89.052861\" style=\"fill: #1f77b4; stroke: #1f77b4\"/>\n     <use xlink:href=\"#m5123090806\" x=\"138.051093\" y=\"69.370005\" style=\"fill: #1f77b4; stroke: #1f77b4\"/>\n     <use xlink:href=\"#m5123090806\" x=\"118.093708\" y=\"34.68371\" style=\"fill: #1f77b4; stroke: #1f77b4\"/>\n     <use xlink:href=\"#m5123090806\" x=\"139.72243\" y=\"81.183659\" style=\"fill: #1f77b4; stroke: #1f77b4\"/>\n     <use xlink:href=\"#m5123090806\" x=\"173.679943\" y=\"111.055907\" style=\"fill: #1f77b4; stroke: #1f77b4\"/>\n     <use xlink:href=\"#m5123090806\" x=\"135.130832\" y=\"83.694696\" style=\"fill: #1f77b4; stroke: #1f77b4\"/>\n     <use xlink:href=\"#m5123090806\" x=\"56.953197\" y=\"34.453727\" style=\"fill: #1f77b4; stroke: #1f77b4\"/>\n     <use xlink:href=\"#m5123090806\" x=\"164.586923\" y=\"95.546424\" style=\"fill: #1f77b4; stroke: #1f77b4\"/>\n     <use xlink:href=\"#m5123090806\" x=\"134.415589\" y=\"86.904772\" style=\"fill: #1f77b4; stroke: #1f77b4\"/>\n     <use xlink:href=\"#m5123090806\" x=\"141.46635\" y=\"89.500153\" style=\"fill: #1f77b4; stroke: #1f77b4\"/>\n     <use xlink:href=\"#m5123090806\" x=\"96.86199\" y=\"44.935393\" style=\"fill: #1f77b4; stroke: #1f77b4\"/>\n     <use xlink:href=\"#m5123090806\" x=\"151.818\" y=\"96.848583\" style=\"fill: #1f77b4; stroke: #1f77b4\"/>\n     <use xlink:href=\"#m5123090806\" x=\"141.720676\" y=\"66.002986\" style=\"fill: #1f77b4; stroke: #1f77b4\"/>\n     <use xlink:href=\"#m5123090806\" x=\"143.149756\" y=\"70.137465\" style=\"fill: #1f77b4; stroke: #1f77b4\"/>\n     <use xlink:href=\"#m5123090806\" x=\"123.5349\" y=\"69.289555\" style=\"fill: #1f77b4; stroke: #1f77b4\"/>\n     <use xlink:href=\"#m5123090806\" x=\"135.887127\" y=\"76.53529\" style=\"fill: #1f77b4; stroke: #1f77b4\"/>\n     <use xlink:href=\"#m5123090806\" x=\"128.578305\" y=\"76.932474\" style=\"fill: #1f77b4; stroke: #1f77b4\"/>\n     <use xlink:href=\"#m5123090806\" x=\"113.518734\" y=\"62.243334\" style=\"fill: #1f77b4; stroke: #1f77b4\"/>\n     <use xlink:href=\"#m5123090806\" x=\"160.491057\" y=\"95.973654\" style=\"fill: #1f77b4; stroke: #1f77b4\"/>\n     <use xlink:href=\"#m5123090806\" x=\"146.841809\" y=\"71.725985\" style=\"fill: #1f77b4; stroke: #1f77b4\"/>\n     <use xlink:href=\"#m5123090806\" x=\"126.575116\" y=\"69.648285\" style=\"fill: #1f77b4; stroke: #1f77b4\"/>\n     <use xlink:href=\"#m5123090806\" x=\"138.964231\" y=\"50.993008\" style=\"fill: #1f77b4; stroke: #1f77b4\"/>\n     <use xlink:href=\"#m5123090806\" x=\"141.370526\" y=\"100.342813\" style=\"fill: #1f77b4; stroke: #1f77b4\"/>\n     <use xlink:href=\"#m5123090806\" x=\"149.907695\" y=\"85.34876\" style=\"fill: #1f77b4; stroke: #1f77b4\"/>\n     <use xlink:href=\"#m5123090806\" x=\"110.891594\" y=\"81.895479\" style=\"fill: #1f77b4; stroke: #1f77b4\"/>\n     <use xlink:href=\"#m5123090806\" x=\"135.996481\" y=\"54.236023\" style=\"fill: #1f77b4; stroke: #1f77b4\"/>\n     <use xlink:href=\"#m5123090806\" x=\"126.961239\" y=\"63.217441\" style=\"fill: #1f77b4; stroke: #1f77b4\"/>\n     <use xlink:href=\"#m5123090806\" x=\"101.122868\" y=\"59.377095\" style=\"fill: #1f77b4; stroke: #1f77b4\"/>\n     <use xlink:href=\"#m5123090806\" x=\"118.167903\" y=\"63.899471\" style=\"fill: #1f77b4; stroke: #1f77b4\"/>\n     <use xlink:href=\"#m5123090806\" x=\"121.503378\" y=\"66.980098\" style=\"fill: #1f77b4; stroke: #1f77b4\"/>\n     <use xlink:href=\"#m5123090806\" x=\"124.541905\" y=\"62.221607\" style=\"fill: #1f77b4; stroke: #1f77b4\"/>\n     <use xlink:href=\"#m5123090806\" x=\"151.705762\" y=\"88.029808\" style=\"fill: #1f77b4; stroke: #1f77b4\"/>\n     <use xlink:href=\"#m5123090806\" x=\"119.551227\" y=\"74.033773\" style=\"fill: #1f77b4; stroke: #1f77b4\"/>\n     <use xlink:href=\"#m5123090806\" x=\"191.152714\" y=\"101.480026\" style=\"fill: #1f77b4; stroke: #1f77b4\"/>\n     <use xlink:href=\"#m5123090806\" x=\"121.673099\" y=\"67.04343\" style=\"fill: #1f77b4; stroke: #1f77b4\"/>\n     <use xlink:href=\"#m5123090806\" x=\"141.909517\" y=\"89.807253\" style=\"fill: #1f77b4; stroke: #1f77b4\"/>\n     <use xlink:href=\"#m5123090806\" x=\"128.543267\" y=\"56.858584\" style=\"fill: #1f77b4; stroke: #1f77b4\"/>\n     <use xlink:href=\"#m5123090806\" x=\"113.111141\" y=\"56.645267\" style=\"fill: #1f77b4; stroke: #1f77b4\"/>\n     <use xlink:href=\"#m5123090806\" x=\"52.560316\" y=\"17.712529\" style=\"fill: #1f77b4; stroke: #1f77b4\"/>\n     <use xlink:href=\"#m5123090806\" x=\"129.495624\" y=\"84.585284\" style=\"fill: #1f77b4; stroke: #1f77b4\"/>\n     <use xlink:href=\"#m5123090806\" x=\"192.570838\" y=\"124.75634\" style=\"fill: #1f77b4; stroke: #1f77b4\"/>\n     <use xlink:href=\"#m5123090806\" x=\"115.551087\" y=\"44.791252\" style=\"fill: #1f77b4; stroke: #1f77b4\"/>\n     <use xlink:href=\"#m5123090806\" x=\"114.289851\" y=\"58.480475\" style=\"fill: #1f77b4; stroke: #1f77b4\"/>\n     <use xlink:href=\"#m5123090806\" x=\"143.534519\" y=\"97.110657\" style=\"fill: #1f77b4; stroke: #1f77b4\"/>\n     <use xlink:href=\"#m5123090806\" x=\"142.160025\" y=\"92.067886\" style=\"fill: #1f77b4; stroke: #1f77b4\"/>\n     <use xlink:href=\"#m5123090806\" x=\"122.239018\" y=\"87.403693\" style=\"fill: #1f77b4; stroke: #1f77b4\"/>\n     <use xlink:href=\"#m5123090806\" x=\"116.643499\" y=\"65.444927\" style=\"fill: #1f77b4; stroke: #1f77b4\"/>\n     <use xlink:href=\"#m5123090806\" x=\"159.595583\" y=\"89.88209\" style=\"fill: #1f77b4; stroke: #1f77b4\"/>\n     <use xlink:href=\"#m5123090806\" x=\"107.488946\" y=\"48.304651\" style=\"fill: #1f77b4; stroke: #1f77b4\"/>\n     <use xlink:href=\"#m5123090806\" x=\"150.368746\" y=\"121.659722\" style=\"fill: #1f77b4; stroke: #1f77b4\"/>\n     <use xlink:href=\"#m5123090806\" x=\"142.958377\" y=\"77.893473\" style=\"fill: #1f77b4; stroke: #1f77b4\"/>\n     <use xlink:href=\"#m5123090806\" x=\"133.76893\" y=\"57.830549\" style=\"fill: #1f77b4; stroke: #1f77b4\"/>\n     <use xlink:href=\"#m5123090806\" x=\"138.211899\" y=\"80.212502\" style=\"fill: #1f77b4; stroke: #1f77b4\"/>\n     <use xlink:href=\"#m5123090806\" x=\"145.153572\" y=\"87.140839\" style=\"fill: #1f77b4; stroke: #1f77b4\"/>\n     <use xlink:href=\"#m5123090806\" x=\"115.551298\" y=\"58.142106\" style=\"fill: #1f77b4; stroke: #1f77b4\"/>\n     <use xlink:href=\"#m5123090806\" x=\"136.546964\" y=\"68.864225\" style=\"fill: #1f77b4; stroke: #1f77b4\"/>\n     <use xlink:href=\"#m5123090806\" x=\"154.051137\" y=\"83.029297\" style=\"fill: #1f77b4; stroke: #1f77b4\"/>\n     <use xlink:href=\"#m5123090806\" x=\"152.211169\" y=\"90.461238\" style=\"fill: #1f77b4; stroke: #1f77b4\"/>\n     <use xlink:href=\"#m5123090806\" x=\"138.780145\" y=\"71.497931\" style=\"fill: #1f77b4; stroke: #1f77b4\"/>\n     <use xlink:href=\"#m5123090806\" x=\"137.104137\" y=\"85.133089\" style=\"fill: #1f77b4; stroke: #1f77b4\"/>\n     <use xlink:href=\"#m5123090806\" x=\"164.084102\" y=\"97.196249\" style=\"fill: #1f77b4; stroke: #1f77b4\"/>\n     <use xlink:href=\"#m5123090806\" x=\"149.902275\" y=\"90.132431\" style=\"fill: #1f77b4; stroke: #1f77b4\"/>\n     <use xlink:href=\"#m5123090806\" x=\"154.110463\" y=\"101.407794\" style=\"fill: #1f77b4; stroke: #1f77b4\"/>\n     <use xlink:href=\"#m5123090806\" x=\"114.931001\" y=\"75.036743\" style=\"fill: #1f77b4; stroke: #1f77b4\"/>\n     <use xlink:href=\"#m5123090806\" x=\"111.904782\" y=\"78.708761\" style=\"fill: #1f77b4; stroke: #1f77b4\"/>\n     <use xlink:href=\"#m5123090806\" x=\"107.204916\" y=\"65.142646\" style=\"fill: #1f77b4; stroke: #1f77b4\"/>\n     <use xlink:href=\"#m5123090806\" x=\"129.361261\" y=\"77.262628\" style=\"fill: #1f77b4; stroke: #1f77b4\"/>\n     <use xlink:href=\"#m5123090806\" x=\"125.352618\" y=\"69.423733\" style=\"fill: #1f77b4; stroke: #1f77b4\"/>\n     <use xlink:href=\"#m5123090806\" x=\"147.938082\" y=\"82.489855\" style=\"fill: #1f77b4; stroke: #1f77b4\"/>\n     <use xlink:href=\"#m5123090806\" x=\"126.166705\" y=\"67.766692\" style=\"fill: #1f77b4; stroke: #1f77b4\"/>\n     <use xlink:href=\"#m5123090806\" x=\"160.652552\" y=\"106.749774\" style=\"fill: #1f77b4; stroke: #1f77b4\"/>\n     <use xlink:href=\"#m5123090806\" x=\"85.240583\" y=\"43.411728\" style=\"fill: #1f77b4; stroke: #1f77b4\"/>\n     <use xlink:href=\"#m5123090806\" x=\"113.094886\" y=\"54.546435\" style=\"fill: #1f77b4; stroke: #1f77b4\"/>\n     <use xlink:href=\"#m5123090806\" x=\"113.857121\" y=\"58.06914\" style=\"fill: #1f77b4; stroke: #1f77b4\"/>\n     <use xlink:href=\"#m5123090806\" x=\"116.83593\" y=\"57.592135\" style=\"fill: #1f77b4; stroke: #1f77b4\"/>\n     <use xlink:href=\"#m5123090806\" x=\"88.640732\" y=\"44.584309\" style=\"fill: #1f77b4; stroke: #1f77b4\"/>\n     <use xlink:href=\"#m5123090806\" x=\"139.150451\" y=\"77.187157\" style=\"fill: #1f77b4; stroke: #1f77b4\"/>\n     <use xlink:href=\"#m5123090806\" x=\"156.910138\" y=\"94.088561\" style=\"fill: #1f77b4; stroke: #1f77b4\"/>\n     <use xlink:href=\"#m5123090806\" x=\"110.366678\" y=\"47.260632\" style=\"fill: #1f77b4; stroke: #1f77b4\"/>\n     <use xlink:href=\"#m5123090806\" x=\"133.439864\" y=\"75.779863\" style=\"fill: #1f77b4; stroke: #1f77b4\"/>\n     <use xlink:href=\"#m5123090806\" x=\"143.296453\" y=\"81.400273\" style=\"fill: #1f77b4; stroke: #1f77b4\"/>\n     <use xlink:href=\"#m5123090806\" x=\"158.804076\" y=\"86.071228\" style=\"fill: #1f77b4; stroke: #1f77b4\"/>\n     <use xlink:href=\"#m5123090806\" x=\"157.684034\" y=\"96.185223\" style=\"fill: #1f77b4; stroke: #1f77b4\"/>\n     <use xlink:href=\"#m5123090806\" x=\"133.877502\" y=\"82.965873\" style=\"fill: #1f77b4; stroke: #1f77b4\"/>\n     <use xlink:href=\"#m5123090806\" x=\"126.151087\" y=\"77.101786\" style=\"fill: #1f77b4; stroke: #1f77b4\"/>\n     <use xlink:href=\"#m5123090806\" x=\"108.217047\" y=\"59.570528\" style=\"fill: #1f77b4; stroke: #1f77b4\"/>\n     <use xlink:href=\"#m5123090806\" x=\"95.326636\" y=\"47.580081\" style=\"fill: #1f77b4; stroke: #1f77b4\"/>\n     <use xlink:href=\"#m5123090806\" x=\"155.027976\" y=\"78.446634\" style=\"fill: #1f77b4; stroke: #1f77b4\"/>\n     <use xlink:href=\"#m5123090806\" x=\"129.593331\" y=\"88.992925\" style=\"fill: #1f77b4; stroke: #1f77b4\"/>\n     <use xlink:href=\"#m5123090806\" x=\"119.185131\" y=\"60.568312\" style=\"fill: #1f77b4; stroke: #1f77b4\"/>\n     <use xlink:href=\"#m5123090806\" x=\"152.810784\" y=\"90.20129\" style=\"fill: #1f77b4; stroke: #1f77b4\"/>\n     <use xlink:href=\"#m5123090806\" x=\"131.309856\" y=\"62.821513\" style=\"fill: #1f77b4; stroke: #1f77b4\"/>\n     <use xlink:href=\"#m5123090806\" x=\"137.116272\" y=\"69.502285\" style=\"fill: #1f77b4; stroke: #1f77b4\"/>\n     <use xlink:href=\"#m5123090806\" x=\"111.077422\" y=\"66.106445\" style=\"fill: #1f77b4; stroke: #1f77b4\"/>\n     <use xlink:href=\"#m5123090806\" x=\"95.854157\" y=\"48.077324\" style=\"fill: #1f77b4; stroke: #1f77b4\"/>\n     <use xlink:href=\"#m5123090806\" x=\"131.969023\" y=\"62.663342\" style=\"fill: #1f77b4; stroke: #1f77b4\"/>\n     <use xlink:href=\"#m5123090806\" x=\"133.153033\" y=\"74.270202\" style=\"fill: #1f77b4; stroke: #1f77b4\"/>\n     <use xlink:href=\"#m5123090806\" x=\"124.268891\" y=\"67.089635\" style=\"fill: #1f77b4; stroke: #1f77b4\"/>\n     <use xlink:href=\"#m5123090806\" x=\"152.091324\" y=\"91.156883\" style=\"fill: #1f77b4; stroke: #1f77b4\"/>\n     <use xlink:href=\"#m5123090806\" x=\"164.502324\" y=\"105.782449\" style=\"fill: #1f77b4; stroke: #1f77b4\"/>\n     <use xlink:href=\"#m5123090806\" x=\"146.386455\" y=\"107.272299\" style=\"fill: #1f77b4; stroke: #1f77b4\"/>\n     <use xlink:href=\"#m5123090806\" x=\"129.475696\" y=\"74.998045\" style=\"fill: #1f77b4; stroke: #1f77b4\"/>\n     <use xlink:href=\"#m5123090806\" x=\"128.219135\" y=\"69.41946\" style=\"fill: #1f77b4; stroke: #1f77b4\"/>\n     <use xlink:href=\"#m5123090806\" x=\"88.867042\" y=\"59.72298\" style=\"fill: #1f77b4; stroke: #1f77b4\"/>\n     <use xlink:href=\"#m5123090806\" x=\"151.934184\" y=\"97.431564\" style=\"fill: #1f77b4; stroke: #1f77b4\"/>\n     <use xlink:href=\"#m5123090806\" x=\"98.003246\" y=\"53.695272\" style=\"fill: #1f77b4; stroke: #1f77b4\"/>\n     <use xlink:href=\"#m5123090806\" x=\"73.746306\" y=\"45.244063\" style=\"fill: #1f77b4; stroke: #1f77b4\"/>\n     <use xlink:href=\"#m5123090806\" x=\"126.745718\" y=\"82.557437\" style=\"fill: #1f77b4; stroke: #1f77b4\"/>\n     <use xlink:href=\"#m5123090806\" x=\"97.722311\" y=\"48.530958\" style=\"fill: #1f77b4; stroke: #1f77b4\"/>\n     <use xlink:href=\"#m5123090806\" x=\"97.228388\" y=\"41.173958\" style=\"fill: #1f77b4; stroke: #1f77b4\"/>\n     <use xlink:href=\"#m5123090806\" x=\"119.352816\" y=\"64.811717\" style=\"fill: #1f77b4; stroke: #1f77b4\"/>\n     <use xlink:href=\"#m5123090806\" x=\"102.928073\" y=\"64.04629\" style=\"fill: #1f77b4; stroke: #1f77b4\"/>\n     <use xlink:href=\"#m5123090806\" x=\"102.809698\" y=\"41.91757\" style=\"fill: #1f77b4; stroke: #1f77b4\"/>\n     <use xlink:href=\"#m5123090806\" x=\"115.303023\" y=\"46.347741\" style=\"fill: #1f77b4; stroke: #1f77b4\"/>\n     <use xlink:href=\"#m5123090806\" x=\"171.85847\" y=\"89.264185\" style=\"fill: #1f77b4; stroke: #1f77b4\"/>\n     <use xlink:href=\"#m5123090806\" x=\"126.065067\" y=\"76.443679\" style=\"fill: #1f77b4; stroke: #1f77b4\"/>\n     <use xlink:href=\"#m5123090806\" x=\"89.45776\" y=\"31.855042\" style=\"fill: #1f77b4; stroke: #1f77b4\"/>\n     <use xlink:href=\"#m5123090806\" x=\"165.325629\" y=\"103.07636\" style=\"fill: #1f77b4; stroke: #1f77b4\"/>\n     <use xlink:href=\"#m5123090806\" x=\"143.469257\" y=\"91.373159\" style=\"fill: #1f77b4; stroke: #1f77b4\"/>\n     <use xlink:href=\"#m5123090806\" x=\"169.333035\" y=\"86.725276\" style=\"fill: #1f77b4; stroke: #1f77b4\"/>\n     <use xlink:href=\"#m5123090806\" x=\"124.026368\" y=\"77.466516\" style=\"fill: #1f77b4; stroke: #1f77b4\"/>\n     <use xlink:href=\"#m5123090806\" x=\"127.361824\" y=\"51.797811\" style=\"fill: #1f77b4; stroke: #1f77b4\"/>\n     <use xlink:href=\"#m5123090806\" x=\"146.819881\" y=\"77.026886\" style=\"fill: #1f77b4; stroke: #1f77b4\"/>\n     <use xlink:href=\"#m5123090806\" x=\"171.245005\" y=\"110.037144\" style=\"fill: #1f77b4; stroke: #1f77b4\"/>\n     <use xlink:href=\"#m5123090806\" x=\"103.828208\" y=\"53.263458\" style=\"fill: #1f77b4; stroke: #1f77b4\"/>\n     <use xlink:href=\"#m5123090806\" x=\"192.851569\" y=\"115.94571\" style=\"fill: #1f77b4; stroke: #1f77b4\"/>\n     <use xlink:href=\"#m5123090806\" x=\"139.731509\" y=\"85.668267\" style=\"fill: #1f77b4; stroke: #1f77b4\"/>\n     <use xlink:href=\"#m5123090806\" x=\"117.364817\" y=\"63.851246\" style=\"fill: #1f77b4; stroke: #1f77b4\"/>\n     <use xlink:href=\"#m5123090806\" x=\"124.31964\" y=\"65.507576\" style=\"fill: #1f77b4; stroke: #1f77b4\"/>\n     <use xlink:href=\"#m5123090806\" x=\"155.828888\" y=\"84.268579\" style=\"fill: #1f77b4; stroke: #1f77b4\"/>\n     <use xlink:href=\"#m5123090806\" x=\"82.241932\" y=\"45.474929\" style=\"fill: #1f77b4; stroke: #1f77b4\"/>\n     <use xlink:href=\"#m5123090806\" x=\"135.420571\" y=\"85.271152\" style=\"fill: #1f77b4; stroke: #1f77b4\"/>\n     <use xlink:href=\"#m5123090806\" x=\"125.335819\" y=\"65.303229\" style=\"fill: #1f77b4; stroke: #1f77b4\"/>\n     <use xlink:href=\"#m5123090806\" x=\"125.500714\" y=\"64.783644\" style=\"fill: #1f77b4; stroke: #1f77b4\"/>\n     <use xlink:href=\"#m5123090806\" x=\"135.729329\" y=\"78.244544\" style=\"fill: #1f77b4; stroke: #1f77b4\"/>\n     <use xlink:href=\"#m5123090806\" x=\"123.413693\" y=\"65.051889\" style=\"fill: #1f77b4; stroke: #1f77b4\"/>\n     <use xlink:href=\"#m5123090806\" x=\"139.974021\" y=\"90.871514\" style=\"fill: #1f77b4; stroke: #1f77b4\"/>\n     <use xlink:href=\"#m5123090806\" x=\"136.906989\" y=\"70.66871\" style=\"fill: #1f77b4; stroke: #1f77b4\"/>\n     <use xlink:href=\"#m5123090806\" x=\"138.198495\" y=\"70.030914\" style=\"fill: #1f77b4; stroke: #1f77b4\"/>\n     <use xlink:href=\"#m5123090806\" x=\"138.181865\" y=\"73.829107\" style=\"fill: #1f77b4; stroke: #1f77b4\"/>\n     <use xlink:href=\"#m5123090806\" x=\"111.235953\" y=\"43.958936\" style=\"fill: #1f77b4; stroke: #1f77b4\"/>\n     <use xlink:href=\"#m5123090806\" x=\"129.011863\" y=\"66.954709\" style=\"fill: #1f77b4; stroke: #1f77b4\"/>\n     <use xlink:href=\"#m5123090806\" x=\"118.116347\" y=\"55.465424\" style=\"fill: #1f77b4; stroke: #1f77b4\"/>\n     <use xlink:href=\"#m5123090806\" x=\"112.880813\" y=\"73.239184\" style=\"fill: #1f77b4; stroke: #1f77b4\"/>\n     <use xlink:href=\"#m5123090806\" x=\"183.071056\" y=\"96.955067\" style=\"fill: #1f77b4; stroke: #1f77b4\"/>\n     <use xlink:href=\"#m5123090806\" x=\"158.262367\" y=\"91.874233\" style=\"fill: #1f77b4; stroke: #1f77b4\"/>\n     <use xlink:href=\"#m5123090806\" x=\"156.358492\" y=\"95.854364\" style=\"fill: #1f77b4; stroke: #1f77b4\"/>\n     <use xlink:href=\"#m5123090806\" x=\"131.268805\" y=\"80.174628\" style=\"fill: #1f77b4; stroke: #1f77b4\"/>\n     <use xlink:href=\"#m5123090806\" x=\"113.183991\" y=\"61.901269\" style=\"fill: #1f77b4; stroke: #1f77b4\"/>\n     <use xlink:href=\"#m5123090806\" x=\"123.265524\" y=\"64.792415\" style=\"fill: #1f77b4; stroke: #1f77b4\"/>\n     <use xlink:href=\"#m5123090806\" x=\"122.309173\" y=\"50.574704\" style=\"fill: #1f77b4; stroke: #1f77b4\"/>\n     <use xlink:href=\"#m5123090806\" x=\"153.431718\" y=\"85.349255\" style=\"fill: #1f77b4; stroke: #1f77b4\"/>\n     <use xlink:href=\"#m5123090806\" x=\"141.328445\" y=\"77.226333\" style=\"fill: #1f77b4; stroke: #1f77b4\"/>\n     <use xlink:href=\"#m5123090806\" x=\"95.497456\" y=\"72.809573\" style=\"fill: #1f77b4; stroke: #1f77b4\"/>\n     <use xlink:href=\"#m5123090806\" x=\"127.459433\" y=\"54.907274\" style=\"fill: #1f77b4; stroke: #1f77b4\"/>\n     <use xlink:href=\"#m5123090806\" x=\"168.102294\" y=\"102.776242\" style=\"fill: #1f77b4; stroke: #1f77b4\"/>\n     <use xlink:href=\"#m5123090806\" x=\"143.102709\" y=\"86.254467\" style=\"fill: #1f77b4; stroke: #1f77b4\"/>\n     <use xlink:href=\"#m5123090806\" x=\"79.416958\" y=\"43.735249\" style=\"fill: #1f77b4; stroke: #1f77b4\"/>\n     <use xlink:href=\"#m5123090806\" x=\"127.699033\" y=\"55.675882\" style=\"fill: #1f77b4; stroke: #1f77b4\"/>\n     <use xlink:href=\"#m5123090806\" x=\"73.265052\" y=\"28.173153\" style=\"fill: #1f77b4; stroke: #1f77b4\"/>\n     <use xlink:href=\"#m5123090806\" x=\"140.954117\" y=\"80.462788\" style=\"fill: #1f77b4; stroke: #1f77b4\"/>\n     <use xlink:href=\"#m5123090806\" x=\"115.640444\" y=\"57.672258\" style=\"fill: #1f77b4; stroke: #1f77b4\"/>\n     <use xlink:href=\"#m5123090806\" x=\"114.84972\" y=\"66.504738\" style=\"fill: #1f77b4; stroke: #1f77b4\"/>\n     <use xlink:href=\"#m5123090806\" x=\"148.873378\" y=\"87.35173\" style=\"fill: #1f77b4; stroke: #1f77b4\"/>\n     <use xlink:href=\"#m5123090806\" x=\"103.882696\" y=\"48.251794\" style=\"fill: #1f77b4; stroke: #1f77b4\"/>\n     <use xlink:href=\"#m5123090806\" x=\"109.152061\" y=\"72.292507\" style=\"fill: #1f77b4; stroke: #1f77b4\"/>\n     <use xlink:href=\"#m5123090806\" x=\"138.750187\" y=\"91.836904\" style=\"fill: #1f77b4; stroke: #1f77b4\"/>\n     <use xlink:href=\"#m5123090806\" x=\"126.342066\" y=\"76.201042\" style=\"fill: #1f77b4; stroke: #1f77b4\"/>\n     <use xlink:href=\"#m5123090806\" x=\"116.577958\" y=\"61.577982\" style=\"fill: #1f77b4; stroke: #1f77b4\"/>\n     <use xlink:href=\"#m5123090806\" x=\"138.747918\" y=\"86.900183\" style=\"fill: #1f77b4; stroke: #1f77b4\"/>\n     <use xlink:href=\"#m5123090806\" x=\"133.182954\" y=\"63.920633\" style=\"fill: #1f77b4; stroke: #1f77b4\"/>\n     <use xlink:href=\"#m5123090806\" x=\"139.720363\" y=\"101.615307\" style=\"fill: #1f77b4; stroke: #1f77b4\"/>\n     <use xlink:href=\"#m5123090806\" x=\"119.065758\" y=\"47.164026\" style=\"fill: #1f77b4; stroke: #1f77b4\"/>\n     <use xlink:href=\"#m5123090806\" x=\"113.698447\" y=\"59.622526\" style=\"fill: #1f77b4; stroke: #1f77b4\"/>\n     <use xlink:href=\"#m5123090806\" x=\"111.552006\" y=\"64.855712\" style=\"fill: #1f77b4; stroke: #1f77b4\"/>\n     <use xlink:href=\"#m5123090806\" x=\"157.795815\" y=\"81.137261\" style=\"fill: #1f77b4; stroke: #1f77b4\"/>\n     <use xlink:href=\"#m5123090806\" x=\"141.943502\" y=\"78.232626\" style=\"fill: #1f77b4; stroke: #1f77b4\"/>\n     <use xlink:href=\"#m5123090806\" x=\"169.682454\" y=\"105.289739\" style=\"fill: #1f77b4; stroke: #1f77b4\"/>\n     <use xlink:href=\"#m5123090806\" x=\"130.291743\" y=\"82.554515\" style=\"fill: #1f77b4; stroke: #1f77b4\"/>\n     <use xlink:href=\"#m5123090806\" x=\"194.143265\" y=\"107.693788\" style=\"fill: #1f77b4; stroke: #1f77b4\"/>\n     <use xlink:href=\"#m5123090806\" x=\"121.665606\" y=\"61.157137\" style=\"fill: #1f77b4; stroke: #1f77b4\"/>\n     <use xlink:href=\"#m5123090806\" x=\"120.124652\" y=\"67.106514\" style=\"fill: #1f77b4; stroke: #1f77b4\"/>\n     <use xlink:href=\"#m5123090806\" x=\"150.726218\" y=\"93.362853\" style=\"fill: #1f77b4; stroke: #1f77b4\"/>\n     <use xlink:href=\"#m5123090806\" x=\"120.898577\" y=\"51.016298\" style=\"fill: #1f77b4; stroke: #1f77b4\"/>\n     <use xlink:href=\"#m5123090806\" x=\"130.577922\" y=\"82.047483\" style=\"fill: #1f77b4; stroke: #1f77b4\"/>\n     <use xlink:href=\"#m5123090806\" x=\"105.974269\" y=\"54.125154\" style=\"fill: #1f77b4; stroke: #1f77b4\"/>\n     <use xlink:href=\"#m5123090806\" x=\"134.958563\" y=\"91.756649\" style=\"fill: #1f77b4; stroke: #1f77b4\"/>\n     <use xlink:href=\"#m5123090806\" x=\"119.268807\" y=\"66.757657\" style=\"fill: #1f77b4; stroke: #1f77b4\"/>\n     <use xlink:href=\"#m5123090806\" x=\"100.798924\" y=\"56.044816\" style=\"fill: #1f77b4; stroke: #1f77b4\"/>\n     <use xlink:href=\"#m5123090806\" x=\"134.047992\" y=\"73.380634\" style=\"fill: #1f77b4; stroke: #1f77b4\"/>\n     <use xlink:href=\"#m5123090806\" x=\"113.957123\" y=\"48.12635\" style=\"fill: #1f77b4; stroke: #1f77b4\"/>\n     <use xlink:href=\"#m5123090806\" x=\"96.784262\" y=\"40.557888\" style=\"fill: #1f77b4; stroke: #1f77b4\"/>\n     <use xlink:href=\"#m5123090806\" x=\"191.171128\" y=\"115.448646\" style=\"fill: #1f77b4; stroke: #1f77b4\"/>\n     <use xlink:href=\"#m5123090806\" x=\"178.122661\" y=\"113.332043\" style=\"fill: #1f77b4; stroke: #1f77b4\"/>\n     <use xlink:href=\"#m5123090806\" x=\"88.141734\" y=\"53.116897\" style=\"fill: #1f77b4; stroke: #1f77b4\"/>\n     <use xlink:href=\"#m5123090806\" x=\"88.889377\" y=\"65.328206\" style=\"fill: #1f77b4; stroke: #1f77b4\"/>\n     <use xlink:href=\"#m5123090806\" x=\"151.887397\" y=\"89.30458\" style=\"fill: #1f77b4; stroke: #1f77b4\"/>\n     <use xlink:href=\"#m5123090806\" x=\"110.7016\" y=\"56.996647\" style=\"fill: #1f77b4; stroke: #1f77b4\"/>\n     <use xlink:href=\"#m5123090806\" x=\"88.751826\" y=\"38.764318\" style=\"fill: #1f77b4; stroke: #1f77b4\"/>\n     <use xlink:href=\"#m5123090806\" x=\"150.72333\" y=\"79.076495\" style=\"fill: #1f77b4; stroke: #1f77b4\"/>\n     <use xlink:href=\"#m5123090806\" x=\"115.242683\" y=\"61.543661\" style=\"fill: #1f77b4; stroke: #1f77b4\"/>\n     <use xlink:href=\"#m5123090806\" x=\"157.917118\" y=\"83.56967\" style=\"fill: #1f77b4; stroke: #1f77b4\"/>\n     <use xlink:href=\"#m5123090806\" x=\"130.753843\" y=\"64.975566\" style=\"fill: #1f77b4; stroke: #1f77b4\"/>\n     <use xlink:href=\"#m5123090806\" x=\"132.407944\" y=\"68.068998\" style=\"fill: #1f77b4; stroke: #1f77b4\"/>\n     <use xlink:href=\"#m5123090806\" x=\"117.688798\" y=\"70.200438\" style=\"fill: #1f77b4; stroke: #1f77b4\"/>\n     <use xlink:href=\"#m5123090806\" x=\"131.907013\" y=\"77.140474\" style=\"fill: #1f77b4; stroke: #1f77b4\"/>\n     <use xlink:href=\"#m5123090806\" x=\"98.868566\" y=\"53.194826\" style=\"fill: #1f77b4; stroke: #1f77b4\"/>\n     <use xlink:href=\"#m5123090806\" x=\"133.978219\" y=\"86.314936\" style=\"fill: #1f77b4; stroke: #1f77b4\"/>\n     <use xlink:href=\"#m5123090806\" x=\"126.718442\" y=\"67.812866\" style=\"fill: #1f77b4; stroke: #1f77b4\"/>\n     <use xlink:href=\"#m5123090806\" x=\"187.285782\" y=\"122.126987\" style=\"fill: #1f77b4; stroke: #1f77b4\"/>\n     <use xlink:href=\"#m5123090806\" x=\"190.060846\" y=\"123.849773\" style=\"fill: #1f77b4; stroke: #1f77b4\"/>\n     <use xlink:href=\"#m5123090806\" x=\"92.118737\" y=\"37.531581\" style=\"fill: #1f77b4; stroke: #1f77b4\"/>\n     <use xlink:href=\"#m5123090806\" x=\"142.133333\" y=\"66.455646\" style=\"fill: #1f77b4; stroke: #1f77b4\"/>\n     <use xlink:href=\"#m5123090806\" x=\"141.895892\" y=\"88.267971\" style=\"fill: #1f77b4; stroke: #1f77b4\"/>\n     <use xlink:href=\"#m5123090806\" x=\"83.526452\" y=\"28.135895\" style=\"fill: #1f77b4; stroke: #1f77b4\"/>\n     <use xlink:href=\"#m5123090806\" x=\"90.216003\" y=\"46.370901\" style=\"fill: #1f77b4; stroke: #1f77b4\"/>\n     <use xlink:href=\"#m5123090806\" x=\"155.76361\" y=\"71.371028\" style=\"fill: #1f77b4; stroke: #1f77b4\"/>\n     <use xlink:href=\"#m5123090806\" x=\"138.053256\" y=\"80.832719\" style=\"fill: #1f77b4; stroke: #1f77b4\"/>\n     <use xlink:href=\"#m5123090806\" x=\"121.291735\" y=\"62.160718\" style=\"fill: #1f77b4; stroke: #1f77b4\"/>\n     <use xlink:href=\"#m5123090806\" x=\"132.644323\" y=\"69.74758\" style=\"fill: #1f77b4; stroke: #1f77b4\"/>\n     <use xlink:href=\"#m5123090806\" x=\"105.793136\" y=\"46.57338\" style=\"fill: #1f77b4; stroke: #1f77b4\"/>\n     <use xlink:href=\"#m5123090806\" x=\"168.130067\" y=\"85.140955\" style=\"fill: #1f77b4; stroke: #1f77b4\"/>\n     <use xlink:href=\"#m5123090806\" x=\"74.969339\" y=\"28.849184\" style=\"fill: #1f77b4; stroke: #1f77b4\"/>\n     <use xlink:href=\"#m5123090806\" x=\"160.799664\" y=\"88.005958\" style=\"fill: #1f77b4; stroke: #1f77b4\"/>\n     <use xlink:href=\"#m5123090806\" x=\"151.348822\" y=\"68.815814\" style=\"fill: #1f77b4; stroke: #1f77b4\"/>\n     <use xlink:href=\"#m5123090806\" x=\"151.859727\" y=\"96.519772\" style=\"fill: #1f77b4; stroke: #1f77b4\"/>\n     <use xlink:href=\"#m5123090806\" x=\"142.600261\" y=\"86.555678\" style=\"fill: #1f77b4; stroke: #1f77b4\"/>\n     <use xlink:href=\"#m5123090806\" x=\"115.07335\" y=\"62.232073\" style=\"fill: #1f77b4; stroke: #1f77b4\"/>\n     <use xlink:href=\"#m5123090806\" x=\"146.609804\" y=\"89.548455\" style=\"fill: #1f77b4; stroke: #1f77b4\"/>\n     <use xlink:href=\"#m5123090806\" x=\"106.727809\" y=\"77.43371\" style=\"fill: #1f77b4; stroke: #1f77b4\"/>\n     <use xlink:href=\"#m5123090806\" x=\"101.089031\" y=\"65.714163\" style=\"fill: #1f77b4; stroke: #1f77b4\"/>\n     <use xlink:href=\"#m5123090806\" x=\"158.405508\" y=\"92.649254\" style=\"fill: #1f77b4; stroke: #1f77b4\"/>\n     <use xlink:href=\"#m5123090806\" x=\"129.992421\" y=\"87.630037\" style=\"fill: #1f77b4; stroke: #1f77b4\"/>\n     <use xlink:href=\"#m5123090806\" x=\"142.125733\" y=\"90.44311\" style=\"fill: #1f77b4; stroke: #1f77b4\"/>\n     <use xlink:href=\"#m5123090806\" x=\"108.535117\" y=\"47.001897\" style=\"fill: #1f77b4; stroke: #1f77b4\"/>\n     <use xlink:href=\"#m5123090806\" x=\"123.525024\" y=\"67.821602\" style=\"fill: #1f77b4; stroke: #1f77b4\"/>\n     <use xlink:href=\"#m5123090806\" x=\"98.218743\" y=\"48.211765\" style=\"fill: #1f77b4; stroke: #1f77b4\"/>\n     <use xlink:href=\"#m5123090806\" x=\"173.856342\" y=\"101.074775\" style=\"fill: #1f77b4; stroke: #1f77b4\"/>\n     <use xlink:href=\"#m5123090806\" x=\"127.451836\" y=\"76.662821\" style=\"fill: #1f77b4; stroke: #1f77b4\"/>\n     <use xlink:href=\"#m5123090806\" x=\"149.492935\" y=\"73.474993\" style=\"fill: #1f77b4; stroke: #1f77b4\"/>\n     <use xlink:href=\"#m5123090806\" x=\"138.674319\" y=\"71.420541\" style=\"fill: #1f77b4; stroke: #1f77b4\"/>\n     <use xlink:href=\"#m5123090806\" x=\"187.232498\" y=\"139.5\" style=\"fill: #1f77b4; stroke: #1f77b4\"/>\n     <use xlink:href=\"#m5123090806\" x=\"186.780899\" y=\"106.370667\" style=\"fill: #1f77b4; stroke: #1f77b4\"/>\n     <use xlink:href=\"#m5123090806\" x=\"148.44715\" y=\"80.321159\" style=\"fill: #1f77b4; stroke: #1f77b4\"/>\n     <use xlink:href=\"#m5123090806\" x=\"173.084809\" y=\"118.904915\" style=\"fill: #1f77b4; stroke: #1f77b4\"/>\n     <use xlink:href=\"#m5123090806\" x=\"67.865147\" y=\"48.733478\" style=\"fill: #1f77b4; stroke: #1f77b4\"/>\n     <use xlink:href=\"#m5123090806\" x=\"151.824677\" y=\"90.501623\" style=\"fill: #1f77b4; stroke: #1f77b4\"/>\n     <use xlink:href=\"#m5123090806\" x=\"131.826518\" y=\"92.345013\" style=\"fill: #1f77b4; stroke: #1f77b4\"/>\n     <use xlink:href=\"#m5123090806\" x=\"148.1114\" y=\"91.019615\" style=\"fill: #1f77b4; stroke: #1f77b4\"/>\n     <use xlink:href=\"#m5123090806\" x=\"89.873878\" y=\"57.953322\" style=\"fill: #1f77b4; stroke: #1f77b4\"/>\n     <use xlink:href=\"#m5123090806\" x=\"181.358226\" y=\"109.367891\" style=\"fill: #1f77b4; stroke: #1f77b4\"/>\n     <use xlink:href=\"#m5123090806\" x=\"158.674382\" y=\"80.758766\" style=\"fill: #1f77b4; stroke: #1f77b4\"/>\n     <use xlink:href=\"#m5123090806\" x=\"91.540126\" y=\"42.485563\" style=\"fill: #1f77b4; stroke: #1f77b4\"/>\n     <use xlink:href=\"#m5123090806\" x=\"116.077541\" y=\"52.013902\" style=\"fill: #1f77b4; stroke: #1f77b4\"/>\n     <use xlink:href=\"#m5123090806\" x=\"144.849698\" y=\"85.848622\" style=\"fill: #1f77b4; stroke: #1f77b4\"/>\n     <use xlink:href=\"#m5123090806\" x=\"149.142042\" y=\"88.072448\" style=\"fill: #1f77b4; stroke: #1f77b4\"/>\n     <use xlink:href=\"#m5123090806\" x=\"140.953172\" y=\"58.167563\" style=\"fill: #1f77b4; stroke: #1f77b4\"/>\n     <use xlink:href=\"#m5123090806\" x=\"182.259833\" y=\"102.876479\" style=\"fill: #1f77b4; stroke: #1f77b4\"/>\n     <use xlink:href=\"#m5123090806\" x=\"81.114097\" y=\"40.271062\" style=\"fill: #1f77b4; stroke: #1f77b4\"/>\n     <use xlink:href=\"#m5123090806\" x=\"135.710442\" y=\"83.290876\" style=\"fill: #1f77b4; stroke: #1f77b4\"/>\n     <use xlink:href=\"#m5123090806\" x=\"146.406689\" y=\"82.277236\" style=\"fill: #1f77b4; stroke: #1f77b4\"/>\n     <use xlink:href=\"#m5123090806\" x=\"111.275238\" y=\"62.950068\" style=\"fill: #1f77b4; stroke: #1f77b4\"/>\n     <use xlink:href=\"#m5123090806\" x=\"122.66464\" y=\"74.504392\" style=\"fill: #1f77b4; stroke: #1f77b4\"/>\n     <use xlink:href=\"#m5123090806\" x=\"163.216398\" y=\"101.978521\" style=\"fill: #1f77b4; stroke: #1f77b4\"/>\n     <use xlink:href=\"#m5123090806\" x=\"206.212716\" y=\"115.194239\" style=\"fill: #1f77b4; stroke: #1f77b4\"/>\n     <use xlink:href=\"#m5123090806\" x=\"127.819983\" y=\"73.839871\" style=\"fill: #1f77b4; stroke: #1f77b4\"/>\n     <use xlink:href=\"#m5123090806\" x=\"126.175497\" y=\"61.026961\" style=\"fill: #1f77b4; stroke: #1f77b4\"/>\n     <use xlink:href=\"#m5123090806\" x=\"125.678091\" y=\"89.464277\" style=\"fill: #1f77b4; stroke: #1f77b4\"/>\n     <use xlink:href=\"#m5123090806\" x=\"167.762279\" y=\"86.803983\" style=\"fill: #1f77b4; stroke: #1f77b4\"/>\n     <use xlink:href=\"#m5123090806\" x=\"147.496061\" y=\"85.872778\" style=\"fill: #1f77b4; stroke: #1f77b4\"/>\n     <use xlink:href=\"#m5123090806\" x=\"96.654923\" y=\"55.490462\" style=\"fill: #1f77b4; stroke: #1f77b4\"/>\n     <use xlink:href=\"#m5123090806\" x=\"150.489205\" y=\"101.616281\" style=\"fill: #1f77b4; stroke: #1f77b4\"/>\n     <use xlink:href=\"#m5123090806\" x=\"126.491853\" y=\"66.062169\" style=\"fill: #1f77b4; stroke: #1f77b4\"/>\n     <use xlink:href=\"#m5123090806\" x=\"117.876651\" y=\"71.017652\" style=\"fill: #1f77b4; stroke: #1f77b4\"/>\n     <use xlink:href=\"#m5123090806\" x=\"156.471103\" y=\"95.850689\" style=\"fill: #1f77b4; stroke: #1f77b4\"/>\n     <use xlink:href=\"#m5123090806\" x=\"139.088915\" y=\"104.071633\" style=\"fill: #1f77b4; stroke: #1f77b4\"/>\n     <use xlink:href=\"#m5123090806\" x=\"152.439739\" y=\"88.742221\" style=\"fill: #1f77b4; stroke: #1f77b4\"/>\n     <use xlink:href=\"#m5123090806\" x=\"154.537624\" y=\"89.601657\" style=\"fill: #1f77b4; stroke: #1f77b4\"/>\n     <use xlink:href=\"#m5123090806\" x=\"146.306714\" y=\"64.728644\" style=\"fill: #1f77b4; stroke: #1f77b4\"/>\n     <use xlink:href=\"#m5123090806\" x=\"153.610406\" y=\"66.964693\" style=\"fill: #1f77b4; stroke: #1f77b4\"/>\n     <use xlink:href=\"#m5123090806\" x=\"155.177799\" y=\"87.824445\" style=\"fill: #1f77b4; stroke: #1f77b4\"/>\n     <use xlink:href=\"#m5123090806\" x=\"138.591899\" y=\"43.16808\" style=\"fill: #1f77b4; stroke: #1f77b4\"/>\n     <use xlink:href=\"#m5123090806\" x=\"119.849577\" y=\"77.187127\" style=\"fill: #1f77b4; stroke: #1f77b4\"/>\n     <use xlink:href=\"#m5123090806\" x=\"112.062892\" y=\"80.609461\" style=\"fill: #1f77b4; stroke: #1f77b4\"/>\n     <use xlink:href=\"#m5123090806\" x=\"144.488144\" y=\"68.54522\" style=\"fill: #1f77b4; stroke: #1f77b4\"/>\n     <use xlink:href=\"#m5123090806\" x=\"146.754421\" y=\"90.034081\" style=\"fill: #1f77b4; stroke: #1f77b4\"/>\n     <use xlink:href=\"#m5123090806\" x=\"164.123311\" y=\"99.800099\" style=\"fill: #1f77b4; stroke: #1f77b4\"/>\n     <use xlink:href=\"#m5123090806\" x=\"182.020533\" y=\"95.711327\" style=\"fill: #1f77b4; stroke: #1f77b4\"/>\n     <use xlink:href=\"#m5123090806\" x=\"107.478007\" y=\"53.989614\" style=\"fill: #1f77b4; stroke: #1f77b4\"/>\n     <use xlink:href=\"#m5123090806\" x=\"153.840654\" y=\"91.225643\" style=\"fill: #1f77b4; stroke: #1f77b4\"/>\n     <use xlink:href=\"#m5123090806\" x=\"167.045148\" y=\"94.098865\" style=\"fill: #1f77b4; stroke: #1f77b4\"/>\n     <use xlink:href=\"#m5123090806\" x=\"141.465527\" y=\"85.648466\" style=\"fill: #1f77b4; stroke: #1f77b4\"/>\n     <use xlink:href=\"#m5123090806\" x=\"138.576513\" y=\"75.642664\" style=\"fill: #1f77b4; stroke: #1f77b4\"/>\n     <use xlink:href=\"#m5123090806\" x=\"122.948304\" y=\"59.582961\" style=\"fill: #1f77b4; stroke: #1f77b4\"/>\n     <use xlink:href=\"#m5123090806\" x=\"123.558588\" y=\"58.781896\" style=\"fill: #1f77b4; stroke: #1f77b4\"/>\n     <use xlink:href=\"#m5123090806\" x=\"99.592302\" y=\"60.560537\" style=\"fill: #1f77b4; stroke: #1f77b4\"/>\n     <use xlink:href=\"#m5123090806\" x=\"157.150757\" y=\"81.065095\" style=\"fill: #1f77b4; stroke: #1f77b4\"/>\n     <use xlink:href=\"#m5123090806\" x=\"105.047381\" y=\"76.609219\" style=\"fill: #1f77b4; stroke: #1f77b4\"/>\n     <use xlink:href=\"#m5123090806\" x=\"138.200742\" y=\"80.169993\" style=\"fill: #1f77b4; stroke: #1f77b4\"/>\n     <use xlink:href=\"#m5123090806\" x=\"118.887764\" y=\"66.194745\" style=\"fill: #1f77b4; stroke: #1f77b4\"/>\n     <use xlink:href=\"#m5123090806\" x=\"81.43171\" y=\"20.370512\" style=\"fill: #1f77b4; stroke: #1f77b4\"/>\n     <use xlink:href=\"#m5123090806\" x=\"141.212783\" y=\"82.221843\" style=\"fill: #1f77b4; stroke: #1f77b4\"/>\n     <use xlink:href=\"#m5123090806\" x=\"105.16442\" y=\"67.570837\" style=\"fill: #1f77b4; stroke: #1f77b4\"/>\n     <use xlink:href=\"#m5123090806\" x=\"150.325795\" y=\"72.84353\" style=\"fill: #1f77b4; stroke: #1f77b4\"/>\n     <use xlink:href=\"#m5123090806\" x=\"144.20754\" y=\"88.712559\" style=\"fill: #1f77b4; stroke: #1f77b4\"/>\n     <use xlink:href=\"#m5123090806\" x=\"147.661882\" y=\"102.85169\" style=\"fill: #1f77b4; stroke: #1f77b4\"/>\n     <use xlink:href=\"#m5123090806\" x=\"117.662762\" y=\"52.045983\" style=\"fill: #1f77b4; stroke: #1f77b4\"/>\n     <use xlink:href=\"#m5123090806\" x=\"141.620315\" y=\"89.427633\" style=\"fill: #1f77b4; stroke: #1f77b4\"/>\n     <use xlink:href=\"#m5123090806\" x=\"140.97606\" y=\"73.371639\" style=\"fill: #1f77b4; stroke: #1f77b4\"/>\n     <use xlink:href=\"#m5123090806\" x=\"126.60951\" y=\"79.474343\" style=\"fill: #1f77b4; stroke: #1f77b4\"/>\n     <use xlink:href=\"#m5123090806\" x=\"158.785303\" y=\"104.640669\" style=\"fill: #1f77b4; stroke: #1f77b4\"/>\n     <use xlink:href=\"#m5123090806\" x=\"100.647238\" y=\"63.651643\" style=\"fill: #1f77b4; stroke: #1f77b4\"/>\n     <use xlink:href=\"#m5123090806\" x=\"139.640307\" y=\"77.504975\" style=\"fill: #1f77b4; stroke: #1f77b4\"/>\n     <use xlink:href=\"#m5123090806\" x=\"134.370063\" y=\"77.100123\" style=\"fill: #1f77b4; stroke: #1f77b4\"/>\n     <use xlink:href=\"#m5123090806\" x=\"124.538276\" y=\"88.703456\" style=\"fill: #1f77b4; stroke: #1f77b4\"/>\n     <use xlink:href=\"#m5123090806\" x=\"153.959052\" y=\"101.275637\" style=\"fill: #1f77b4; stroke: #1f77b4\"/>\n     <use xlink:href=\"#m5123090806\" x=\"97.632388\" y=\"46.553353\" style=\"fill: #1f77b4; stroke: #1f77b4\"/>\n     <use xlink:href=\"#m5123090806\" x=\"106.911926\" y=\"61.972278\" style=\"fill: #1f77b4; stroke: #1f77b4\"/>\n     <use xlink:href=\"#m5123090806\" x=\"104.64003\" y=\"59.02021\" style=\"fill: #1f77b4; stroke: #1f77b4\"/>\n     <use xlink:href=\"#m5123090806\" x=\"135.026817\" y=\"76.965593\" style=\"fill: #1f77b4; stroke: #1f77b4\"/>\n     <use xlink:href=\"#m5123090806\" x=\"137.175852\" y=\"72.811534\" style=\"fill: #1f77b4; stroke: #1f77b4\"/>\n     <use xlink:href=\"#m5123090806\" x=\"172.702047\" y=\"90.611836\" style=\"fill: #1f77b4; stroke: #1f77b4\"/>\n     <use xlink:href=\"#m5123090806\" x=\"137.734994\" y=\"63.633001\" style=\"fill: #1f77b4; stroke: #1f77b4\"/>\n     <use xlink:href=\"#m5123090806\" x=\"88.97453\" y=\"35.916251\" style=\"fill: #1f77b4; stroke: #1f77b4\"/>\n     <use xlink:href=\"#m5123090806\" x=\"100.764025\" y=\"47.934192\" style=\"fill: #1f77b4; stroke: #1f77b4\"/>\n     <use xlink:href=\"#m5123090806\" x=\"161.333509\" y=\"91.475486\" style=\"fill: #1f77b4; stroke: #1f77b4\"/>\n     <use xlink:href=\"#m5123090806\" x=\"153.62165\" y=\"87.320647\" style=\"fill: #1f77b4; stroke: #1f77b4\"/>\n     <use xlink:href=\"#m5123090806\" x=\"154.99159\" y=\"86.799184\" style=\"fill: #1f77b4; stroke: #1f77b4\"/>\n     <use xlink:href=\"#m5123090806\" x=\"147.57158\" y=\"71.163701\" style=\"fill: #1f77b4; stroke: #1f77b4\"/>\n     <use xlink:href=\"#m5123090806\" x=\"129.79874\" y=\"64.660545\" style=\"fill: #1f77b4; stroke: #1f77b4\"/>\n     <use xlink:href=\"#m5123090806\" x=\"102.980846\" y=\"53.408346\" style=\"fill: #1f77b4; stroke: #1f77b4\"/>\n     <use xlink:href=\"#m5123090806\" x=\"123.497659\" y=\"60.181755\" style=\"fill: #1f77b4; stroke: #1f77b4\"/>\n     <use xlink:href=\"#m5123090806\" x=\"100.889458\" y=\"54.891008\" style=\"fill: #1f77b4; stroke: #1f77b4\"/>\n     <use xlink:href=\"#m5123090806\" x=\"124.482138\" y=\"61.499003\" style=\"fill: #1f77b4; stroke: #1f77b4\"/>\n     <use xlink:href=\"#m5123090806\" x=\"116.887771\" y=\"65.267485\" style=\"fill: #1f77b4; stroke: #1f77b4\"/>\n     <use xlink:href=\"#m5123090806\" x=\"103.69213\" y=\"47.733334\" style=\"fill: #1f77b4; stroke: #1f77b4\"/>\n     <use xlink:href=\"#m5123090806\" x=\"120.003297\" y=\"68.858966\" style=\"fill: #1f77b4; stroke: #1f77b4\"/>\n     <use xlink:href=\"#m5123090806\" x=\"156.992781\" y=\"69.768335\" style=\"fill: #1f77b4; stroke: #1f77b4\"/>\n     <use xlink:href=\"#m5123090806\" x=\"94.017515\" y=\"53.527886\" style=\"fill: #1f77b4; stroke: #1f77b4\"/>\n     <use xlink:href=\"#m5123090806\" x=\"150.928363\" y=\"93.149073\" style=\"fill: #1f77b4; stroke: #1f77b4\"/>\n     <use xlink:href=\"#m5123090806\" x=\"107.875049\" y=\"60.795583\" style=\"fill: #1f77b4; stroke: #1f77b4\"/>\n     <use xlink:href=\"#m5123090806\" x=\"143.702951\" y=\"78.628051\" style=\"fill: #1f77b4; stroke: #1f77b4\"/>\n     <use xlink:href=\"#m5123090806\" x=\"91.704274\" y=\"16.205959\" style=\"fill: #1f77b4; stroke: #1f77b4\"/>\n     <use xlink:href=\"#m5123090806\" x=\"103.732069\" y=\"31.101037\" style=\"fill: #1f77b4; stroke: #1f77b4\"/>\n     <use xlink:href=\"#m5123090806\" x=\"100.564497\" y=\"43.274712\" style=\"fill: #1f77b4; stroke: #1f77b4\"/>\n     <use xlink:href=\"#m5123090806\" x=\"127.638099\" y=\"76.146287\" style=\"fill: #1f77b4; stroke: #1f77b4\"/>\n     <use xlink:href=\"#m5123090806\" x=\"160.840466\" y=\"89.446886\" style=\"fill: #1f77b4; stroke: #1f77b4\"/>\n     <use xlink:href=\"#m5123090806\" x=\"130.886929\" y=\"80.236781\" style=\"fill: #1f77b4; stroke: #1f77b4\"/>\n     <use xlink:href=\"#m5123090806\" x=\"172.428355\" y=\"111.568872\" style=\"fill: #1f77b4; stroke: #1f77b4\"/>\n     <use xlink:href=\"#m5123090806\" x=\"171.758409\" y=\"97.397118\" style=\"fill: #1f77b4; stroke: #1f77b4\"/>\n     <use xlink:href=\"#m5123090806\" x=\"183.253149\" y=\"98.32751\" style=\"fill: #1f77b4; stroke: #1f77b4\"/>\n     <use xlink:href=\"#m5123090806\" x=\"150.648194\" y=\"87.651009\" style=\"fill: #1f77b4; stroke: #1f77b4\"/>\n     <use xlink:href=\"#m5123090806\" x=\"100.209971\" y=\"51.052572\" style=\"fill: #1f77b4; stroke: #1f77b4\"/>\n     <use xlink:href=\"#m5123090806\" x=\"123.648037\" y=\"47.611374\" style=\"fill: #1f77b4; stroke: #1f77b4\"/>\n     <use xlink:href=\"#m5123090806\" x=\"133.590105\" y=\"76.61194\" style=\"fill: #1f77b4; stroke: #1f77b4\"/>\n     <use xlink:href=\"#m5123090806\" x=\"89.01312\" y=\"54.964157\" style=\"fill: #1f77b4; stroke: #1f77b4\"/>\n     <use xlink:href=\"#m5123090806\" x=\"102.124858\" y=\"45.587882\" style=\"fill: #1f77b4; stroke: #1f77b4\"/>\n     <use xlink:href=\"#m5123090806\" x=\"122.0755\" y=\"41.508951\" style=\"fill: #1f77b4; stroke: #1f77b4\"/>\n     <use xlink:href=\"#m5123090806\" x=\"116.030063\" y=\"48.147281\" style=\"fill: #1f77b4; stroke: #1f77b4\"/>\n     <use xlink:href=\"#m5123090806\" x=\"168.743372\" y=\"83.750787\" style=\"fill: #1f77b4; stroke: #1f77b4\"/>\n     <use xlink:href=\"#m5123090806\" x=\"114.770572\" y=\"61.034462\" style=\"fill: #1f77b4; stroke: #1f77b4\"/>\n     <use xlink:href=\"#m5123090806\" x=\"69.628386\" y=\"48.740266\" style=\"fill: #1f77b4; stroke: #1f77b4\"/>\n     <use xlink:href=\"#m5123090806\" x=\"142.586303\" y=\"88.127185\" style=\"fill: #1f77b4; stroke: #1f77b4\"/>\n     <use xlink:href=\"#m5123090806\" x=\"110.086975\" y=\"56.177312\" style=\"fill: #1f77b4; stroke: #1f77b4\"/>\n     <use xlink:href=\"#m5123090806\" x=\"194.262124\" y=\"121.287592\" style=\"fill: #1f77b4; stroke: #1f77b4\"/>\n     <use xlink:href=\"#m5123090806\" x=\"116.15903\" y=\"67.615806\" style=\"fill: #1f77b4; stroke: #1f77b4\"/>\n     <use xlink:href=\"#m5123090806\" x=\"141.90205\" y=\"99.242826\" style=\"fill: #1f77b4; stroke: #1f77b4\"/>\n     <use xlink:href=\"#m5123090806\" x=\"151.546021\" y=\"76.092229\" style=\"fill: #1f77b4; stroke: #1f77b4\"/>\n     <use xlink:href=\"#m5123090806\" x=\"148.220949\" y=\"88.504976\" style=\"fill: #1f77b4; stroke: #1f77b4\"/>\n     <use xlink:href=\"#m5123090806\" x=\"110.213837\" y=\"59.656548\" style=\"fill: #1f77b4; stroke: #1f77b4\"/>\n     <use xlink:href=\"#m5123090806\" x=\"139.874257\" y=\"90.337903\" style=\"fill: #1f77b4; stroke: #1f77b4\"/>\n     <use xlink:href=\"#m5123090806\" x=\"56.108861\" y=\"18.60117\" style=\"fill: #1f77b4; stroke: #1f77b4\"/>\n     <use xlink:href=\"#m5123090806\" x=\"161.038639\" y=\"86.03592\" style=\"fill: #1f77b4; stroke: #1f77b4\"/>\n     <use xlink:href=\"#m5123090806\" x=\"132.113179\" y=\"64.086113\" style=\"fill: #1f77b4; stroke: #1f77b4\"/>\n     <use xlink:href=\"#m5123090806\" x=\"98.490513\" y=\"48.91466\" style=\"fill: #1f77b4; stroke: #1f77b4\"/>\n     <use xlink:href=\"#m5123090806\" x=\"137.256914\" y=\"82.532908\" style=\"fill: #1f77b4; stroke: #1f77b4\"/>\n     <use xlink:href=\"#m5123090806\" x=\"144.671158\" y=\"100.946853\" style=\"fill: #1f77b4; stroke: #1f77b4\"/>\n     <use xlink:href=\"#m5123090806\" x=\"160.326702\" y=\"102.451349\" style=\"fill: #1f77b4; stroke: #1f77b4\"/>\n     <use xlink:href=\"#m5123090806\" x=\"156.725446\" y=\"109.923759\" style=\"fill: #1f77b4; stroke: #1f77b4\"/>\n     <use xlink:href=\"#m5123090806\" x=\"154.718279\" y=\"73.208403\" style=\"fill: #1f77b4; stroke: #1f77b4\"/>\n     <use xlink:href=\"#m5123090806\" x=\"115.027963\" y=\"83.919742\" style=\"fill: #1f77b4; stroke: #1f77b4\"/>\n     <use xlink:href=\"#m5123090806\" x=\"150.519517\" y=\"84.03283\" style=\"fill: #1f77b4; stroke: #1f77b4\"/>\n     <use xlink:href=\"#m5123090806\" x=\"118.562141\" y=\"83.230707\" style=\"fill: #1f77b4; stroke: #1f77b4\"/>\n     <use xlink:href=\"#m5123090806\" x=\"147.391443\" y=\"100.387065\" style=\"fill: #1f77b4; stroke: #1f77b4\"/>\n     <use xlink:href=\"#m5123090806\" x=\"58.091495\" y=\"23.401127\" style=\"fill: #1f77b4; stroke: #1f77b4\"/>\n     <use xlink:href=\"#m5123090806\" x=\"119.411683\" y=\"72.817782\" style=\"fill: #1f77b4; stroke: #1f77b4\"/>\n     <use xlink:href=\"#m5123090806\" x=\"155.049331\" y=\"91.227934\" style=\"fill: #1f77b4; stroke: #1f77b4\"/>\n     <use xlink:href=\"#m5123090806\" x=\"151.797358\" y=\"106.44952\" style=\"fill: #1f77b4; stroke: #1f77b4\"/>\n     <use xlink:href=\"#m5123090806\" x=\"154.093287\" y=\"94.210114\" style=\"fill: #1f77b4; stroke: #1f77b4\"/>\n     <use xlink:href=\"#m5123090806\" x=\"130.489782\" y=\"75.380715\" style=\"fill: #1f77b4; stroke: #1f77b4\"/>\n     <use xlink:href=\"#m5123090806\" x=\"117.576609\" y=\"63.103795\" style=\"fill: #1f77b4; stroke: #1f77b4\"/>\n     <use xlink:href=\"#m5123090806\" x=\"153.911288\" y=\"70.073315\" style=\"fill: #1f77b4; stroke: #1f77b4\"/>\n     <use xlink:href=\"#m5123090806\" x=\"114.295235\" y=\"69.463988\" style=\"fill: #1f77b4; stroke: #1f77b4\"/>\n     <use xlink:href=\"#m5123090806\" x=\"118.179787\" y=\"75.359519\" style=\"fill: #1f77b4; stroke: #1f77b4\"/>\n     <use xlink:href=\"#m5123090806\" x=\"130.17365\" y=\"68.606699\" style=\"fill: #1f77b4; stroke: #1f77b4\"/>\n     <use xlink:href=\"#m5123090806\" x=\"126.270555\" y=\"64.032873\" style=\"fill: #1f77b4; stroke: #1f77b4\"/>\n     <use xlink:href=\"#m5123090806\" x=\"127.50552\" y=\"75.3733\" style=\"fill: #1f77b4; stroke: #1f77b4\"/>\n     <use xlink:href=\"#m5123090806\" x=\"160.964083\" y=\"101.994559\" style=\"fill: #1f77b4; stroke: #1f77b4\"/>\n     <use xlink:href=\"#m5123090806\" x=\"162.733063\" y=\"87.826219\" style=\"fill: #1f77b4; stroke: #1f77b4\"/>\n     <use xlink:href=\"#m5123090806\" x=\"124.020311\" y=\"71.039813\" style=\"fill: #1f77b4; stroke: #1f77b4\"/>\n     <use xlink:href=\"#m5123090806\" x=\"123.802105\" y=\"70.625269\" style=\"fill: #1f77b4; stroke: #1f77b4\"/>\n     <use xlink:href=\"#m5123090806\" x=\"145.701157\" y=\"75.889478\" style=\"fill: #1f77b4; stroke: #1f77b4\"/>\n     <use xlink:href=\"#m5123090806\" x=\"159.116376\" y=\"76.554127\" style=\"fill: #1f77b4; stroke: #1f77b4\"/>\n     <use xlink:href=\"#m5123090806\" x=\"102.574529\" y=\"71.100535\" style=\"fill: #1f77b4; stroke: #1f77b4\"/>\n     <use xlink:href=\"#m5123090806\" x=\"110.274781\" y=\"77.511097\" style=\"fill: #1f77b4; stroke: #1f77b4\"/>\n     <use xlink:href=\"#m5123090806\" x=\"145.572016\" y=\"93.209851\" style=\"fill: #1f77b4; stroke: #1f77b4\"/>\n     <use xlink:href=\"#m5123090806\" x=\"131.428964\" y=\"83.868885\" style=\"fill: #1f77b4; stroke: #1f77b4\"/>\n     <use xlink:href=\"#m5123090806\" x=\"146.151709\" y=\"82.043112\" style=\"fill: #1f77b4; stroke: #1f77b4\"/>\n     <use xlink:href=\"#m5123090806\" x=\"95.304967\" y=\"36.33582\" style=\"fill: #1f77b4; stroke: #1f77b4\"/>\n     <use xlink:href=\"#m5123090806\" x=\"120.677815\" y=\"75.946902\" style=\"fill: #1f77b4; stroke: #1f77b4\"/>\n     <use xlink:href=\"#m5123090806\" x=\"116.989341\" y=\"39.135825\" style=\"fill: #1f77b4; stroke: #1f77b4\"/>\n     <use xlink:href=\"#m5123090806\" x=\"136.975463\" y=\"63.377863\" style=\"fill: #1f77b4; stroke: #1f77b4\"/>\n     <use xlink:href=\"#m5123090806\" x=\"108.806141\" y=\"41.8577\" style=\"fill: #1f77b4; stroke: #1f77b4\"/>\n     <use xlink:href=\"#m5123090806\" x=\"104.269332\" y=\"55.402469\" style=\"fill: #1f77b4; stroke: #1f77b4\"/>\n     <use xlink:href=\"#m5123090806\" x=\"157.390469\" y=\"99.625553\" style=\"fill: #1f77b4; stroke: #1f77b4\"/>\n     <use xlink:href=\"#m5123090806\" x=\"159.39317\" y=\"101.354871\" style=\"fill: #1f77b4; stroke: #1f77b4\"/>\n     <use xlink:href=\"#m5123090806\" x=\"162.884701\" y=\"109.473983\" style=\"fill: #1f77b4; stroke: #1f77b4\"/>\n     <use xlink:href=\"#m5123090806\" x=\"109.900356\" y=\"69.188918\" style=\"fill: #1f77b4; stroke: #1f77b4\"/>\n     <use xlink:href=\"#m5123090806\" x=\"137.387842\" y=\"63.691978\" style=\"fill: #1f77b4; stroke: #1f77b4\"/>\n     <use xlink:href=\"#m5123090806\" x=\"121.304957\" y=\"67.121154\" style=\"fill: #1f77b4; stroke: #1f77b4\"/>\n     <use xlink:href=\"#m5123090806\" x=\"146.670791\" y=\"61.251426\" style=\"fill: #1f77b4; stroke: #1f77b4\"/>\n     <use xlink:href=\"#m5123090806\" x=\"130.077767\" y=\"57.136952\" style=\"fill: #1f77b4; stroke: #1f77b4\"/>\n     <use xlink:href=\"#m5123090806\" x=\"142.490532\" y=\"71.17142\" style=\"fill: #1f77b4; stroke: #1f77b4\"/>\n     <use xlink:href=\"#m5123090806\" x=\"155.336188\" y=\"84.741719\" style=\"fill: #1f77b4; stroke: #1f77b4\"/>\n     <use xlink:href=\"#m5123090806\" x=\"138.026945\" y=\"79.90445\" style=\"fill: #1f77b4; stroke: #1f77b4\"/>\n     <use xlink:href=\"#m5123090806\" x=\"79.526171\" y=\"38.45989\" style=\"fill: #1f77b4; stroke: #1f77b4\"/>\n     <use xlink:href=\"#m5123090806\" x=\"125.448004\" y=\"56.764591\" style=\"fill: #1f77b4; stroke: #1f77b4\"/>\n     <use xlink:href=\"#m5123090806\" x=\"155.884505\" y=\"100.569554\" style=\"fill: #1f77b4; stroke: #1f77b4\"/>\n     <use xlink:href=\"#m5123090806\" x=\"119.628165\" y=\"61.026479\" style=\"fill: #1f77b4; stroke: #1f77b4\"/>\n     <use xlink:href=\"#m5123090806\" x=\"120.272816\" y=\"63.815733\" style=\"fill: #1f77b4; stroke: #1f77b4\"/>\n     <use xlink:href=\"#m5123090806\" x=\"146.648383\" y=\"84.587297\" style=\"fill: #1f77b4; stroke: #1f77b4\"/>\n     <use xlink:href=\"#m5123090806\" x=\"156.827703\" y=\"90.106169\" style=\"fill: #1f77b4; stroke: #1f77b4\"/>\n     <use xlink:href=\"#m5123090806\" x=\"160.089853\" y=\"107.620328\" style=\"fill: #1f77b4; stroke: #1f77b4\"/>\n     <use xlink:href=\"#m5123090806\" x=\"155.273885\" y=\"100.998047\" style=\"fill: #1f77b4; stroke: #1f77b4\"/>\n     <use xlink:href=\"#m5123090806\" x=\"158.725443\" y=\"89.174893\" style=\"fill: #1f77b4; stroke: #1f77b4\"/>\n     <use xlink:href=\"#m5123090806\" x=\"192.252074\" y=\"109.937047\" style=\"fill: #1f77b4; stroke: #1f77b4\"/>\n     <use xlink:href=\"#m5123090806\" x=\"103.641662\" y=\"73.652513\" style=\"fill: #1f77b4; stroke: #1f77b4\"/>\n     <use xlink:href=\"#m5123090806\" x=\"113.491165\" y=\"66.160178\" style=\"fill: #1f77b4; stroke: #1f77b4\"/>\n     <use xlink:href=\"#m5123090806\" x=\"139.029587\" y=\"81.74404\" style=\"fill: #1f77b4; stroke: #1f77b4\"/>\n     <use xlink:href=\"#m5123090806\" x=\"181.01845\" y=\"100.858127\" style=\"fill: #1f77b4; stroke: #1f77b4\"/>\n     <use xlink:href=\"#m5123090806\" x=\"128.790716\" y=\"70.678465\" style=\"fill: #1f77b4; stroke: #1f77b4\"/>\n     <use xlink:href=\"#m5123090806\" x=\"108.239112\" y=\"56.901409\" style=\"fill: #1f77b4; stroke: #1f77b4\"/>\n     <use xlink:href=\"#m5123090806\" x=\"146.818528\" y=\"76.976023\" style=\"fill: #1f77b4; stroke: #1f77b4\"/>\n     <use xlink:href=\"#m5123090806\" x=\"141.678824\" y=\"69.452701\" style=\"fill: #1f77b4; stroke: #1f77b4\"/>\n     <use xlink:href=\"#m5123090806\" x=\"160.9854\" y=\"91.260216\" style=\"fill: #1f77b4; stroke: #1f77b4\"/>\n     <use xlink:href=\"#m5123090806\" x=\"126.986968\" y=\"79.399233\" style=\"fill: #1f77b4; stroke: #1f77b4\"/>\n     <use xlink:href=\"#m5123090806\" x=\"87.83088\" y=\"47.856042\" style=\"fill: #1f77b4; stroke: #1f77b4\"/>\n     <use xlink:href=\"#m5123090806\" x=\"158.10404\" y=\"96.593857\" style=\"fill: #1f77b4; stroke: #1f77b4\"/>\n     <use xlink:href=\"#m5123090806\" x=\"131.391014\" y=\"72.129328\" style=\"fill: #1f77b4; stroke: #1f77b4\"/>\n     <use xlink:href=\"#m5123090806\" x=\"177.762668\" y=\"105.55592\" style=\"fill: #1f77b4; stroke: #1f77b4\"/>\n     <use xlink:href=\"#m5123090806\" x=\"110.799352\" y=\"51.615137\" style=\"fill: #1f77b4; stroke: #1f77b4\"/>\n     <use xlink:href=\"#m5123090806\" x=\"140.25281\" y=\"75.592124\" style=\"fill: #1f77b4; stroke: #1f77b4\"/>\n     <use xlink:href=\"#m5123090806\" x=\"105.399513\" y=\"51.342565\" style=\"fill: #1f77b4; stroke: #1f77b4\"/>\n     <use xlink:href=\"#m5123090806\" x=\"158.033921\" y=\"84.443105\" style=\"fill: #1f77b4; stroke: #1f77b4\"/>\n     <use xlink:href=\"#m5123090806\" x=\"123.274578\" y=\"58.286706\" style=\"fill: #1f77b4; stroke: #1f77b4\"/>\n     <use xlink:href=\"#m5123090806\" x=\"100.546779\" y=\"45.199721\" style=\"fill: #1f77b4; stroke: #1f77b4\"/>\n     <use xlink:href=\"#m5123090806\" x=\"97.084286\" y=\"43.665795\" style=\"fill: #1f77b4; stroke: #1f77b4\"/>\n     <use xlink:href=\"#m5123090806\" x=\"189.619384\" y=\"98.258687\" style=\"fill: #1f77b4; stroke: #1f77b4\"/>\n     <use xlink:href=\"#m5123090806\" x=\"149.089096\" y=\"89.337957\" style=\"fill: #1f77b4; stroke: #1f77b4\"/>\n     <use xlink:href=\"#m5123090806\" x=\"79.86265\" y=\"25.084797\" style=\"fill: #1f77b4; stroke: #1f77b4\"/>\n     <use xlink:href=\"#m5123090806\" x=\"93.426774\" y=\"71.429194\" style=\"fill: #1f77b4; stroke: #1f77b4\"/>\n     <use xlink:href=\"#m5123090806\" x=\"136.412144\" y=\"86.93354\" style=\"fill: #1f77b4; stroke: #1f77b4\"/>\n     <use xlink:href=\"#m5123090806\" x=\"121.092939\" y=\"76.331581\" style=\"fill: #1f77b4; stroke: #1f77b4\"/>\n     <use xlink:href=\"#m5123090806\" x=\"113.448484\" y=\"68.912483\" style=\"fill: #1f77b4; stroke: #1f77b4\"/>\n     <use xlink:href=\"#m5123090806\" x=\"124.59183\" y=\"69.182446\" style=\"fill: #1f77b4; stroke: #1f77b4\"/>\n     <use xlink:href=\"#m5123090806\" x=\"120.351823\" y=\"81.701735\" style=\"fill: #1f77b4; stroke: #1f77b4\"/>\n     <use xlink:href=\"#m5123090806\" x=\"78.477327\" y=\"32.286746\" style=\"fill: #1f77b4; stroke: #1f77b4\"/>\n     <use xlink:href=\"#m5123090806\" x=\"143.478665\" y=\"91.503852\" style=\"fill: #1f77b4; stroke: #1f77b4\"/>\n     <use xlink:href=\"#m5123090806\" x=\"149.012274\" y=\"75.085056\" style=\"fill: #1f77b4; stroke: #1f77b4\"/>\n     <use xlink:href=\"#m5123090806\" x=\"159.878887\" y=\"66.853181\" style=\"fill: #1f77b4; stroke: #1f77b4\"/>\n     <use xlink:href=\"#m5123090806\" x=\"114.037577\" y=\"49.198674\" style=\"fill: #1f77b4; stroke: #1f77b4\"/>\n     <use xlink:href=\"#m5123090806\" x=\"173.044615\" y=\"93.114377\" style=\"fill: #1f77b4; stroke: #1f77b4\"/>\n     <use xlink:href=\"#m5123090806\" x=\"121.83224\" y=\"58.643965\" style=\"fill: #1f77b4; stroke: #1f77b4\"/>\n     <use xlink:href=\"#m5123090806\" x=\"100.873362\" y=\"41.371337\" style=\"fill: #1f77b4; stroke: #1f77b4\"/>\n     <use xlink:href=\"#m5123090806\" x=\"61.119561\" y=\"46.458093\" style=\"fill: #1f77b4; stroke: #1f77b4\"/>\n     <use xlink:href=\"#m5123090806\" x=\"132.03792\" y=\"68.284215\" style=\"fill: #1f77b4; stroke: #1f77b4\"/>\n     <use xlink:href=\"#m5123090806\" x=\"136.322493\" y=\"85.019538\" style=\"fill: #1f77b4; stroke: #1f77b4\"/>\n     <use xlink:href=\"#m5123090806\" x=\"139.307183\" y=\"90.985327\" style=\"fill: #1f77b4; stroke: #1f77b4\"/>\n     <use xlink:href=\"#m5123090806\" x=\"37.81946\" y=\"13.5\" style=\"fill: #1f77b4; stroke: #1f77b4\"/>\n     <use xlink:href=\"#m5123090806\" x=\"163.730058\" y=\"91.045285\" style=\"fill: #1f77b4; stroke: #1f77b4\"/>\n     <use xlink:href=\"#m5123090806\" x=\"93.510898\" y=\"47.178661\" style=\"fill: #1f77b4; stroke: #1f77b4\"/>\n     <use xlink:href=\"#m5123090806\" x=\"97.91881\" y=\"45.601332\" style=\"fill: #1f77b4; stroke: #1f77b4\"/>\n     <use xlink:href=\"#m5123090806\" x=\"140.309998\" y=\"89.403141\" style=\"fill: #1f77b4; stroke: #1f77b4\"/>\n     <use xlink:href=\"#m5123090806\" x=\"78.652709\" y=\"38.831659\" style=\"fill: #1f77b4; stroke: #1f77b4\"/>\n     <use xlink:href=\"#m5123090806\" x=\"189.366082\" y=\"97.476737\" style=\"fill: #1f77b4; stroke: #1f77b4\"/>\n     <use xlink:href=\"#m5123090806\" x=\"157.895999\" y=\"93.09595\" style=\"fill: #1f77b4; stroke: #1f77b4\"/>\n     <use xlink:href=\"#m5123090806\" x=\"135.262462\" y=\"79.071257\" style=\"fill: #1f77b4; stroke: #1f77b4\"/>\n     <use xlink:href=\"#m5123090806\" x=\"136.925758\" y=\"66.380852\" style=\"fill: #1f77b4; stroke: #1f77b4\"/>\n     <use xlink:href=\"#m5123090806\" x=\"100.374686\" y=\"62.713137\" style=\"fill: #1f77b4; stroke: #1f77b4\"/>\n     <use xlink:href=\"#m5123090806\" x=\"171.21931\" y=\"93.378853\" style=\"fill: #1f77b4; stroke: #1f77b4\"/>\n     <use xlink:href=\"#m5123090806\" x=\"140.895329\" y=\"96.983766\" style=\"fill: #1f77b4; stroke: #1f77b4\"/>\n     <use xlink:href=\"#m5123090806\" x=\"111.303153\" y=\"49.66983\" style=\"fill: #1f77b4; stroke: #1f77b4\"/>\n     <use xlink:href=\"#m5123090806\" x=\"147.5858\" y=\"93.787905\" style=\"fill: #1f77b4; stroke: #1f77b4\"/>\n     <use xlink:href=\"#m5123090806\" x=\"114.469736\" y=\"66.737313\" style=\"fill: #1f77b4; stroke: #1f77b4\"/>\n     <use xlink:href=\"#m5123090806\" x=\"103.33791\" y=\"74.644365\" style=\"fill: #1f77b4; stroke: #1f77b4\"/>\n     <use xlink:href=\"#m5123090806\" x=\"135.628223\" y=\"74.375069\" style=\"fill: #1f77b4; stroke: #1f77b4\"/>\n     <use xlink:href=\"#m5123090806\" x=\"159.049779\" y=\"91.28834\" style=\"fill: #1f77b4; stroke: #1f77b4\"/>\n     <use xlink:href=\"#m5123090806\" x=\"153.738231\" y=\"90.160137\" style=\"fill: #1f77b4; stroke: #1f77b4\"/>\n     <use xlink:href=\"#m5123090806\" x=\"169.549593\" y=\"102.689911\" style=\"fill: #1f77b4; stroke: #1f77b4\"/>\n     <use xlink:href=\"#m5123090806\" x=\"146.575368\" y=\"91.736695\" style=\"fill: #1f77b4; stroke: #1f77b4\"/>\n     <use xlink:href=\"#m5123090806\" x=\"99.405876\" y=\"57.104958\" style=\"fill: #1f77b4; stroke: #1f77b4\"/>\n     <use xlink:href=\"#m5123090806\" x=\"101.157983\" y=\"54.04855\" style=\"fill: #1f77b4; stroke: #1f77b4\"/>\n     <use xlink:href=\"#m5123090806\" x=\"133.658077\" y=\"87.258738\" style=\"fill: #1f77b4; stroke: #1f77b4\"/>\n     <use xlink:href=\"#m5123090806\" x=\"102.249367\" y=\"58.091095\" style=\"fill: #1f77b4; stroke: #1f77b4\"/>\n     <use xlink:href=\"#m5123090806\" x=\"100.994039\" y=\"64.378916\" style=\"fill: #1f77b4; stroke: #1f77b4\"/>\n     <use xlink:href=\"#m5123090806\" x=\"142.355218\" y=\"89.279279\" style=\"fill: #1f77b4; stroke: #1f77b4\"/>\n     <use xlink:href=\"#m5123090806\" x=\"129.400207\" y=\"77.532918\" style=\"fill: #1f77b4; stroke: #1f77b4\"/>\n     <use xlink:href=\"#m5123090806\" x=\"162.964438\" y=\"85.613812\" style=\"fill: #1f77b4; stroke: #1f77b4\"/>\n     <use xlink:href=\"#m5123090806\" x=\"125.098049\" y=\"78.390826\" style=\"fill: #1f77b4; stroke: #1f77b4\"/>\n     <use xlink:href=\"#m5123090806\" x=\"180.075902\" y=\"106.163058\" style=\"fill: #1f77b4; stroke: #1f77b4\"/>\n     <use xlink:href=\"#m5123090806\" x=\"102.571806\" y=\"56.393324\" style=\"fill: #1f77b4; stroke: #1f77b4\"/>\n     <use xlink:href=\"#m5123090806\" x=\"135.162056\" y=\"53.573965\" style=\"fill: #1f77b4; stroke: #1f77b4\"/>\n     <use xlink:href=\"#m5123090806\" x=\"122.861435\" y=\"69.200739\" style=\"fill: #1f77b4; stroke: #1f77b4\"/>\n     <use xlink:href=\"#m5123090806\" x=\"188.619775\" y=\"104.31541\" style=\"fill: #1f77b4; stroke: #1f77b4\"/>\n     <use xlink:href=\"#m5123090806\" x=\"105.216852\" y=\"57.021014\" style=\"fill: #1f77b4; stroke: #1f77b4\"/>\n     <use xlink:href=\"#m5123090806\" x=\"123.601403\" y=\"64.122013\" style=\"fill: #1f77b4; stroke: #1f77b4\"/>\n     <use xlink:href=\"#m5123090806\" x=\"172.303824\" y=\"71.704638\" style=\"fill: #1f77b4; stroke: #1f77b4\"/>\n     <use xlink:href=\"#m5123090806\" x=\"111.261993\" y=\"79.564386\" style=\"fill: #1f77b4; stroke: #1f77b4\"/>\n     <use xlink:href=\"#m5123090806\" x=\"143.575684\" y=\"70.505601\" style=\"fill: #1f77b4; stroke: #1f77b4\"/>\n     <use xlink:href=\"#m5123090806\" x=\"112.227532\" y=\"57.824582\" style=\"fill: #1f77b4; stroke: #1f77b4\"/>\n     <use xlink:href=\"#m5123090806\" x=\"119.582964\" y=\"81.665021\" style=\"fill: #1f77b4; stroke: #1f77b4\"/>\n     <use xlink:href=\"#m5123090806\" x=\"129.310887\" y=\"76.613951\" style=\"fill: #1f77b4; stroke: #1f77b4\"/>\n     <use xlink:href=\"#m5123090806\" x=\"121.974247\" y=\"87.595966\" style=\"fill: #1f77b4; stroke: #1f77b4\"/>\n     <use xlink:href=\"#m5123090806\" x=\"127.606199\" y=\"65.427676\" style=\"fill: #1f77b4; stroke: #1f77b4\"/>\n     <use xlink:href=\"#m5123090806\" x=\"120.726238\" y=\"65.547038\" style=\"fill: #1f77b4; stroke: #1f77b4\"/>\n     <use xlink:href=\"#m5123090806\" x=\"159.278131\" y=\"79.669505\" style=\"fill: #1f77b4; stroke: #1f77b4\"/>\n     <use xlink:href=\"#m5123090806\" x=\"135.155067\" y=\"67.628905\" style=\"fill: #1f77b4; stroke: #1f77b4\"/>\n     <use xlink:href=\"#m5123090806\" x=\"156.721392\" y=\"98.368172\" style=\"fill: #1f77b4; stroke: #1f77b4\"/>\n     <use xlink:href=\"#m5123090806\" x=\"106.860098\" y=\"62.497345\" style=\"fill: #1f77b4; stroke: #1f77b4\"/>\n     <use xlink:href=\"#m5123090806\" x=\"109.924574\" y=\"51.470244\" style=\"fill: #1f77b4; stroke: #1f77b4\"/>\n     <use xlink:href=\"#m5123090806\" x=\"155.474102\" y=\"89.493791\" style=\"fill: #1f77b4; stroke: #1f77b4\"/>\n     <use xlink:href=\"#m5123090806\" x=\"118.369079\" y=\"58.416393\" style=\"fill: #1f77b4; stroke: #1f77b4\"/>\n     <use xlink:href=\"#m5123090806\" x=\"122.863346\" y=\"45.317549\" style=\"fill: #1f77b4; stroke: #1f77b4\"/>\n     <use xlink:href=\"#m5123090806\" x=\"142.255994\" y=\"78.089153\" style=\"fill: #1f77b4; stroke: #1f77b4\"/>\n     <use xlink:href=\"#m5123090806\" x=\"118.071582\" y=\"51.64514\" style=\"fill: #1f77b4; stroke: #1f77b4\"/>\n     <use xlink:href=\"#m5123090806\" x=\"104.926918\" y=\"52.009348\" style=\"fill: #1f77b4; stroke: #1f77b4\"/>\n     <use xlink:href=\"#m5123090806\" x=\"129.469589\" y=\"47.946332\" style=\"fill: #1f77b4; stroke: #1f77b4\"/>\n     <use xlink:href=\"#m5123090806\" x=\"139.454235\" y=\"63.148154\" style=\"fill: #1f77b4; stroke: #1f77b4\"/>\n     <use xlink:href=\"#m5123090806\" x=\"146.005392\" y=\"92.499912\" style=\"fill: #1f77b4; stroke: #1f77b4\"/>\n     <use xlink:href=\"#m5123090806\" x=\"120.428899\" y=\"86.123397\" style=\"fill: #1f77b4; stroke: #1f77b4\"/>\n     <use xlink:href=\"#m5123090806\" x=\"149.360643\" y=\"88.101225\" style=\"fill: #1f77b4; stroke: #1f77b4\"/>\n     <use xlink:href=\"#m5123090806\" x=\"137.667504\" y=\"97.850757\" style=\"fill: #1f77b4; stroke: #1f77b4\"/>\n     <use xlink:href=\"#m5123090806\" x=\"134.12788\" y=\"81.065437\" style=\"fill: #1f77b4; stroke: #1f77b4\"/>\n     <use xlink:href=\"#m5123090806\" x=\"113.965814\" y=\"60.168378\" style=\"fill: #1f77b4; stroke: #1f77b4\"/>\n     <use xlink:href=\"#m5123090806\" x=\"98.626696\" y=\"54.47561\" style=\"fill: #1f77b4; stroke: #1f77b4\"/>\n     <use xlink:href=\"#m5123090806\" x=\"87.745312\" y=\"54.347139\" style=\"fill: #1f77b4; stroke: #1f77b4\"/>\n     <use xlink:href=\"#m5123090806\" x=\"115.426687\" y=\"63.72913\" style=\"fill: #1f77b4; stroke: #1f77b4\"/>\n     <use xlink:href=\"#m5123090806\" x=\"99.473295\" y=\"49.252139\" style=\"fill: #1f77b4; stroke: #1f77b4\"/>\n     <use xlink:href=\"#m5123090806\" x=\"147.442503\" y=\"89.133748\" style=\"fill: #1f77b4; stroke: #1f77b4\"/>\n     <use xlink:href=\"#m5123090806\" x=\"149.080825\" y=\"104.466911\" style=\"fill: #1f77b4; stroke: #1f77b4\"/>\n     <use xlink:href=\"#m5123090806\" x=\"84.675356\" y=\"32.352531\" style=\"fill: #1f77b4; stroke: #1f77b4\"/>\n     <use xlink:href=\"#m5123090806\" x=\"107.845561\" y=\"84.8527\" style=\"fill: #1f77b4; stroke: #1f77b4\"/>\n     <use xlink:href=\"#m5123090806\" x=\"137.722797\" y=\"75.561524\" style=\"fill: #1f77b4; stroke: #1f77b4\"/>\n     <use xlink:href=\"#m5123090806\" x=\"114.012373\" y=\"61.417504\" style=\"fill: #1f77b4; stroke: #1f77b4\"/>\n     <use xlink:href=\"#m5123090806\" x=\"114.362259\" y=\"58.460014\" style=\"fill: #1f77b4; stroke: #1f77b4\"/>\n     <use xlink:href=\"#m5123090806\" x=\"103.803141\" y=\"54.295577\" style=\"fill: #1f77b4; stroke: #1f77b4\"/>\n     <use xlink:href=\"#m5123090806\" x=\"170.626376\" y=\"112.171555\" style=\"fill: #1f77b4; stroke: #1f77b4\"/>\n     <use xlink:href=\"#m5123090806\" x=\"140.288992\" y=\"82.438476\" style=\"fill: #1f77b4; stroke: #1f77b4\"/>\n     <use xlink:href=\"#m5123090806\" x=\"118.869398\" y=\"53.874457\" style=\"fill: #1f77b4; stroke: #1f77b4\"/>\n     <use xlink:href=\"#m5123090806\" x=\"91.986306\" y=\"56.570842\" style=\"fill: #1f77b4; stroke: #1f77b4\"/>\n     <use xlink:href=\"#m5123090806\" x=\"100.981536\" y=\"56.415347\" style=\"fill: #1f77b4; stroke: #1f77b4\"/>\n     <use xlink:href=\"#m5123090806\" x=\"130.94912\" y=\"87.312569\" style=\"fill: #1f77b4; stroke: #1f77b4\"/>\n     <use xlink:href=\"#m5123090806\" x=\"143.733262\" y=\"79.153377\" style=\"fill: #1f77b4; stroke: #1f77b4\"/>\n     <use xlink:href=\"#m5123090806\" x=\"145.715104\" y=\"92.501863\" style=\"fill: #1f77b4; stroke: #1f77b4\"/>\n     <use xlink:href=\"#m5123090806\" x=\"131.18077\" y=\"63.238251\" style=\"fill: #1f77b4; stroke: #1f77b4\"/>\n     <use xlink:href=\"#m5123090806\" x=\"124.691107\" y=\"82.251434\" style=\"fill: #1f77b4; stroke: #1f77b4\"/>\n     <use xlink:href=\"#m5123090806\" x=\"153.987412\" y=\"98.002597\" style=\"fill: #1f77b4; stroke: #1f77b4\"/>\n     <use xlink:href=\"#m5123090806\" x=\"129.272017\" y=\"70.694147\" style=\"fill: #1f77b4; stroke: #1f77b4\"/>\n     <use xlink:href=\"#m5123090806\" x=\"129.90371\" y=\"67.604786\" style=\"fill: #1f77b4; stroke: #1f77b4\"/>\n     <use xlink:href=\"#m5123090806\" x=\"153.715686\" y=\"95.349015\" style=\"fill: #1f77b4; stroke: #1f77b4\"/>\n     <use xlink:href=\"#m5123090806\" x=\"122.925505\" y=\"62.355313\" style=\"fill: #1f77b4; stroke: #1f77b4\"/>\n     <use xlink:href=\"#m5123090806\" x=\"190.699227\" y=\"91.573829\" style=\"fill: #1f77b4; stroke: #1f77b4\"/>\n     <use xlink:href=\"#m5123090806\" x=\"140.142892\" y=\"69.541387\" style=\"fill: #1f77b4; stroke: #1f77b4\"/>\n     <use xlink:href=\"#m5123090806\" x=\"94.366226\" y=\"26.522177\" style=\"fill: #1f77b4; stroke: #1f77b4\"/>\n     <use xlink:href=\"#m5123090806\" x=\"167.397057\" y=\"119.287719\" style=\"fill: #1f77b4; stroke: #1f77b4\"/>\n     <use xlink:href=\"#m5123090806\" x=\"161.266635\" y=\"104.039242\" style=\"fill: #1f77b4; stroke: #1f77b4\"/>\n     <use xlink:href=\"#m5123090806\" x=\"156.199279\" y=\"97.448797\" style=\"fill: #1f77b4; stroke: #1f77b4\"/>\n     <use xlink:href=\"#m5123090806\" x=\"140.557754\" y=\"85.404014\" style=\"fill: #1f77b4; stroke: #1f77b4\"/>\n     <use xlink:href=\"#m5123090806\" x=\"118.896406\" y=\"45.906578\" style=\"fill: #1f77b4; stroke: #1f77b4\"/>\n     <use xlink:href=\"#m5123090806\" x=\"139.306093\" y=\"78.490046\" style=\"fill: #1f77b4; stroke: #1f77b4\"/>\n     <use xlink:href=\"#m5123090806\" x=\"135.119668\" y=\"61.453409\" style=\"fill: #1f77b4; stroke: #1f77b4\"/>\n     <use xlink:href=\"#m5123090806\" x=\"137.578091\" y=\"75.414815\" style=\"fill: #1f77b4; stroke: #1f77b4\"/>\n     <use xlink:href=\"#m5123090806\" x=\"143.840323\" y=\"88.933147\" style=\"fill: #1f77b4; stroke: #1f77b4\"/>\n     <use xlink:href=\"#m5123090806\" x=\"165.737867\" y=\"102.38573\" style=\"fill: #1f77b4; stroke: #1f77b4\"/>\n     <use xlink:href=\"#m5123090806\" x=\"119.754172\" y=\"64.875265\" style=\"fill: #1f77b4; stroke: #1f77b4\"/>\n     <use xlink:href=\"#m5123090806\" x=\"138.564019\" y=\"76.483323\" style=\"fill: #1f77b4; stroke: #1f77b4\"/>\n     <use xlink:href=\"#m5123090806\" x=\"166.28879\" y=\"105.823243\" style=\"fill: #1f77b4; stroke: #1f77b4\"/>\n     <use xlink:href=\"#m5123090806\" x=\"154.244495\" y=\"95.689259\" style=\"fill: #1f77b4; stroke: #1f77b4\"/>\n     <use xlink:href=\"#m5123090806\" x=\"99.706344\" y=\"58.92385\" style=\"fill: #1f77b4; stroke: #1f77b4\"/>\n     <use xlink:href=\"#m5123090806\" x=\"112.901034\" y=\"64.566831\" style=\"fill: #1f77b4; stroke: #1f77b4\"/>\n     <use xlink:href=\"#m5123090806\" x=\"133.911083\" y=\"78.875601\" style=\"fill: #1f77b4; stroke: #1f77b4\"/>\n     <use xlink:href=\"#m5123090806\" x=\"101.213817\" y=\"39.501057\" style=\"fill: #1f77b4; stroke: #1f77b4\"/>\n     <use xlink:href=\"#m5123090806\" x=\"189.837836\" y=\"110.114489\" style=\"fill: #1f77b4; stroke: #1f77b4\"/>\n     <use xlink:href=\"#m5123090806\" x=\"121.99681\" y=\"66.527965\" style=\"fill: #1f77b4; stroke: #1f77b4\"/>\n     <use xlink:href=\"#m5123090806\" x=\"128.393734\" y=\"82.829103\" style=\"fill: #1f77b4; stroke: #1f77b4\"/>\n     <use xlink:href=\"#m5123090806\" x=\"98.70078\" y=\"55.927822\" style=\"fill: #1f77b4; stroke: #1f77b4\"/>\n     <use xlink:href=\"#m5123090806\" x=\"135.725086\" y=\"67.867128\" style=\"fill: #1f77b4; stroke: #1f77b4\"/>\n     <use xlink:href=\"#m5123090806\" x=\"186.116331\" y=\"107.488189\" style=\"fill: #1f77b4; stroke: #1f77b4\"/>\n     <use xlink:href=\"#m5123090806\" x=\"136.162792\" y=\"83.714181\" style=\"fill: #1f77b4; stroke: #1f77b4\"/>\n     <use xlink:href=\"#m5123090806\" x=\"130.362246\" y=\"76.542951\" style=\"fill: #1f77b4; stroke: #1f77b4\"/>\n     <use xlink:href=\"#m5123090806\" x=\"106.052255\" y=\"37.458848\" style=\"fill: #1f77b4; stroke: #1f77b4\"/>\n     <use xlink:href=\"#m5123090806\" x=\"164.950589\" y=\"113.063579\" style=\"fill: #1f77b4; stroke: #1f77b4\"/>\n     <use xlink:href=\"#m5123090806\" x=\"173.469232\" y=\"115.381561\" style=\"fill: #1f77b4; stroke: #1f77b4\"/>\n     <use xlink:href=\"#m5123090806\" x=\"138.378178\" y=\"80.765355\" style=\"fill: #1f77b4; stroke: #1f77b4\"/>\n     <use xlink:href=\"#m5123090806\" x=\"123.795907\" y=\"65.20298\" style=\"fill: #1f77b4; stroke: #1f77b4\"/>\n     <use xlink:href=\"#m5123090806\" x=\"122.291273\" y=\"56.534139\" style=\"fill: #1f77b4; stroke: #1f77b4\"/>\n     <use xlink:href=\"#m5123090806\" x=\"74.688704\" y=\"20.223047\" style=\"fill: #1f77b4; stroke: #1f77b4\"/>\n     <use xlink:href=\"#m5123090806\" x=\"123.001806\" y=\"45.931159\" style=\"fill: #1f77b4; stroke: #1f77b4\"/>\n     <use xlink:href=\"#m5123090806\" x=\"101.896651\" y=\"38.588618\" style=\"fill: #1f77b4; stroke: #1f77b4\"/>\n     <use xlink:href=\"#m5123090806\" x=\"116.7082\" y=\"61.207504\" style=\"fill: #1f77b4; stroke: #1f77b4\"/>\n     <use xlink:href=\"#m5123090806\" x=\"125.592234\" y=\"54.279572\" style=\"fill: #1f77b4; stroke: #1f77b4\"/>\n     <use xlink:href=\"#m5123090806\" x=\"142.355504\" y=\"63.602506\" style=\"fill: #1f77b4; stroke: #1f77b4\"/>\n     <use xlink:href=\"#m5123090806\" x=\"123.787551\" y=\"72.968126\" style=\"fill: #1f77b4; stroke: #1f77b4\"/>\n     <use xlink:href=\"#m5123090806\" x=\"141.132867\" y=\"87.282014\" style=\"fill: #1f77b4; stroke: #1f77b4\"/>\n     <use xlink:href=\"#m5123090806\" x=\"154.504707\" y=\"90.86689\" style=\"fill: #1f77b4; stroke: #1f77b4\"/>\n     <use xlink:href=\"#m5123090806\" x=\"134.584921\" y=\"70.349339\" style=\"fill: #1f77b4; stroke: #1f77b4\"/>\n     <use xlink:href=\"#m5123090806\" x=\"153.274153\" y=\"86.284911\" style=\"fill: #1f77b4; stroke: #1f77b4\"/>\n     <use xlink:href=\"#m5123090806\" x=\"99.806526\" y=\"64.483866\" style=\"fill: #1f77b4; stroke: #1f77b4\"/>\n     <use xlink:href=\"#m5123090806\" x=\"170.854207\" y=\"85.417415\" style=\"fill: #1f77b4; stroke: #1f77b4\"/>\n     <use xlink:href=\"#m5123090806\" x=\"119.770576\" y=\"61.759348\" style=\"fill: #1f77b4; stroke: #1f77b4\"/>\n     <use xlink:href=\"#m5123090806\" x=\"169.601519\" y=\"81.01545\" style=\"fill: #1f77b4; stroke: #1f77b4\"/>\n     <use xlink:href=\"#m5123090806\" x=\"127.267154\" y=\"94.283136\" style=\"fill: #1f77b4; stroke: #1f77b4\"/>\n     <use xlink:href=\"#m5123090806\" x=\"130.005645\" y=\"74.884517\" style=\"fill: #1f77b4; stroke: #1f77b4\"/>\n     <use xlink:href=\"#m5123090806\" x=\"139.071601\" y=\"88.930653\" style=\"fill: #1f77b4; stroke: #1f77b4\"/>\n     <use xlink:href=\"#m5123090806\" x=\"141.932947\" y=\"69.336711\" style=\"fill: #1f77b4; stroke: #1f77b4\"/>\n     <use xlink:href=\"#m5123090806\" x=\"167.918246\" y=\"100.774154\" style=\"fill: #1f77b4; stroke: #1f77b4\"/>\n     <use xlink:href=\"#m5123090806\" x=\"108.178775\" y=\"56.432914\" style=\"fill: #1f77b4; stroke: #1f77b4\"/>\n     <use xlink:href=\"#m5123090806\" x=\"130.604551\" y=\"86.440086\" style=\"fill: #1f77b4; stroke: #1f77b4\"/>\n     <use xlink:href=\"#m5123090806\" x=\"174.52251\" y=\"88.36441\" style=\"fill: #1f77b4; stroke: #1f77b4\"/>\n     <use xlink:href=\"#m5123090806\" x=\"143.290314\" y=\"96.708637\" style=\"fill: #1f77b4; stroke: #1f77b4\"/>\n     <use xlink:href=\"#m5123090806\" x=\"112.825682\" y=\"58.696518\" style=\"fill: #1f77b4; stroke: #1f77b4\"/>\n     <use xlink:href=\"#m5123090806\" x=\"120.25118\" y=\"53.074192\" style=\"fill: #1f77b4; stroke: #1f77b4\"/>\n     <use xlink:href=\"#m5123090806\" x=\"104.65547\" y=\"56.094836\" style=\"fill: #1f77b4; stroke: #1f77b4\"/>\n     <use xlink:href=\"#m5123090806\" x=\"141.190566\" y=\"70.499996\" style=\"fill: #1f77b4; stroke: #1f77b4\"/>\n     <use xlink:href=\"#m5123090806\" x=\"88.924476\" y=\"30.494085\" style=\"fill: #1f77b4; stroke: #1f77b4\"/>\n     <use xlink:href=\"#m5123090806\" x=\"134.010122\" y=\"72.196998\" style=\"fill: #1f77b4; stroke: #1f77b4\"/>\n     <use xlink:href=\"#m5123090806\" x=\"80.50698\" y=\"33.358679\" style=\"fill: #1f77b4; stroke: #1f77b4\"/>\n     <use xlink:href=\"#m5123090806\" x=\"136.4586\" y=\"88.360668\" style=\"fill: #1f77b4; stroke: #1f77b4\"/>\n     <use xlink:href=\"#m5123090806\" x=\"185.660604\" y=\"112.600623\" style=\"fill: #1f77b4; stroke: #1f77b4\"/>\n     <use xlink:href=\"#m5123090806\" x=\"143.250434\" y=\"90.265431\" style=\"fill: #1f77b4; stroke: #1f77b4\"/>\n     <use xlink:href=\"#m5123090806\" x=\"91.7635\" y=\"60.068355\" style=\"fill: #1f77b4; stroke: #1f77b4\"/>\n     <use xlink:href=\"#m5123090806\" x=\"104.88791\" y=\"51.521142\" style=\"fill: #1f77b4; stroke: #1f77b4\"/>\n     <use xlink:href=\"#m5123090806\" x=\"117.871374\" y=\"53.199571\" style=\"fill: #1f77b4; stroke: #1f77b4\"/>\n     <use xlink:href=\"#m5123090806\" x=\"136.525551\" y=\"68.774618\" style=\"fill: #1f77b4; stroke: #1f77b4\"/>\n     <use xlink:href=\"#m5123090806\" x=\"162.724589\" y=\"88.220072\" style=\"fill: #1f77b4; stroke: #1f77b4\"/>\n     <use xlink:href=\"#m5123090806\" x=\"137.472596\" y=\"83.112395\" style=\"fill: #1f77b4; stroke: #1f77b4\"/>\n     <use xlink:href=\"#m5123090806\" x=\"154.373881\" y=\"92.670545\" style=\"fill: #1f77b4; stroke: #1f77b4\"/>\n     <use xlink:href=\"#m5123090806\" x=\"154.431891\" y=\"89.316156\" style=\"fill: #1f77b4; stroke: #1f77b4\"/>\n     <use xlink:href=\"#m5123090806\" x=\"159.407905\" y=\"73.911454\" style=\"fill: #1f77b4; stroke: #1f77b4\"/>\n     <use xlink:href=\"#m5123090806\" x=\"139.358784\" y=\"78.604162\" style=\"fill: #1f77b4; stroke: #1f77b4\"/>\n     <use xlink:href=\"#m5123090806\" x=\"144.976793\" y=\"70.830749\" style=\"fill: #1f77b4; stroke: #1f77b4\"/>\n     <use xlink:href=\"#m5123090806\" x=\"135.55132\" y=\"79.034676\" style=\"fill: #1f77b4; stroke: #1f77b4\"/>\n     <use xlink:href=\"#m5123090806\" x=\"132.767167\" y=\"77.929392\" style=\"fill: #1f77b4; stroke: #1f77b4\"/>\n     <use xlink:href=\"#m5123090806\" x=\"175.094722\" y=\"113.334133\" style=\"fill: #1f77b4; stroke: #1f77b4\"/>\n     <use xlink:href=\"#m5123090806\" x=\"122.601032\" y=\"67.177071\" style=\"fill: #1f77b4; stroke: #1f77b4\"/>\n     <use xlink:href=\"#m5123090806\" x=\"109.468198\" y=\"57.95874\" style=\"fill: #1f77b4; stroke: #1f77b4\"/>\n     <use xlink:href=\"#m5123090806\" x=\"94.906451\" y=\"56.194823\" style=\"fill: #1f77b4; stroke: #1f77b4\"/>\n     <use xlink:href=\"#m5123090806\" x=\"123.742586\" y=\"66.335296\" style=\"fill: #1f77b4; stroke: #1f77b4\"/>\n     <use xlink:href=\"#m5123090806\" x=\"131.287842\" y=\"60.519313\" style=\"fill: #1f77b4; stroke: #1f77b4\"/>\n     <use xlink:href=\"#m5123090806\" x=\"156.318185\" y=\"96.094243\" style=\"fill: #1f77b4; stroke: #1f77b4\"/>\n     <use xlink:href=\"#m5123090806\" x=\"197.292276\" y=\"113.831707\" style=\"fill: #1f77b4; stroke: #1f77b4\"/>\n     <use xlink:href=\"#m5123090806\" x=\"187.5823\" y=\"119.524833\" style=\"fill: #1f77b4; stroke: #1f77b4\"/>\n     <use xlink:href=\"#m5123090806\" x=\"117.51153\" y=\"66.980176\" style=\"fill: #1f77b4; stroke: #1f77b4\"/>\n     <use xlink:href=\"#m5123090806\" x=\"135.841014\" y=\"78.845714\" style=\"fill: #1f77b4; stroke: #1f77b4\"/>\n     <use xlink:href=\"#m5123090806\" x=\"169.186115\" y=\"99.388557\" style=\"fill: #1f77b4; stroke: #1f77b4\"/>\n     <use xlink:href=\"#m5123090806\" x=\"159.572996\" y=\"96.835567\" style=\"fill: #1f77b4; stroke: #1f77b4\"/>\n     <use xlink:href=\"#m5123090806\" x=\"130.428571\" y=\"80.211434\" style=\"fill: #1f77b4; stroke: #1f77b4\"/>\n     <use xlink:href=\"#m5123090806\" x=\"121.386198\" y=\"63.810898\" style=\"fill: #1f77b4; stroke: #1f77b4\"/>\n    </g>\n   </g>\n   <g id=\"matplotlib.axis_1\">\n    <g id=\"xtick_1\">\n     <g id=\"line2d_1\">\n      <defs>\n       <path id=\"mfd1b5920c3\" d=\"M 0 0 \nL 0 3.5 \n\" style=\"stroke: #000000; stroke-width: 0.8\"/>\n      </defs>\n      <g>\n       <use xlink:href=\"#mfd1b5920c3\" x=\"79.068368\" y=\"145.8\" style=\"stroke: #000000; stroke-width: 0.8\"/>\n      </g>\n     </g>\n     <g id=\"text_1\">\n      <!-- −2 -->\n      <g transform=\"translate(71.697274 160.398438) scale(0.1 -0.1)\">\n       <defs>\n        <path id=\"DejaVuSans-2212\" d=\"M 678 2272 \nL 4684 2272 \nL 4684 1741 \nL 678 1741 \nL 678 2272 \nz\n\" transform=\"scale(0.015625)\"/>\n        <path id=\"DejaVuSans-32\" d=\"M 1228 531 \nL 3431 531 \nL 3431 0 \nL 469 0 \nL 469 531 \nQ 828 903 1448 1529 \nQ 2069 2156 2228 2338 \nQ 2531 2678 2651 2914 \nQ 2772 3150 2772 3378 \nQ 2772 3750 2511 3984 \nQ 2250 4219 1831 4219 \nQ 1534 4219 1204 4116 \nQ 875 4013 500 3803 \nL 500 4441 \nQ 881 4594 1212 4672 \nQ 1544 4750 1819 4750 \nQ 2544 4750 2975 4387 \nQ 3406 4025 3406 3419 \nQ 3406 3131 3298 2873 \nQ 3191 2616 2906 2266 \nQ 2828 2175 2409 1742 \nQ 1991 1309 1228 531 \nz\n\" transform=\"scale(0.015625)\"/>\n       </defs>\n       <use xlink:href=\"#DejaVuSans-2212\"/>\n       <use xlink:href=\"#DejaVuSans-32\" x=\"83.789062\"/>\n      </g>\n     </g>\n    </g>\n    <g id=\"xtick_2\">\n     <g id=\"line2d_2\">\n      <g>\n       <use xlink:href=\"#mfd1b5920c3\" x=\"132.55338\" y=\"145.8\" style=\"stroke: #000000; stroke-width: 0.8\"/>\n      </g>\n     </g>\n     <g id=\"text_2\">\n      <!-- 0 -->\n      <g transform=\"translate(129.37213 160.398438) scale(0.1 -0.1)\">\n       <defs>\n        <path id=\"DejaVuSans-30\" d=\"M 2034 4250 \nQ 1547 4250 1301 3770 \nQ 1056 3291 1056 2328 \nQ 1056 1369 1301 889 \nQ 1547 409 2034 409 \nQ 2525 409 2770 889 \nQ 3016 1369 3016 2328 \nQ 3016 3291 2770 3770 \nQ 2525 4250 2034 4250 \nz\nM 2034 4750 \nQ 2819 4750 3233 4129 \nQ 3647 3509 3647 2328 \nQ 3647 1150 3233 529 \nQ 2819 -91 2034 -91 \nQ 1250 -91 836 529 \nQ 422 1150 422 2328 \nQ 422 3509 836 4129 \nQ 1250 4750 2034 4750 \nz\n\" transform=\"scale(0.015625)\"/>\n       </defs>\n       <use xlink:href=\"#DejaVuSans-30\"/>\n      </g>\n     </g>\n    </g>\n    <g id=\"xtick_3\">\n     <g id=\"line2d_3\">\n      <g>\n       <use xlink:href=\"#mfd1b5920c3\" x=\"186.038392\" y=\"145.8\" style=\"stroke: #000000; stroke-width: 0.8\"/>\n      </g>\n     </g>\n     <g id=\"text_3\">\n      <!-- 2 -->\n      <g transform=\"translate(182.857142 160.398438) scale(0.1 -0.1)\">\n       <use xlink:href=\"#DejaVuSans-32\"/>\n      </g>\n     </g>\n    </g>\n   </g>\n   <g id=\"matplotlib.axis_2\">\n    <g id=\"ytick_1\">\n     <g id=\"line2d_4\">\n      <defs>\n       <path id=\"maa700658d2\" d=\"M 0 0 \nL -3.5 0 \n\" style=\"stroke: #000000; stroke-width: 0.8\"/>\n      </defs>\n      <g>\n       <use xlink:href=\"#maa700658d2\" x=\"28.942188\" y=\"122.996019\" style=\"stroke: #000000; stroke-width: 0.8\"/>\n      </g>\n     </g>\n     <g id=\"text_4\">\n      <!-- −5 -->\n      <g transform=\"translate(7.2 126.795238) scale(0.1 -0.1)\">\n       <defs>\n        <path id=\"DejaVuSans-35\" d=\"M 691 4666 \nL 3169 4666 \nL 3169 4134 \nL 1269 4134 \nL 1269 2991 \nQ 1406 3038 1543 3061 \nQ 1681 3084 1819 3084 \nQ 2600 3084 3056 2656 \nQ 3513 2228 3513 1497 \nQ 3513 744 3044 326 \nQ 2575 -91 1722 -91 \nQ 1428 -91 1123 -41 \nQ 819 9 494 109 \nL 494 744 \nQ 775 591 1075 516 \nQ 1375 441 1709 441 \nQ 2250 441 2565 725 \nQ 2881 1009 2881 1497 \nQ 2881 1984 2565 2268 \nQ 2250 2553 1709 2553 \nQ 1456 2553 1204 2497 \nQ 953 2441 691 2322 \nL 691 4666 \nz\n\" transform=\"scale(0.015625)\"/>\n       </defs>\n       <use xlink:href=\"#DejaVuSans-2212\"/>\n       <use xlink:href=\"#DejaVuSans-35\" x=\"83.789062\"/>\n      </g>\n     </g>\n    </g>\n    <g id=\"ytick_2\">\n     <g id=\"line2d_5\">\n      <g>\n       <use xlink:href=\"#maa700658d2\" x=\"28.942188\" y=\"96.673746\" style=\"stroke: #000000; stroke-width: 0.8\"/>\n      </g>\n     </g>\n     <g id=\"text_5\">\n      <!-- 0 -->\n      <g transform=\"translate(15.579688 100.472964) scale(0.1 -0.1)\">\n       <use xlink:href=\"#DejaVuSans-30\"/>\n      </g>\n     </g>\n    </g>\n    <g id=\"ytick_3\">\n     <g id=\"line2d_6\">\n      <g>\n       <use xlink:href=\"#maa700658d2\" x=\"28.942188\" y=\"70.351472\" style=\"stroke: #000000; stroke-width: 0.8\"/>\n      </g>\n     </g>\n     <g id=\"text_6\">\n      <!-- 5 -->\n      <g transform=\"translate(15.579688 74.150691) scale(0.1 -0.1)\">\n       <use xlink:href=\"#DejaVuSans-35\"/>\n      </g>\n     </g>\n    </g>\n    <g id=\"ytick_4\">\n     <g id=\"line2d_7\">\n      <g>\n       <use xlink:href=\"#maa700658d2\" x=\"28.942188\" y=\"44.029199\" style=\"stroke: #000000; stroke-width: 0.8\"/>\n      </g>\n     </g>\n     <g id=\"text_7\">\n      <!-- 10 -->\n      <g transform=\"translate(9.217188 47.828418) scale(0.1 -0.1)\">\n       <defs>\n        <path id=\"DejaVuSans-31\" d=\"M 794 531 \nL 1825 531 \nL 1825 4091 \nL 703 3866 \nL 703 4441 \nL 1819 4666 \nL 2450 4666 \nL 2450 531 \nL 3481 531 \nL 3481 0 \nL 794 0 \nL 794 531 \nz\n\" transform=\"scale(0.015625)\"/>\n       </defs>\n       <use xlink:href=\"#DejaVuSans-31\"/>\n       <use xlink:href=\"#DejaVuSans-30\" x=\"63.623047\"/>\n      </g>\n     </g>\n    </g>\n    <g id=\"ytick_5\">\n     <g id=\"line2d_8\">\n      <g>\n       <use xlink:href=\"#maa700658d2\" x=\"28.942188\" y=\"17.706926\" style=\"stroke: #000000; stroke-width: 0.8\"/>\n      </g>\n     </g>\n     <g id=\"text_8\">\n      <!-- 15 -->\n      <g transform=\"translate(9.217188 21.506144) scale(0.1 -0.1)\">\n       <use xlink:href=\"#DejaVuSans-31\"/>\n       <use xlink:href=\"#DejaVuSans-35\" x=\"63.623047\"/>\n      </g>\n     </g>\n    </g>\n   </g>\n   <g id=\"patch_3\">\n    <path d=\"M 28.942188 145.8 \nL 28.942188 7.2 \n\" style=\"fill: none; stroke: #000000; stroke-width: 0.8; stroke-linejoin: miter; stroke-linecap: square\"/>\n   </g>\n   <g id=\"patch_4\">\n    <path d=\"M 224.242188 145.8 \nL 224.242188 7.2 \n\" style=\"fill: none; stroke: #000000; stroke-width: 0.8; stroke-linejoin: miter; stroke-linecap: square\"/>\n   </g>\n   <g id=\"patch_5\">\n    <path d=\"M 28.942188 145.8 \nL 224.242188 145.8 \n\" style=\"fill: none; stroke: #000000; stroke-width: 0.8; stroke-linejoin: miter; stroke-linecap: square\"/>\n   </g>\n   <g id=\"patch_6\">\n    <path d=\"M 28.942188 7.2 \nL 224.242188 7.2 \n\" style=\"fill: none; stroke: #000000; stroke-width: 0.8; stroke-linejoin: miter; stroke-linecap: square\"/>\n   </g>\n  </g>\n </g>\n <defs>\n  <clipPath id=\"p7e97c023ac\">\n   <rect x=\"28.942188\" y=\"7.2\" width=\"195.3\" height=\"138.6\"/>\n  </clipPath>\n </defs>\n</svg>\n"
          },
          "metadata": {}
        }
      ],
      "source": [
        "d2l.set_figsize()\n",
        "d2l.plt.scatter(features[:, (1)].detach().numpy(), labels.detach().numpy(), 1);"
      ]
    },
    {
      "cell_type": "markdown",
      "id": "b032f500",
      "metadata": {
        "origin_pos": 13,
        "id": "b032f500"
      },
      "source": [
        "## 读取数据集\n",
        "\n",
        "回想一下，训练模型时要对数据集进行遍历，每次抽取一小批量样本，并使用它们来更新我们的模型。\n",
        "由于这个过程是训练机器学习算法的基础，所以有必要定义一个函数，\n",
        "该函数能打乱数据集中的样本并以小批量方式获取数据。\n",
        "\n",
        "在下面的代码中，我们[**定义一个`data_iter`函数，\n",
        "该函数接收批量大小、特征矩阵和标签向量作为输入，生成大小为`batch_size`的小批量**]。\n",
        "每个小批量包含一组特征和标签。\n"
      ]
    },
    {
      "cell_type": "code",
      "execution_count": 7,
      "id": "3da34ac6",
      "metadata": {
        "execution": {
          "iopub.execute_input": "2023-08-18T07:02:04.839342Z",
          "iopub.status.busy": "2023-08-18T07:02:04.838682Z",
          "iopub.status.idle": "2023-08-18T07:02:04.846329Z",
          "shell.execute_reply": "2023-08-18T07:02:04.845247Z"
        },
        "origin_pos": 14,
        "tab": [
          "pytorch"
        ],
        "id": "3da34ac6"
      },
      "outputs": [],
      "source": [
        "def data_iter(batch_size, features, labels):\n",
        "    num_examples = len(features)\n",
        "    indices = list(range(num_examples))\n",
        "    # 这些样本是随机读取的，没有特定的顺序\n",
        "    random.shuffle(indices)\n",
        "    for i in range(0, num_examples, batch_size):\n",
        "        batch_indices = torch.tensor(\n",
        "            indices[i: min(i + batch_size, num_examples)])\n",
        "        yield features[batch_indices], labels[batch_indices]"
      ]
    },
    {
      "cell_type": "markdown",
      "id": "52e08a78",
      "metadata": {
        "origin_pos": 16,
        "id": "52e08a78"
      },
      "source": [
        "通常，我们利用GPU并行运算的优势，处理合理大小的“小批量”。\n",
        "每个样本都可以并行地进行模型计算，且每个样本损失函数的梯度也可以被并行计算。\n",
        "GPU可以在处理几百个样本时，所花费的时间不比处理一个样本时多太多。\n",
        "\n",
        "我们直观感受一下小批量运算：读取第一个小批量数据样本并打印。\n",
        "每个批量的特征维度显示批量大小和输入特征数。\n",
        "同样的，批量的标签形状与`batch_size`相等。\n"
      ]
    },
    {
      "cell_type": "code",
      "execution_count": 8,
      "id": "1dce0726",
      "metadata": {
        "execution": {
          "iopub.execute_input": "2023-08-18T07:02:04.851066Z",
          "iopub.status.busy": "2023-08-18T07:02:04.850456Z",
          "iopub.status.idle": "2023-08-18T07:02:04.859860Z",
          "shell.execute_reply": "2023-08-18T07:02:04.858756Z"
        },
        "origin_pos": 17,
        "tab": [
          "pytorch"
        ],
        "id": "1dce0726",
        "outputId": "83a15eed-849f-478f-f730-7f196aa84adf",
        "colab": {
          "base_uri": "https://localhost:8080/"
        }
      },
      "outputs": [
        {
          "output_type": "stream",
          "name": "stdout",
          "text": [
            "tensor([[ 0.7492, -0.8462],\n",
            "        [-0.1909, -1.5613],\n",
            "        [-0.2798, -1.1806],\n",
            "        [ 1.4057, -1.6314],\n",
            "        [-0.4500, -1.2395],\n",
            "        [ 0.1861, -1.0741],\n",
            "        [ 0.5546, -0.1850],\n",
            "        [-0.1040,  0.0648],\n",
            "        [ 0.1092, -0.4786],\n",
            "        [-1.1132,  2.3491]]) \n",
            " tensor([[ 8.5865],\n",
            "        [ 9.1271],\n",
            "        [ 7.6472],\n",
            "        [12.5710],\n",
            "        [ 7.5162],\n",
            "        [ 8.2459],\n",
            "        [ 5.9353],\n",
            "        [ 3.7818],\n",
            "        [ 6.0402],\n",
            "        [-6.0162]])\n"
          ]
        }
      ],
      "source": [
        "batch_size = 10\n",
        "\n",
        "for X, y in data_iter(batch_size, features, labels):\n",
        "    print(X, '\\n', y)\n",
        "    break"
      ]
    },
    {
      "cell_type": "markdown",
      "id": "d86e62d7",
      "metadata": {
        "origin_pos": 18,
        "id": "d86e62d7"
      },
      "source": [
        "当我们运行迭代时，我们会连续地获得不同的小批量，直至遍历完整个数据集。\n",
        "上面实现的迭代对教学来说很好，但它的执行效率很低，可能会在实际问题上陷入麻烦。\n",
        "例如，它要求我们将所有数据加载到内存中，并执行大量的随机内存访问。\n",
        "在深度学习框架中实现的内置迭代器效率要高得多，\n",
        "它可以处理存储在文件中的数据和数据流提供的数据。\n",
        "\n",
        "## 初始化模型参数\n",
        "\n",
        "[**在我们开始用小批量随机梯度下降优化我们的模型参数之前**]，\n",
        "(**我们需要先有一些参数**)。\n",
        "在下面的代码中，我们通过从均值为0、标准差为0.01的正态分布中采样随机数来初始化权重，\n",
        "并将偏置初始化为0。\n"
      ]
    },
    {
      "cell_type": "code",
      "execution_count": 18,
      "id": "12c51289",
      "metadata": {
        "execution": {
          "iopub.execute_input": "2023-08-18T07:02:04.864457Z",
          "iopub.status.busy": "2023-08-18T07:02:04.863853Z",
          "iopub.status.idle": "2023-08-18T07:02:04.869983Z",
          "shell.execute_reply": "2023-08-18T07:02:04.868859Z"
        },
        "origin_pos": 20,
        "tab": [
          "pytorch"
        ],
        "id": "12c51289"
      },
      "outputs": [],
      "source": [
        "w = torch.normal(0, 0.01, size=(2,1), requires_grad=True)\n",
        "b = torch.zeros(1, requires_grad=True)"
      ]
    },
    {
      "cell_type": "markdown",
      "id": "c59d5d68",
      "metadata": {
        "origin_pos": 23,
        "id": "c59d5d68"
      },
      "source": [
        "在初始化参数之后，我们的任务是更新这些参数，直到这些参数足够拟合我们的数据。\n",
        "每次更新都需要计算损失函数关于模型参数的梯度。\n",
        "有了这个梯度，我们就可以向减小损失的方向更新每个参数。\n",
        "因为手动计算梯度很枯燥而且容易出错，所以没有人会手动计算梯度。\n",
        "我们使用 :numref:`sec_autograd`中引入的自动微分来计算梯度。\n",
        "\n",
        "## 定义模型\n",
        "\n",
        "接下来，我们必须[**定义模型，将模型的输入和参数同模型的输出关联起来。**]\n",
        "回想一下，要计算线性模型的输出，\n",
        "我们只需计算输入特征$\\mathbf{X}$和模型权重$\\mathbf{w}$的矩阵-向量乘法后加上偏置$b$。\n",
        "注意，上面的$\\mathbf{Xw}$是一个向量，而$b$是一个标量。\n",
        "回想一下 :numref:`subsec_broadcasting`中描述的广播机制：\n",
        "当我们用一个向量加一个标量时，标量会被加到向量的每个分量上。\n"
      ]
    },
    {
      "cell_type": "code",
      "execution_count": 10,
      "id": "b8b29b19",
      "metadata": {
        "execution": {
          "iopub.execute_input": "2023-08-18T07:02:04.874642Z",
          "iopub.status.busy": "2023-08-18T07:02:04.874004Z",
          "iopub.status.idle": "2023-08-18T07:02:04.879521Z",
          "shell.execute_reply": "2023-08-18T07:02:04.878471Z"
        },
        "origin_pos": 24,
        "tab": [
          "pytorch"
        ],
        "id": "b8b29b19"
      },
      "outputs": [],
      "source": [
        "def linreg(X, w, b):\n",
        "    \"\"\"线性回归模型\"\"\"\n",
        "    return torch.matmul(X, w) + b"
      ]
    },
    {
      "cell_type": "markdown",
      "id": "6b7765ef",
      "metadata": {
        "origin_pos": 25,
        "id": "6b7765ef"
      },
      "source": [
        "## [**定义损失函数**]\n",
        "\n",
        "因为需要计算损失函数的梯度，所以我们应该先定义损失函数。\n",
        "这里我们使用 :numref:`sec_linear_regression`中描述的平方损失函数。\n",
        "在实现中，我们需要将真实值`y`的形状转换为和预测值`y_hat`的形状相同。\n"
      ]
    },
    {
      "cell_type": "code",
      "execution_count": 11,
      "id": "3dda15c7",
      "metadata": {
        "execution": {
          "iopub.execute_input": "2023-08-18T07:02:04.884156Z",
          "iopub.status.busy": "2023-08-18T07:02:04.883559Z",
          "iopub.status.idle": "2023-08-18T07:02:04.889065Z",
          "shell.execute_reply": "2023-08-18T07:02:04.887964Z"
        },
        "origin_pos": 26,
        "tab": [
          "pytorch"
        ],
        "id": "3dda15c7"
      },
      "outputs": [],
      "source": [
        "def squared_loss(y_hat, y):\n",
        "    \"\"\"均方损失\"\"\"\n",
        "    return (y_hat - y.reshape(y_hat.shape)) ** 2 / 2"
      ]
    },
    {
      "cell_type": "markdown",
      "id": "56969029",
      "metadata": {
        "origin_pos": 27,
        "id": "56969029"
      },
      "source": [
        "## (**定义优化算法**)\n",
        "\n",
        "正如我们在 :numref:`sec_linear_regression`中讨论的，线性回归有解析解。\n",
        "尽管线性回归有解析解，但本书中的其他模型却没有。\n",
        "这里我们介绍小批量随机梯度下降。\n",
        "\n",
        "在每一步中，使用从数据集中随机抽取的一个小批量，然后根据参数计算损失的梯度。\n",
        "接下来，朝着减少损失的方向更新我们的参数。\n",
        "下面的函数实现小批量随机梯度下降更新。\n",
        "该函数接受模型参数集合、学习速率和批量大小作为输入。每\n",
        "一步更新的大小由学习速率`lr`决定。\n",
        "因为我们计算的损失是一个批量样本的总和，所以我们用批量大小（`batch_size`）\n",
        "来规范化步长，这样步长大小就不会取决于我们对批量大小的选择。\n"
      ]
    },
    {
      "cell_type": "code",
      "execution_count": 12,
      "id": "8f92242d",
      "metadata": {
        "execution": {
          "iopub.execute_input": "2023-08-18T07:02:04.893665Z",
          "iopub.status.busy": "2023-08-18T07:02:04.892999Z",
          "iopub.status.idle": "2023-08-18T07:02:04.899100Z",
          "shell.execute_reply": "2023-08-18T07:02:04.898003Z"
        },
        "origin_pos": 29,
        "tab": [
          "pytorch"
        ],
        "id": "8f92242d"
      },
      "outputs": [],
      "source": [
        "def sgd(params, lr, batch_size):\n",
        "    \"\"\"小批量随机梯度下降\"\"\"\n",
        "    with torch.no_grad():\n",
        "        for param in params:\n",
        "            param -= lr * param.grad / batch_size\n",
        "            param.grad.zero_()"
      ]
    },
    {
      "cell_type": "markdown",
      "id": "89067f86",
      "metadata": {
        "origin_pos": 32,
        "id": "89067f86"
      },
      "source": [
        "## 训练\n",
        "\n",
        "现在我们已经准备好了模型训练所有需要的要素，可以实现主要的[**训练过程**]部分了。\n",
        "理解这段代码至关重要，因为从事深度学习后，\n",
        "相同的训练过程几乎一遍又一遍地出现。\n",
        "在每次迭代中，我们读取一小批量训练样本，并通过我们的模型来获得一组预测。\n",
        "计算完损失后，我们开始反向传播，存储每个参数的梯度。\n",
        "最后，我们调用优化算法`sgd`来更新模型参数。\n",
        "\n",
        "概括一下，我们将执行以下循环：\n",
        "\n",
        "* 初始化参数\n",
        "* 重复以下训练，直到完成\n",
        "    * 计算梯度$\\mathbf{g} \\leftarrow \\partial_{(\\mathbf{w},b)} \\frac{1}{|\\mathcal{B}|} \\sum_{i \\in \\mathcal{B}} l(\\mathbf{x}^{(i)}, y^{(i)}, \\mathbf{w}, b)$\n",
        "    * 更新参数$(\\mathbf{w}, b) \\leftarrow (\\mathbf{w}, b) - \\eta \\mathbf{g}$\n",
        "\n",
        "在每个*迭代周期*（epoch）中，我们使用`data_iter`函数遍历整个数据集，\n",
        "并将训练数据集中所有样本都使用一次（假设样本数能够被批量大小整除）。\n",
        "这里的迭代周期个数`num_epochs`和学习率`lr`都是超参数，分别设为3和0.03。\n",
        "设置超参数很棘手，需要通过反复试验进行调整。\n",
        "我们现在忽略这些细节，以后会在 :numref:`chap_optimization`中详细介绍。\n"
      ]
    },
    {
      "cell_type": "code",
      "execution_count": 16,
      "id": "9163db58",
      "metadata": {
        "execution": {
          "iopub.execute_input": "2023-08-18T07:02:04.903791Z",
          "iopub.status.busy": "2023-08-18T07:02:04.903216Z",
          "iopub.status.idle": "2023-08-18T07:02:04.908499Z",
          "shell.execute_reply": "2023-08-18T07:02:04.907341Z"
        },
        "origin_pos": 33,
        "tab": [
          "pytorch"
        ],
        "id": "9163db58"
      },
      "outputs": [],
      "source": [
        "lr = 0.03\n",
        "num_epochs = 5\n",
        "net = linreg\n",
        "loss = squared_loss"
      ]
    },
    {
      "cell_type": "code",
      "execution_count": 19,
      "id": "ad5c2cd1",
      "metadata": {
        "execution": {
          "iopub.execute_input": "2023-08-18T07:02:04.913061Z",
          "iopub.status.busy": "2023-08-18T07:02:04.912436Z",
          "iopub.status.idle": "2023-08-18T07:02:05.067276Z",
          "shell.execute_reply": "2023-08-18T07:02:05.066107Z"
        },
        "origin_pos": 35,
        "tab": [
          "pytorch"
        ],
        "id": "ad5c2cd1",
        "outputId": "cf7ddbae-0ee3-4731-aa34-833c9fa7a763",
        "colab": {
          "base_uri": "https://localhost:8080/"
        }
      },
      "outputs": [
        {
          "output_type": "stream",
          "name": "stdout",
          "text": [
            "epoch 1, loss 0.039044\n",
            "epoch 2, loss 0.000154\n",
            "epoch 3, loss 0.000053\n",
            "epoch 4, loss 0.000052\n",
            "epoch 5, loss 0.000052\n"
          ]
        }
      ],
      "source": [
        "for epoch in range(num_epochs):\n",
        "    for X, y in data_iter(batch_size, features, labels):\n",
        "        l = loss(net(X, w, b), y)  # X和y的小批量损失\n",
        "        # 因为l形状是(batch_size,1)，而不是一个标量。l中的所有元素被加到一起，\n",
        "        # 并以此计算关于[w,b]的梯度\n",
        "        l.sum().backward()\n",
        "        sgd([w, b], lr, batch_size)  # 使用参数的梯度更新参数\n",
        "    with torch.no_grad():\n",
        "        train_l = loss(net(features, w, b), labels)\n",
        "        print(f'epoch {epoch + 1}, loss {float(train_l.mean()):f}')"
      ]
    },
    {
      "cell_type": "markdown",
      "id": "427d8cda",
      "metadata": {
        "origin_pos": 38,
        "id": "427d8cda"
      },
      "source": [
        "因为我们使用的是自己合成的数据集，所以我们知道真正的参数是什么。\n",
        "因此，我们可以通过[**比较真实参数和通过训练学到的参数来评估训练的成功程度**]。\n",
        "事实上，真实参数和通过训练学到的参数确实非常接近。\n"
      ]
    },
    {
      "cell_type": "code",
      "source": [
        "print(true_w, w, true_w.shape, w.shape)"
      ],
      "metadata": {
        "id": "C9d-HVTQoesp",
        "outputId": "041b2e3a-1187-4dbd-89d2-45fec907b8bf",
        "colab": {
          "base_uri": "https://localhost:8080/"
        }
      },
      "id": "C9d-HVTQoesp",
      "execution_count": 25,
      "outputs": [
        {
          "output_type": "stream",
          "name": "stdout",
          "text": [
            "tensor([ 2.0000, -3.4000]) tensor([[ 1.9999],\n",
            "        [-3.3999]], requires_grad=True) torch.Size([2]) torch.Size([2, 1])\n"
          ]
        }
      ]
    },
    {
      "cell_type": "code",
      "execution_count": 20,
      "id": "a4c3d525",
      "metadata": {
        "execution": {
          "iopub.execute_input": "2023-08-18T07:02:05.072546Z",
          "iopub.status.busy": "2023-08-18T07:02:05.071769Z",
          "iopub.status.idle": "2023-08-18T07:02:05.079203Z",
          "shell.execute_reply": "2023-08-18T07:02:05.078107Z"
        },
        "origin_pos": 39,
        "tab": [
          "pytorch"
        ],
        "id": "a4c3d525",
        "outputId": "34e3aba8-1e9d-4eea-91b4-985081f18335",
        "colab": {
          "base_uri": "https://localhost:8080/"
        }
      },
      "outputs": [
        {
          "output_type": "stream",
          "name": "stdout",
          "text": [
            "w的估计误差: tensor([ 0.0001, -0.0001], grad_fn=<SubBackward0>)\n",
            "b的估计误差: tensor([0.0007], grad_fn=<RsubBackward1>)\n"
          ]
        }
      ],
      "source": [
        "print(f'w的估计误差: {true_w - w.reshape(true_w.shape)}')\n",
        "print(f'b的估计误差: {true_b - b}')"
      ]
    },
    {
      "cell_type": "markdown",
      "id": "9f3d71ee",
      "metadata": {
        "origin_pos": 40,
        "id": "9f3d71ee"
      },
      "source": [
        "注意，我们不应该想当然地认为我们能够完美地求解参数。\n",
        "在机器学习中，我们通常不太关心恢复真正的参数，而更关心如何高度准确预测参数。\n",
        "幸运的是，即使是在复杂的优化问题上，随机梯度下降通常也能找到非常好的解。\n",
        "其中一个原因是，在深度网络中存在许多参数组合能够实现高度精确的预测。\n",
        "\n",
        "## 小结\n",
        "\n",
        "* 我们学习了深度网络是如何实现和优化的。在这一过程中只使用张量和自动微分，不需要定义层或复杂的优化器。\n",
        "* 这一节只触及到了表面知识。在下面的部分中，我们将基于刚刚介绍的概念描述其他模型，并学习如何更简洁地实现其他模型。\n",
        "\n",
        "## 练习\n",
        "\n",
        "1. 如果我们将权重初始化为零，会发生什么。算法仍然有效吗？\n",
        "1. 假设试图为电压和电流的关系建立一个模型。自动微分可以用来学习模型的参数吗?\n",
        "1. 能基于[普朗克定律](https://en.wikipedia.org/wiki/Planck%27s_law)使用光谱能量密度来确定物体的温度吗？\n",
        "1. 计算二阶导数时可能会遇到什么问题？这些问题可以如何解决？\n",
        "1. 为什么在`squared_loss`函数中需要使用`reshape`函数？\n",
        "1. 尝试使用不同的学习率，观察损失函数值下降的快慢。\n",
        "1. 如果样本个数不能被批量大小整除，`data_iter`函数的行为会有什么变化？\n"
      ]
    },
    {
      "cell_type": "markdown",
      "id": "193224b1",
      "metadata": {
        "origin_pos": 42,
        "tab": [
          "pytorch"
        ],
        "id": "193224b1"
      },
      "source": [
        "[Discussions](https://discuss.d2l.ai/t/1778)\n"
      ]
    }
  ],
  "metadata": {
    "kernelspec": {
      "display_name": "Python 3",
      "name": "python3"
    },
    "language_info": {
      "name": "python"
    },
    "required_libs": [],
    "colab": {
      "provenance": []
    }
  },
  "nbformat": 4,
  "nbformat_minor": 5
}