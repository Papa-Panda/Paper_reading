{
  "nbformat": 4,
  "nbformat_minor": 0,
  "metadata": {
    "colab": {
      "provenance": [],
      "authorship_tag": "ABX9TyNhKoqnoz4m7MhK+3Hff+b5",
      "include_colab_link": true
    },
    "kernelspec": {
      "name": "python3",
      "display_name": "Python 3"
    },
    "language_info": {
      "name": "python"
    }
  },
  "cells": [
    {
      "cell_type": "markdown",
      "metadata": {
        "id": "view-in-github",
        "colab_type": "text"
      },
      "source": [
        "<a href=\"https://colab.research.google.com/github/Papa-Panda/Paper_reading/blob/main/%E8%83%BD%E9%87%8F%E8%A7%86%E8%A7%92%E4%B8%8B%E7%9A%84GAN%E6%A8%A1%E5%9E%8B.ipynb\" target=\"_parent\"><img src=\"https://colab.research.google.com/assets/colab-badge.svg\" alt=\"Open In Colab\"/></a>"
      ]
    },
    {
      "cell_type": "code",
      "execution_count": null,
      "metadata": {
        "id": "_n3STcTukdOc"
      },
      "outputs": [],
      "source": [
        "# 能量视角下的GAN模型（一）：GAN＝“挖坑”＋“跳坑”\n",
        "# https://spaces.ac.cn/archives/6316"
      ]
    }
  ]
}