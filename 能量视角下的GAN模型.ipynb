{
  "nbformat": 4,
  "nbformat_minor": 0,
  "metadata": {
    "colab": {
      "provenance": [],
      "authorship_tag": "ABX9TyO3EJuxxWqOFlWiOBMMvqX0",
      "include_colab_link": true
    },
    "kernelspec": {
      "name": "python3",
      "display_name": "Python 3"
    },
    "language_info": {
      "name": "python"
    }
  },
  "cells": [
    {
      "cell_type": "markdown",
      "metadata": {
        "id": "view-in-github",
        "colab_type": "text"
      },
      "source": [
        "<a href=\"https://colab.research.google.com/github/Papa-Panda/Paper_reading/blob/main/%E8%83%BD%E9%87%8F%E8%A7%86%E8%A7%92%E4%B8%8B%E7%9A%84GAN%E6%A8%A1%E5%9E%8B.ipynb\" target=\"_parent\"><img src=\"https://colab.research.google.com/assets/colab-badge.svg\" alt=\"Open In Colab\"/></a>"
      ]
    },
    {
      "cell_type": "code",
      "execution_count": null,
      "metadata": {
        "id": "_n3STcTukdOc"
      },
      "outputs": [],
      "source": [
        "# 能量视角下的GAN模型（一）：GAN＝“挖坑”＋“跳坑”\n",
        "# https://spaces.ac.cn/archives/6316"
      ]
    },
    {
      "cell_type": "markdown",
      "source": [
        "对于GAN来说，最通俗易懂的视角当属“造假者-鉴别者”相互竞争的类比，这个视角直接导致了标准的GAN。但是，这个通俗的类比无法进一步延伸到WGAN乃至梯度惩罚等正则项的理解。\n",
        "\n",
        "相比之下，能量视角相当灵活，它甚至能让我们直观地理解WGAN、梯度惩罚等内容，这些内容可以说是目前GAN领域最先进的部分成果了。虽然看起来能量视角比“造假者-鉴别者”形式上复杂一些，但其实它的物理意义也相当清晰，稍加思考，我们会感觉到它其实更为有趣、更具有启发性，有种“越嚼越有味”的感觉～\n",
        "\n"
      ],
      "metadata": {
        "id": "81hupsaHlYEY"
      }
    },
    {
      "cell_type": "code",
      "source": [
        "# 能量视角下的GAN模型（二）：GAN＝“分析”＋“采样”\n",
        "# https://www.spaces.ac.cn/archives/6331"
      ],
      "metadata": {
        "id": "Jf-jsQQbCbTQ"
      },
      "execution_count": 1,
      "outputs": []
    },
    {
      "cell_type": "code",
      "source": [
        "# 能量视角下的GAN模型（三）：生成模型=能量模型\n",
        "# https://www.spaces.ac.cn/archives/6612"
      ],
      "metadata": {
        "id": "fzeQM-H6Ceb4"
      },
      "execution_count": null,
      "outputs": []
    }
  ]
}