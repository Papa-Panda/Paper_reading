{
  "nbformat": 4,
  "nbformat_minor": 0,
  "metadata": {
    "colab": {
      "provenance": [],
      "authorship_tag": "ABX9TyO1k966ZqOW0HWdSvaDrw/B",
      "include_colab_link": true
    },
    "kernelspec": {
      "name": "python3",
      "display_name": "Python 3"
    },
    "language_info": {
      "name": "python"
    }
  },
  "cells": [
    {
      "cell_type": "markdown",
      "metadata": {
        "id": "view-in-github",
        "colab_type": "text"
      },
      "source": [
        "<a href=\"https://colab.research.google.com/github/Papa-Panda/Paper_reading/blob/main/deepseek_moe.ipynb\" target=\"_parent\"><img src=\"https://colab.research.google.com/assets/colab-badge.svg\" alt=\"Open In Colab\"/></a>"
      ]
    },
    {
      "cell_type": "code",
      "execution_count": null,
      "metadata": {
        "id": "brIWEeQP7jBf"
      },
      "outputs": [],
      "source": [
        "# https://www.bilibili.com/video/BV1uUPieDEK1?spm_id_from=333.788.videopod.sections&vd_source=1fecee762931e992c96e5e166be13b76\n",
        "# https://github.com/hkproj/pytorch-transformer/blob/main/train.py\n",
        "# https://github.com/hkproj/pytorch-transformer/blob/main/model.py\n",
        "# https://github.com/XihWang/LLM_RethinkFun\n"
      ]
    },
    {
      "cell_type": "code",
      "source": [
        "# classical MOE"
      ],
      "metadata": {
        "id": "Iw3KDvSUQPer"
      },
      "execution_count": null,
      "outputs": []
    },
    {
      "cell_type": "code",
      "source": [
        "import torch\n",
        "from torch import nn\n",
        "\n",
        "class ExpertNetwork(nn.Module):\n",
        "    def __init__(self, hidden_size, intermediate_size):\n",
        "        super().__init__()\n",
        "        self.hidden_size = hidden_size\n",
        "        self.intermediate_size = intermediate_size\n",
        "\n",
        "        self.linear1 = nn.Linear(hidden_size, intermediate_size)\n",
        "        self.linear2 = nn.Linear(intermediate_size, hidden_size)\n",
        "\n",
        "    def forward(self, x):\n",
        "        x = self.linear1(x)\n",
        "        x = nn.functional.relu(x)\n",
        "        output = self.linear2(x)\n",
        "        return output\n",
        "\n",
        "class Router(nn.Module):\n",
        "    def __init__(self, hidden_size, expert_num, top_k):\n",
        "        super().__init__()\n",
        "        self.router = nn.Linear(hidden_size, expert_num)\n",
        "        self.top_k = top_k\n",
        "        self.hidden_size = hidden_size\n",
        "\n",
        "    def forward(self, x):\n",
        "        x = x.view(-1, self.hidden_size)\n",
        "        x = self.router(x)\n",
        "        x = nn.functional.softmax(x, dim=1)\n",
        "        topk_weight, topk_idx = torch.topk(x, k=self.top_k, dim=1, sorted=False)\n",
        "        # 对topK权重重新归一化\n",
        "        topk_weight = topk_weight / topk_weight.sum(dim=-1, keepdim=True)\n",
        "        return topk_weight, topk_idx\n",
        "\n",
        "class MOELayer(nn.Module):\n",
        "    def __init__(self, hidden_size, intermediate_size, expert_num, top_k):\n",
        "        super().__init__()\n",
        "        self.hidden_size = hidden_size\n",
        "        self.intermediate_size = intermediate_size\n",
        "        self.expert_num = expert_num\n",
        "        self.top_k = top_k\n",
        "        self.experts = nn.ModuleList(\n",
        "            [ExpertNetwork(hidden_size, intermediate_size) for _ in range(self.expert_num)]\n",
        "        )\n",
        "        self.router = Router(hidden_size, expert_num, top_k)\n",
        "\n",
        "    def forward(self, x):  # shape of x is (batch_size, seq_len, hidden_size)\n",
        "        batch_size, seq_len, _ = x.size()\n",
        "        token_num = batch_size * seq_len\n",
        "        x_flat = x.view(token_num, self.hidden_size)\n",
        "\n",
        "        # 通过路由器获得top-k专家选择的权重和索引，形状均为(N, top_k)\n",
        "        topk_weight, topk_idx = self.router(x_flat)\n",
        "\n",
        "        # 初始化输出张量\n",
        "        output = torch.zeros_like(x_flat)\n",
        "        for token_idx in range(token_num):\n",
        "            for expert_idx in range(self.top_k):\n",
        "                expert = self.experts[topk_idx[token_idx][expert_idx]]\n",
        "                output[token_idx] += topk_weight[token_idx][expert_idx] * expert(x_flat[token_idx])\n",
        "\n",
        "        output = output.view(batch_size, seq_len, self.hidden_size)\n",
        "        return output"
      ],
      "metadata": {
        "colab": {
          "base_uri": "https://localhost:8080/"
        },
        "id": "Cu0j3B5RQQzf",
        "outputId": "f6afe601-05d2-4b94-d4e0-d523f6b94c13"
      },
      "execution_count": null,
      "outputs": [
        {
          "output_type": "stream",
          "name": "stdout",
          "text": [
            "torch.Size([2, 11, 4096])\n"
          ]
        }
      ]
    },
    {
      "cell_type": "code",
      "source": [
        "# Constants\n",
        "HIDDEN_SIZE = 4096\n",
        "INTERMEDIATE_SIZE = 2048\n",
        "EXPERT_NUM = 8\n",
        "TOP_K = 2\n",
        "\n",
        "# Example usage\n",
        "inputs = torch.randn((2, 11, 4096))\n",
        "moe_layer = MOELayer(HIDDEN_SIZE, INTERMEDIATE_SIZE, EXPERT_NUM, TOP_K)\n",
        "outputs = moe_layer(inputs)\n",
        "print(outputs.size())"
      ],
      "metadata": {
        "colab": {
          "base_uri": "https://localhost:8080/"
        },
        "id": "95Fa71lJQ28i",
        "outputId": "32b0246b-cbfa-4b70-a664-290cbb0735c1"
      },
      "execution_count": null,
      "outputs": [
        {
          "output_type": "stream",
          "name": "stdout",
          "text": [
            "torch.Size([2, 11, 4096])\n"
          ]
        }
      ]
    },
    {
      "cell_type": "code",
      "source": [],
      "metadata": {
        "id": "swrWexd3Q-as"
      },
      "execution_count": null,
      "outputs": []
    }
  ]
}