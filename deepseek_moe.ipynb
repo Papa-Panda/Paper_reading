{
  "nbformat": 4,
  "nbformat_minor": 0,
  "metadata": {
    "colab": {
      "provenance": [],
      "authorship_tag": "ABX9TyPc7Sj92xT4WwOFHXFJAoVZ",
      "include_colab_link": true
    },
    "kernelspec": {
      "name": "python3",
      "display_name": "Python 3"
    },
    "language_info": {
      "name": "python"
    }
  },
  "cells": [
    {
      "cell_type": "markdown",
      "metadata": {
        "id": "view-in-github",
        "colab_type": "text"
      },
      "source": [
        "<a href=\"https://colab.research.google.com/github/Papa-Panda/Paper_reading/blob/main/deepseek_moe.ipynb\" target=\"_parent\"><img src=\"https://colab.research.google.com/assets/colab-badge.svg\" alt=\"Open In Colab\"/></a>"
      ]
    },
    {
      "cell_type": "code",
      "execution_count": 1,
      "metadata": {
        "id": "brIWEeQP7jBf"
      },
      "outputs": [],
      "source": [
        "# https://www.bilibili.com/video/BV1uUPieDEK1?spm_id_from=333.788.videopod.sections&vd_source=1fecee762931e992c96e5e166be13b76\n",
        "# https://github.com/hkproj/pytorch-transformer/blob/main/train.py\n",
        "# https://github.com/hkproj/pytorch-transformer/blob/main/model.py\n",
        "# https://github.com/XihWang/LLM_RethinkFun\n"
      ]
    },
    {
      "cell_type": "code",
      "source": [
        "# classical MOE"
      ],
      "metadata": {
        "id": "Iw3KDvSUQPer"
      },
      "execution_count": 2,
      "outputs": []
    },
    {
      "cell_type": "code",
      "source": [
        "import torch\n",
        "from torch import nn"
      ],
      "metadata": {
        "id": "OoGj1xWJToOj"
      },
      "execution_count": null,
      "outputs": []
    },
    {
      "cell_type": "code",
      "source": [
        "class ExpertNetwork(nn.Module):\n",
        "    def __init__(self, hidden_size, intermediate_size):\n",
        "        super().__init__()\n",
        "        self.hidden_size = hidden_size\n",
        "        self.intermediate_size = intermediate_size\n",
        "\n",
        "        self.linear1 = nn.Linear(hidden_size, intermediate_size)\n",
        "        self.linear2 = nn.Linear(intermediate_size, hidden_size)\n",
        "\n",
        "    def forward(self, x):\n",
        "        x = self.linear1(x)\n",
        "        x = nn.functional.relu(x)\n",
        "        output = self.linear2(x)\n",
        "        return output\n",
        "\n",
        "class Router(nn.Module):\n",
        "    def __init__(self, hidden_size, expert_num, top_k):\n",
        "        super().__init__()\n",
        "        self.router = nn.Linear(hidden_size, expert_num)\n",
        "        self.top_k = top_k\n",
        "        self.hidden_size = hidden_size\n",
        "\n",
        "    def forward(self, x):\n",
        "        x = x.view(-1, self.hidden_size)\n",
        "        x = self.router(x)\n",
        "        x = nn.functional.softmax(x, dim=1)\n",
        "        topk_weight, topk_idx = torch.topk(x, k=self.top_k, dim=1, sorted=False)\n",
        "        # 对topK权重重新归一化\n",
        "        topk_weight = topk_weight / topk_weight.sum(dim=-1, keepdim=True)\n",
        "        return topk_weight, topk_idx\n",
        "\n",
        "class MOELayer(nn.Module):\n",
        "    def __init__(self, hidden_size, intermediate_size, expert_num, top_k):\n",
        "        super().__init__()\n",
        "        self.hidden_size = hidden_size\n",
        "        self.intermediate_size = intermediate_size\n",
        "        self.expert_num = expert_num\n",
        "        self.top_k = top_k\n",
        "        self.experts = nn.ModuleList(\n",
        "            [ExpertNetwork(hidden_size, intermediate_size) for _ in range(self.expert_num)]\n",
        "        )\n",
        "        self.router = Router(hidden_size, expert_num, top_k)\n",
        "\n",
        "    def forward(self, x):  # shape of x is (batch_size, seq_len, hidden_size)\n",
        "        batch_size, seq_len, _ = x.size()\n",
        "        token_num = batch_size * seq_len\n",
        "        x_flat = x.view(token_num, self.hidden_size)\n",
        "\n",
        "        # 通过路由器获得top-k专家选择的权重和索引，形状均为(N, top_k)\n",
        "        topk_weight, topk_idx = self.router(x_flat)\n",
        "\n",
        "        # 初始化输出张量\n",
        "        output = torch.zeros_like(x_flat)\n",
        "        for token_idx in range(token_num):\n",
        "            for expert_idx in range(self.top_k):\n",
        "                expert = self.experts[topk_idx[token_idx][expert_idx]]\n",
        "                output[token_idx] += topk_weight[token_idx][expert_idx] * expert(x_flat[token_idx])\n",
        "\n",
        "        output = output.view(batch_size, seq_len, self.hidden_size)\n",
        "        return output"
      ],
      "metadata": {
        "id": "Cu0j3B5RQQzf"
      },
      "execution_count": null,
      "outputs": []
    },
    {
      "cell_type": "code",
      "source": [
        "# Constants\n",
        "HIDDEN_SIZE = 4096\n",
        "INTERMEDIATE_SIZE = 2048\n",
        "EXPERT_NUM = 8\n",
        "TOP_K = 2\n",
        "\n",
        "# Example usage\n",
        "inputs = torch.randn((2, 11, 4096))\n",
        "moe_layer = MOELayer(HIDDEN_SIZE, INTERMEDIATE_SIZE, EXPERT_NUM, TOP_K)\n",
        "outputs = moe_layer(inputs)\n",
        "print(outputs.size())"
      ],
      "metadata": {
        "id": "95Fa71lJQ28i"
      },
      "execution_count": null,
      "outputs": []
    },
    {
      "cell_type": "code",
      "source": [
        "# deepseek MOE"
      ],
      "metadata": {
        "id": "swrWexd3Q-as"
      },
      "execution_count": null,
      "outputs": []
    },
    {
      "cell_type": "code",
      "source": [
        "import torch\n",
        "import torch.nn as nn\n",
        "import torch.nn.functional as F\n",
        "\n",
        "class AddAuxiliaryLoss(torch.autograd.Function):\n",
        "    \"\"\"\n",
        "    Custom autograd function to incorporate auxiliary loss into the computation graph.\n",
        "    \"\"\"\n",
        "    @staticmethod\n",
        "    def forward(ctx, x, loss):\n",
        "        assert loss.numel() == 1\n",
        "        ctx.dtype = loss.dtype\n",
        "        ctx.required_aux_loss = loss.requires_grad\n",
        "        return x\n",
        "\n",
        "    @staticmethod\n",
        "    def backward(ctx, grad_output):\n",
        "        grad_loss = None\n",
        "        if ctx.required_aux_loss:\n",
        "            grad_loss = torch.ones(1, dtype=ctx.dtype, device=grad_output.device)\n",
        "        return grad_output, grad_loss\n",
        "\n",
        "class DeepseekMLP(nn.Module):\n",
        "    \"\"\"\n",
        "    Multi-Layer Perceptron used as an expert in the MoE layer.\n",
        "    \"\"\"\n",
        "    def __init__(self, config, intermediate_size):\n",
        "        super().__init__()\n",
        "        self.fc1 = nn.Linear(config.hidden_size, intermediate_size)\n",
        "        self.act = nn.GELU()\n",
        "        self.fc2 = nn.Linear(intermediate_size, config.hidden_size)\n",
        "\n",
        "    def forward(self, x):\n",
        "        return self.fc2(self.act(self.fc1(x)))\n",
        "\n",
        "class MoeGate(nn.Module):\n",
        "    \"\"\"\n",
        "    Gating mechanism to route tokens to top-k experts.\n",
        "    \"\"\"\n",
        "    def __init__(self, config):\n",
        "        super().__init__()\n",
        "        self.num_experts = config.n_routed_experts\n",
        "        self.top_k = config.num_experts_per_tok\n",
        "        self.w_gating = nn.Linear(config.hidden_size, self.num_experts)\n",
        "\n",
        "    def forward(self, hidden_states):\n",
        "        # Flatten the input for per-token processing\n",
        "        hidden_states = hidden_states.view(-1, hidden_states.size(-1))\n",
        "        logits = self.w_gating(hidden_states)\n",
        "        scores = F.softmax(logits, dim=-1)\n",
        "\n",
        "        # Select top-k experts for each token\n",
        "        topk_weight, topk_idx = torch.topk(scores, self.top_k, dim=-1)\n",
        "        topk_weight = topk_weight / topk_weight.sum(dim=-1, keepdim=True)\n",
        "\n",
        "        # Compute auxiliary loss for load balancing\n",
        "        me = scores.mean(dim=0)\n",
        "        ce = (scores ** 2).mean(dim=0)\n",
        "        aux_loss = (self.num_experts * ce.sum() - me.sum()) / self.num_experts\n",
        "\n",
        "        return topk_idx, topk_weight, aux_loss\n",
        "\n",
        "class DeepseekMoE(nn.Module):\n",
        "    \"\"\"\n",
        "    Mixture of Experts (MoE) module with optional shared experts.\n",
        "    \"\"\"\n",
        "    def __init__(self, config):\n",
        "        super().__init__()\n",
        "        self.config = config\n",
        "        self.num_experts_per_tok = config.num_experts_per_tok\n",
        "        self.experts = nn.ModuleList(\n",
        "            [DeepseekMLP(config, intermediate_size=config.moe_intermediate_size)\n",
        "             for _ in range(config.n_routed_experts)]\n",
        "        )\n",
        "        self.gate = MoeGate(config)\n",
        "\n",
        "        if config.n_shared_experts is not None:\n",
        "            intermediate_size = config.moe_intermediate_size * config.n_shared_experts\n",
        "            self.shared_experts = DeepseekMLP(config=config, intermediate_size=intermediate_size)\n",
        "\n",
        "    def forward(self, hidden_states):\n",
        "        identity = hidden_states\n",
        "        orig_shape = hidden_states.shape\n",
        "        topk_idx, topk_weight, aux_loss = self.gate(hidden_states)\n",
        "        hidden_states = hidden_states.view(-1, hidden_states.shape[-1])\n",
        "        flat_topk_idx = topk_idx.view(-1)\n",
        "\n",
        "        if self.training:\n",
        "            # Repeat hidden_states for each expert\n",
        "            hidden_states = hidden_states.repeat_interleave(self.num_experts_per_tok, dim=0)\n",
        "            y = torch.empty_like(hidden_states)\n",
        "            for i, expert in enumerate(self.experts):\n",
        "                idx = flat_topk_idx == i\n",
        "                if idx.any():\n",
        "                    y[idx] = expert(hidden_states[idx])\n",
        "            y = (y.view(topk_weight.shape + (-1,)) * topk_weight.unsqueeze(-1)).sum(dim=1)\n",
        "            y = y.view(*orig_shape)\n",
        "            y = AddAuxiliaryLoss.apply(y, aux_loss)\n",
        "        else:\n",
        "            # Inference mode\n",
        "            y = torch.zeros_like(hidden_states)\n",
        "            for i, expert in enumerate(self.experts):\n",
        "                idx = flat_topk_idx == i\n",
        "                if idx.any():\n",
        "                    y[idx] = expert(hidden_states[idx])\n",
        "            y = (y.view(topk_weight.shape + (-1,)) * topk_weight.unsqueeze(-1)).sum(dim=1)\n",
        "            y = y.view(*orig_shape)\n",
        "            if self.config.n_shared_experts is not None:\n",
        "                y = y + self.shared_experts(identity)\n",
        "        return y"
      ],
      "metadata": {
        "id": "TbkEq5nKUHgO"
      },
      "execution_count": null,
      "outputs": []
    },
    {
      "cell_type": "code",
      "source": [
        "class DeepseekMoE(nn.Module):\n",
        "    \"\"\"\n",
        "    A mixed expert module containing shared experts.\n",
        "    \"\"\"\n",
        "    def __init__(self, config):\n",
        "        super().__init__()\n",
        "        self.config = config\n",
        "        self.num_experts_per_tok = config.num_experts_per_tok\n",
        "        self.experts = nn.ModuleList(\n",
        "            [DeepseekMLP(config, intermediate_size=config.moe_intermediate_size)\n",
        "             for i in range(config.n_routed_experts)]\n",
        "        )\n",
        "        self.gate = MoeGate(config)\n",
        "\n",
        "        if config.n_shared_experts is not None:\n",
        "            intermediate_size = config.moe_intermediate_size * config.n_shared_experts\n",
        "            self.shared_experts = DeepseekMLP(config=config, intermediate_size=intermediate_size)\n",
        "\n",
        "    def forward(self, hidden_states):\n",
        "        identity = hidden_states\n",
        "        orig_shape = hidden_states.shape\n",
        "        topk_idx, topk_weight, aux_loss = self.gate(hidden_states)\n",
        "        hidden_states = hidden_states.view(-1, hidden_states.shape[-1])\n",
        "        flat_topk_idx = topk_idx.view(-1)\n",
        "\n",
        "        if self.training:\n",
        "            hidden_states = hidden_states.repeat_interleave(self.num_experts_per_tok, dim=0)\n",
        "            y = torch.empty_like(hidden_states)\n",
        "            for i, expert in enumerate(self.experts):\n",
        "                y[flat_topk_idx == i] = expert(hidden_states[flat_topk_idx == i])\n",
        "            y = (y.view(topk_weight.shape + (-1,)) * topk_weight.unsqueeze(-1)).sum(dim=1)\n",
        "            y = y.view(*orig_shape)\n",
        "            y = AddAuxiliaryLoss.apply(y, aux_loss)\n",
        "        else:\n",
        "            y = self.moe_infer(hidden_states, flat_topk_idx, topk_weight.view(-1, 1)).view(*orig_shape)\n",
        "            if self.config.n_shared_experts is not None:\n",
        "                y = y + self.shared_experts(identity)\n",
        "        return y"
      ],
      "metadata": {
        "id": "q9SPQUuoThb7"
      },
      "execution_count": null,
      "outputs": []
    },
    {
      "cell_type": "code",
      "source": [
        "# class Config:\n",
        "#     def __init__(self):\n",
        "#         self.hidden_size = 768\n",
        "#         self.moe_intermediate_size = 3072\n",
        "#         self.n_routed_experts = 4\n",
        "#         self.n_shared_experts = 1  # Can be None if no shared experts\n",
        "#         self.num_experts_per_tok = 2  # Top-k experts\n",
        "\n",
        "# # Instantiate config and MoE module\n",
        "# config = Config()\n",
        "# moe_layer = DeepseekMoE(config)\n",
        "\n",
        "# # Simulate input: batch of sequences\n",
        "# batch_size = 2\n",
        "# seq_length = 5\n",
        "# hidden_size = config.hidden_size\n",
        "# input_tensor = torch.randn(batch_size, seq_length, hidden_size)\n",
        "\n",
        "# # Forward pass\n",
        "# output = moe_layer(input_tensor)\n",
        "\n",
        "# print(\"Input shape:\", input_tensor.shape)\n",
        "# print(\"Output shape:\", output.shape)"
      ],
      "metadata": {
        "id": "rM95Du-cTivT"
      },
      "execution_count": null,
      "outputs": []
    },
    {
      "cell_type": "code",
      "source": [
        "# experiment"
      ],
      "metadata": {
        "id": "pADBFjL6Uwij"
      },
      "execution_count": null,
      "outputs": []
    },
    {
      "cell_type": "code",
      "source": [
        "import torch\n",
        "import time\n",
        "\n",
        "# Set device\n",
        "device = torch.device(\"cuda\" if torch.cuda.is_available() else \"cpu\")\n",
        "\n",
        "# Mock Config for DeepseekMoE\n",
        "class Config:\n",
        "    def __init__(self, hidden_size, intermediate_size, n_routed_experts, n_shared_experts, num_experts_per_tok):\n",
        "        self.hidden_size = hidden_size\n",
        "        self.moe_intermediate_size = intermediate_size\n",
        "        self.n_routed_experts = n_routed_experts\n",
        "        self.n_shared_experts = n_shared_experts\n",
        "        self.num_experts_per_tok = num_experts_per_tok\n",
        "\n",
        "# Input dimensions\n",
        "BATCH_SIZE = 16\n",
        "SEQ_LENGTH = 128\n",
        "HIDDEN_SIZE = 768\n",
        "INTERMEDIATE_SIZE = 3072\n",
        "EXPERT_NUM = 4\n",
        "TOP_K = 2\n",
        "\n",
        "# Input tensor\n",
        "input_tensor = torch.randn(BATCH_SIZE, SEQ_LENGTH, HIDDEN_SIZE).to(device)\n"
      ],
      "metadata": {
        "id": "cUQnGCfUUBxr"
      },
      "execution_count": null,
      "outputs": []
    },
    {
      "cell_type": "code",
      "source": [
        "def benchmark(model, input_tensor, n_iters=2):\n",
        "    model.eval()\n",
        "    model.to(device)\n",
        "    torch.cuda.empty_cache()\n",
        "    with torch.no_grad():\n",
        "        # Warmup\n",
        "        for _ in range(10):\n",
        "            _ = model(input_tensor)\n",
        "\n",
        "        # Measure\n",
        "        start = time.time()\n",
        "        for _ in range(n_iters):\n",
        "            _ = model(input_tensor)\n",
        "        # torch.cuda.synchronize()\n",
        "        end = time.time()\n",
        "\n",
        "    avg_time = (end - start) / n_iters\n",
        "    return avg_time\n"
      ],
      "metadata": {
        "id": "hEpspxiKUvsd"
      },
      "execution_count": null,
      "outputs": []
    },
    {
      "cell_type": "code",
      "source": [
        "# Initialize MOELayer\n",
        "moe_layer = MOELayer(HIDDEN_SIZE, INTERMEDIATE_SIZE, EXPERT_NUM, TOP_K)\n",
        "\n",
        "# Initialize DeepseekMoE\n",
        "config = Config(HIDDEN_SIZE, INTERMEDIATE_SIZE, n_routed_experts=EXPERT_NUM, n_shared_experts=1, num_experts_per_tok=TOP_K)\n",
        "deepseek_moe = DeepseekMoE(config)\n",
        "\n",
        "# Benchmark\n",
        "moe_time = benchmark(moe_layer, input_tensor)\n",
        "deepseek_time = benchmark(deepseek_moe, input_tensor)\n",
        "\n",
        "print(f\"MOELayer avg inference time: {moe_time:.6f}s\")\n",
        "print(f\"DeepseekMoE avg inference time: {deepseek_time:.6f}s\")\n"
      ],
      "metadata": {
        "id": "fEJMG1MzUyOc"
      },
      "execution_count": null,
      "outputs": []
    },
    {
      "cell_type": "code",
      "source": [],
      "metadata": {
        "id": "_qc0xR0nXP6U"
      },
      "execution_count": null,
      "outputs": []
    }
  ]
}