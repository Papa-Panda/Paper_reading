{
  "nbformat": 4,
  "nbformat_minor": 0,
  "metadata": {
    "colab": {
      "provenance": [],
      "authorship_tag": "ABX9TyPwWAOeuIvSBDhGWBYJVFE8",
      "include_colab_link": true
    },
    "kernelspec": {
      "name": "python3",
      "display_name": "Python 3"
    },
    "language_info": {
      "name": "python"
    }
  },
  "cells": [
    {
      "cell_type": "markdown",
      "metadata": {
        "id": "view-in-github",
        "colab_type": "text"
      },
      "source": [
        "<a href=\"https://colab.research.google.com/github/Papa-Panda/Paper_reading/blob/main/deepseek_moe.ipynb\" target=\"_parent\"><img src=\"https://colab.research.google.com/assets/colab-badge.svg\" alt=\"Open In Colab\"/></a>"
      ]
    },
    {
      "cell_type": "code",
      "execution_count": 1,
      "metadata": {
        "id": "brIWEeQP7jBf"
      },
      "outputs": [],
      "source": [
        "# https://www.bilibili.com/video/BV1uUPieDEK1?spm_id_from=333.788.videopod.sections&vd_source=1fecee762931e992c96e5e166be13b76\n",
        "# https://github.com/hkproj/pytorch-transformer/blob/main/train.py\n",
        "# https://github.com/hkproj/pytorch-transformer/blob/main/model.py\n",
        "# https://github.com/XihWang/LLM_RethinkFun\n"
      ]
    },
    {
      "cell_type": "code",
      "source": [
        "# classical MOE"
      ],
      "metadata": {
        "id": "Iw3KDvSUQPer"
      },
      "execution_count": 2,
      "outputs": []
    },
    {
      "cell_type": "code",
      "source": [
        "import torch\n",
        "from torch import nn"
      ],
      "metadata": {
        "id": "OoGj1xWJToOj"
      },
      "execution_count": 3,
      "outputs": []
    },
    {
      "cell_type": "code",
      "source": [
        "class ExpertNetwork(nn.Module):\n",
        "    def __init__(self, hidden_size, intermediate_size):\n",
        "        super().__init__()\n",
        "        self.hidden_size = hidden_size\n",
        "        self.intermediate_size = intermediate_size\n",
        "\n",
        "        self.linear1 = nn.Linear(hidden_size, intermediate_size)\n",
        "        self.linear2 = nn.Linear(intermediate_size, hidden_size)\n",
        "\n",
        "    def forward(self, x):\n",
        "        x = self.linear1(x)\n",
        "        x = nn.functional.relu(x)\n",
        "        output = self.linear2(x)\n",
        "        return output\n",
        "\n",
        "class Router(nn.Module):\n",
        "    def __init__(self, hidden_size, expert_num, top_k):\n",
        "        super().__init__()\n",
        "        self.router = nn.Linear(hidden_size, expert_num)\n",
        "        self.top_k = top_k\n",
        "        self.hidden_size = hidden_size\n",
        "\n",
        "    def forward(self, x):\n",
        "        x = x.view(-1, self.hidden_size)\n",
        "        x = self.router(x)\n",
        "        x = nn.functional.softmax(x, dim=1)\n",
        "        topk_weight, topk_idx = torch.topk(x, k=self.top_k, dim=1, sorted=False)\n",
        "        # 对topK权重重新归一化\n",
        "        topk_weight = topk_weight / topk_weight.sum(dim=-1, keepdim=True)\n",
        "        return topk_weight, topk_idx\n",
        "\n",
        "class MOELayer(nn.Module):\n",
        "    def __init__(self, hidden_size, intermediate_size, expert_num, top_k):\n",
        "        super().__init__()\n",
        "        self.hidden_size = hidden_size\n",
        "        self.intermediate_size = intermediate_size\n",
        "        self.expert_num = expert_num\n",
        "        self.top_k = top_k\n",
        "        self.experts = nn.ModuleList(\n",
        "            [ExpertNetwork(hidden_size, intermediate_size) for _ in range(self.expert_num)]\n",
        "        )\n",
        "        self.router = Router(hidden_size, expert_num, top_k)\n",
        "\n",
        "    def forward(self, x):  # shape of x is (batch_size, seq_len, hidden_size)\n",
        "        batch_size, seq_len, _ = x.size()\n",
        "        token_num = batch_size * seq_len\n",
        "        x_flat = x.view(token_num, self.hidden_size)\n",
        "\n",
        "        # 通过路由器获得top-k专家选择的权重和索引，形状均为(N, top_k)\n",
        "        topk_weight, topk_idx = self.router(x_flat)\n",
        "\n",
        "        # 初始化输出张量\n",
        "        output = torch.zeros_like(x_flat)\n",
        "        for token_idx in range(token_num):\n",
        "            for expert_idx in range(self.top_k):\n",
        "                expert = self.experts[topk_idx[token_idx][expert_idx]]\n",
        "                output[token_idx] += topk_weight[token_idx][expert_idx] * expert(x_flat[token_idx])\n",
        "\n",
        "        output = output.view(batch_size, seq_len, self.hidden_size)\n",
        "        return output"
      ],
      "metadata": {
        "id": "Cu0j3B5RQQzf"
      },
      "execution_count": 4,
      "outputs": []
    },
    {
      "cell_type": "code",
      "source": [
        "# Constants\n",
        "HIDDEN_SIZE = 4096\n",
        "INTERMEDIATE_SIZE = 2048\n",
        "EXPERT_NUM = 8\n",
        "TOP_K = 2\n",
        "\n",
        "# Example usage\n",
        "inputs = torch.randn((2, 11, 4096))\n",
        "moe_layer = MOELayer(HIDDEN_SIZE, INTERMEDIATE_SIZE, EXPERT_NUM, TOP_K)\n",
        "outputs = moe_layer(inputs)\n",
        "print(outputs.size())"
      ],
      "metadata": {
        "colab": {
          "base_uri": "https://localhost:8080/"
        },
        "id": "95Fa71lJQ28i",
        "outputId": "7d154824-268f-4428-e67e-40bacbe11697"
      },
      "execution_count": 5,
      "outputs": [
        {
          "output_type": "stream",
          "name": "stdout",
          "text": [
            "torch.Size([2, 11, 4096])\n"
          ]
        }
      ]
    },
    {
      "cell_type": "code",
      "source": [
        "# deepseek MOE\n",
        "# can run\n",
        "# lack audloss from load balancing\n",
        "# does not match size of moe above, therefore cannot do benchmark test"
      ],
      "metadata": {
        "id": "swrWexd3Q-as"
      },
      "execution_count": 6,
      "outputs": []
    },
    {
      "cell_type": "code",
      "source": [
        "import torch\n",
        "import torch.nn as nn\n",
        "import torch.nn.functional as F\n",
        "\n",
        "# Dummy config for testing\n",
        "class Config:\n",
        "    def __init__(self):\n",
        "        self.moe_intermediate_size = 512\n",
        "        self.n_routed_experts = 4\n",
        "        self.n_shared_experts = 1\n",
        "        self.num_experts_per_tok = 2\n",
        "\n",
        "config = Config()\n",
        "\n",
        "# Expert MLP\n",
        "class DeepseekMLP(nn.Module):\n",
        "    def __init__(self, config, intermediate_size):\n",
        "        super().__init__()\n",
        "        self.fc1 = nn.Linear(768, intermediate_size)\n",
        "        self.fc2 = nn.Linear(intermediate_size, 768)\n",
        "\n",
        "    def forward(self, x):\n",
        "        return self.fc2(F.relu(self.fc1(x)))\n",
        "\n",
        "# Gating mechanism\n",
        "class MoeGate(nn.Module):\n",
        "    def __init__(self, config):\n",
        "        super().__init__()\n",
        "        self.linear = nn.Linear(768, config.n_routed_experts)\n",
        "        self.top_k = config.num_experts_per_tok\n",
        "\n",
        "    def forward(self, x):\n",
        "        logits = self.linear(x)\n",
        "        topk_weight, topk_idx = torch.topk(F.softmax(logits, dim=-1), self.top_k)\n",
        "        aux_loss = torch.tensor(0.0, device=x.device)  # Dummy placeholder\n",
        "        return topk_idx, topk_weight, aux_loss\n",
        "\n",
        "# MoE Module\n",
        "class DeepseekMoe(nn.Module):\n",
        "    def __init__(self, config):\n",
        "        super().__init__()\n",
        "        self.config = config\n",
        "        self.num_experts_per_tok = config.num_experts_per_tok\n",
        "        self.experts = nn.ModuleList([\n",
        "            DeepseekMLP(config, intermediate_size=config.moe_intermediate_size)\n",
        "            for _ in range(config.n_routed_experts)\n",
        "        ])\n",
        "        self.shared_experts = (\n",
        "            DeepseekMLP(config, intermediate_size=config.moe_intermediate_size)\n",
        "            if config.n_shared_experts > 0 else None\n",
        "        )\n",
        "        self.gate = MoeGate(config)\n",
        "\n",
        "    def forward(self, hidden_states):\n",
        "        batch_size, seq_len, hidden_dim = hidden_states.shape\n",
        "        input_flat = hidden_states.view(-1, hidden_dim)  # (B * T, H)\n",
        "\n",
        "        topk_idx, topk_weight, aux_loss = self.gate(input_flat)  # (B * T, K)\n",
        "        flat_topk_idx = topk_idx.view(-1)  # (B * T * K)\n",
        "\n",
        "        # Repeat inputs for each top-k expert\n",
        "        expanded_inputs = input_flat.repeat_interleave(self.num_experts_per_tok, dim=0)  # (B * T * K, H)\n",
        "        expert_outputs = torch.zeros_like(expanded_inputs)\n",
        "\n",
        "        # Route inputs to experts\n",
        "        for i, expert in enumerate(self.experts):\n",
        "            mask = (flat_topk_idx == i)\n",
        "            if mask.any():\n",
        "                expert_outputs[mask] = expert(expanded_inputs[mask])\n",
        "\n",
        "        # Weight expert outputs\n",
        "        weighted_output = expert_outputs.view(batch_size * seq_len, self.num_experts_per_tok, hidden_dim)\n",
        "        weighted_output = (weighted_output * topk_weight.unsqueeze(-1)).sum(dim=1)  # (B * T, H)\n",
        "        output = weighted_output.view(batch_size, seq_len, hidden_dim)\n",
        "\n",
        "        # Add shared expert output if present\n",
        "        if self.shared_experts is not None:\n",
        "            output += self.shared_experts(hidden_states)\n",
        "\n",
        "        return output\n",
        "\n",
        "# Run test\n",
        "if __name__ == \"__main__\":\n",
        "    model = DeepseekMoe(config)\n",
        "    dummy_input = torch.randn(2, 10, 768)  # (batch_size=2, seq_len=10, hidden_dim=768)\n",
        "    output = model(dummy_input)\n",
        "    print(\"✅ Output shape:\", output.shape)  # should be [2, 10, 768]"
      ],
      "metadata": {
        "id": "TbkEq5nKUHgO",
        "colab": {
          "base_uri": "https://localhost:8080/"
        },
        "outputId": "3f6c614a-fea5-4c24-c963-6ece1da5b765"
      },
      "execution_count": 36,
      "outputs": [
        {
          "output_type": "stream",
          "name": "stdout",
          "text": [
            "✅ Output shape: torch.Size([2, 10, 768])\n"
          ]
        }
      ]
    },
    {
      "cell_type": "code",
      "source": [],
      "metadata": {
        "id": "rM95Du-cTivT"
      },
      "execution_count": 40,
      "outputs": []
    },
    {
      "cell_type": "code",
      "source": [
        "# experiment"
      ],
      "metadata": {
        "id": "pADBFjL6Uwij"
      },
      "execution_count": 10,
      "outputs": []
    },
    {
      "cell_type": "code",
      "source": [
        "import torch\n",
        "import time\n",
        "\n",
        "# Set device\n",
        "device = torch.device(\"cuda\" if torch.cuda.is_available() else \"cpu\")\n",
        "\n",
        "# Mock Config for DeepseekMoE\n",
        "class Config:\n",
        "    def __init__(self, hidden_size, intermediate_size, n_routed_experts, n_shared_experts, num_experts_per_tok):\n",
        "        self.hidden_size = hidden_size\n",
        "        self.moe_intermediate_size = intermediate_size\n",
        "        self.n_routed_experts = n_routed_experts\n",
        "        self.n_shared_experts = n_shared_experts\n",
        "        self.num_experts_per_tok = num_experts_per_tok\n",
        "\n",
        "# Input dimensions\n",
        "BATCH_SIZE = 16\n",
        "SEQ_LENGTH = 128\n",
        "HIDDEN_SIZE = 768\n",
        "INTERMEDIATE_SIZE = 3072\n",
        "EXPERT_NUM = 4\n",
        "TOP_K = 2\n",
        "\n",
        "# Input tensor\n",
        "input_tensor = torch.randn(BATCH_SIZE, SEQ_LENGTH, HIDDEN_SIZE).to(device)"
      ],
      "metadata": {
        "id": "cUQnGCfUUBxr"
      },
      "execution_count": 37,
      "outputs": []
    },
    {
      "cell_type": "code",
      "source": [
        "def benchmark(model, input_tensor, n_iters=2):\n",
        "    model.eval()\n",
        "    model.to(device)\n",
        "    torch.cuda.empty_cache()\n",
        "    with torch.no_grad():\n",
        "        # Warmup\n",
        "        for _ in range(10):\n",
        "            _ = model(input_tensor)\n",
        "\n",
        "        # Measure\n",
        "        start = time.time()\n",
        "        for _ in range(n_iters):\n",
        "            _ = model(input_tensor)\n",
        "        # torch.cuda.synchronize()\n",
        "        end = time.time()\n",
        "\n",
        "    avg_time = (end - start) / n_iters\n",
        "    return avg_time"
      ],
      "metadata": {
        "id": "hEpspxiKUvsd"
      },
      "execution_count": 38,
      "outputs": []
    },
    {
      "cell_type": "code",
      "source": [
        "# Initialize MOELayer\n",
        "moe_layer = MOELayer(HIDDEN_SIZE, INTERMEDIATE_SIZE, EXPERT_NUM, TOP_K)\n",
        "\n",
        "# Initialize DeepseekMoE\n",
        "config = Config(HIDDEN_SIZE, INTERMEDIATE_SIZE, n_routed_experts=EXPERT_NUM, n_shared_experts=1, num_experts_per_tok=TOP_K)\n",
        "deepseek_moe = DeepseekMoE(config)\n",
        "\n",
        "# Benchmark\n",
        "moe_time = benchmark(moe_layer, input_tensor)\n",
        "print(f\"MOELayer avg inference time: {moe_time:.6f}s\")"
      ],
      "metadata": {
        "id": "fEJMG1MzUyOc",
        "colab": {
          "base_uri": "https://localhost:8080/"
        },
        "outputId": "99b7eb19-78d1-4416-e2e3-4cc7958e0ac1"
      },
      "execution_count": 39,
      "outputs": [
        {
          "output_type": "stream",
          "name": "stdout",
          "text": [
            "MOELayer avg inference time: 9.419379s\n"
          ]
        }
      ]
    },
    {
      "cell_type": "code",
      "source": [],
      "metadata": {
        "id": "UbD3zLhNGK92"
      },
      "execution_count": 40,
      "outputs": []
    },
    {
      "cell_type": "code",
      "source": [],
      "metadata": {
        "id": "LN2Koyc5Ic73"
      },
      "execution_count": null,
      "outputs": []
    }
  ]
}