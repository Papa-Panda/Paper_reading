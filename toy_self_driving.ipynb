{
  "nbformat": 4,
  "nbformat_minor": 0,
  "metadata": {
    "colab": {
      "provenance": [],
      "authorship_tag": "ABX9TyOFjA+LlzIeiX0eRMnvU2MM",
      "include_colab_link": true
    },
    "kernelspec": {
      "name": "python3",
      "display_name": "Python 3"
    },
    "language_info": {
      "name": "python"
    }
  },
  "cells": [
    {
      "cell_type": "markdown",
      "metadata": {
        "id": "view-in-github",
        "colab_type": "text"
      },
      "source": [
        "<a href=\"https://colab.research.google.com/github/Papa-Panda/Paper_reading/blob/main/toy_self_driving.ipynb\" target=\"_parent\"><img src=\"https://colab.research.google.com/assets/colab-badge.svg\" alt=\"Open In Colab\"/></a>"
      ]
    },
    {
      "cell_type": "code",
      "source": [
        "# toy example of self-driving\n",
        "# next steps: BEV net, occupancy net, end to end"
      ],
      "metadata": {
        "id": "jalDNTw4dejL"
      },
      "execution_count": null,
      "outputs": []
    },
    {
      "cell_type": "code",
      "execution_count": 7,
      "metadata": {
        "colab": {
          "base_uri": "https://localhost:8080/"
        },
        "id": "GgYFjQcEaAoC",
        "outputId": "9be40f97-0a65-488a-b3ed-3f4d900e075a"
      },
      "outputs": [
        {
          "output_type": "stream",
          "name": "stdout",
          "text": [
            "Epoch 1, Loss: 0.0659\n",
            "Epoch 2, Loss: 0.0352\n",
            "Epoch 3, Loss: 0.0183\n",
            "Epoch 4, Loss: 0.0082\n",
            "Epoch 5, Loss: 0.0055\n",
            "Epoch 6, Loss: 0.0033\n",
            "Epoch 7, Loss: 0.0022\n",
            "Epoch 8, Loss: 0.0010\n",
            "Epoch 9, Loss: 0.0016\n",
            "Epoch 10, Loss: 0.0022\n"
          ]
        }
      ],
      "source": [
        "import torch\n",
        "import torch.nn as nn\n",
        "import torch.optim as optim\n",
        "\n",
        "# Perception: Object detection network (simplified CNN)\n",
        "class PerceptionNet(nn.Module):\n",
        "    def __init__(self):\n",
        "        super(PerceptionNet, self).__init__()\n",
        "        self.conv = nn.Sequential(\n",
        "            nn.Conv2d(3, 16, kernel_size=3, stride=1, padding=1),\n",
        "            nn.ReLU(),\n",
        "            nn.MaxPool2d(2),\n",
        "            nn.Conv2d(16, 32, kernel_size=3, stride=1, padding=1),\n",
        "            nn.ReLU(),\n",
        "            nn.MaxPool2d(2),\n",
        "        )\n",
        "        self.fc = nn.Linear(32 * 8 * 8, 4)  # Output: bounding box [x, y, w, h]\n",
        "\n",
        "    def forward(self, x):\n",
        "        x = self.conv(x)\n",
        "        x = x.view(x.size(0), -1)\n",
        "        return self.fc(x)\n",
        "\n",
        "# Prediction: Trajectory prediction network (RNN)\n",
        "# class PredictionNet(nn.Module):\n",
        "#     def __init__(self):\n",
        "#         super(PredictionNet, self).__init__()\n",
        "#         self.rnn = nn.LSTM(input_size=4, hidden_size=16, num_layers=1, batch_first=True)\n",
        "#         self.fc = nn.Linear(16, 2)  # Output: predicted position [dx, dy]\n",
        "\n",
        "#     def forward(self, x):\n",
        "#         x, _ = self.rnn(x)\n",
        "#         return self.fc(x[:, -1, :])\n",
        "class PredictionNet(nn.Module):\n",
        "    def __init__(self):\n",
        "        super(PredictionNet, self).__init__()\n",
        "        self.rnn = nn.LSTM(input_size=8, hidden_size=16, num_layers=1, batch_first=True)  # Update input_size to 8\n",
        "        self.fc = nn.Linear(16, 2)  # Output: predicted position [dx, dy]\n",
        "\n",
        "    def forward(self, x):\n",
        "        x, _ = self.rnn(x)\n",
        "        return self.fc(x[:, -1, :])\n",
        "\n",
        "\n",
        "# Planning: Path planning network (MLP)\n",
        "class PlanningNet(nn.Module):\n",
        "    def __init__(self):\n",
        "        super(PlanningNet, self).__init__()\n",
        "        self.fc = nn.Sequential(\n",
        "            nn.Linear(8, 32),  # Adjust input size to match actual input shape\n",
        "            nn.ReLU(),\n",
        "            nn.Linear(32, 2)  # Output: planned movement [dx, dy]\n",
        "        )\n",
        "\n",
        "    def forward(self, x):\n",
        "        return self.fc(x)\n",
        "\n",
        "\n",
        "# Simulated data and pipeline\n",
        "batch_size = 4\n",
        "image_data = torch.randn(batch_size, 3, 32, 32)  # Example images\n",
        "past_trajectory = torch.randn(batch_size, 5, 4)  # Example past trajectories\n",
        "car_state = torch.randn(batch_size, 2)  # Example car state [x, y]\n",
        "\n",
        "def train_self_driving():\n",
        "    perception_net = PerceptionNet()\n",
        "    prediction_net = PredictionNet()\n",
        "    planning_net = PlanningNet()\n",
        "\n",
        "    criterion = nn.MSELoss()\n",
        "    optimizer = optim.Adam(\n",
        "        list(perception_net.parameters()) +\n",
        "        list(prediction_net.parameters()) +\n",
        "        list(planning_net.parameters()), lr=0.001\n",
        "    )\n",
        "\n",
        "    for epoch in range(10):  # Training loop\n",
        "        # Perception: Detect objects\n",
        "        detected_boxes = perception_net(image_data)  # Outputs bounding boxes [batch_size, 4]\n",
        "\n",
        "        # Prediction: Predict future trajectory\n",
        "        prediction_input = torch.cat((past_trajectory, detected_boxes.unsqueeze(1).repeat(1, 5, 1)), dim=2)\n",
        "        predicted_trajectory = prediction_net(prediction_input)\n",
        "\n",
        "        # Planning: Generate path to avoid collision\n",
        "        planning_input = torch.cat((car_state, predicted_trajectory, detected_boxes), dim=1)\n",
        "        planned_path = planning_net(planning_input)\n",
        "\n",
        "        # Compute loss (dummy target for illustration)\n",
        "        target_path = torch.zeros_like(planned_path)  # Assume the goal is [0, 0]\n",
        "        loss = criterion(planned_path, target_path)\n",
        "\n",
        "        optimizer.zero_grad()\n",
        "        loss.backward()\n",
        "        optimizer.step()\n",
        "\n",
        "        print(f\"Epoch {epoch + 1}, Loss: {loss.item():.4f}\")\n",
        "\n",
        "train_self_driving()\n"
      ]
    },
    {
      "cell_type": "code",
      "source": [],
      "metadata": {
        "id": "_0jR_e8NajZg"
      },
      "execution_count": null,
      "outputs": []
    },
    {
      "cell_type": "code",
      "source": [],
      "metadata": {
        "id": "7NgOYpLoanKP"
      },
      "execution_count": null,
      "outputs": []
    }
  ]
}