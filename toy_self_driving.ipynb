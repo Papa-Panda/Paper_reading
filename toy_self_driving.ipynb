{
  "nbformat": 4,
  "nbformat_minor": 0,
  "metadata": {
    "colab": {
      "provenance": [],
      "authorship_tag": "ABX9TyOC/3Qr+U6suXG7J0kIKQxE",
      "include_colab_link": true
    },
    "kernelspec": {
      "name": "python3",
      "display_name": "Python 3"
    },
    "language_info": {
      "name": "python"
    }
  },
  "cells": [
    {
      "cell_type": "markdown",
      "metadata": {
        "id": "view-in-github",
        "colab_type": "text"
      },
      "source": [
        "<a href=\"https://colab.research.google.com/github/Papa-Panda/Paper_reading/blob/main/toy_self_driving.ipynb\" target=\"_parent\"><img src=\"https://colab.research.google.com/assets/colab-badge.svg\" alt=\"Open In Colab\"/></a>"
      ]
    },
    {
      "cell_type": "code",
      "source": [
        "# toy example of self-driving\n",
        "# next steps: BEV net, occupancy net, end to end"
      ],
      "metadata": {
        "id": "jalDNTw4dejL"
      },
      "execution_count": null,
      "outputs": []
    },
    {
      "cell_type": "code",
      "execution_count": null,
      "metadata": {
        "colab": {
          "base_uri": "https://localhost:8080/"
        },
        "id": "GgYFjQcEaAoC",
        "outputId": "9be40f97-0a65-488a-b3ed-3f4d900e075a"
      },
      "outputs": [
        {
          "output_type": "stream",
          "name": "stdout",
          "text": [
            "Epoch 1, Loss: 0.0659\n",
            "Epoch 2, Loss: 0.0352\n",
            "Epoch 3, Loss: 0.0183\n",
            "Epoch 4, Loss: 0.0082\n",
            "Epoch 5, Loss: 0.0055\n",
            "Epoch 6, Loss: 0.0033\n",
            "Epoch 7, Loss: 0.0022\n",
            "Epoch 8, Loss: 0.0010\n",
            "Epoch 9, Loss: 0.0016\n",
            "Epoch 10, Loss: 0.0022\n"
          ]
        }
      ],
      "source": [
        "import torch\n",
        "import torch.nn as nn\n",
        "import torch.optim as optim\n",
        "\n",
        "# Perception: Object detection network (simplified CNN)\n",
        "class PerceptionNet(nn.Module):\n",
        "    def __init__(self):\n",
        "        super(PerceptionNet, self).__init__()\n",
        "        self.conv = nn.Sequential(\n",
        "            nn.Conv2d(3, 16, kernel_size=3, stride=1, padding=1),\n",
        "            nn.ReLU(),\n",
        "            nn.MaxPool2d(2),\n",
        "            nn.Conv2d(16, 32, kernel_size=3, stride=1, padding=1),\n",
        "            nn.ReLU(),\n",
        "            nn.MaxPool2d(2),\n",
        "        )\n",
        "        self.fc = nn.Linear(32 * 8 * 8, 4)  # Output: bounding box [x, y, w, h]\n",
        "\n",
        "    def forward(self, x):\n",
        "        x = self.conv(x)\n",
        "        x = x.view(x.size(0), -1)\n",
        "        return self.fc(x)\n",
        "\n",
        "# Prediction: Trajectory prediction network (RNN)\n",
        "class PredictionNet(nn.Module):\n",
        "    def __init__(self):\n",
        "        super(PredictionNet, self).__init__()\n",
        "        self.rnn = nn.LSTM(input_size=8, hidden_size=16, num_layers=1, batch_first=True)  # Update input_size to 8\n",
        "        self.fc = nn.Linear(16, 2)  # Output: predicted position [dx, dy]\n",
        "\n",
        "    def forward(self, x):\n",
        "        x, _ = self.rnn(x)\n",
        "        return self.fc(x[:, -1, :])\n",
        "\n",
        "\n",
        "# Planning: Path planning network (MLP)\n",
        "class PlanningNet(nn.Module):\n",
        "    def __init__(self):\n",
        "        super(PlanningNet, self).__init__()\n",
        "        self.fc = nn.Sequential(\n",
        "            nn.Linear(8, 32),  # Adjust input size to match actual input shape\n",
        "            nn.ReLU(),\n",
        "            nn.Linear(32, 2)  # Output: planned movement [dx, dy]\n",
        "        )\n",
        "\n",
        "    def forward(self, x):\n",
        "        return self.fc(x)\n",
        "\n",
        "\n",
        "# Simulated data and pipeline\n",
        "batch_size = 4\n",
        "image_data = torch.randn(batch_size, 3, 32, 32)  # Example images\n",
        "past_trajectory = torch.randn(batch_size, 5, 4)  # Example past trajectories\n",
        "car_state = torch.randn(batch_size, 2)  # Example car state [x, y]\n",
        "\n",
        "def train_self_driving():\n",
        "    perception_net = PerceptionNet()\n",
        "    prediction_net = PredictionNet()\n",
        "    planning_net = PlanningNet()\n",
        "\n",
        "    criterion = nn.MSELoss()\n",
        "    optimizer = optim.Adam(\n",
        "        list(perception_net.parameters()) +\n",
        "        list(prediction_net.parameters()) +\n",
        "        list(planning_net.parameters()), lr=0.001\n",
        "    )\n",
        "\n",
        "    for epoch in range(10):  # Training loop\n",
        "        # Perception: Detect objects\n",
        "        detected_boxes = perception_net(image_data)  # Outputs bounding boxes [batch_size, 4]\n",
        "\n",
        "        # Prediction: Predict future trajectory\n",
        "        prediction_input = torch.cat((past_trajectory, detected_boxes.unsqueeze(1).repeat(1, 5, 1)), dim=2)\n",
        "        predicted_trajectory = prediction_net(prediction_input)\n",
        "\n",
        "        # Planning: Generate path to avoid collision\n",
        "        planning_input = torch.cat((car_state, predicted_trajectory, detected_boxes), dim=1)\n",
        "        planned_path = planning_net(planning_input)\n",
        "\n",
        "        # Compute loss (dummy target for illustration)\n",
        "        target_path = torch.zeros_like(planned_path)  # Assume the goal is [0, 0]\n",
        "        loss = criterion(planned_path, target_path)\n",
        "\n",
        "        optimizer.zero_grad()\n",
        "        loss.backward()\n",
        "        optimizer.step()\n",
        "\n",
        "        print(f\"Epoch {epoch + 1}, Loss: {loss.item():.4f}\")\n",
        "\n",
        "train_self_driving()"
      ]
    },
    {
      "cell_type": "code",
      "source": [
        "# version 2: with control"
      ],
      "metadata": {
        "id": "_0jR_e8NajZg"
      },
      "execution_count": null,
      "outputs": []
    },
    {
      "cell_type": "code",
      "source": [
        "import torch\n",
        "import torch.nn as nn\n",
        "import torch.optim as optim\n",
        "import torchvision.transforms as transforms\n",
        "from torchvision.models import resnet18\n",
        "import numpy as np\n",
        "\n",
        "# Perception Module: Simple Convolutional Neural Network for object detection\n",
        "class PerceptionNet(nn.Module):\n",
        "    def __init__(self, num_classes=3):  # Example: Car, Pedestrian, Traffic Light\n",
        "        super(PerceptionNet, self).__init__()\n",
        "        self.backbone = resnet18(pretrained=True)\n",
        "        self.backbone.fc = nn.Linear(self.backbone.fc.in_features, num_classes)\n",
        "\n",
        "    def forward(self, x):\n",
        "        return self.backbone(x)\n",
        "\n",
        "# Decision-Making Module: Fully Connected Network for action selection\n",
        "class DecisionNet(nn.Module):\n",
        "    def __init__(self, input_size=3, hidden_size=32, output_size=4):  # Example actions: Stop, Slow, Turn, Accelerate\n",
        "        super(DecisionNet, self).__init__()\n",
        "        self.fc = nn.Sequential(\n",
        "            nn.Linear(input_size, hidden_size),\n",
        "            nn.ReLU(),\n",
        "            nn.Linear(hidden_size, output_size)\n",
        "        )\n",
        "\n",
        "    def forward(self, x):\n",
        "        return self.fc(x)\n",
        "\n",
        "# Control Module: Simple PID-like controller\n",
        "class ControlNet(nn.Module):\n",
        "    def __init__(self, input_size=4, output_size=2):  # Example outputs: Steering, Throttle\n",
        "        super(ControlNet, self).__init__()\n",
        "        self.fc = nn.Sequential(\n",
        "            nn.Linear(input_size, 16),\n",
        "            nn.ReLU(),\n",
        "            nn.Linear(16, output_size)\n",
        "        )\n",
        "\n",
        "    def forward(self, x):\n",
        "        return self.fc(x)\n",
        "\n",
        "# Synthetic Training Data\n",
        "def generate_synthetic_data(batch_size=32):\n",
        "    images = torch.rand(batch_size, 3, 224, 224)  # Random image data\n",
        "    labels = torch.randint(0, 3, (batch_size,))  # Perception labels\n",
        "    decisions = torch.rand(batch_size, 3)  # Random outputs from perception\n",
        "    actions = torch.rand(batch_size, 4)  # Random decision outputs\n",
        "    controls = torch.rand(batch_size, 2)  # Steering and throttle\n",
        "    return images, labels, decisions, actions, controls\n",
        "\n",
        "# Initialize models\n",
        "perception_net = PerceptionNet()\n",
        "decision_net = DecisionNet()\n",
        "control_net = ControlNet()\n",
        "\n",
        "# Optimizers and Losses\n",
        "criterion = nn.CrossEntropyLoss()\n",
        "optimizer_perception = optim.Adam(perception_net.parameters(), lr=0.001)\n",
        "optimizer_decision = optim.Adam(decision_net.parameters(), lr=0.001)\n",
        "optimizer_control = optim.Adam(control_net.parameters(), lr=0.001)\n",
        "\n",
        "# Training Loop\n",
        "for epoch in range(5):  # Toy example, training for 5 epochs\n",
        "    images, labels, decisions, actions, controls = generate_synthetic_data()\n",
        "\n",
        "    # Perception Training\n",
        "    preds = perception_net(images)\n",
        "    loss_perception = criterion(preds, labels)\n",
        "    optimizer_perception.zero_grad()\n",
        "    loss_perception.backward()\n",
        "    optimizer_perception.step()\n",
        "\n",
        "    # Decision Training\n",
        "    decision_preds = decision_net(decisions)\n",
        "    loss_decision = torch.mean((decision_preds - actions) ** 2)\n",
        "    optimizer_decision.zero_grad()\n",
        "    loss_decision.backward()\n",
        "    optimizer_decision.step()\n",
        "\n",
        "    # Control Training\n",
        "    control_preds = control_net(actions)\n",
        "    loss_control = torch.mean((control_preds - controls) ** 2)\n",
        "    optimizer_control.zero_grad()\n",
        "    loss_control.backward()\n",
        "    optimizer_control.step()\n",
        "\n",
        "    print(f\"Epoch {epoch+1}: Losses -> Perception: {loss_perception.item()}, Decision: {loss_decision.item()}, Control: {loss_control.item()}\")\n"
      ],
      "metadata": {
        "colab": {
          "base_uri": "https://localhost:8080/"
        },
        "id": "7NgOYpLoanKP",
        "outputId": "2e91aa6f-a2fa-4ed7-a5fb-57c9bfce512f"
      },
      "execution_count": null,
      "outputs": [
        {
          "output_type": "stream",
          "name": "stderr",
          "text": [
            "/usr/local/lib/python3.10/dist-packages/torchvision/models/_utils.py:208: UserWarning: The parameter 'pretrained' is deprecated since 0.13 and may be removed in the future, please use 'weights' instead.\n",
            "  warnings.warn(\n",
            "/usr/local/lib/python3.10/dist-packages/torchvision/models/_utils.py:223: UserWarning: Arguments other than a weight enum or `None` for 'weights' are deprecated since 0.13 and may be removed in the future. The current behavior is equivalent to passing `weights=ResNet18_Weights.IMAGENET1K_V1`. You can also use `weights=ResNet18_Weights.DEFAULT` to get the most up-to-date weights.\n",
            "  warnings.warn(msg)\n",
            "Downloading: \"https://download.pytorch.org/models/resnet18-f37072fd.pth\" to /root/.cache/torch/hub/checkpoints/resnet18-f37072fd.pth\n",
            "100%|██████████| 44.7M/44.7M [00:00<00:00, 86.2MB/s]\n"
          ]
        },
        {
          "output_type": "stream",
          "name": "stdout",
          "text": [
            "Epoch 1: Losses -> Perception: 1.4048140048980713, Decision: 0.3863893151283264, Control: 0.23576077818870544\n",
            "Epoch 2: Losses -> Perception: 1.141972541809082, Decision: 0.32080045342445374, Control: 0.23125159740447998\n",
            "Epoch 3: Losses -> Perception: 1.0794557332992554, Decision: 0.34922540187835693, Control: 0.22460663318634033\n",
            "Epoch 4: Losses -> Perception: 1.2529215812683105, Decision: 0.35754597187042236, Control: 0.23803827166557312\n",
            "Epoch 5: Losses -> Perception: 1.7396715879440308, Decision: 0.28207042813301086, Control: 0.2812086343765259\n"
          ]
        }
      ]
    },
    {
      "cell_type": "code",
      "source": [
        "# version 3: with control and planning"
      ],
      "metadata": {
        "id": "_8KuOIMNmQXS"
      },
      "execution_count": null,
      "outputs": []
    },
    {
      "cell_type": "code",
      "source": [
        "import torch\n",
        "import torch.nn as nn\n",
        "import torch.optim as optim\n",
        "import torchvision.transforms as transforms\n",
        "from torchvision.models import resnet18\n",
        "import numpy as np\n",
        "\n",
        "# Perception Module: Simple Convolutional Neural Network for object detection\n",
        "class PerceptionNet(nn.Module):\n",
        "    def __init__(self, num_classes=3):  # Example: Car, Pedestrian, Traffic Light\n",
        "        super(PerceptionNet, self).__init__()\n",
        "        self.backbone = resnet18(pretrained=True)\n",
        "        self.backbone.fc = nn.Linear(self.backbone.fc.in_features, num_classes)\n",
        "\n",
        "    def forward(self, x):\n",
        "        return self.backbone(x)\n",
        "\n",
        "# Prediction Module: Predict future trajectories of detected objects\n",
        "class PredictionNet(nn.Module):\n",
        "    def __init__(self, input_size=4, hidden_size=32, output_size=10):  # Example: Predict 10 future steps\n",
        "        super(PredictionNet, self).__init__()\n",
        "        self.fc = nn.Sequential(\n",
        "            nn.Linear(input_size, hidden_size),\n",
        "            nn.ReLU(),\n",
        "            nn.Linear(hidden_size, output_size)\n",
        "        )\n",
        "\n",
        "    def forward(self, x):\n",
        "        return self.fc(x)  # Outputs a sequence of future positions (simplified)\n",
        "\n",
        "# Planning Module: Generate a trajectory for the car\n",
        "class PlanningNet(nn.Module):\n",
        "    def __init__(self, input_size=10, hidden_size=32, output_size=5):  # Example: Generate 5 control waypoints\n",
        "        super(PlanningNet, self).__init__()\n",
        "        self.fc = nn.Sequential(\n",
        "            nn.Linear(input_size, hidden_size),\n",
        "            nn.ReLU(),\n",
        "            nn.Linear(hidden_size, output_size)\n",
        "        )\n",
        "\n",
        "    def forward(self, x):\n",
        "        return self.fc(x)  # Outputs planned waypoints (simplified)\n",
        "\n",
        "# Control Module: Simple PID-like controller\n",
        "class ControlNet(nn.Module):\n",
        "    def __init__(self, input_size=5, output_size=2):  # Example outputs: Steering, Throttle\n",
        "        super(ControlNet, self).__init__()\n",
        "        self.fc = nn.Sequential(\n",
        "            nn.Linear(input_size, 16),\n",
        "            nn.ReLU(),\n",
        "            nn.Linear(16, output_size)\n",
        "        )\n",
        "\n",
        "    def forward(self, x):\n",
        "        return self.fc(x)\n",
        "\n",
        "# Synthetic Training Data\n",
        "def generate_synthetic_data(batch_size=32):\n",
        "    images = torch.rand(batch_size, 3, 224, 224)  # Random image data\n",
        "    labels = torch.randint(0, 3, (batch_size,))  # Perception labels\n",
        "    object_states = torch.rand(batch_size, 4)  # Object states: [x, y, vx, vy]\n",
        "    predicted_trajectories = torch.rand(batch_size, 10)  # Predicted positions\n",
        "    planned_waypoints = torch.rand(batch_size, 5)  # Planned waypoints\n",
        "    controls = torch.rand(batch_size, 2)  # Steering and throttle\n",
        "    return images, labels, object_states, predicted_trajectories, planned_waypoints, controls\n",
        "\n",
        "# Initialize models\n",
        "perception_net = PerceptionNet()\n",
        "prediction_net = PredictionNet()\n",
        "planning_net = PlanningNet()\n",
        "control_net = ControlNet()\n",
        "\n",
        "# Optimizers and Losses\n",
        "criterion_classification = nn.CrossEntropyLoss()\n",
        "criterion_regression = nn.MSELoss()\n",
        "optimizer_perception = optim.Adam(perception_net.parameters(), lr=0.001)\n",
        "optimizer_prediction = optim.Adam(prediction_net.parameters(), lr=0.001)\n",
        "optimizer_planning = optim.Adam(planning_net.parameters(), lr=0.001)\n",
        "optimizer_control = optim.Adam(control_net.parameters(), lr=0.001)\n",
        "\n",
        "# Training Loop\n",
        "for epoch in range(5):  # Toy example, training for 5 epochs\n",
        "    images, labels, object_states, predicted_trajectories, planned_waypoints, controls = generate_synthetic_data()\n",
        "\n",
        "    # -----------------------\n",
        "    # Perception Training\n",
        "    # -----------------------\n",
        "    perception_net.train()\n",
        "    preds = perception_net(images)\n",
        "    loss_perception = criterion_classification(preds, labels)\n",
        "    optimizer_perception.zero_grad()\n",
        "    loss_perception.backward()\n",
        "    optimizer_perception.step()\n",
        "\n",
        "    # -----------------------\n",
        "    # Prediction Training\n",
        "    # -----------------------\n",
        "    prediction_net.train()\n",
        "    trajectory_preds = prediction_net(object_states)\n",
        "    loss_prediction = criterion_regression(trajectory_preds, predicted_trajectories)\n",
        "    optimizer_prediction.zero_grad()\n",
        "    loss_prediction.backward()\n",
        "    optimizer_prediction.step()\n",
        "\n",
        "    # Detach trajectory_preds to prevent gradients from flowing back to PredictionNet\n",
        "    trajectory_preds_detached = trajectory_preds.detach()\n",
        "\n",
        "    # -----------------------\n",
        "    # Planning Training\n",
        "    # -----------------------\n",
        "    planning_net.train()\n",
        "    planning_preds = planning_net(trajectory_preds_detached)\n",
        "    loss_planning = criterion_regression(planning_preds, planned_waypoints)\n",
        "    optimizer_planning.zero_grad()\n",
        "    loss_planning.backward()\n",
        "    optimizer_planning.step()\n",
        "\n",
        "    # Detach planning_preds to prevent gradients from flowing back to PlanningNet\n",
        "    planning_preds_detached = planning_preds.detach()\n",
        "\n",
        "    # -----------------------\n",
        "    # Control Training\n",
        "    # -----------------------\n",
        "    control_net.train()\n",
        "    control_preds = control_net(planning_preds_detached)\n",
        "    loss_control = criterion_regression(control_preds, controls)\n",
        "    optimizer_control.zero_grad()\n",
        "    loss_control.backward()\n",
        "    optimizer_control.step()\n",
        "\n",
        "    print(f\"Epoch {epoch+1}: Losses -> Perception: {loss_perception.item():.4f}, \"\n",
        "          f\"Prediction: {loss_prediction.item():.4f}, Planning: {loss_planning.item():.4f}, \"\n",
        "          f\"Control: {loss_control.item():.4f}\")\n"
      ],
      "metadata": {
        "colab": {
          "base_uri": "https://localhost:8080/"
        },
        "id": "4oG8R3w0jJJo",
        "outputId": "15f90a69-e1c3-40ac-da9d-455ec3192b24"
      },
      "execution_count": null,
      "outputs": [
        {
          "output_type": "stream",
          "name": "stdout",
          "text": [
            "Epoch 1: Losses -> Perception: 1.1259, Prediction: 0.3441, Planning: 0.2727, Control: 0.6104\n",
            "Epoch 2: Losses -> Perception: 1.2355, Prediction: 0.3691, Planning: 0.2864, Control: 0.5011\n",
            "Epoch 3: Losses -> Perception: 1.3155, Prediction: 0.3598, Planning: 0.3078, Control: 0.5565\n",
            "Epoch 4: Losses -> Perception: 1.2894, Prediction: 0.3650, Planning: 0.2952, Control: 0.3646\n",
            "Epoch 5: Losses -> Perception: 1.4151, Prediction: 0.3580, Planning: 0.2768, Control: 0.4983\n"
          ]
        }
      ]
    },
    {
      "cell_type": "code",
      "source": [
        "1"
      ],
      "metadata": {
        "id": "iIrnp5ykl39k",
        "colab": {
          "base_uri": "https://localhost:8080/"
        },
        "outputId": "dcbbc328-fc5c-475d-9bec-4cda7c7f5522"
      },
      "execution_count": 1,
      "outputs": [
        {
          "output_type": "execute_result",
          "data": {
            "text/plain": [
              "1"
            ]
          },
          "metadata": {},
          "execution_count": 1
        }
      ]
    },
    {
      "cell_type": "code",
      "source": [],
      "metadata": {
        "id": "K4bKSF2Jpkst"
      },
      "execution_count": null,
      "outputs": []
    }
  ]
}