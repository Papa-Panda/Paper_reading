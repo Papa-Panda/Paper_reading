{
  "nbformat": 4,
  "nbformat_minor": 0,
  "metadata": {
    "colab": {
      "provenance": [],
      "authorship_tag": "ABX9TyNiYbQ6HWu8YXWRNUdbt4qC",
      "include_colab_link": true
    },
    "kernelspec": {
      "name": "python3",
      "display_name": "Python 3"
    },
    "language_info": {
      "name": "python"
    }
  },
  "cells": [
    {
      "cell_type": "markdown",
      "metadata": {
        "id": "view-in-github",
        "colab_type": "text"
      },
      "source": [
        "<a href=\"https://colab.research.google.com/github/Papa-Panda/Paper_reading/blob/main/toy_self_driving.ipynb\" target=\"_parent\"><img src=\"https://colab.research.google.com/assets/colab-badge.svg\" alt=\"Open In Colab\"/></a>"
      ]
    },
    {
      "cell_type": "code",
      "execution_count": null,
      "metadata": {
        "id": "GgYFjQcEaAoC"
      },
      "outputs": [],
      "source": [
        "import numpy as np\n",
        "import tensorflow as tf\n",
        "from tensorflow.keras import layers, models\n",
        "import matplotlib.pyplot as plt\n",
        "\n",
        "# Perception: Object Detection Model\n",
        "def build_object_detection_model(input_shape):\n",
        "    model = models.Sequential([\n",
        "        layers.Conv2D(16, (3, 3), activation='relu', input_shape=input_shape),\n",
        "        layers.MaxPooling2D((2, 2)),\n",
        "        layers.Conv2D(32, (3, 3), activation='relu'),\n",
        "        layers.MaxPooling2D((2, 2)),\n",
        "        layers.Flatten(),\n",
        "        layers.Dense(64, activation='relu'),\n",
        "        layers.Dense(10, activation='softmax')  # 10 classes for objects\n",
        "    ])\n",
        "    model.compile(optimizer='adam', loss='categorical_crossentropy', metrics=['accuracy'])\n",
        "    return model\n",
        "\n",
        "# Prediction: Trajectory Prediction Model\n",
        "def build_trajectory_prediction_model():\n",
        "    model = models.Sequential([\n",
        "        layers.Dense(64, activation='relu', input_shape=(5,)),  # 5 inputs (e.g., position, velocity)\n",
        "        layers.Dense(128, activation='relu'),\n",
        "        layers.Dense(2)  # Outputs: future x, y coordinates\n",
        "    ])\n",
        "    model.compile(optimizer='adam', loss='mse')\n",
        "    return model\n",
        "\n",
        "# Planning: Path Planning Model\n",
        "def build_path_planning_model():\n",
        "    model = models.Sequential([\n",
        "        layers.LSTM(64, return_sequences=True, input_shape=(10, 2)),  # Sequence of waypoints\n",
        "        layers.LSTM(64),\n",
        "        layers.Dense(10)  # Output: 10 control signals\n",
        "    ])\n",
        "    model.compile(optimizer='adam', loss='mse')\n",
        "    return model\n",
        "\n",
        "# Create toy datasets for each model\n",
        "def create_toy_data():\n",
        "    x_perception = np.random.rand(100, 64, 64, 3)  # 100 images of 64x64 with 3 channels\n",
        "    y_perception = tf.keras.utils.to_categorical(np.random.randint(0, 10, 100), 10)\n",
        "    x_prediction = np.random.rand(100, 5)  # 100 samples of 5 features\n",
        "    y_prediction = np.random.rand(100, 2)  # 100 samples of 2 outputs (x, y)\n",
        "    x_planning = np.random.rand(100, 10, 2)  # 100 sequences of 10 waypoints with 2D coords\n",
        "    y_planning = np.random.rand(100, 10)  # 100 sequences of control signals\n",
        "    return (x_perception, y_perception), (x_prediction, y_prediction), (x_planning, y_planning)\n",
        "\n",
        "# Build and train the models\n",
        "(x_perception, y_perception), (x_prediction, y_prediction), (x_planning, y_planning) = create_toy_data()\n",
        "\n",
        "object_detection_model = build_object_detection_model((64, 64, 3))\n",
        "object_detection_model.fit(x_perception, y_perception, epochs=5, batch_size=10)\n",
        "\n",
        "trajectory_prediction_model = build_trajectory_prediction_model()\n",
        "trajectory_prediction_model.fit(x_prediction, y_prediction, epochs=5, batch_size=10)\n",
        "\n",
        "path_planning_model = build_path_planning_model()\n",
        "path_planning_model.fit(x_planning, y_planning, epochs=5, batch_size=10)\n",
        "\n",
        "# Example pipeline integration\n",
        "def autonomous_pipeline(image, vehicle_state, waypoints):\n",
        "    detected_objects = object_detection_model.predict(np.expand_dims(image, axis=0))\n",
        "    predicted_trajectory = trajectory_prediction_model.predict(vehicle_state)\n",
        "    planned_path = path_planning_model.predict(np.expand_dims(waypoints, axis=0))\n",
        "    return detected_objects, predicted_trajectory, planned_path\n",
        "\n",
        "# Test the pipeline\n",
        "test_image = np.random.rand(64, 64, 3)\n",
        "test_vehicle_state = np.random.rand(1, 5)\n",
        "test_waypoints = np.random.rand(1, 10, 2)\n",
        "detected_objects, predicted_trajectory, planned_path = autonomous_pipeline(test_image, test_vehicle_state, test_waypoints)\n",
        "\n",
        "print(\"Detected Objects:\", detected_objects)\n",
        "print(\"Predicted Trajectory:\", predicted_trajectory)\n",
        "print(\"Planned Path:\", planned_path)\n"
      ]
    },
    {
      "cell_type": "code",
      "source": [],
      "metadata": {
        "id": "_0jR_e8NajZg"
      },
      "execution_count": null,
      "outputs": []
    },
    {
      "cell_type": "code",
      "source": [],
      "metadata": {
        "id": "7NgOYpLoanKP"
      },
      "execution_count": null,
      "outputs": []
    }
  ]
}