{
  "nbformat": 4,
  "nbformat_minor": 0,
  "metadata": {
    "colab": {
      "provenance": [],
      "authorship_tag": "ABX9TyMIbeOiwoq+WJ/o0D/H6Ybb",
      "include_colab_link": true
    },
    "kernelspec": {
      "name": "python3",
      "display_name": "Python 3"
    },
    "language_info": {
      "name": "python"
    }
  },
  "cells": [
    {
      "cell_type": "markdown",
      "metadata": {
        "id": "view-in-github",
        "colab_type": "text"
      },
      "source": [
        "<a href=\"https://colab.research.google.com/github/Papa-Panda/paper_reading/blob/main/%E5%8F%98%E5%88%86%E8%87%AA%E7%BC%96%E7%A0%81%E5%99%A8.ipynb\" target=\"_parent\"><img src=\"https://colab.research.google.com/assets/colab-badge.svg\" alt=\"Open In Colab\"/></a>"
      ]
    },
    {
      "cell_type": "code",
      "source": [
        "# 变分自编码器（一）\n",
        "# https://www.spaces.ac.cn/archives/5253"
      ],
      "metadata": {
        "id": "PfvmhqwRpNSQ"
      },
      "execution_count": null,
      "outputs": []
    },
    {
      "cell_type": "code",
      "execution_count": null,
      "metadata": {
        "id": "PTi4nlUtP7BO"
      },
      "outputs": [],
      "source": [
        "# 变分自编码器（二）：从贝叶斯观点出发\n",
        "# https://spaces.ac.cn/archives/5239"
      ]
    },
    {
      "cell_type": "code",
      "source": [
        "# 变分自编码器（三）：这样做为什么能成？\n",
        "# https://spaces.ac.cn/archives/5383"
      ],
      "metadata": {
        "id": "d8SXDh1hpRJa"
      },
      "execution_count": null,
      "outputs": []
    }
  ]
}