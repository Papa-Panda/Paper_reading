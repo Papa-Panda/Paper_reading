{
  "nbformat": 4,
  "nbformat_minor": 0,
  "metadata": {
    "colab": {
      "provenance": [],
      "authorship_tag": "ABX9TyOo6Fm92e3Uc+0n4RzAXVR3",
      "include_colab_link": true
    },
    "kernelspec": {
      "name": "python3",
      "display_name": "Python 3"
    },
    "language_info": {
      "name": "python"
    }
  },
  "cells": [
    {
      "cell_type": "markdown",
      "metadata": {
        "id": "view-in-github",
        "colab_type": "text"
      },
      "source": [
        "<a href=\"https://colab.research.google.com/github/Papa-Panda/Paper_reading/blob/main/%E5%8F%98%E5%88%86%E8%87%AA%E7%BC%96%E7%A0%81%E5%99%A8.ipynb\" target=\"_parent\"><img src=\"https://colab.research.google.com/assets/colab-badge.svg\" alt=\"Open In Colab\"/></a>"
      ]
    },
    {
      "cell_type": "code",
      "source": [
        "# 变分自编码器（一）\n",
        "# https://www.spaces.ac.cn/archives/5253"
      ],
      "metadata": {
        "id": "PfvmhqwRpNSQ"
      },
      "execution_count": null,
      "outputs": []
    },
    {
      "cell_type": "markdown",
      "source": [
        "Done: I have math to share"
      ],
      "metadata": {
        "id": "huZc0MleHtS-"
      }
    },
    {
      "cell_type": "code",
      "execution_count": null,
      "metadata": {
        "id": "PTi4nlUtP7BO"
      },
      "outputs": [],
      "source": [
        "# 变分自编码器（二）：从贝叶斯观点出发\n",
        "# https://spaces.ac.cn/archives/5343"
      ]
    },
    {
      "cell_type": "markdown",
      "source": [
        "Done: I have math to share"
      ],
      "metadata": {
        "id": "QYCANZ-dHwQQ"
      }
    },
    {
      "cell_type": "code",
      "source": [
        "# 变分自编码器（三）：这样做为什么能成？\n",
        "# https://spaces.ac.cn/archives/5383"
      ],
      "metadata": {
        "id": "d8SXDh1hpRJa"
      },
      "execution_count": null,
      "outputs": []
    },
    {
      "cell_type": "code",
      "source": [
        "# 变分自编码器（四）：一步到位的聚类方案\n",
        "# https://spaces.ac.cn/archives/5887"
      ],
      "metadata": {
        "id": "2IRROhRntJW9"
      },
      "execution_count": null,
      "outputs": []
    },
    {
      "cell_type": "code",
      "source": [
        "# TODO: add experiment"
      ],
      "metadata": {
        "id": "x1fa-klfIDdC"
      },
      "execution_count": null,
      "outputs": []
    },
    {
      "cell_type": "code",
      "source": [
        "# 变分自编码器（五）：VAE + BN = 更好的VAE\n",
        "# https://spaces.ac.cn/archives/7381"
      ],
      "metadata": {
        "id": "W3mjhhPZHjAY"
      },
      "execution_count": null,
      "outputs": []
    },
    {
      "cell_type": "code",
      "source": [
        "# TODO: add experiment"
      ],
      "metadata": {
        "id": "X-iCWPI2IBpr"
      },
      "execution_count": null,
      "outputs": []
    },
    {
      "cell_type": "code",
      "source": [
        "# 变分自编码器（六）：从几何视角来理解VAE的尝试\n",
        "# https://www.kexue.fm/archives/7725/comment-page-1?replyTo=25780"
      ],
      "metadata": {
        "id": "mDe1JkLYwi-2"
      },
      "execution_count": null,
      "outputs": []
    },
    {
      "cell_type": "code",
      "source": [
        "# 变分自编码器（七）：球面上的VAE（vMF-VAE）\n",
        "# https://kexue.fm/archives/8404"
      ],
      "metadata": {
        "id": "dn1guH2wAX7L"
      },
      "execution_count": null,
      "outputs": []
    },
    {
      "cell_type": "markdown",
      "source": [
        "其中第一项是重构项，第二项是KL散度项，在《变分自编码器（一）：原来是这么一回事》中我们就说过，这两项某种意义上是“对抗”的，KL散度项的存在，会加大解码器利用编码信息的难度，如果KL散度项为0，那么说明解码器完全没有利用到编码器的信息。\n",
        "\n"
      ],
      "metadata": {
        "id": "qX8VfpRXC3M-"
      }
    },
    {
      "cell_type": "code",
      "source": [],
      "metadata": {
        "id": "1UU6WN-6C3r6"
      },
      "execution_count": null,
      "outputs": []
    }
  ]
}