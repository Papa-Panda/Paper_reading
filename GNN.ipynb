{
  "nbformat": 4,
  "nbformat_minor": 0,
  "metadata": {
    "colab": {
      "provenance": [],
      "authorship_tag": "ABX9TyNItvWMRtuSWuAICOst4qyh",
      "include_colab_link": true
    },
    "kernelspec": {
      "name": "python3",
      "display_name": "Python 3"
    },
    "language_info": {
      "name": "python"
    }
  },
  "cells": [
    {
      "cell_type": "markdown",
      "metadata": {
        "id": "view-in-github",
        "colab_type": "text"
      },
      "source": [
        "<a href=\"https://colab.research.google.com/github/Papa-Panda/Paper_reading/blob/main/GNN.ipynb\" target=\"_parent\"><img src=\"https://colab.research.google.com/assets/colab-badge.svg\" alt=\"Open In Colab\"/></a>"
      ]
    },
    {
      "cell_type": "code",
      "source": [
        "#\n",
        "# Below is an example implementation of a simple Graph Neural Network (GNN) using PyTorch,\n",
        "# inspired by the ideas in \"A Gentle Introduction to Graph Neural Networks\".\n",
        "#\n",
        "# https://www.bilibili.com/video/BV1iT4y1d7zP/?spm_id_from=333.337.search-card.all.click&vd_source=83baba81780fd95e96c22e9346057527"
      ],
      "metadata": {
        "id": "Jm6B5bUnUKvy"
      },
      "execution_count": null,
      "outputs": []
    },
    {
      "cell_type": "code",
      "execution_count": 1,
      "metadata": {
        "colab": {
          "base_uri": "https://localhost:8080/"
        },
        "id": "jpZeEWxCUAUa",
        "outputId": "20a1191f-1c2a-41af-dd06-9076577f5f5f"
      },
      "outputs": [
        {
          "output_type": "stream",
          "name": "stdout",
          "text": [
            "Output node representations:\n",
            "tensor([[ 97.1879, -37.2893],\n",
            "        [ 91.6643, -32.8119],\n",
            "        [111.8865, -38.8511],\n",
            "        [ 62.0588, -20.8771],\n",
            "        [ 27.3404,  -8.8308],\n",
            "        [ 35.0437, -11.6627],\n",
            "        [ 31.9782, -10.6693],\n",
            "        [ 59.7893, -20.6988],\n",
            "        [ 97.2249, -33.6876],\n",
            "        [ 22.0759,  -7.5188],\n",
            "        [ 21.2678,  -7.2313],\n",
            "        [ 19.5109,  -5.7710],\n",
            "        [ 14.9175,  -5.5441],\n",
            "        [ 90.6638, -30.2042],\n",
            "        [ 35.1552, -12.4398],\n",
            "        [ 52.0130, -17.8774],\n",
            "        [ 10.4388,  -4.3482],\n",
            "        [ 17.3232,  -5.3005],\n",
            "        [ 22.9296,  -7.8783],\n",
            "        [ 30.0817,  -9.4191],\n",
            "        [ 26.7264,  -9.7209],\n",
            "        [ 21.6528,  -6.7003],\n",
            "        [ 37.4713, -12.8779],\n",
            "        [ 89.1182, -31.4153],\n",
            "        [ 17.2390,  -6.9914],\n",
            "        [ 46.6149, -21.8273],\n",
            "        [ 25.2817,  -9.4963],\n",
            "        [ 63.1515, -23.8775],\n",
            "        [ 34.5234, -12.6705],\n",
            "        [ 57.6430, -22.3724],\n",
            "        [ 59.9191, -21.0433],\n",
            "        [ 90.6966, -29.3623],\n",
            "        [120.4316, -49.1977],\n",
            "        [113.4555, -49.3645]], grad_fn=<AddmmBackward0>)\n"
          ]
        }
      ],
      "source": [
        "import torch\n",
        "import torch.nn as nn\n",
        "import torch.nn.functional as F\n",
        "import networkx as nx\n",
        "import numpy as np\n",
        "\n",
        "# Example graph (Adjacency matrix)\n",
        "def create_graph():\n",
        "    G = nx.karate_club_graph()\n",
        "    adj_matrix = nx.adjacency_matrix(G).todense()\n",
        "    return torch.tensor(adj_matrix, dtype=torch.float), G\n",
        "\n",
        "# Graph Neural Network\n",
        "class GCN(nn.Module):\n",
        "    def __init__(self, input_dim, hidden_dim, output_dim):\n",
        "        super(GCN, self).__init__()\n",
        "        self.layer1 = nn.Linear(input_dim, hidden_dim)\n",
        "        self.layer2 = nn.Linear(hidden_dim, output_dim)\n",
        "\n",
        "    def forward(self, x, adj):\n",
        "        # Layer 1: Input -> Hidden\n",
        "        x = torch.mm(adj, x)  # Graph convolution step\n",
        "        x = self.layer1(x)\n",
        "        x = F.relu(x)         # Activation\n",
        "\n",
        "        # Layer 2: Hidden -> Output\n",
        "        x = torch.mm(adj, x)  # Graph convolution step\n",
        "        x = self.layer2(x)\n",
        "        return x\n",
        "\n",
        "# Prepare the graph data\n",
        "adj, G = create_graph()\n",
        "n_nodes = adj.shape[0]\n",
        "input_dim = 5   # Number of features per node\n",
        "hidden_dim = 8\n",
        "output_dim = 2  # Number of classes\n",
        "\n",
        "# Generate random node features\n",
        "node_features = torch.rand((n_nodes, input_dim))\n",
        "\n",
        "# Initialize the model\n",
        "model = GCN(input_dim, hidden_dim, output_dim)\n",
        "\n",
        "# Forward pass\n",
        "output = model(node_features, adj)\n",
        "\n",
        "print(\"Output node representations:\")\n",
        "print(output)\n"
      ]
    },
    {
      "cell_type": "code",
      "source": [],
      "metadata": {
        "id": "zy4AnWZnUMBk"
      },
      "execution_count": null,
      "outputs": []
    }
  ]
}