{
  "nbformat": 4,
  "nbformat_minor": 0,
  "metadata": {
    "colab": {
      "provenance": [],
      "authorship_tag": "ABX9TyNxIIv3WpknxIxzfijANX+x",
      "include_colab_link": true
    },
    "kernelspec": {
      "name": "python3",
      "display_name": "Python 3"
    },
    "language_info": {
      "name": "python"
    }
  },
  "cells": [
    {
      "cell_type": "markdown",
      "metadata": {
        "id": "view-in-github",
        "colab_type": "text"
      },
      "source": [
        "<a href=\"https://colab.research.google.com/github/Papa-Panda/Paper_reading/blob/main/GNN.ipynb\" target=\"_parent\"><img src=\"https://colab.research.google.com/assets/colab-badge.svg\" alt=\"Open In Colab\"/></a>"
      ]
    },
    {
      "cell_type": "code",
      "source": [
        "\n",
        "Below is an example implementation of a simple Graph Neural Network (GNN) using PyTorch, inspired by the ideas in \"A Gentle Introduction to Graph Neural Networks\"."
      ],
      "metadata": {
        "id": "Jm6B5bUnUKvy"
      },
      "execution_count": null,
      "outputs": []
    },
    {
      "cell_type": "code",
      "execution_count": null,
      "metadata": {
        "id": "jpZeEWxCUAUa"
      },
      "outputs": [],
      "source": [
        "import torch\n",
        "import torch.nn as nn\n",
        "import torch.nn.functional as F\n",
        "import networkx as nx\n",
        "import numpy as np\n",
        "\n",
        "# Example graph (Adjacency matrix)\n",
        "def create_graph():\n",
        "    G = nx.karate_club_graph()\n",
        "    adj_matrix = nx.adjacency_matrix(G).todense()\n",
        "    return torch.tensor(adj_matrix, dtype=torch.float), G\n",
        "\n",
        "# Graph Neural Network\n",
        "class GCN(nn.Module):\n",
        "    def __init__(self, input_dim, hidden_dim, output_dim):\n",
        "        super(GCN, self).__init__()\n",
        "        self.layer1 = nn.Linear(input_dim, hidden_dim)\n",
        "        self.layer2 = nn.Linear(hidden_dim, output_dim)\n",
        "\n",
        "    def forward(self, x, adj):\n",
        "        # Layer 1: Input -> Hidden\n",
        "        x = torch.mm(adj, x)  # Graph convolution step\n",
        "        x = self.layer1(x)\n",
        "        x = F.relu(x)         # Activation\n",
        "\n",
        "        # Layer 2: Hidden -> Output\n",
        "        x = torch.mm(adj, x)  # Graph convolution step\n",
        "        x = self.layer2(x)\n",
        "        return x\n",
        "\n",
        "# Prepare the graph data\n",
        "adj, G = create_graph()\n",
        "n_nodes = adj.shape[0]\n",
        "input_dim = 5   # Number of features per node\n",
        "hidden_dim = 8\n",
        "output_dim = 2  # Number of classes\n",
        "\n",
        "# Generate random node features\n",
        "node_features = torch.rand((n_nodes, input_dim))\n",
        "\n",
        "# Initialize the model\n",
        "model = GCN(input_dim, hidden_dim, output_dim)\n",
        "\n",
        "# Forward pass\n",
        "output = model(node_features, adj)\n",
        "\n",
        "print(\"Output node representations:\")\n",
        "print(output)\n"
      ]
    },
    {
      "cell_type": "code",
      "source": [],
      "metadata": {
        "id": "zy4AnWZnUMBk"
      },
      "execution_count": null,
      "outputs": []
    }
  ]
}