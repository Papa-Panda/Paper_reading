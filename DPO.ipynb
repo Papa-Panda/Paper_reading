{
  "nbformat": 4,
  "nbformat_minor": 0,
  "metadata": {
    "colab": {
      "provenance": [],
      "authorship_tag": "ABX9TyO5x3N4R0pjWbO0AT7q+GKz",
      "include_colab_link": true
    },
    "kernelspec": {
      "name": "python3",
      "display_name": "Python 3"
    },
    "language_info": {
      "name": "python"
    }
  },
  "cells": [
    {
      "cell_type": "markdown",
      "metadata": {
        "id": "view-in-github",
        "colab_type": "text"
      },
      "source": [
        "<a href=\"https://colab.research.google.com/github/Papa-Panda/Paper_reading/blob/main/DPO.ipynb\" target=\"_parent\"><img src=\"https://colab.research.google.com/assets/colab-badge.svg\" alt=\"Open In Colab\"/></a>"
      ]
    },
    {
      "cell_type": "code",
      "source": [
        "# DPO 原理 https://blog.csdn.net/qq_27590277/article/details/142383849\n",
        "# chat-GPT: https://chatgpt.com/c/66f04b1b-14cc-800e-931e-0e333c2418f8"
      ],
      "metadata": {
        "id": "VM9FO03ulw4o"
      },
      "execution_count": 7,
      "outputs": []
    },
    {
      "cell_type": "code",
      "source": [
        "import torch\n",
        "import torch.nn as nn\n",
        "from torch.utils.data import Dataset, DataLoader\n",
        "from transformers import GPT2Tokenizer, GPT2LMHeadModel, AdamW\n",
        "import time\n",
        "\n",
        "# Load tokenizer and model\n",
        "tokenizer = GPT2Tokenizer.from_pretrained(\"gpt2\")\n",
        "\n",
        "# The error occurs because the GPT-2 tokenizer does not have a default padding token defined. To resolve this, you need to explicitly assign a pad_token.\n",
        "tokenizer.pad_token = tokenizer.eos_token\n",
        "\n",
        "model = GPT2LMHeadModel.from_pretrained(\"gpt2\")\n",
        "\n",
        "# Freeze GPT-2 parameters (optional, for efficiency)\n",
        "for param in model.transformer.parameters():\n",
        "    param.requires_grad = False\n",
        "\n",
        "class PreferenceModel(nn.Module):\n",
        "    def __init__(self, base_model):\n",
        "        super(PreferenceModel, self).__init__()\n",
        "        self.base_model = base_model\n",
        "        self.scoring_head = nn.Linear(self.base_model.config.hidden_size, 1)  # Output a score for preferences\n",
        "\n",
        "    def forward(self, input_ids, attention_mask=None):\n",
        "        # Enable hidden states output\n",
        "        outputs = self.base_model(input_ids, attention_mask=attention_mask, output_hidden_states=True)\n",
        "\n",
        "        # Get the last hidden state (second-to-last layer hidden states)\n",
        "        last_hidden_state = outputs.hidden_states[-1]\n",
        "        cls_embedding = last_hidden_state[:, 0, :]  # Use the [CLS] token embedding (first token)\n",
        "\n",
        "        # Pass through the scoring head\n",
        "        score = self.scoring_head(cls_embedding)\n",
        "        return score\n",
        "\n",
        "\n",
        "# Wrap GPT-2 with the preference model\n",
        "preference_model = PreferenceModel(model)\n",
        "\n",
        "# Define DPO loss function\n",
        "def dpo_loss(preferred_score, non_preferred_score):\n",
        "    return -torch.log(torch.sigmoid(preferred_score - non_preferred_score)).mean()\n",
        "\n",
        "# Create synthetic data for demonstration\n",
        "class PreferenceDataset(Dataset):\n",
        "    def __init__(self, tokenizer, prompts, preferred_responses, non_preferred_responses):\n",
        "        self.tokenizer = tokenizer\n",
        "        self.prompts = prompts\n",
        "        self.preferred_responses = preferred_responses\n",
        "        self.non_preferred_responses = non_preferred_responses\n",
        "\n",
        "    def __len__(self):\n",
        "        return len(self.prompts)\n",
        "\n",
        "    def __getitem__(self, idx):\n",
        "        prompt = self.prompts[idx]\n",
        "        preferred = self.preferred_responses[idx]\n",
        "        non_preferred = self.non_preferred_responses[idx]\n",
        "\n",
        "        preferred_input = self.tokenizer(\n",
        "            prompt + preferred,\n",
        "            return_tensors=\"pt\",\n",
        "            padding=\"max_length\",\n",
        "            max_length=50,\n",
        "            truncation=True,\n",
        "        )\n",
        "        non_preferred_input = self.tokenizer(\n",
        "            prompt + non_preferred,\n",
        "            return_tensors=\"pt\",\n",
        "            padding=\"max_length\",\n",
        "            max_length=50,\n",
        "            truncation=True,\n",
        "        )\n",
        "\n",
        "        return (\n",
        "            preferred_input[\"input_ids\"].squeeze(0),\n",
        "            preferred_input[\"attention_mask\"].squeeze(0),\n",
        "            non_preferred_input[\"input_ids\"].squeeze(0),\n",
        "            non_preferred_input[\"attention_mask\"].squeeze(0),\n",
        "        )\n",
        "\n",
        "# Example synthetic dataset\n",
        "prompts = [\"What is the capital of France?\", \"Tell me a joke.\", \"Explain gravity.\"]\n",
        "preferred_responses = [\" The capital of France is Paris.\", \" Why don't skeletons fight? They don't have the guts.\", \" Gravity is the force that attracts two bodies toward each other.\"]\n",
        "non_preferred_responses = [\" The capital is not available.\", \" I'm bad at jokes.\", \" It's magic.\"]\n",
        "\n",
        "dataset = PreferenceDataset(tokenizer, prompts, preferred_responses, non_preferred_responses)\n",
        "dataloader = DataLoader(dataset, batch_size=2, shuffle=True)\n",
        "\n",
        "# Optimizer\n",
        "optimizer = AdamW(preference_model.parameters(), lr=5e-5)\n",
        "\n",
        "# Training loop\n",
        "for epoch in range(5):\n",
        "    preference_model.train()\n",
        "    total_loss = 0\n",
        "    start_time = time.time()\n",
        "    for batch in dataloader:\n",
        "        preferred_input_ids, preferred_attention_mask, non_preferred_input_ids, non_preferred_attention_mask = [\n",
        "            b for b in batch\n",
        "        ]\n",
        "\n",
        "        # Forward pass\n",
        "        preferred_score = preference_model(preferred_input_ids, preferred_attention_mask)\n",
        "        non_preferred_score = preference_model(non_preferred_input_ids, non_preferred_attention_mask)\n",
        "\n",
        "        # Compute DPO loss\n",
        "        loss = dpo_loss(preferred_score, non_preferred_score)\n",
        "\n",
        "        # Backward pass and optimization\n",
        "        optimizer.zero_grad()\n",
        "        loss.backward()\n",
        "        optimizer.step()\n",
        "\n",
        "        total_loss += loss.item()\n",
        "\n",
        "    t = round( time.time() - start_time)\n",
        "    print(f\"Epoch {epoch + 1}, Loss: {total_loss:.4f}, takes {t} seconds\")"
      ],
      "metadata": {
        "colab": {
          "base_uri": "https://localhost:8080/"
        },
        "id": "rt07FlHhM226",
        "outputId": "eaa87727-fc1b-42a0-b285-2fb9a7fb94a9"
      },
      "execution_count": 11,
      "outputs": [
        {
          "output_type": "stream",
          "name": "stdout",
          "text": [
            "Epoch 1, Loss: 1.0369, takes 3 seconds\n",
            "Epoch 2, Loss: 10.7698, takes 3 seconds\n",
            "Epoch 3, Loss: 1.7340, takes 5 seconds\n",
            "Epoch 4, Loss: 4.8445, takes 2 seconds\n",
            "Epoch 5, Loss: 12.2094, takes 2 seconds\n"
          ]
        }
      ]
    },
    {
      "cell_type": "code",
      "source": [],
      "metadata": {
        "id": "AL64QZiyM3hc"
      },
      "execution_count": null,
      "outputs": []
    }
  ]
}