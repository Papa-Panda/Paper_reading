{
  "cells": [
    {
      "cell_type": "code",
      "execution_count": 2,
      "id": "278e6d3f",
      "metadata": {
        "execution": {
          "iopub.execute_input": "2023-08-18T07:05:01.545874Z",
          "iopub.status.busy": "2023-08-18T07:05:01.545147Z",
          "iopub.status.idle": "2023-08-18T07:05:02.992816Z",
          "shell.execute_reply": "2023-08-18T07:05:02.991719Z"
        },
        "origin_pos": 5,
        "tab": [
          "pytorch"
        ],
        "id": "278e6d3f"
      },
      "outputs": [],
      "source": [
        "import torch"
      ]
    },
    {
      "cell_type": "code",
      "execution_count": 3,
      "id": "b1700627",
      "metadata": {
        "execution": {
          "iopub.execute_input": "2023-08-18T07:05:02.997386Z",
          "iopub.status.busy": "2023-08-18T07:05:02.996970Z",
          "iopub.status.idle": "2023-08-18T07:05:03.007632Z",
          "shell.execute_reply": "2023-08-18T07:05:03.006483Z"
        },
        "origin_pos": 13,
        "tab": [
          "pytorch"
        ],
        "id": "b1700627",
        "outputId": "31e4da68-a79f-410f-aaeb-f9142f97de77",
        "colab": {
          "base_uri": "https://localhost:8080/"
        }
      },
      "outputs": [
        {
          "output_type": "execute_result",
          "data": {
            "text/plain": [
              "tensor([ 0,  1,  2,  3,  4,  5,  6,  7,  8,  9, 10, 11])"
            ]
          },
          "metadata": {},
          "execution_count": 3
        }
      ],
      "source": [
        "x = torch.arange(12)\n",
        "x"
      ]
    },
    {
      "cell_type": "code",
      "execution_count": 4,
      "id": "b86b6572",
      "metadata": {
        "execution": {
          "iopub.execute_input": "2023-08-18T07:05:03.011628Z",
          "iopub.status.busy": "2023-08-18T07:05:03.011110Z",
          "iopub.status.idle": "2023-08-18T07:05:03.017191Z",
          "shell.execute_reply": "2023-08-18T07:05:03.016193Z"
        },
        "origin_pos": 17,
        "tab": [
          "pytorch"
        ],
        "id": "b86b6572",
        "outputId": "556b5948-1f12-49fc-f273-4380b6efdaf0",
        "colab": {
          "base_uri": "https://localhost:8080/"
        }
      },
      "outputs": [
        {
          "output_type": "execute_result",
          "data": {
            "text/plain": [
              "torch.Size([12])"
            ]
          },
          "metadata": {},
          "execution_count": 4
        }
      ],
      "source": [
        "x.shape"
      ]
    },
    {
      "cell_type": "code",
      "execution_count": null,
      "id": "b8b69ca9",
      "metadata": {
        "execution": {
          "iopub.execute_input": "2023-08-18T07:05:03.020938Z",
          "iopub.status.busy": "2023-08-18T07:05:03.020483Z",
          "iopub.status.idle": "2023-08-18T07:05:03.026998Z",
          "shell.execute_reply": "2023-08-18T07:05:03.025752Z"
        },
        "origin_pos": 20,
        "tab": [
          "pytorch"
        ],
        "id": "b8b69ca9",
        "outputId": "e034f27f-32da-4717-c41c-82443df78303"
      },
      "outputs": [
        {
          "data": {
            "text/plain": [
              "12"
            ]
          },
          "execution_count": 4,
          "metadata": {},
          "output_type": "execute_result"
        }
      ],
      "source": [
        "x.numel()"
      ]
    },
    {
      "cell_type": "code",
      "execution_count": 5,
      "id": "0f294243",
      "metadata": {
        "execution": {
          "iopub.execute_input": "2023-08-18T07:05:03.031842Z",
          "iopub.status.busy": "2023-08-18T07:05:03.031448Z",
          "iopub.status.idle": "2023-08-18T07:05:03.039288Z",
          "shell.execute_reply": "2023-08-18T07:05:03.038227Z"
        },
        "origin_pos": 24,
        "tab": [
          "pytorch"
        ],
        "id": "0f294243",
        "outputId": "f14a8315-ed5a-4142-a7a2-dd64d259f0bd",
        "colab": {
          "base_uri": "https://localhost:8080/"
        }
      },
      "outputs": [
        {
          "output_type": "execute_result",
          "data": {
            "text/plain": [
              "tensor([[ 0,  1,  2,  3],\n",
              "        [ 4,  5,  6,  7],\n",
              "        [ 8,  9, 10, 11]])"
            ]
          },
          "metadata": {},
          "execution_count": 5
        }
      ],
      "source": [
        "X = x.reshape(3, 4)\n",
        "X"
      ]
    },
    {
      "cell_type": "code",
      "execution_count": 6,
      "id": "b23c3056",
      "metadata": {
        "execution": {
          "iopub.execute_input": "2023-08-18T07:05:03.044733Z",
          "iopub.status.busy": "2023-08-18T07:05:03.043866Z",
          "iopub.status.idle": "2023-08-18T07:05:03.052195Z",
          "shell.execute_reply": "2023-08-18T07:05:03.051146Z"
        },
        "origin_pos": 29,
        "tab": [
          "pytorch"
        ],
        "id": "b23c3056",
        "outputId": "6a32da41-7fec-4920-822d-1060c96b9b9a",
        "colab": {
          "base_uri": "https://localhost:8080/"
        }
      },
      "outputs": [
        {
          "output_type": "execute_result",
          "data": {
            "text/plain": [
              "tensor([[[0., 0., 0., 0.],\n",
              "         [0., 0., 0., 0.],\n",
              "         [0., 0., 0., 0.]],\n",
              "\n",
              "        [[0., 0., 0., 0.],\n",
              "         [0., 0., 0., 0.],\n",
              "         [0., 0., 0., 0.]]])"
            ]
          },
          "metadata": {},
          "execution_count": 6
        }
      ],
      "source": [
        "torch.zeros((2, 3, 4))"
      ]
    },
    {
      "cell_type": "code",
      "execution_count": 7,
      "id": "25981960",
      "metadata": {
        "execution": {
          "iopub.execute_input": "2023-08-18T07:05:03.057264Z",
          "iopub.status.busy": "2023-08-18T07:05:03.056578Z",
          "iopub.status.idle": "2023-08-18T07:05:03.064973Z",
          "shell.execute_reply": "2023-08-18T07:05:03.063853Z"
        },
        "origin_pos": 34,
        "tab": [
          "pytorch"
        ],
        "id": "25981960",
        "outputId": "44201640-3546-4ed3-e3df-84496f8ccf1b",
        "colab": {
          "base_uri": "https://localhost:8080/"
        }
      },
      "outputs": [
        {
          "output_type": "execute_result",
          "data": {
            "text/plain": [
              "tensor([[[1., 1., 1., 1.],\n",
              "         [1., 1., 1., 1.],\n",
              "         [1., 1., 1., 1.]],\n",
              "\n",
              "        [[1., 1., 1., 1.],\n",
              "         [1., 1., 1., 1.],\n",
              "         [1., 1., 1., 1.]]])"
            ]
          },
          "metadata": {},
          "execution_count": 7
        }
      ],
      "source": [
        "torch.ones((2, 3, 4))"
      ]
    },
    {
      "cell_type": "code",
      "execution_count": 8,
      "id": "2493f09a",
      "metadata": {
        "execution": {
          "iopub.execute_input": "2023-08-18T07:05:03.069946Z",
          "iopub.status.busy": "2023-08-18T07:05:03.069231Z",
          "iopub.status.idle": "2023-08-18T07:05:03.077304Z",
          "shell.execute_reply": "2023-08-18T07:05:03.076139Z"
        },
        "origin_pos": 39,
        "tab": [
          "pytorch"
        ],
        "id": "2493f09a",
        "outputId": "c81ff0cc-3b7a-4051-acb7-bae20417202b",
        "colab": {
          "base_uri": "https://localhost:8080/"
        }
      },
      "outputs": [
        {
          "output_type": "execute_result",
          "data": {
            "text/plain": [
              "tensor([[ 0.7342, -0.8287, -1.5154, -1.2130],\n",
              "        [ 0.1715,  0.3247,  1.3033, -0.8434],\n",
              "        [ 0.0366,  1.4006, -1.0736,  1.5515]])"
            ]
          },
          "metadata": {},
          "execution_count": 8
        }
      ],
      "source": [
        "torch.randn(3, 4)"
      ]
    },
    {
      "cell_type": "code",
      "execution_count": 9,
      "id": "708be494",
      "metadata": {
        "execution": {
          "iopub.execute_input": "2023-08-18T07:05:03.082360Z",
          "iopub.status.busy": "2023-08-18T07:05:03.081424Z",
          "iopub.status.idle": "2023-08-18T07:05:03.090148Z",
          "shell.execute_reply": "2023-08-18T07:05:03.088973Z"
        },
        "origin_pos": 44,
        "tab": [
          "pytorch"
        ],
        "id": "708be494",
        "outputId": "7d9e5744-871b-4820-c4d6-afa616760a58",
        "colab": {
          "base_uri": "https://localhost:8080/"
        }
      },
      "outputs": [
        {
          "output_type": "execute_result",
          "data": {
            "text/plain": [
              "tensor([[2, 1, 4, 3],\n",
              "        [1, 2, 3, 4],\n",
              "        [4, 3, 2, 1]])"
            ]
          },
          "metadata": {},
          "execution_count": 9
        }
      ],
      "source": [
        "torch.tensor([[2, 1, 4, 3], [1, 2, 3, 4], [4, 3, 2, 1]])"
      ]
    },
    {
      "cell_type": "markdown",
      "id": "561a2ec6",
      "metadata": {
        "origin_pos": 47,
        "id": "561a2ec6"
      },
      "source": [
        "## 运算符"
      ]
    },
    {
      "cell_type": "code",
      "execution_count": null,
      "id": "99b28553",
      "metadata": {
        "execution": {
          "iopub.execute_input": "2023-08-18T07:05:03.095504Z",
          "iopub.status.busy": "2023-08-18T07:05:03.094688Z",
          "iopub.status.idle": "2023-08-18T07:05:03.106084Z",
          "shell.execute_reply": "2023-08-18T07:05:03.104976Z"
        },
        "origin_pos": 49,
        "tab": [
          "pytorch"
        ],
        "id": "99b28553",
        "outputId": "cbf8634e-b1d6-4b4a-d954-5d9a2d4a3665"
      },
      "outputs": [
        {
          "data": {
            "text/plain": [
              "(tensor([ 3.,  4.,  6., 10.]),\n",
              " tensor([-1.,  0.,  2.,  6.]),\n",
              " tensor([ 2.,  4.,  8., 16.]),\n",
              " tensor([0.5000, 1.0000, 2.0000, 4.0000]),\n",
              " tensor([ 1.,  4., 16., 64.]))"
            ]
          },
          "execution_count": 10,
          "metadata": {},
          "output_type": "execute_result"
        }
      ],
      "source": [
        "x = torch.tensor([1.0, 2, 4, 8])\n",
        "y = torch.tensor([2, 2, 2, 2])\n",
        "x + y, x - y, x * y, x / y, x ** y  # **运算符是求幂运算"
      ]
    },
    {
      "cell_type": "code",
      "execution_count": 10,
      "id": "ef07c995",
      "metadata": {
        "execution": {
          "iopub.execute_input": "2023-08-18T07:05:03.110973Z",
          "iopub.status.busy": "2023-08-18T07:05:03.110221Z",
          "iopub.status.idle": "2023-08-18T07:05:03.120389Z",
          "shell.execute_reply": "2023-08-18T07:05:03.119471Z"
        },
        "origin_pos": 54,
        "tab": [
          "pytorch"
        ],
        "id": "ef07c995",
        "outputId": "8adf646b-fc70-4cca-a28c-2ca715577a5e",
        "colab": {
          "base_uri": "https://localhost:8080/"
        }
      },
      "outputs": [
        {
          "output_type": "execute_result",
          "data": {
            "text/plain": [
              "tensor([1.0000e+00, 2.7183e+00, 7.3891e+00, 2.0086e+01, 5.4598e+01, 1.4841e+02,\n",
              "        4.0343e+02, 1.0966e+03, 2.9810e+03, 8.1031e+03, 2.2026e+04, 5.9874e+04])"
            ]
          },
          "metadata": {},
          "execution_count": 10
        }
      ],
      "source": [
        "torch.exp(x)"
      ]
    },
    {
      "cell_type": "code",
      "execution_count": 11,
      "id": "a583b891",
      "metadata": {
        "execution": {
          "iopub.execute_input": "2023-08-18T07:05:03.125263Z",
          "iopub.status.busy": "2023-08-18T07:05:03.124477Z",
          "iopub.status.idle": "2023-08-18T07:05:03.136328Z",
          "shell.execute_reply": "2023-08-18T07:05:03.135199Z"
        },
        "origin_pos": 59,
        "tab": [
          "pytorch"
        ],
        "id": "a583b891",
        "outputId": "987e5cd4-6308-43b9-884b-ff135cbdae97",
        "colab": {
          "base_uri": "https://localhost:8080/"
        }
      },
      "outputs": [
        {
          "output_type": "execute_result",
          "data": {
            "text/plain": [
              "(tensor([[ 0.,  1.,  2.,  3.],\n",
              "         [ 4.,  5.,  6.,  7.],\n",
              "         [ 8.,  9., 10., 11.],\n",
              "         [ 2.,  1.,  4.,  3.],\n",
              "         [ 1.,  2.,  3.,  4.],\n",
              "         [ 4.,  3.,  2.,  1.]]),\n",
              " tensor([[ 0.,  1.,  2.,  3.,  2.,  1.,  4.,  3.],\n",
              "         [ 4.,  5.,  6.,  7.,  1.,  2.,  3.,  4.],\n",
              "         [ 8.,  9., 10., 11.,  4.,  3.,  2.,  1.]]))"
            ]
          },
          "metadata": {},
          "execution_count": 11
        }
      ],
      "source": [
        "X = torch.arange(12, dtype=torch.float32).reshape((3,4))\n",
        "Y = torch.tensor([[2.0, 1, 4, 3], [1, 2, 3, 4], [4, 3, 2, 1]])\n",
        "torch.cat((X, Y), dim=0), torch.cat((X, Y), dim=1)"
      ]
    },
    {
      "cell_type": "code",
      "execution_count": 12,
      "id": "6405ec63",
      "metadata": {
        "execution": {
          "iopub.execute_input": "2023-08-18T07:05:03.141449Z",
          "iopub.status.busy": "2023-08-18T07:05:03.140776Z",
          "iopub.status.idle": "2023-08-18T07:05:03.148692Z",
          "shell.execute_reply": "2023-08-18T07:05:03.147491Z"
        },
        "origin_pos": 63,
        "tab": [
          "pytorch"
        ],
        "id": "6405ec63",
        "outputId": "9c04a9a5-e27d-4761-cac1-89656347f44d",
        "colab": {
          "base_uri": "https://localhost:8080/"
        }
      },
      "outputs": [
        {
          "output_type": "execute_result",
          "data": {
            "text/plain": [
              "tensor([[False,  True, False,  True],\n",
              "        [False, False, False, False],\n",
              "        [False, False, False, False]])"
            ]
          },
          "metadata": {},
          "execution_count": 12
        }
      ],
      "source": [
        "X == Y"
      ]
    },
    {
      "cell_type": "markdown",
      "id": "ffab6a71",
      "metadata": {
        "origin_pos": 64,
        "id": "ffab6a71"
      },
      "source": [
        "[**对张量中的所有元素进行求和，会产生一个单元素张量。**]\n"
      ]
    },
    {
      "cell_type": "code",
      "execution_count": 13,
      "id": "a13cb291",
      "metadata": {
        "execution": {
          "iopub.execute_input": "2023-08-18T07:05:03.153907Z",
          "iopub.status.busy": "2023-08-18T07:05:03.152814Z",
          "iopub.status.idle": "2023-08-18T07:05:03.160277Z",
          "shell.execute_reply": "2023-08-18T07:05:03.159188Z"
        },
        "origin_pos": 65,
        "tab": [
          "pytorch"
        ],
        "id": "a13cb291",
        "outputId": "d7b2283c-f2c5-435b-a32b-ebafca0b0b7a",
        "colab": {
          "base_uri": "https://localhost:8080/"
        }
      },
      "outputs": [
        {
          "output_type": "execute_result",
          "data": {
            "text/plain": [
              "tensor(66.)"
            ]
          },
          "metadata": {},
          "execution_count": 13
        }
      ],
      "source": [
        "X.sum()"
      ]
    },
    {
      "cell_type": "markdown",
      "id": "e4420b99",
      "metadata": {
        "origin_pos": 67,
        "id": "e4420b99"
      },
      "source": [
        "## 广播机制"
      ]
    },
    {
      "cell_type": "code",
      "execution_count": 14,
      "id": "a1de79a2",
      "metadata": {
        "execution": {
          "iopub.execute_input": "2023-08-18T07:05:03.165305Z",
          "iopub.status.busy": "2023-08-18T07:05:03.164274Z",
          "iopub.status.idle": "2023-08-18T07:05:03.172771Z",
          "shell.execute_reply": "2023-08-18T07:05:03.171692Z"
        },
        "origin_pos": 69,
        "tab": [
          "pytorch"
        ],
        "id": "a1de79a2",
        "outputId": "915248c5-dad6-486d-fd7d-93567f37bc9f",
        "colab": {
          "base_uri": "https://localhost:8080/"
        }
      },
      "outputs": [
        {
          "output_type": "execute_result",
          "data": {
            "text/plain": [
              "(tensor([[0],\n",
              "         [1],\n",
              "         [2]]),\n",
              " tensor([[0, 1]]))"
            ]
          },
          "metadata": {},
          "execution_count": 14
        }
      ],
      "source": [
        "a = torch.arange(3).reshape((3, 1))\n",
        "b = torch.arange(2).reshape((1, 2))\n",
        "a, b"
      ]
    },
    {
      "cell_type": "markdown",
      "id": "e4f53984",
      "metadata": {
        "origin_pos": 72,
        "id": "e4f53984"
      },
      "source": [
        "由于`a`和`b`分别是$3\\times1$和$1\\times2$矩阵，如果让它们相加，它们的形状不匹配。\n",
        "我们将两个矩阵*广播*为一个更大的$3\\times2$矩阵，如下所示：矩阵`a`将复制列，\n",
        "矩阵`b`将复制行，然后再按元素相加。\n"
      ]
    },
    {
      "cell_type": "code",
      "execution_count": 15,
      "id": "4d8904b1",
      "metadata": {
        "execution": {
          "iopub.execute_input": "2023-08-18T07:05:03.177900Z",
          "iopub.status.busy": "2023-08-18T07:05:03.176935Z",
          "iopub.status.idle": "2023-08-18T07:05:03.184212Z",
          "shell.execute_reply": "2023-08-18T07:05:03.183156Z"
        },
        "origin_pos": 73,
        "tab": [
          "pytorch"
        ],
        "id": "4d8904b1",
        "outputId": "324e4ca8-5d4b-40cf-a572-d8e201922ee5",
        "colab": {
          "base_uri": "https://localhost:8080/"
        }
      },
      "outputs": [
        {
          "output_type": "execute_result",
          "data": {
            "text/plain": [
              "tensor([[0, 1],\n",
              "        [1, 2],\n",
              "        [2, 3]])"
            ]
          },
          "metadata": {},
          "execution_count": 15
        }
      ],
      "source": [
        "a + b"
      ]
    },
    {
      "cell_type": "markdown",
      "id": "68b62722",
      "metadata": {
        "origin_pos": 74,
        "id": "68b62722"
      },
      "source": [
        "## 索引和切片"
      ]
    },
    {
      "cell_type": "code",
      "execution_count": 16,
      "id": "b62b00c7",
      "metadata": {
        "execution": {
          "iopub.execute_input": "2023-08-18T07:05:03.189786Z",
          "iopub.status.busy": "2023-08-18T07:05:03.188961Z",
          "iopub.status.idle": "2023-08-18T07:05:03.197712Z",
          "shell.execute_reply": "2023-08-18T07:05:03.196559Z"
        },
        "origin_pos": 75,
        "tab": [
          "pytorch"
        ],
        "id": "b62b00c7",
        "outputId": "100408f0-e941-48f1-9e2a-c4430b1f8ee8",
        "colab": {
          "base_uri": "https://localhost:8080/"
        }
      },
      "outputs": [
        {
          "output_type": "execute_result",
          "data": {
            "text/plain": [
              "(tensor([ 8.,  9., 10., 11.]),\n",
              " tensor([[ 4.,  5.,  6.,  7.],\n",
              "         [ 8.,  9., 10., 11.]]))"
            ]
          },
          "metadata": {},
          "execution_count": 16
        }
      ],
      "source": [
        "X[-1], X[1:3]"
      ]
    },
    {
      "cell_type": "code",
      "execution_count": null,
      "id": "56a8261a",
      "metadata": {
        "execution": {
          "iopub.execute_input": "2023-08-18T07:05:03.203157Z",
          "iopub.status.busy": "2023-08-18T07:05:03.202390Z",
          "iopub.status.idle": "2023-08-18T07:05:03.210176Z",
          "shell.execute_reply": "2023-08-18T07:05:03.209097Z"
        },
        "origin_pos": 78,
        "tab": [
          "pytorch"
        ],
        "id": "56a8261a",
        "outputId": "3ad1074a-595a-46df-ba12-fada59f9d73e"
      },
      "outputs": [
        {
          "data": {
            "text/plain": [
              "tensor([[ 0.,  1.,  2.,  3.],\n",
              "        [ 4.,  5.,  9.,  7.],\n",
              "        [ 8.,  9., 10., 11.]])"
            ]
          },
          "execution_count": 18,
          "metadata": {},
          "output_type": "execute_result"
        }
      ],
      "source": [
        "X[1, 2] = 9\n",
        "X"
      ]
    },
    {
      "cell_type": "code",
      "execution_count": 17,
      "id": "bd48bae9",
      "metadata": {
        "execution": {
          "iopub.execute_input": "2023-08-18T07:05:03.214118Z",
          "iopub.status.busy": "2023-08-18T07:05:03.213430Z",
          "iopub.status.idle": "2023-08-18T07:05:03.221215Z",
          "shell.execute_reply": "2023-08-18T07:05:03.220084Z"
        },
        "origin_pos": 81,
        "tab": [
          "pytorch"
        ],
        "id": "bd48bae9",
        "outputId": "dec64020-7e3e-4214-d17e-1cf7a15fcc6b",
        "colab": {
          "base_uri": "https://localhost:8080/"
        }
      },
      "outputs": [
        {
          "output_type": "execute_result",
          "data": {
            "text/plain": [
              "tensor([[12., 12., 12., 12.],\n",
              "        [12., 12., 12., 12.],\n",
              "        [ 8.,  9., 10., 11.]])"
            ]
          },
          "metadata": {},
          "execution_count": 17
        }
      ],
      "source": [
        "X[0:2, :] = 12\n",
        "X"
      ]
    },
    {
      "cell_type": "markdown",
      "id": "79660f82",
      "metadata": {
        "origin_pos": 83,
        "id": "79660f82"
      },
      "source": [
        "## 节省内存\n",
        "\n",
        "[**运行一些操作可能会导致为新结果分配内存**]。\n",
        "例如，如果我们用`Y = X + Y`，我们将取消引用`Y`指向的张量，而是指向新分配的内存处的张量。\n",
        "\n",
        "在下面的例子中，我们用Python的`id()`函数演示了这一点，\n",
        "它给我们提供了内存中引用对象的确切地址。\n",
        "运行`Y = Y + X`后，我们会发现`id(Y)`指向另一个位置。\n",
        "这是因为Python首先计算`Y + X`，为结果分配新的内存，然后使`Y`指向内存中的这个新位置。\n"
      ]
    },
    {
      "cell_type": "code",
      "execution_count": null,
      "id": "6bcd6d07",
      "metadata": {
        "execution": {
          "iopub.execute_input": "2023-08-18T07:05:03.225106Z",
          "iopub.status.busy": "2023-08-18T07:05:03.224353Z",
          "iopub.status.idle": "2023-08-18T07:05:03.231715Z",
          "shell.execute_reply": "2023-08-18T07:05:03.230626Z"
        },
        "origin_pos": 84,
        "tab": [
          "pytorch"
        ],
        "id": "6bcd6d07",
        "outputId": "a7cb76f2-f6ae-4d49-ed05-d54546673ca1"
      },
      "outputs": [
        {
          "data": {
            "text/plain": [
              "False"
            ]
          },
          "execution_count": 20,
          "metadata": {},
          "output_type": "execute_result"
        }
      ],
      "source": [
        "before = id(Y)\n",
        "Y = Y + X\n",
        "id(Y) == before"
      ]
    },
    {
      "cell_type": "markdown",
      "id": "fdb5a8e4",
      "metadata": {
        "origin_pos": 85,
        "id": "fdb5a8e4"
      },
      "source": [
        "这可能是不可取的，原因有两个：\n",
        "\n",
        "1. 首先，我们不想总是不必要地分配内存。在机器学习中，我们可能有数百兆的参数，并且在一秒内多次更新所有参数。通常情况下，我们希望原地执行这些更新；\n",
        "2. 如果我们不原地更新，其他引用仍然会指向旧的内存位置，这样我们的某些代码可能会无意中引用旧的参数。\n"
      ]
    },
    {
      "cell_type": "markdown",
      "id": "47e2e97c",
      "metadata": {
        "origin_pos": 86,
        "tab": [
          "pytorch"
        ],
        "id": "47e2e97c"
      },
      "source": [
        "幸运的是，(**执行原地操作**)非常简单。\n",
        "我们可以使用切片表示法将操作的结果分配给先前分配的数组，例如`Y[:] = <expression>`。\n",
        "为了说明这一点，我们首先创建一个新的矩阵`Z`，其形状与另一个`Y`相同，\n",
        "使用`zeros_like`来分配一个全$0$的块。\n"
      ]
    },
    {
      "cell_type": "code",
      "execution_count": 18,
      "id": "13b7fdf6",
      "metadata": {
        "execution": {
          "iopub.execute_input": "2023-08-18T07:05:03.236933Z",
          "iopub.status.busy": "2023-08-18T07:05:03.236016Z",
          "iopub.status.idle": "2023-08-18T07:05:03.243252Z",
          "shell.execute_reply": "2023-08-18T07:05:03.242153Z"
        },
        "origin_pos": 89,
        "tab": [
          "pytorch"
        ],
        "id": "13b7fdf6",
        "outputId": "c05d7dc3-557e-4f9f-cfc9-21966d63cc0c",
        "colab": {
          "base_uri": "https://localhost:8080/"
        }
      },
      "outputs": [
        {
          "output_type": "stream",
          "name": "stdout",
          "text": [
            "id(Z): 132575374411232\n",
            "id(Z): 132575374411232\n"
          ]
        }
      ],
      "source": [
        "Z = torch.zeros_like(Y)\n",
        "print('id(Z):', id(Z))\n",
        "Z[:] = X + Y\n",
        "print('id(Z):', id(Z))"
      ]
    },
    {
      "cell_type": "markdown",
      "id": "36a38425",
      "metadata": {
        "origin_pos": 92,
        "tab": [
          "pytorch"
        ],
        "id": "36a38425"
      },
      "source": [
        "[**如果在后续计算中没有重复使用`X`，\n",
        "我们也可以使用`X[:] = X + Y`或`X += Y`来减少操作的内存开销。**]\n"
      ]
    },
    {
      "cell_type": "code",
      "execution_count": 19,
      "id": "c8a97d75",
      "metadata": {
        "execution": {
          "iopub.execute_input": "2023-08-18T07:05:03.248290Z",
          "iopub.status.busy": "2023-08-18T07:05:03.247521Z",
          "iopub.status.idle": "2023-08-18T07:05:03.255046Z",
          "shell.execute_reply": "2023-08-18T07:05:03.253935Z"
        },
        "origin_pos": 94,
        "tab": [
          "pytorch"
        ],
        "id": "c8a97d75",
        "outputId": "6e0a8281-a3d5-419f-961b-599d3ac88fad",
        "colab": {
          "base_uri": "https://localhost:8080/"
        }
      },
      "outputs": [
        {
          "output_type": "execute_result",
          "data": {
            "text/plain": [
              "True"
            ]
          },
          "metadata": {},
          "execution_count": 19
        }
      ],
      "source": [
        "before = id(X)\n",
        "X += Y\n",
        "id(X) == before"
      ]
    },
    {
      "cell_type": "markdown",
      "id": "3185bd60",
      "metadata": {
        "origin_pos": 96,
        "id": "3185bd60"
      },
      "source": [
        "## 转换为其他Python对象\n"
      ]
    },
    {
      "cell_type": "markdown",
      "id": "d871a6fa",
      "metadata": {
        "origin_pos": 98,
        "tab": [
          "pytorch"
        ],
        "id": "d871a6fa"
      },
      "source": [
        "将深度学习框架定义的张量[**转换为NumPy张量（`ndarray`）**]很容易，反之也同样容易。\n",
        "torch张量和numpy数组将共享它们的底层内存，就地操作更改一个张量也会同时更改另一个张量。\n"
      ]
    },
    {
      "cell_type": "code",
      "execution_count": 20,
      "id": "7386f580",
      "metadata": {
        "execution": {
          "iopub.execute_input": "2023-08-18T07:05:03.259655Z",
          "iopub.status.busy": "2023-08-18T07:05:03.259273Z",
          "iopub.status.idle": "2023-08-18T07:05:03.266501Z",
          "shell.execute_reply": "2023-08-18T07:05:03.265738Z"
        },
        "origin_pos": 100,
        "tab": [
          "pytorch"
        ],
        "id": "7386f580",
        "outputId": "4b09d1d5-1871-47aa-e5a8-bfa7970152d1",
        "colab": {
          "base_uri": "https://localhost:8080/"
        }
      },
      "outputs": [
        {
          "output_type": "execute_result",
          "data": {
            "text/plain": [
              "(numpy.ndarray, torch.Tensor)"
            ]
          },
          "metadata": {},
          "execution_count": 20
        }
      ],
      "source": [
        "A = X.numpy()\n",
        "B = torch.tensor(A)\n",
        "type(A), type(B)"
      ]
    },
    {
      "cell_type": "markdown",
      "id": "74f0ae4e",
      "metadata": {
        "origin_pos": 103,
        "id": "74f0ae4e"
      },
      "source": [
        "要(**将大小为1的张量转换为Python标量**)，我们可以调用`item`函数或Python的内置函数。\n"
      ]
    },
    {
      "cell_type": "code",
      "execution_count": 21,
      "id": "10a429bd",
      "metadata": {
        "execution": {
          "iopub.execute_input": "2023-08-18T07:05:03.270566Z",
          "iopub.status.busy": "2023-08-18T07:05:03.270102Z",
          "iopub.status.idle": "2023-08-18T07:05:03.276982Z",
          "shell.execute_reply": "2023-08-18T07:05:03.276051Z"
        },
        "origin_pos": 105,
        "tab": [
          "pytorch"
        ],
        "id": "10a429bd",
        "outputId": "e3c7f8fc-ee2f-4165-8a19-44b4dac5116d",
        "colab": {
          "base_uri": "https://localhost:8080/"
        }
      },
      "outputs": [
        {
          "output_type": "execute_result",
          "data": {
            "text/plain": [
              "(tensor([3.5000]), 3.5, 3.5, 3)"
            ]
          },
          "metadata": {},
          "execution_count": 21
        }
      ],
      "source": [
        "a = torch.tensor([3.5])\n",
        "a, a.item(), float(a), int(a)"
      ]
    },
    {
      "cell_type": "markdown",
      "id": "ed98db5b",
      "metadata": {
        "origin_pos": 108,
        "id": "ed98db5b"
      },
      "source": [
        "## 小结\n",
        "\n",
        "* 深度学习存储和操作数据的主要接口是张量（$n$维数组）。它提供了各种功能，包括基本数学运算、广播、索引、切片、内存节省和转换其他Python对象。\n",
        "\n",
        "## 练习\n",
        "\n",
        "1. 运行本节中的代码。将本节中的条件语句`X == Y`更改为`X < Y`或`X > Y`，然后看看你可以得到什么样的张量。\n",
        "1. 用其他形状（例如三维张量）替换广播机制中按元素操作的两个张量。结果是否与预期相同？\n"
      ]
    },
    {
      "cell_type": "markdown",
      "id": "161ce063",
      "metadata": {
        "origin_pos": 110,
        "tab": [
          "pytorch"
        ],
        "id": "161ce063"
      },
      "source": [
        "[Discussions](https://discuss.d2l.ai/t/1747)\n"
      ]
    }
  ],
  "metadata": {
    "kernelspec": {
      "display_name": "Python 3",
      "name": "python3"
    },
    "language_info": {
      "name": "python"
    },
    "required_libs": [],
    "colab": {
      "provenance": []
    }
  },
  "nbformat": 4,
  "nbformat_minor": 5
}