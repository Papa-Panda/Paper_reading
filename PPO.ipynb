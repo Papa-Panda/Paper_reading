{
  "nbformat": 4,
  "nbformat_minor": 0,
  "metadata": {
    "colab": {
      "provenance": [],
      "authorship_tag": "ABX9TyOPKAaiisBIhYpaVNSEkGbp",
      "include_colab_link": true
    },
    "kernelspec": {
      "name": "python3",
      "display_name": "Python 3"
    },
    "language_info": {
      "name": "python"
    }
  },
  "cells": [
    {
      "cell_type": "markdown",
      "metadata": {
        "id": "view-in-github",
        "colab_type": "text"
      },
      "source": [
        "<a href=\"https://colab.research.google.com/github/Papa-Panda/Paper_reading/blob/main/PPO.ipynb\" target=\"_parent\"><img src=\"https://colab.research.google.com/assets/colab-badge.svg\" alt=\"Open In Colab\"/></a>"
      ]
    },
    {
      "cell_type": "code",
      "execution_count": 2,
      "metadata": {
        "colab": {
          "base_uri": "https://localhost:8080/",
          "height": 265
        },
        "id": "UkBpyCnWZZAR",
        "outputId": "6795a015-b770-41a9-afaa-24a4de687312"
      },
      "outputs": [
        {
          "output_type": "stream",
          "name": "stderr",
          "text": [
            "/usr/local/lib/python3.10/dist-packages/transformers/optimization.py:591: FutureWarning: This implementation of AdamW is deprecated and will be removed in a future version. Use the PyTorch implementation torch.optim.AdamW instead, or set `no_deprecation_warning=True` to disable this warning\n",
            "  warnings.warn(\n"
          ]
        },
        {
          "output_type": "error",
          "ename": "RuntimeError",
          "evalue": "stack expects each tensor to be equal size, but got [7, 50257] at entry 0 and [5, 50257] at entry 1",
          "traceback": [
            "\u001b[0;31m---------------------------------------------------------------------------\u001b[0m",
            "\u001b[0;31mRuntimeError\u001b[0m                              Traceback (most recent call last)",
            "\u001b[0;32m<ipython-input-2-40cfc7d09938>\u001b[0m in \u001b[0;36m<cell line: 88>\u001b[0;34m()\u001b[0m\n\u001b[1;32m    110\u001b[0m \u001b[0;34m\u001b[0m\u001b[0m\n\u001b[1;32m    111\u001b[0m         \u001b[0;31m# Convert data to tensors\u001b[0m\u001b[0;34m\u001b[0m\u001b[0;34m\u001b[0m\u001b[0m\n\u001b[0;32m--> 112\u001b[0;31m         \u001b[0mold_logits\u001b[0m \u001b[0;34m=\u001b[0m \u001b[0mtorch\u001b[0m\u001b[0;34m.\u001b[0m\u001b[0mstack\u001b[0m\u001b[0;34m(\u001b[0m\u001b[0mold_logits\u001b[0m\u001b[0;34m)\u001b[0m\u001b[0;34m\u001b[0m\u001b[0;34m\u001b[0m\u001b[0m\n\u001b[0m\u001b[1;32m    113\u001b[0m         \u001b[0mactions\u001b[0m \u001b[0;34m=\u001b[0m \u001b[0mtorch\u001b[0m\u001b[0;34m.\u001b[0m\u001b[0mtensor\u001b[0m\u001b[0;34m(\u001b[0m\u001b[0mactions\u001b[0m\u001b[0;34m)\u001b[0m\u001b[0;34m\u001b[0m\u001b[0;34m\u001b[0m\u001b[0m\n\u001b[1;32m    114\u001b[0m         \u001b[0mrewards\u001b[0m \u001b[0;34m=\u001b[0m \u001b[0mtorch\u001b[0m\u001b[0;34m.\u001b[0m\u001b[0mtensor\u001b[0m\u001b[0;34m(\u001b[0m\u001b[0mrewards\u001b[0m\u001b[0;34m)\u001b[0m\u001b[0;34m\u001b[0m\u001b[0;34m\u001b[0m\u001b[0m\n",
            "\u001b[0;31mRuntimeError\u001b[0m: stack expects each tensor to be equal size, but got [7, 50257] at entry 0 and [5, 50257] at entry 1"
          ]
        }
      ],
      "source": [
        "import torch\n",
        "import torch.nn as nn\n",
        "from torch.utils.data import DataLoader\n",
        "from transformers import GPT2Tokenizer, GPT2LMHeadModel, AdamW\n",
        "import numpy as np\n",
        "\n",
        "# Set up the tokenizer and model\n",
        "tokenizer = GPT2Tokenizer.from_pretrained(\"gpt2\")\n",
        "tokenizer.pad_token = tokenizer.eos_token  # Define a pad token\n",
        "model = GPT2LMHeadModel.from_pretrained(\"gpt2\")\n",
        "\n",
        "# Define a policy model (identical to GPT-2 for PPO)\n",
        "class PolicyModel(nn.Module):\n",
        "    def __init__(self, base_model):\n",
        "        super(PolicyModel, self).__init__()\n",
        "        self.base_model = base_model\n",
        "\n",
        "    def forward(self, input_ids, attention_mask=None):\n",
        "        outputs = self.base_model(input_ids, attention_mask=attention_mask, return_dict=True)\n",
        "        logits = outputs.logits  # Model logits (next-token predictions)\n",
        "        return logits\n",
        "\n",
        "policy_model = PolicyModel(model)\n",
        "optimizer = AdamW(policy_model.parameters(), lr=5e-5)\n",
        "\n",
        "# Define synthetic reward function\n",
        "def compute_rewards(preferences, predictions):\n",
        "    \"\"\"\n",
        "    Compute synthetic rewards for PPO. For simplicity, this example assigns higher rewards\n",
        "    to predictions matching the preferred outputs.\n",
        "    \"\"\"\n",
        "    rewards = []\n",
        "    for pref, pred in zip(preferences, predictions):\n",
        "        # Reward is higher for matching preferred responses\n",
        "        reward = 1.0 if pref.strip() in pred.strip() else -1.0\n",
        "        rewards.append(reward)\n",
        "    return torch.tensor(rewards)\n",
        "\n",
        "# Define PPO loss function\n",
        "def ppo_loss(old_logits, new_logits, actions, advantages, epsilon=0.2):\n",
        "    \"\"\"\n",
        "    PPO loss with clipped surrogate objective.\n",
        "    - old_logits: logits from the previous policy.\n",
        "    - new_logits: logits from the updated policy.\n",
        "    - actions: actions (token indices) taken.\n",
        "    - advantages: computed advantages (rewards - baseline).\n",
        "    - epsilon: PPO clipping threshold.\n",
        "    \"\"\"\n",
        "    probs = torch.softmax(new_logits, dim=-1)\n",
        "    old_probs = torch.softmax(old_logits, dim=-1)\n",
        "\n",
        "    action_probs = probs.gather(-1, actions.unsqueeze(-1)).squeeze(-1)\n",
        "    old_action_probs = old_probs.gather(-1, actions.unsqueeze(-1)).squeeze(-1)\n",
        "\n",
        "    ratio = action_probs / old_action_probs\n",
        "    clipped_ratio = torch.clamp(ratio, 1 - epsilon, 1 + epsilon)\n",
        "\n",
        "    loss = -torch.min(ratio * advantages, clipped_ratio * advantages).mean()\n",
        "    return loss\n",
        "\n",
        "# Synthetic dataset\n",
        "prompts = [\"What is the capital of France?\", \"Tell me a joke.\", \"Explain gravity.\"]\n",
        "preferred_responses = [\"The capital of France is Paris.\", \"Why don't skeletons fight? They don't have the guts.\", \"Gravity is the force of attraction.\"]\n",
        "\n",
        "class PPOEnvironment:\n",
        "    def __init__(self, tokenizer, prompts, preferred_responses):\n",
        "        self.tokenizer = tokenizer\n",
        "        self.prompts = prompts\n",
        "        self.preferred_responses = preferred_responses\n",
        "\n",
        "    def step(self, model, prompt, preferred_response):\n",
        "        # Generate prediction\n",
        "        input_ids = self.tokenizer(prompt, return_tensors=\"pt\").input_ids\n",
        "        with torch.no_grad():\n",
        "            logits = model(input_ids).squeeze(0)\n",
        "        predicted_tokens = torch.argmax(logits, dim=-1)\n",
        "        predicted_text = self.tokenizer.decode(predicted_tokens)\n",
        "\n",
        "        # Compute reward\n",
        "        reward = 1.0 if preferred_response.strip() in predicted_text.strip() else -1.0\n",
        "        return predicted_text, reward\n",
        "\n",
        "environment = PPOEnvironment(tokenizer, prompts, preferred_responses)\n",
        "\n",
        "# PPO Training Loop\n",
        "epochs = 5\n",
        "batch_size = 2\n",
        "for epoch in range(epochs):\n",
        "    total_loss = 0\n",
        "    for batch_idx in range(0, len(prompts), batch_size):\n",
        "        # Prepare batch data\n",
        "        batch_prompts = prompts[batch_idx:batch_idx + batch_size]\n",
        "        batch_responses = preferred_responses[batch_idx:batch_idx + batch_size]\n",
        "\n",
        "        # Collect old logits and actions\n",
        "        old_logits = []\n",
        "        actions = []\n",
        "        rewards = []\n",
        "        for prompt, response in zip(batch_prompts, batch_responses):\n",
        "            input_ids = tokenizer(prompt, return_tensors=\"pt\", padding=True).input_ids\n",
        "            with torch.no_grad():\n",
        "                logits = policy_model(input_ids).squeeze(0)\n",
        "            predicted_tokens = torch.argmax(logits, dim=-1)\n",
        "            predicted_text = tokenizer.decode(predicted_tokens)\n",
        "\n",
        "            reward = compute_rewards([response], [predicted_text])\n",
        "            rewards.append(reward.item())\n",
        "            old_logits.append(logits)\n",
        "            actions.append(predicted_tokens[-1].item())  # Example: last token as action\n",
        "\n",
        "        # Convert data to tensors\n",
        "        old_logits = torch.stack(old_logits)\n",
        "        actions = torch.tensor(actions)\n",
        "        rewards = torch.tensor(rewards)\n",
        "\n",
        "        # Compute advantages (reward - baseline)\n",
        "        baseline = rewards.mean()  # Simple baseline\n",
        "        advantages = rewards - baseline\n",
        "\n",
        "        # Forward pass with new policy\n",
        "        optimizer.zero_grad()\n",
        "        for prompt in batch_prompts:\n",
        "            input_ids = tokenizer(prompt, return_tensors=\"pt\").input_ids\n",
        "            new_logits = policy_model(input_ids)\n",
        "\n",
        "        # Compute PPO loss\n",
        "        loss = ppo_loss(old_logits, new_logits, actions, advantages)\n",
        "        loss.backward()\n",
        "        optimizer.step()\n",
        "\n",
        "        total_loss += loss.item()\n",
        "\n",
        "    print(f\"Epoch {epoch + 1}, Loss: {total_loss:.4f}\")\n"
      ]
    },
    {
      "cell_type": "code",
      "source": [],
      "metadata": {
        "id": "ByH2eAVjZZfL"
      },
      "execution_count": null,
      "outputs": []
    }
  ]
}