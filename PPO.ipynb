{
  "nbformat": 4,
  "nbformat_minor": 0,
  "metadata": {
    "colab": {
      "provenance": [],
      "authorship_tag": "ABX9TyNNTeLlnAbnQWuQh8hpoXDf",
      "include_colab_link": true
    },
    "kernelspec": {
      "name": "python3",
      "display_name": "Python 3"
    },
    "language_info": {
      "name": "python"
    }
  },
  "cells": [
    {
      "cell_type": "markdown",
      "metadata": {
        "id": "view-in-github",
        "colab_type": "text"
      },
      "source": [
        "<a href=\"https://colab.research.google.com/github/Papa-Panda/Paper_reading/blob/main/PPO.ipynb\" target=\"_parent\"><img src=\"https://colab.research.google.com/assets/colab-badge.svg\" alt=\"Open In Colab\"/></a>"
      ]
    },
    {
      "cell_type": "code",
      "execution_count": 9,
      "metadata": {
        "colab": {
          "base_uri": "https://localhost:8080/"
        },
        "id": "UkBpyCnWZZAR",
        "outputId": "02573f26-f22b-4aca-e98c-eb7efd6bff59"
      },
      "outputs": [
        {
          "output_type": "stream",
          "name": "stderr",
          "text": [
            "The attention mask and the pad token id were not set. As a consequence, you may observe unexpected behavior. Please pass your input's `attention_mask` to obtain reliable results.\n",
            "Setting `pad_token_id` to `eos_token_id`:50256 for open-end generation.\n",
            "A decoder-only architecture is being used, but right-padding was detected! For correct generation results, please set `padding_side='left'` when initializing the tokenizer.\n",
            "The attention mask and the pad token id were not set. As a consequence, you may observe unexpected behavior. Please pass your input's `attention_mask` to obtain reliable results.\n",
            "Setting `pad_token_id` to `eos_token_id`:50256 for open-end generation.\n"
          ]
        },
        {
          "output_type": "stream",
          "name": "stdout",
          "text": [
            "Epoch 0, Loss: 1.4901161193847656e-08\n"
          ]
        },
        {
          "output_type": "stream",
          "name": "stderr",
          "text": [
            "The attention mask and the pad token id were not set. As a consequence, you may observe unexpected behavior. Please pass your input's `attention_mask` to obtain reliable results.\n",
            "Setting `pad_token_id` to `eos_token_id`:50256 for open-end generation.\n"
          ]
        },
        {
          "output_type": "stream",
          "name": "stdout",
          "text": [
            "Epoch 0, Loss: 2.1287373641598606e-08\n"
          ]
        },
        {
          "output_type": "stream",
          "name": "stderr",
          "text": [
            "The attention mask and the pad token id were not set. As a consequence, you may observe unexpected behavior. Please pass your input's `attention_mask` to obtain reliable results.\n",
            "Setting `pad_token_id` to `eos_token_id`:50256 for open-end generation.\n",
            "A decoder-only architecture is being used, but right-padding was detected! For correct generation results, please set `padding_side='left'` when initializing the tokenizer.\n"
          ]
        },
        {
          "output_type": "stream",
          "name": "stdout",
          "text": [
            "Epoch 1, Loss: 2.1287373641598606e-08\n"
          ]
        },
        {
          "output_type": "stream",
          "name": "stderr",
          "text": [
            "The attention mask and the pad token id were not set. As a consequence, you may observe unexpected behavior. Please pass your input's `attention_mask` to obtain reliable results.\n",
            "Setting `pad_token_id` to `eos_token_id`:50256 for open-end generation.\n",
            "A decoder-only architecture is being used, but right-padding was detected! For correct generation results, please set `padding_side='left'` when initializing the tokenizer.\n"
          ]
        },
        {
          "output_type": "stream",
          "name": "stdout",
          "text": [
            "Epoch 1, Loss: -0.0\n"
          ]
        },
        {
          "output_type": "stream",
          "name": "stderr",
          "text": [
            "The attention mask and the pad token id were not set. As a consequence, you may observe unexpected behavior. Please pass your input's `attention_mask` to obtain reliable results.\n",
            "Setting `pad_token_id` to `eos_token_id`:50256 for open-end generation.\n"
          ]
        },
        {
          "output_type": "stream",
          "name": "stdout",
          "text": [
            "Epoch 2, Loss: -0.0\n",
            "Epoch 2, Loss: 2.3416109939944363e-08\n",
            "Training complete!\n"
          ]
        }
      ],
      "source": [
        "import torch\n",
        "import torch.nn as nn\n",
        "import torch.optim as optim\n",
        "from torch.utils.data import Dataset, DataLoader\n",
        "from transformers import GPT2LMHeadModel, GPT2Tokenizer\n",
        "\n",
        "# Load GPT-2 model and tokenizer\n",
        "tokenizer = GPT2Tokenizer.from_pretrained(\"gpt2\")\n",
        "tokenizer.pad_token = tokenizer.eos_token\n",
        "model = GPT2LMHeadModel.from_pretrained(\"gpt2\")\n",
        "\n",
        "# Set model to train on CPU\n",
        "device = torch.device(\"cpu\")\n",
        "model.to(device)\n",
        "\n",
        "# PPO Parameters\n",
        "ppo_epochs = 4\n",
        "clip_epsilon = 0.2\n",
        "lr = 5e-5\n",
        "gamma = 0.99\n",
        "\n",
        "# Dataset for prompts and responses\n",
        "class PromptDataset(Dataset):\n",
        "    def __init__(self, prompts):\n",
        "        self.prompts = prompts\n",
        "\n",
        "    def __len__(self):\n",
        "        return len(self.prompts)\n",
        "\n",
        "    def __getitem__(self, idx):\n",
        "        return self.prompts[idx]\n",
        "\n",
        "# Example prompts\n",
        "prompts = [\n",
        "    \"What is the capital of France?\",\n",
        "    \"Explain the theory of relativity.\",\n",
        "    \"Why is the sky blue?\",\n",
        "    \"Tell me a joke about computers.\"\n",
        "]\n",
        "dataset = PromptDataset(prompts)\n",
        "dataloader = DataLoader(dataset, batch_size=2, shuffle=True)\n",
        "\n",
        "# Reward simulation\n",
        "def get_reward(response):\n",
        "    \"\"\"Simulated reward function.\"\"\"\n",
        "    if \"Paris\" in response:\n",
        "        return 1.0  # Example: reward for correct answer\n",
        "    elif \"joke\" in response:\n",
        "        return 0.5  # Reward for mentioning a joke\n",
        "    else:\n",
        "        return 0.1  # Default reward\n",
        "\n",
        "# PPO Training Loop\n",
        "optimizer = optim.Adam(model.parameters(), lr=lr)\n",
        "\n",
        "for epoch in range(3):  # Outer training loop\n",
        "    for batch in dataloader:\n",
        "        # Generate responses\n",
        "        batch = [prompt for prompt in batch]\n",
        "        inputs = tokenizer(batch, return_tensors=\"pt\", padding=True, truncation=True).to(device)\n",
        "        with torch.no_grad():\n",
        "            outputs = model.generate(input_ids=inputs[\"input_ids\"], max_length=50, num_return_sequences=1)\n",
        "\n",
        "        responses = [tokenizer.decode(output, skip_special_tokens=True) for output in outputs]\n",
        "\n",
        "        # Calculate rewards\n",
        "        rewards = torch.tensor([get_reward(response) for response in responses], dtype=torch.float32).to(device)\n",
        "\n",
        "        # Prepare for PPO\n",
        "        optimizer.zero_grad()\n",
        "        # old_logits = model(inputs[\"input_ids\"], attention_mask=inputs[\"attention_mask\"]).logits\n",
        "        # old_log_probs = torch.log_softmax(old_logits, dim=-1)\n",
        "        # old_log_probs = old_log_probs.gather(-1, inputs[\"input_ids\"].unsqueeze(-1)).squeeze(-1)\n",
        "\n",
        "        # Train with PPO\n",
        "        for _ in range(ppo_epochs):\n",
        "            # Recompute old logits and old log probs\n",
        "            with torch.no_grad():\n",
        "                old_logits = model(inputs[\"input_ids\"], attention_mask=inputs[\"attention_mask\"]).logits\n",
        "                old_log_probs = torch.log_softmax(old_logits, dim=-1)\n",
        "                old_log_probs = old_log_probs.gather(-1, inputs[\"input_ids\"].unsqueeze(-1)).squeeze(-1)\n",
        "\n",
        "            # Compute new logits and new log probs\n",
        "            new_logits = model(inputs[\"input_ids\"], attention_mask=inputs[\"attention_mask\"]).logits\n",
        "            new_log_probs = torch.log_softmax(new_logits, dim=-1)\n",
        "            new_log_probs = new_log_probs.gather(-1, inputs[\"input_ids\"].unsqueeze(-1)).squeeze(-1)\n",
        "\n",
        "            # Compute ratios\n",
        "            ratios = torch.exp(new_log_probs - old_log_probs)\n",
        "\n",
        "            # Expand advantages to match token-level shape\n",
        "            advantages = rewards - rewards.mean()  # Shape: [batch_size]\n",
        "            advantages = advantages.unsqueeze(-1)  # Shape: [batch_size, 1]\n",
        "\n",
        "            # PPO loss\n",
        "            surrogate1 = ratios * advantages\n",
        "            surrogate2 = torch.clamp(ratios, 1 - clip_epsilon, 1 + clip_epsilon) * advantages\n",
        "            loss = -torch.min(surrogate1, surrogate2).mean()\n",
        "\n",
        "            # Backward and optimize\n",
        "            optimizer.zero_grad()\n",
        "            loss.backward()\n",
        "            optimizer.step()\n",
        "\n",
        "        print(f\"Epoch {epoch}, Loss: {loss.item()}\")\n",
        "\n",
        "print(\"Training complete!\")"
      ]
    },
    {
      "cell_type": "code",
      "source": [],
      "metadata": {
        "id": "ByH2eAVjZZfL"
      },
      "execution_count": null,
      "outputs": []
    }
  ]
}