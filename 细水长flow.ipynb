{
  "nbformat": 4,
  "nbformat_minor": 0,
  "metadata": {
    "colab": {
      "provenance": [],
      "authorship_tag": "ABX9TyNEWCpZH7DZIry6DDw40DkW",
      "include_colab_link": true
    },
    "kernelspec": {
      "name": "python3",
      "display_name": "Python 3"
    },
    "language_info": {
      "name": "python"
    }
  },
  "cells": [
    {
      "cell_type": "markdown",
      "metadata": {
        "id": "view-in-github",
        "colab_type": "text"
      },
      "source": [
        "<a href=\"https://colab.research.google.com/github/Papa-Panda/Paper_reading/blob/main/%E7%BB%86%E6%B0%B4%E9%95%BFflow.ipynb\" target=\"_parent\"><img src=\"https://colab.research.google.com/assets/colab-badge.svg\" alt=\"Open In Colab\"/></a>"
      ]
    },
    {
      "cell_type": "code",
      "source": [
        "# 细水长flow之NICE：流模型的基本概念与实现\n",
        "# https://www.spaces.ac.cn/archives/5776"
      ],
      "metadata": {
        "id": "hS3mTXkJKB3q"
      },
      "execution_count": null,
      "outputs": []
    },
    {
      "cell_type": "code",
      "execution_count": null,
      "metadata": {
        "id": "1bflyzzgIaFu"
      },
      "outputs": [],
      "source": [
        "# 细水长flow之f-VAEs：Glow与VAEs的联姻\n",
        "# https://www.spaces.ac.cn/archives/5977"
      ]
    }
  ]
}