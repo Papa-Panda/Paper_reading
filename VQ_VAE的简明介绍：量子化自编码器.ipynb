{
  "nbformat": 4,
  "nbformat_minor": 0,
  "metadata": {
    "colab": {
      "provenance": [],
      "authorship_tag": "ABX9TyMX7MrG75Lg9D90rBU+UkJn",
      "include_colab_link": true
    },
    "kernelspec": {
      "name": "python3",
      "display_name": "Python 3"
    },
    "language_info": {
      "name": "python"
    }
  },
  "cells": [
    {
      "cell_type": "markdown",
      "metadata": {
        "id": "view-in-github",
        "colab_type": "text"
      },
      "source": [
        "<a href=\"https://colab.research.google.com/github/Papa-Panda/paper_reading/blob/main/VQ_VAE%E7%9A%84%E7%AE%80%E6%98%8E%E4%BB%8B%E7%BB%8D%EF%BC%9A%E9%87%8F%E5%AD%90%E5%8C%96%E8%87%AA%E7%BC%96%E7%A0%81%E5%99%A8.ipynb\" target=\"_parent\"><img src=\"https://colab.research.google.com/assets/colab-badge.svg\" alt=\"Open In Colab\"/></a>"
      ]
    },
    {
      "cell_type": "code",
      "execution_count": 1,
      "metadata": {
        "id": "4cuDwqLWyLS7"
      },
      "outputs": [],
      "source": [
        "# VQ-VAE的简明介绍：量子化自编码器\n",
        "# https://spaces.ac.cn/archives/6760#%E8%87%AA%E8%A1%8C%E8%AE%BE%E8%AE%A1%E6%A2%AF%E5%BA%A6"
      ]
    },
    {
      "cell_type": "code",
      "source": [],
      "metadata": {
        "id": "0CYC2PYMyTvC"
      },
      "execution_count": null,
      "outputs": []
    }
  ]
}