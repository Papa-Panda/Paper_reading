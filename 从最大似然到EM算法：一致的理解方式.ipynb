{
  "nbformat": 4,
  "nbformat_minor": 0,
  "metadata": {
    "colab": {
      "provenance": [],
      "authorship_tag": "ABX9TyPmfqixXKzEDgVGnu1m9s+a",
      "include_colab_link": true
    },
    "kernelspec": {
      "name": "python3",
      "display_name": "Python 3"
    },
    "language_info": {
      "name": "python"
    }
  },
  "cells": [
    {
      "cell_type": "markdown",
      "metadata": {
        "id": "view-in-github",
        "colab_type": "text"
      },
      "source": [
        "<a href=\"https://colab.research.google.com/github/Papa-Panda/paper_reading/blob/main/%E4%BB%8E%E6%9C%80%E5%A4%A7%E4%BC%BC%E7%84%B6%E5%88%B0EM%E7%AE%97%E6%B3%95%EF%BC%9A%E4%B8%80%E8%87%B4%E7%9A%84%E7%90%86%E8%A7%A3%E6%96%B9%E5%BC%8F.ipynb\" target=\"_parent\"><img src=\"https://colab.research.google.com/assets/colab-badge.svg\" alt=\"Open In Colab\"/></a>"
      ]
    },
    {
      "cell_type": "code",
      "execution_count": null,
      "metadata": {
        "id": "544ObyLapiSD"
      },
      "outputs": [],
      "source": [
        "# 从最大似然到EM算法：一致的理解方式\n",
        "# https://spaces.ac.cn/archives/5239"
      ]
    }
  ]
}