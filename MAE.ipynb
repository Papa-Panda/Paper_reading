{
  "cells": [
    {
      "cell_type": "markdown",
      "metadata": {
        "id": "view-in-github",
        "colab_type": "text"
      },
      "source": [
        "<a href=\"https://colab.research.google.com/github/Papa-Panda/Paper_reading/blob/main/MAE.ipynb\" target=\"_parent\"><img src=\"https://colab.research.google.com/assets/colab-badge.svg\" alt=\"Open In Colab\"/></a>"
      ]
    },
    {
      "cell_type": "code",
      "execution_count": null,
      "metadata": {
        "colab": {
          "base_uri": "https://localhost:8080/"
        },
        "id": "ZEicEqiQFeaH",
        "outputId": "d4a4a3e6-01bb-4904-e3bd-81a3e427dfa4"
      },
      "outputs": [
        {
          "name": "stdout",
          "output_type": "stream",
          "text": [
            "Downloading https://www.cs.toronto.edu/~kriz/cifar-10-python.tar.gz to ./data/cifar-10-python.tar.gz\n"
          ]
        },
        {
          "name": "stderr",
          "output_type": "stream",
          "text": [
            "100%|██████████| 170498071/170498071 [00:05<00:00, 30675519.22it/s]\n"
          ]
        },
        {
          "name": "stdout",
          "output_type": "stream",
          "text": [
            "Extracting ./data/cifar-10-python.tar.gz to ./data\n"
          ]
        }
      ],
      "source": [
        "import torch\n",
        "import torch.nn as nn\n",
        "import torch.optim as optim\n",
        "import torchvision\n",
        "import torchvision.transforms as transforms\n",
        "import numpy as np\n",
        "import matplotlib.pyplot as plt\n",
        "\n",
        "# Step 1: Load CIFAR-10 dataset\n",
        "transform = transforms.Compose([transforms.ToTensor(), transforms.Normalize((0.5,), (0.5,))])\n",
        "\n",
        "trainset = torchvision.datasets.CIFAR10(root='./data', train=True, download=True, transform=transform)\n",
        "trainloader = torch.utils.data.DataLoader(trainset, batch_size=64, shuffle=True)"
      ]
    },
    {
      "cell_type": "code",
      "execution_count": null,
      "metadata": {
        "id": "rGlTKlCnFiCF"
      },
      "outputs": [],
      "source": [
        "# Step 2: Define a simple autoencoder model\n",
        "class Autoencoder(nn.Module):\n",
        "    def __init__(self):\n",
        "        super(Autoencoder, self).__init__()\n",
        "        self.encoder = nn.Sequential(\n",
        "            nn.Conv2d(3, 64, kernel_size=4, stride=2, padding=1),  # 32x32 -> 16x16\n",
        "            nn.ReLU(),\n",
        "            nn.Conv2d(64, 128, kernel_size=4, stride=2, padding=1), # 16x16 -> 8x8\n",
        "            nn.ReLU(),\n",
        "            nn.Conv2d(128, 256, kernel_size=4, stride=2, padding=1), # 8x8 -> 4x4\n",
        "            nn.ReLU()\n",
        "        )\n",
        "        self.decoder = nn.Sequential(\n",
        "            nn.ConvTranspose2d(256, 128, kernel_size=4, stride=2, padding=1),  # 4x4 -> 8x8\n",
        "            nn.ReLU(),\n",
        "            nn.ConvTranspose2d(128, 64, kernel_size=4, stride=2, padding=1),   # 8x8 -> 16x16\n",
        "            nn.ReLU(),\n",
        "            nn.ConvTranspose2d(64, 3, kernel_size=4, stride=2, padding=1),     # 16x16 -> 32x32\n",
        "            nn.Tanh()\n",
        "        )\n",
        "\n",
        "    def forward(self, x):\n",
        "        x = self.encoder(x)\n",
        "        x = self.decoder(x)\n",
        "        return x"
      ]
    },
    {
      "cell_type": "code",
      "execution_count": null,
      "metadata": {
        "id": "6qZeoZeRFk9I"
      },
      "outputs": [],
      "source": [
        "# Step 3: Define Masking Function (Random patches)\n",
        "def mask_image(x, mask_ratio=0.75):\n",
        "    N, C, H, W = x.shape\n",
        "    num_patches = int(mask_ratio * H * W)\n",
        "    mask = torch.ones((N, 1, H, W), device=x.device)\n",
        "\n",
        "    for i in range(N):\n",
        "        indices = np.random.choice(H * W, num_patches, replace=False)\n",
        "        mask.view(N, -1)[i, indices] = 0\n",
        "\n",
        "    x_masked = x * mask\n",
        "    return x_masked, mask\n",
        "\n",
        "# Step 4: Define Loss Function (MAE for masked patches)\n",
        "def masked_loss(reconstructed, original, mask):\n",
        "    loss = (torch.abs(reconstructed - original) * mask).mean()\n",
        "    return loss\n"
      ]
    },
    {
      "cell_type": "code",
      "execution_count": null,
      "metadata": {
        "colab": {
          "background_save": true,
          "base_uri": "https://localhost:8080/"
        },
        "id": "_zOXD7SAFpVc",
        "outputId": "f2019ae9-598a-4d4c-b65c-8635d95bc6cd"
      },
      "outputs": [
        {
          "name": "stdout",
          "output_type": "stream",
          "text": [
            "Epoch [1/10], sample 99, Loss:0.007598922042476247\n",
            "Epoch [1/10], sample 199, Loss:0.012575233669575218\n",
            "Epoch [1/10], sample 299, Loss:0.01686519249806852\n",
            "Epoch [1/10], sample 399, Loss:0.02080404895888951\n",
            "Epoch [1/10], sample 499, Loss:0.02442239278979847\n",
            "Epoch [1/10], sample 599, Loss:0.02779328705423781\n",
            "Epoch [1/10], sample 699, Loss:0.030929499408206367\n",
            "Epoch [1/10], Loss: 0.03338114223669252\n",
            "Epoch [2/10], sample 99, Loss:0.002878128674805469\n",
            "Epoch [2/10], sample 199, Loss:0.005685703221546567\n",
            "Epoch [2/10], sample 299, Loss:0.008396768744777688\n",
            "Epoch [2/10], sample 399, Loss:0.01101355829878765\n",
            "Epoch [2/10], sample 499, Loss:0.01354123528122597\n",
            "Epoch [2/10], sample 599, Loss:0.01601275556561206\n",
            "Epoch [2/10], sample 699, Loss:0.018402244402643514\n",
            "Epoch [2/10], Loss: 0.020328352173023364\n",
            "Epoch [3/10], sample 99, Loss:0.0022658261749178856\n",
            "Epoch [3/10], sample 199, Loss:0.004522526498569552\n",
            "Epoch [3/10], sample 299, Loss:0.006688167624499487\n",
            "Epoch [3/10], sample 399, Loss:0.00884198964051807\n",
            "Epoch [3/10], sample 499, Loss:0.01096227498906081\n",
            "Epoch [3/10], sample 599, Loss:0.013052820485285329\n",
            "Epoch [3/10], sample 699, Loss:0.015122666425021638\n",
            "Epoch [3/10], Loss: 0.016802520595986366\n",
            "Epoch [4/10], sample 99, Loss:0.002055039096985708\n",
            "Epoch [4/10], sample 199, Loss:0.00405422315987594\n",
            "Epoch [4/10], sample 299, Loss:0.006058613126597288\n",
            "Epoch [4/10], sample 399, Loss:0.008047220764010002\n",
            "Epoch [4/10], sample 499, Loss:0.010008768429812949\n",
            "Epoch [4/10], sample 599, Loss:0.011955630922656687\n",
            "Epoch [4/10], sample 699, Loss:0.013898555133396478\n",
            "Epoch [4/10], Loss: 0.015468448044403511\n",
            "Epoch [5/10], sample 99, Loss:0.0019086273660992876\n",
            "Epoch [5/10], sample 199, Loss:0.003809499073192439\n",
            "Epoch [5/10], sample 299, Loss:0.005690503599898666\n",
            "Epoch [5/10], sample 399, Loss:0.007565100052062889\n",
            "Epoch [5/10], sample 499, Loss:0.00943974728869927\n",
            "Epoch [5/10], sample 599, Loss:0.011278151851290327\n",
            "Epoch [5/10], sample 699, Loss:0.013099600045281984\n",
            "Epoch [5/10], Loss: 0.014632700189776585\n",
            "Epoch [6/10], sample 99, Loss:0.001845557234295265\n",
            "Epoch [6/10], sample 199, Loss:0.00364572141090851\n",
            "Epoch [6/10], sample 299, Loss:0.005424709190302492\n",
            "Epoch [6/10], sample 399, Loss:0.007199940711135984\n",
            "Epoch [6/10], sample 499, Loss:0.008986872556569327\n",
            "Epoch [6/10], sample 599, Loss:0.010750496450363828\n",
            "Epoch [6/10], sample 699, Loss:0.012516070894487297\n",
            "Epoch [6/10], Loss: 0.013945420475109764\n",
            "Epoch [7/10], sample 99, Loss:0.0017383963505611243\n",
            "Epoch [7/10], sample 199, Loss:0.003462816786278239\n",
            "Epoch [7/10], sample 299, Loss:0.005188298863037239\n",
            "Epoch [7/10], sample 399, Loss:0.00690349125091339\n",
            "Epoch [7/10], sample 499, Loss:0.008595204476238516\n",
            "Epoch [7/10], sample 599, Loss:0.010300016084261943\n",
            "Epoch [7/10], sample 699, Loss:0.011987386723918378\n",
            "Epoch [7/10], Loss: 0.013351299073499487\n",
            "Epoch [8/10], sample 99, Loss:0.0016600482804162422\n",
            "Epoch [8/10], sample 199, Loss:0.0033212563706576216\n",
            "Epoch [8/10], sample 299, Loss:0.004956839849119601\n",
            "Epoch [8/10], sample 399, Loss:0.00659182541253393\n",
            "Epoch [8/10], sample 499, Loss:0.008214001876094838\n",
            "Epoch [8/10], sample 599, Loss:0.00983850362703509\n",
            "Epoch [8/10], sample 699, Loss:0.011466750320132888\n",
            "Epoch [8/10], Loss: 0.012773097414151786\n",
            "Epoch [9/10], sample 99, Loss:0.001587946700346668\n",
            "Epoch [9/10], sample 199, Loss:0.003168253213776957\n",
            "Epoch [9/10], sample 299, Loss:0.004718625551218267\n",
            "Epoch [9/10], sample 399, Loss:0.006268395158602758\n",
            "Epoch [9/10], sample 499, Loss:0.007850002611765777\n",
            "Epoch [9/10], sample 599, Loss:0.009383599415583454\n",
            "Epoch [9/10], sample 699, Loss:0.010923510999716533\n",
            "Epoch [9/10], Loss: 0.012165969709301238\n",
            "Epoch [10/10], sample 99, Loss:0.001494369405271757\n",
            "Epoch [10/10], sample 199, Loss:0.0029841290698732104\n",
            "Epoch [10/10], sample 299, Loss:0.004463892145430112\n",
            "Epoch [10/10], sample 399, Loss:0.005930516348384759\n",
            "Epoch [10/10], sample 499, Loss:0.007385984855129972\n",
            "Epoch [10/10], sample 599, Loss:0.008848910375981761\n",
            "Epoch [10/10], sample 699, Loss:0.01029856374506336\n",
            "Epoch [10/10], Loss: 0.011483435470210699\n",
            "Finished Training\n"
          ]
        }
      ],
      "source": [
        "# Step 5: Initialize Model, Optimizer\n",
        "device = torch.device('cuda' if torch.cuda.is_available() else 'cpu')\n",
        "model = Autoencoder().to(device)\n",
        "optimizer = optim.Adam(model.parameters(), lr=0.001)\n",
        "num_epochs = 10\n",
        "\n",
        "# Step 6: Training Loop\n",
        "for epoch in range(num_epochs):\n",
        "    running_loss = 0.0\n",
        "    for i, data in enumerate(trainloader):\n",
        "        inputs, _ = data\n",
        "        inputs = inputs.to(device)\n",
        "\n",
        "        # Mask image\n",
        "        masked_inputs, mask = mask_image(inputs, mask_ratio=0.75)\n",
        "\n",
        "        # Zero the parameter gradients\n",
        "        optimizer.zero_grad()\n",
        "\n",
        "        # Forward + backward + optimize\n",
        "        outputs = model(masked_inputs)\n",
        "        loss = masked_loss(outputs, inputs, mask)\n",
        "        loss.backward()\n",
        "        optimizer.step()\n",
        "\n",
        "        # Print statistics\n",
        "        running_loss += loss.item()\n",
        "        if i % 100 == 99:    # print every 100 mini-batches\n",
        "          print(f\"Epoch [{epoch+1}/{num_epochs}], sample {i}, Loss:{running_loss/len(trainloader)}\")\n",
        "    print(f\"Epoch [{epoch+1}/{num_epochs}], Loss: {running_loss/len(trainloader)}\")\n",
        "\n",
        "print(\"Finished Training\")"
      ]
    },
    {
      "cell_type": "code",
      "source": [],
      "metadata": {
        "id": "A11yuwF06z8F"
      },
      "execution_count": null,
      "outputs": []
    }
  ],
  "metadata": {
    "colab": {
      "provenance": [],
      "authorship_tag": "ABX9TyME3LDuAmrRNs3Eu/AHYlzw",
      "include_colab_link": true
    },
    "kernelspec": {
      "display_name": "Python 3",
      "name": "python3"
    },
    "language_info": {
      "name": "python"
    }
  },
  "nbformat": 4,
  "nbformat_minor": 0
}