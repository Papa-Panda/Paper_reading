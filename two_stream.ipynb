{
  "nbformat": 4,
  "nbformat_minor": 0,
  "metadata": {
    "colab": {
      "provenance": [],
      "authorship_tag": "ABX9TyOXitFgdYFXNneDOl2UdOaH",
      "include_colab_link": true
    },
    "kernelspec": {
      "name": "python3",
      "display_name": "Python 3"
    },
    "language_info": {
      "name": "python"
    }
  },
  "cells": [
    {
      "cell_type": "markdown",
      "metadata": {
        "id": "view-in-github",
        "colab_type": "text"
      },
      "source": [
        "<a href=\"https://colab.research.google.com/github/Papa-Panda/Paper_reading/blob/main/two_stream.ipynb\" target=\"_parent\"><img src=\"https://colab.research.google.com/assets/colab-badge.svg\" alt=\"Open In Colab\"/></a>"
      ]
    },
    {
      "cell_type": "code",
      "execution_count": 3,
      "metadata": {
        "id": "w2mYy7944gdY"
      },
      "outputs": [],
      "source": [
        "# https://www.bilibili.com/video/BV1mq4y1x7RU/?spm_id_from=333.337.search-card.all.click&vd_source=83baba81780fd95e96c22e9346057527"
      ]
    },
    {
      "cell_type": "code",
      "source": [
        "import torch\n",
        "import torch.nn as nn\n",
        "import torchvision.models as models\n",
        "\n",
        "# Define the spatial stream model\n",
        "class SpatialStreamCNN(nn.Module):\n",
        "    def __init__(self, num_classes=101):\n",
        "        super(SpatialStreamCNN, self).__init__()\n",
        "        # Load a pre-trained ResNet model\n",
        "        self.spatial_model = models.resnet50(pretrained=True)\n",
        "        # Replace the final layer to adapt to the number of action classes\n",
        "        self.spatial_model.fc = nn.Linear(self.spatial_model.fc.in_features, num_classes)\n",
        "\n",
        "    def forward(self, x):\n",
        "        return self.spatial_model(x)\n"
      ],
      "metadata": {
        "id": "T_OyDiKn4jfs"
      },
      "execution_count": 2,
      "outputs": []
    },
    {
      "cell_type": "code",
      "source": [
        "class TemporalStreamCNN(nn.Module):\n",
        "    def __init__(self, num_classes=101):\n",
        "        super(TemporalStreamCNN, self).__init__()\n",
        "        # Load a pre-trained ResNet model\n",
        "        self.temporal_model = models.resnet50(pretrained=True)\n",
        "        # Optical flow has 2 channels (for x and y flow)\n",
        "        self.temporal_model.conv1 = nn.Conv2d(2, 64, kernel_size=(7, 7), stride=(2, 2), padding=(3, 3), bias=False)\n",
        "        # Replace the final layer to adapt to the number of action classes\n",
        "        self.temporal_model.fc = nn.Linear(self.temporal_model.fc.in_features, num_classes)\n",
        "\n",
        "    def forward(self, x):\n",
        "        return self.temporal_model(x)\n"
      ],
      "metadata": {
        "id": "EXb88x3o4mb9"
      },
      "execution_count": 3,
      "outputs": []
    },
    {
      "cell_type": "code",
      "source": [
        "class TwoStreamActionRecognition(nn.Module):\n",
        "    def __init__(self, num_classes=101):\n",
        "        super(TwoStreamActionRecognition, self).__init__()\n",
        "        self.spatial_stream = SpatialStreamCNN(num_classes=num_classes)\n",
        "        self.temporal_stream = TemporalStreamCNN(num_classes=num_classes)\n",
        "\n",
        "    def forward(self, rgb_frames, optical_flow_frames):\n",
        "        spatial_out = self.spatial_stream(rgb_frames)   # Spatial stream output\n",
        "        temporal_out = self.temporal_stream(optical_flow_frames)  # Temporal stream output\n",
        "\n",
        "        # Combine outputs (you can also use other strategies like weighted sum)\n",
        "        combined_out = (spatial_out + temporal_out) / 2\n",
        "\n",
        "        return combined_out\n"
      ],
      "metadata": {
        "id": "QobjbWuWflB4"
      },
      "execution_count": 4,
      "outputs": []
    },
    {
      "cell_type": "code",
      "source": [
        "# Config\n",
        "\n",
        "num_epochs = 100"
      ],
      "metadata": {
        "id": "I4pUklbuf8Wg"
      },
      "execution_count": 6,
      "outputs": []
    },
    {
      "cell_type": "code",
      "source": [
        "# Sample training loop\n",
        "model = TwoStreamActionRecognition(num_classes=101)\n",
        "optimizer = torch.optim.Adam(model.parameters(), lr=1e-4)\n",
        "criterion = nn.CrossEntropyLoss()\n",
        "\n",
        "for epoch in range(num_epochs):\n",
        "    for rgb_frames, optical_flow_frames, labels in train_loader:\n",
        "        optimizer.zero_grad()\n",
        "        outputs = model(rgb_frames, optical_flow_frames)\n",
        "        loss = criterion(outputs, labels)\n",
        "        loss.backward()\n",
        "        optimizer.step()\n"
      ],
      "metadata": {
        "colab": {
          "base_uri": "https://localhost:8080/",
          "height": 211
        },
        "id": "mHqyaUxsfxgg",
        "outputId": "fbd126a0-fcc1-4ce8-9893-15cc66f524c2"
      },
      "execution_count": 7,
      "outputs": [
        {
          "output_type": "error",
          "ename": "NameError",
          "evalue": "name 'train_loader' is not defined",
          "traceback": [
            "\u001b[0;31m---------------------------------------------------------------------------\u001b[0m",
            "\u001b[0;31mNameError\u001b[0m                                 Traceback (most recent call last)",
            "\u001b[0;32m<ipython-input-7-d7585edba912>\u001b[0m in \u001b[0;36m<cell line: 6>\u001b[0;34m()\u001b[0m\n\u001b[1;32m      5\u001b[0m \u001b[0;34m\u001b[0m\u001b[0m\n\u001b[1;32m      6\u001b[0m \u001b[0;32mfor\u001b[0m \u001b[0mepoch\u001b[0m \u001b[0;32min\u001b[0m \u001b[0mrange\u001b[0m\u001b[0;34m(\u001b[0m\u001b[0mnum_epochs\u001b[0m\u001b[0;34m)\u001b[0m\u001b[0;34m:\u001b[0m\u001b[0;34m\u001b[0m\u001b[0;34m\u001b[0m\u001b[0m\n\u001b[0;32m----> 7\u001b[0;31m     \u001b[0;32mfor\u001b[0m \u001b[0mrgb_frames\u001b[0m\u001b[0;34m,\u001b[0m \u001b[0moptical_flow_frames\u001b[0m\u001b[0;34m,\u001b[0m \u001b[0mlabels\u001b[0m \u001b[0;32min\u001b[0m \u001b[0mtrain_loader\u001b[0m\u001b[0;34m:\u001b[0m\u001b[0;34m\u001b[0m\u001b[0;34m\u001b[0m\u001b[0m\n\u001b[0m\u001b[1;32m      8\u001b[0m         \u001b[0moptimizer\u001b[0m\u001b[0;34m.\u001b[0m\u001b[0mzero_grad\u001b[0m\u001b[0;34m(\u001b[0m\u001b[0;34m)\u001b[0m\u001b[0;34m\u001b[0m\u001b[0;34m\u001b[0m\u001b[0m\n\u001b[1;32m      9\u001b[0m         \u001b[0moutputs\u001b[0m \u001b[0;34m=\u001b[0m \u001b[0mmodel\u001b[0m\u001b[0;34m(\u001b[0m\u001b[0mrgb_frames\u001b[0m\u001b[0;34m,\u001b[0m \u001b[0moptical_flow_frames\u001b[0m\u001b[0;34m)\u001b[0m\u001b[0;34m\u001b[0m\u001b[0;34m\u001b[0m\u001b[0m\n",
            "\u001b[0;31mNameError\u001b[0m: name 'train_loader' is not defined"
          ]
        }
      ]
    },
    {
      "cell_type": "code",
      "source": [
        "import cv2\n",
        "\n",
        "def compute_optical_flow(prev_frame, next_frame):\n",
        "    prev_gray = cv2.cvtColor(prev_frame, cv2.COLOR_RGB2GRAY)\n",
        "    next_gray = cv2.cvtColor(next_frame, cv2.COLOR_RGB2GRAY)\n",
        "    flow = cv2.calcOpticalFlowFarneback(prev_gray, next_gray, None, 0.5, 3, 15, 3, 5, 1.2, 0)\n",
        "    return flow"
      ],
      "metadata": {
        "id": "58iClyFkf4oI"
      },
      "execution_count": 8,
      "outputs": []
    },
    {
      "cell_type": "code",
      "source": [
        "# Testing on a single video\n",
        "rgb_frames = extract_rgb_frames(video)  # Extract frames from the video\n",
        "optical_flow_frames = compute_optical_flow_frames(rgb_frames)  # Compute optical flow\n",
        "output = model(rgb_frames, optical_flow_frames)\n",
        "predicted_class = torch.argmax(output, dim=1)\n"
      ],
      "metadata": {
        "colab": {
          "base_uri": "https://localhost:8080/",
          "height": 211
        },
        "id": "5I9XZTpogDyz",
        "outputId": "f72c0b36-b34c-46fc-c59e-e0958fdf1447"
      },
      "execution_count": 9,
      "outputs": [
        {
          "output_type": "error",
          "ename": "NameError",
          "evalue": "name 'extract_rgb_frames' is not defined",
          "traceback": [
            "\u001b[0;31m---------------------------------------------------------------------------\u001b[0m",
            "\u001b[0;31mNameError\u001b[0m                                 Traceback (most recent call last)",
            "\u001b[0;32m<ipython-input-9-624f47e23939>\u001b[0m in \u001b[0;36m<cell line: 2>\u001b[0;34m()\u001b[0m\n\u001b[1;32m      1\u001b[0m \u001b[0;31m# Testing on a single video\u001b[0m\u001b[0;34m\u001b[0m\u001b[0;34m\u001b[0m\u001b[0m\n\u001b[0;32m----> 2\u001b[0;31m \u001b[0mrgb_frames\u001b[0m \u001b[0;34m=\u001b[0m \u001b[0mextract_rgb_frames\u001b[0m\u001b[0;34m(\u001b[0m\u001b[0mvideo\u001b[0m\u001b[0;34m)\u001b[0m  \u001b[0;31m# Extract frames from the video\u001b[0m\u001b[0;34m\u001b[0m\u001b[0;34m\u001b[0m\u001b[0m\n\u001b[0m\u001b[1;32m      3\u001b[0m \u001b[0moptical_flow_frames\u001b[0m \u001b[0;34m=\u001b[0m \u001b[0mcompute_optical_flow_frames\u001b[0m\u001b[0;34m(\u001b[0m\u001b[0mrgb_frames\u001b[0m\u001b[0;34m)\u001b[0m  \u001b[0;31m# Compute optical flow\u001b[0m\u001b[0;34m\u001b[0m\u001b[0;34m\u001b[0m\u001b[0m\n\u001b[1;32m      4\u001b[0m \u001b[0moutput\u001b[0m \u001b[0;34m=\u001b[0m \u001b[0mmodel\u001b[0m\u001b[0;34m(\u001b[0m\u001b[0mrgb_frames\u001b[0m\u001b[0;34m,\u001b[0m \u001b[0moptical_flow_frames\u001b[0m\u001b[0;34m)\u001b[0m\u001b[0;34m\u001b[0m\u001b[0;34m\u001b[0m\u001b[0m\n\u001b[1;32m      5\u001b[0m \u001b[0mpredicted_class\u001b[0m \u001b[0;34m=\u001b[0m \u001b[0mtorch\u001b[0m\u001b[0;34m.\u001b[0m\u001b[0margmax\u001b[0m\u001b[0;34m(\u001b[0m\u001b[0moutput\u001b[0m\u001b[0;34m,\u001b[0m \u001b[0mdim\u001b[0m\u001b[0;34m=\u001b[0m\u001b[0;36m1\u001b[0m\u001b[0;34m)\u001b[0m\u001b[0;34m\u001b[0m\u001b[0;34m\u001b[0m\u001b[0m\n",
            "\u001b[0;31mNameError\u001b[0m: name 'extract_rgb_frames' is not defined"
          ]
        }
      ]
    }
  ]
}