{
  "nbformat": 4,
  "nbformat_minor": 0,
  "metadata": {
    "colab": {
      "provenance": [],
      "authorship_tag": "ABX9TyOF8AWTSBTSI4avgpoj5z1x",
      "include_colab_link": true
    },
    "kernelspec": {
      "name": "python3",
      "display_name": "Python 3"
    },
    "language_info": {
      "name": "python"
    }
  },
  "cells": [
    {
      "cell_type": "markdown",
      "metadata": {
        "id": "view-in-github",
        "colab_type": "text"
      },
      "source": [
        "<a href=\"https://colab.research.google.com/github/Papa-Panda/Paper_reading/blob/main/CLIP.ipynb\" target=\"_parent\"><img src=\"https://colab.research.google.com/assets/colab-badge.svg\" alt=\"Open In Colab\"/></a>"
      ]
    },
    {
      "cell_type": "code",
      "source": [
        "import torch\n",
        "import torch.nn as nn\n",
        "import torch.optim as optim\n",
        "from torchvision import datasets, transforms, models\n",
        "from transformers import BertTokenizer, BertModel\n",
        "\n",
        "# Configuration\n",
        "device = torch.device('cuda' if torch.cuda.is_available() else 'cpu')\n",
        "batch_size = 64\n",
        "num_epochs = 10\n",
        "learning_rate = 0.001\n",
        "feature_dim = 512  # Dimensionality of the shared embedding space\n",
        "cifar10_classes = [\n",
        "    \"airplane\", \"automobile\", \"bird\", \"cat\", \"deer\", \"dog\", \"frog\", \"horse\", \"ship\", \"truck\"\n",
        "]\n"
      ],
      "metadata": {
        "id": "QUSPFpCaNWsU"
      },
      "execution_count": 5,
      "outputs": []
    },
    {
      "cell_type": "code",
      "execution_count": 2,
      "metadata": {
        "id": "Uw5ejJ9TMh0w"
      },
      "outputs": [],
      "source": [
        "# Load CIFAR-10 Dataset\n",
        "transform = transforms.Compose([transforms.Resize(224),  # Resize to match input size of pre-trained models\n",
        "                                transforms.ToTensor()])\n",
        "\n",
        "train_dataset = datasets.CIFAR10(root='./data', train=True, download=True, transform=transform)\n",
        "train_loader = torch.utils.data.DataLoader(train_dataset, batch_size=batch_size, shuffle=True)"
      ]
    },
    {
      "cell_type": "code",
      "source": [
        "# Image Encoder (e.g., ResNet-18)\n",
        "class ImageEncoder(nn.Module):\n",
        "    def __init__(self):\n",
        "        super(ImageEncoder, self).__init__()\n",
        "        self.resnet = models.resnet18(pretrained=True)\n",
        "        self.resnet.fc = nn.Identity()  # Remove final classification layer\n",
        "        self.projection = nn.Linear(512, feature_dim)  # Project ResNet features to shared space\n",
        "\n",
        "    def forward(self, images):\n",
        "        features = self.resnet(images)\n",
        "        return self.projection(features)\n",
        "\n",
        "\n",
        "# Text Encoder (e.g., BERT for class names)\n",
        "class TextEncoder(nn.Module):\n",
        "    def __init__(self):\n",
        "        super(TextEncoder, self).__init__()\n",
        "        self.tokenizer = BertTokenizer.from_pretrained('bert-base-uncased')\n",
        "        self.bert = BertModel.from_pretrained('bert-base-uncased')\n",
        "        self.projection = nn.Linear(768, feature_dim)  # Project BERT features to shared space\n",
        "\n",
        "    def forward(self, text):\n",
        "        inputs = self.tokenizer(text, return_tensors=\"pt\", padding=True, truncation=True, max_length=10)\n",
        "        inputs = {key: val.to(device) for key, val in inputs.items()}\n",
        "        outputs = self.bert(**inputs)\n",
        "        return self.projection(outputs.pooler_output)\n",
        "\n",
        "# CLIP Model (Image + Text Encoder)\n",
        "class CLIPModel(nn.Module):\n",
        "    def __init__(self):\n",
        "        super(CLIPModel, self).__init__()\n",
        "        self.image_encoder = ImageEncoder().to(device)\n",
        "        self.text_encoder = TextEncoder().to(device)\n",
        "\n",
        "    def forward(self, images, text):\n",
        "        image_features = self.image_encoder(images)\n",
        "        text_features = self.text_encoder(text)\n",
        "        return image_features, text_features\n",
        "\n",
        "# Loss Function: Contrastive Loss (Cross-entropy on cosine similarity)\n",
        "def contrastive_loss(image_features, text_features, temperature=0.07):\n",
        "    logits = torch.matmul(image_features, text_features.T) / temperature\n",
        "    labels = torch.arange(len(logits)).to(device)\n",
        "    loss_i = nn.CrossEntropyLoss()(logits, labels)\n",
        "    loss_t = nn.CrossEntropyLoss()(logits.T, labels)\n",
        "    return (loss_i + loss_t) / 2"
      ],
      "metadata": {
        "id": "ZPvx6HdzMif2"
      },
      "execution_count": 3,
      "outputs": []
    },
    {
      "cell_type": "code",
      "source": [
        "\n",
        "# Instantiate Model\n",
        "model = CLIPModel()\n",
        "optimizer = optim.Adam(model.parameters(), lr=learning_rate)\n",
        "\n",
        "# Training Loop\n",
        "for epoch in range(num_epochs):\n",
        "    model.train()\n",
        "    total_loss = 0\n",
        "    for images, labels in train_loader:\n",
        "        images = images.to(device)\n",
        "        text_labels = [cifar10_classes[label] for label in labels]\n",
        "\n",
        "        optimizer.zero_grad()\n",
        "        image_features, text_features = model(images, text_labels)\n",
        "\n",
        "        # Normalize features\n",
        "        image_features = nn.functional.normalize(image_features, dim=1)\n",
        "        text_features = nn.functional.normalize(text_features, dim=1)\n",
        "\n",
        "        loss = contrastive_loss(image_features, text_features)\n",
        "        loss.backward()\n",
        "        optimizer.step()\n",
        "\n",
        "        total_loss += loss.item()\n",
        "\n",
        "    print(f'Epoch [{epoch+1}/{num_epochs}], Loss: {total_loss/len(train_loader):.4f}')\n",
        "\n",
        "print(\"Training finished.\")\n"
      ],
      "metadata": {
        "id": "L1Gmll0YNE-W"
      },
      "execution_count": null,
      "outputs": []
    },
    {
      "cell_type": "code",
      "source": [],
      "metadata": {
        "id": "yfofYdmTNO5p"
      },
      "execution_count": null,
      "outputs": []
    }
  ]
}