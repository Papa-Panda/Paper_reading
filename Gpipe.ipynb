{
  "nbformat": 4,
  "nbformat_minor": 0,
  "metadata": {
    "colab": {
      "provenance": [],
      "authorship_tag": "ABX9TyPfFQUjU6KTEAvhMn13E94+",
      "include_colab_link": true
    },
    "kernelspec": {
      "name": "python3",
      "display_name": "Python 3"
    },
    "language_info": {
      "name": "python"
    }
  },
  "cells": [
    {
      "cell_type": "markdown",
      "metadata": {
        "id": "view-in-github",
        "colab_type": "text"
      },
      "source": [
        "<a href=\"https://colab.research.google.com/github/Papa-Panda/Paper_reading/blob/main/Gpipe.ipynb\" target=\"_parent\"><img src=\"https://colab.research.google.com/assets/colab-badge.svg\" alt=\"Open In Colab\"/></a>"
      ]
    },
    {
      "cell_type": "code",
      "execution_count": null,
      "metadata": {
        "id": "SEjPV8DZqPqe"
      },
      "outputs": [],
      "source": [
        "import torch\n",
        "import torch.nn as nn\n",
        "import torch.distributed as dist\n",
        "from torch.distributed.pipeline.sync import Pipe\n",
        "from torch.distributed import rpc\n",
        "\n",
        "class TransformerBlock(nn.Module):\n",
        "    \"\"\"A basic transformer block.\"\"\"\n",
        "    def __init__(self, embed_size, num_heads, hidden_size):\n",
        "        super(TransformerBlock, self).__init__()\n",
        "        self.attention = nn.MultiheadAttention(embed_size, num_heads)\n",
        "        self.linear1 = nn.Linear(embed_size, hidden_size)\n",
        "        self.activation = nn.ReLU()\n",
        "        self.linear2 = nn.Linear(hidden_size, embed_size)\n",
        "\n",
        "    def forward(self, x):\n",
        "        # Self-attention\n",
        "        attn_output, _ = self.attention(x, x, x)\n",
        "        x = x + attn_output  # Residual connection\n",
        "\n",
        "        # Feedforward network\n",
        "        ffn_output = self.activation(self.linear1(x))\n",
        "        x = self.linear2(ffn_output) + x  # Residual connection\n",
        "        return x\n",
        "\n",
        "def build_pipeline_model():\n",
        "    \"\"\"Create a pipeline model with two stages across two GPUs.\"\"\"\n",
        "    embed_size = 512\n",
        "    num_heads = 8\n",
        "    hidden_size = 2048\n",
        "\n",
        "    # Define two stages of the model, each on a different GPU\n",
        "    layer1 = TransformerBlock(embed_size, num_heads, hidden_size).cuda(0)\n",
        "    layer2 = TransformerBlock(embed_size, num_heads, hidden_size).cuda(1)\n",
        "\n",
        "    # Combine the two layers into a pipeline model\n",
        "    model = nn.Sequential(layer1, layer2)\n",
        "\n",
        "    # Use Pipe to wrap the model for pipeline parallelism\n",
        "    chunks = 8  # Number of microbatches\n",
        "    pipeline_model = Pipe(model, chunks=chunks)\n",
        "\n",
        "    return pipeline_model\n",
        "\n",
        "def main():\n",
        "    \"\"\"Main function to initialize distributed processing and run training.\"\"\"\n",
        "    # Initialize the RPC framework\n",
        "    dist.init_process_group(backend='nccl')\n",
        "    rpc.init_rpc(name=\"worker\", rank=0, world_size=1)\n",
        "\n",
        "    # Create the pipeline model\n",
        "    model = build_pipeline_model()\n",
        "\n",
        "    # Sample input: (sequence_length, batch_size, embed_size)\n",
        "    input_data = torch.randn(16, 8, 512).cuda(0)  # Start input on GPU 0\n",
        "\n",
        "    # Run forward pass\n",
        "    output = model(input_data)\n",
        "    print(\"Output shape:\", output.shape)\n",
        "\n",
        "    # Shutdown RPC\n",
        "    rpc.shutdown()\n",
        "\n",
        "if __name__ == \"__main__\":\n",
        "    main()\n"
      ]
    },
    {
      "cell_type": "code",
      "source": [],
      "metadata": {
        "id": "obMd9JSNqQMU"
      },
      "execution_count": null,
      "outputs": []
    }
  ]
}