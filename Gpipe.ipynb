{
  "nbformat": 4,
  "nbformat_minor": 0,
  "metadata": {
    "colab": {
      "provenance": [],
      "authorship_tag": "ABX9TyOktF7uY4cVDdcpwwc6XRg8",
      "include_colab_link": true
    },
    "kernelspec": {
      "name": "python3",
      "display_name": "Python 3"
    },
    "language_info": {
      "name": "python"
    }
  },
  "cells": [
    {
      "cell_type": "markdown",
      "metadata": {
        "id": "view-in-github",
        "colab_type": "text"
      },
      "source": [
        "<a href=\"https://colab.research.google.com/github/Papa-Panda/Paper_reading/blob/main/Gpipe.ipynb\" target=\"_parent\"><img src=\"https://colab.research.google.com/assets/colab-badge.svg\" alt=\"Open In Colab\"/></a>"
      ]
    },
    {
      "cell_type": "code",
      "source": [
        "# !pip install fairscale"
      ],
      "metadata": {
        "id": "ZTKOzBj9qeYD"
      },
      "execution_count": 6,
      "outputs": []
    },
    {
      "cell_type": "code",
      "execution_count": null,
      "metadata": {
        "colab": {
          "base_uri": "https://localhost:8080/"
        },
        "id": "SEjPV8DZqPqe",
        "outputId": "c40c7861-7331-4f9e-edc1-a983761a7159"
      },
      "outputs": [
        {
          "output_type": "stream",
          "name": "stderr",
          "text": [
            "W1014 01:36:49.230000 136992724959232 torch/multiprocessing/spawn.py:146] Terminating process 1235 via signal SIGTERM\n"
          ]
        }
      ],
      "source": [
        "import torch\n",
        "import torch.nn as nn\n",
        "from fairscale.nn import Pipe\n",
        "import torch.multiprocessing as mp\n",
        "import torch.distributed as dist\n",
        "\n",
        "class TransformerBlock(nn.Module):\n",
        "    \"\"\"A basic transformer block.\"\"\"\n",
        "    def __init__(self, embed_size, num_heads, hidden_size):\n",
        "        super(TransformerBlock, self).__init__()\n",
        "        self.attention = nn.MultiheadAttention(embed_size, num_heads)\n",
        "        self.linear1 = nn.Linear(embed_size, hidden_size)\n",
        "        self.activation = nn.ReLU()\n",
        "        self.linear2 = nn.Linear(hidden_size, embed_size)\n",
        "\n",
        "    def forward(self, x):\n",
        "        attn_output, _ = self.attention(x, x, x)\n",
        "        x = x + attn_output  # Residual connection\n",
        "        ffn_output = self.activation(self.linear1(x))\n",
        "        x = self.linear2(ffn_output) + x  # Residual connection\n",
        "        return x\n",
        "\n",
        "def build_pipeline_model():\n",
        "    \"\"\"Create a pipeline model with two stages.\"\"\"\n",
        "    embed_size = 512\n",
        "    num_heads = 8\n",
        "    hidden_size = 2048\n",
        "\n",
        "    # Define two sequential transformer blocks\n",
        "    layer1 = TransformerBlock(embed_size, num_heads, hidden_size)\n",
        "    layer2 = TransformerBlock(embed_size, num_heads, hidden_size)\n",
        "\n",
        "    # Combine into a sequential model\n",
        "    model = nn.Sequential(layer1, layer2)\n",
        "\n",
        "    # Use Pipe for pipeline parallelism with 2 chunks\n",
        "    chunks = 2\n",
        "    pipeline_model = Pipe(model, chunks=chunks, style=Pipe.MultiProcess, devices=[0, 1])\n",
        "\n",
        "    return pipeline_model\n",
        "\n",
        "def run_training(rank, world_size):\n",
        "    \"\"\"Initialize distributed environment and run training.\"\"\"\n",
        "    dist.init_process_group(backend='nccl', rank=rank, world_size=world_size)\n",
        "\n",
        "    # Build and distribute the model\n",
        "    model = build_pipeline_model()\n",
        "\n",
        "    # Sample input: (seq_length, batch_size, embed_size)\n",
        "    input_data = torch.randn(16, 8, 512).cuda(rank)\n",
        "\n",
        "    # Run a forward pass\n",
        "    output = model(input_data)\n",
        "\n",
        "    if rank == 0:\n",
        "        print(\"Output shape:\", output.shape)\n",
        "\n",
        "def main():\n",
        "    world_size = 2  # Simulate two GPUs\n",
        "    mp.spawn(run_training, args=(world_size,), nprocs=world_size, join=True)\n",
        "\n",
        "if __name__ == \"__main__\":\n",
        "    main()\n"
      ]
    },
    {
      "cell_type": "code",
      "source": [],
      "metadata": {
        "id": "obMd9JSNqQMU"
      },
      "execution_count": null,
      "outputs": []
    }
  ]
}