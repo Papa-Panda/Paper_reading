{
  "nbformat": 4,
  "nbformat_minor": 0,
  "metadata": {
    "colab": {
      "provenance": [],
      "authorship_tag": "ABX9TyN/WtUaI6iH676h8fnqkCzc",
      "include_colab_link": true
    },
    "kernelspec": {
      "name": "python3",
      "display_name": "Python 3"
    },
    "language_info": {
      "name": "python"
    }
  },
  "cells": [
    {
      "cell_type": "markdown",
      "metadata": {
        "id": "view-in-github",
        "colab_type": "text"
      },
      "source": [
        "<a href=\"https://colab.research.google.com/github/Papa-Panda/Paper_reading/blob/main/reinforcementlearning_value_based.ipynb\" target=\"_parent\"><img src=\"https://colab.research.google.com/assets/colab-badge.svg\" alt=\"Open In Colab\"/></a>"
      ]
    },
    {
      "cell_type": "code",
      "source": [
        "import gymnasium as gym\n",
        "import numpy as np\n",
        "import torch\n",
        "from collections import defaultdict\n",
        "\n",
        "import torch.nn as nn\n",
        "import torch.optim as optim"
      ],
      "metadata": {
        "id": "PwDattXRS5Fw"
      },
      "execution_count": null,
      "outputs": []
    },
    {
      "cell_type": "code",
      "source": [
        "# Create the environment\n",
        "env = gym.make(\"FrozenLake-v1\", is_slippery=False)  # deterministic version\n",
        "\n",
        "# Define parameters\n",
        "num_episodes = 5000\n",
        "gamma = 0.99  # discount factor\n",
        "learning_rate = 0.1\n",
        "alpha = 0.1  # learning rate\n",
        "\n",
        "state_size = env.observation_space.n"
      ],
      "metadata": {
        "id": "iQ6FCc33TNIo"
      },
      "execution_count": null,
      "outputs": []
    },
    {
      "cell_type": "code",
      "source": [
        "# Monte Carlo"
      ],
      "metadata": {
        "id": "HiJnGayRWnjp"
      },
      "execution_count": null,
      "outputs": []
    },
    {
      "cell_type": "code",
      "execution_count": null,
      "metadata": {
        "colab": {
          "base_uri": "https://localhost:8080/"
        },
        "id": "HNPInN4hS3r5",
        "outputId": "772b2623-51c6-42d8-acd9-d50b1e81f551"
      },
      "outputs": [
        {
          "output_type": "stream",
          "name": "stdout",
          "text": [
            "Learned Value Function (state-values):\n",
            "State 0: 0.017\n",
            "State 1: 0.016\n",
            "State 2: 0.032\n",
            "State 3: 0.015\n",
            "State 4: 0.018\n",
            "State 5: 0.000\n",
            "State 6: 0.066\n",
            "State 7: 0.000\n",
            "State 8: 0.039\n",
            "State 9: 0.107\n",
            "State 10: 0.198\n",
            "State 11: 0.000\n",
            "State 12: 0.000\n",
            "State 13: 0.258\n",
            "State 14: 0.514\n",
            "State 15: 0.000\n"
          ]
        }
      ],
      "source": [
        "# Initialize value function as torch tensor\n",
        "value_table = torch.zeros(state_size, dtype=torch.float32)\n",
        "\n",
        "# Helper: generate an episode\n",
        "def generate_episode(env):\n",
        "    episode = []\n",
        "    state, _ = env.reset()\n",
        "    done = False\n",
        "    while not done:\n",
        "        action = env.action_space.sample()  # random policy\n",
        "        next_state, reward, terminated, truncated, _ = env.step(action)\n",
        "        done = terminated or truncated\n",
        "        episode.append((state, action, reward))\n",
        "        state = next_state\n",
        "    return episode\n",
        "\n",
        "# Monte Carlo Prediction\n",
        "returns_sum = defaultdict(float)\n",
        "returns_count = defaultdict(int)\n",
        "\n",
        "for episode_idx in range(num_episodes):\n",
        "    episode = generate_episode(env)\n",
        "    visited_states = set()\n",
        "    G = 0\n",
        "    for t in reversed(range(len(episode))):\n",
        "        state, action, reward = episode[t]\n",
        "        G = gamma * G + reward\n",
        "        if state not in visited_states:\n",
        "            visited_states.add(state)\n",
        "            returns_sum[state] += G\n",
        "            returns_count[state] += 1\n",
        "            value_table[state] = returns_sum[state] / returns_count[state]\n",
        "\n",
        "# Print the learned value function\n",
        "print(\"Learned Value Function (state-values):\")\n",
        "for s in range(state_size):\n",
        "    print(f\"State {s}: {value_table[s].item():.3f}\")\n"
      ]
    },
    {
      "cell_type": "code",
      "source": [
        "# TD learning"
      ],
      "metadata": {
        "id": "O_lhUCqxWk8K"
      },
      "execution_count": null,
      "outputs": []
    },
    {
      "cell_type": "code",
      "source": [
        "# Initialize value function as torch tensor\n",
        "value_table = torch.zeros(state_size, dtype=torch.float32)\n",
        "# Value function (as a torch tensor)\n",
        "state_size = env.observation_space.n\n",
        "value_table = torch.zeros(state_size, dtype=torch.float32)\n",
        "\n",
        "for episode in range(num_episodes):\n",
        "    state, _ = env.reset()\n",
        "    done = False\n",
        "\n",
        "    while not done:\n",
        "        action = env.action_space.sample()  # random policy\n",
        "        next_state, reward, terminated, truncated, _ = env.step(action)\n",
        "        done = terminated or truncated\n",
        "\n",
        "        # TD(0) update rule: V(s) ← V(s) + α [R + γ * V(s') - V(s)]\n",
        "        td_target = reward + gamma * value_table[next_state]\n",
        "        td_error = td_target - value_table[state]\n",
        "        value_table[state] += alpha * td_error\n",
        "\n",
        "        state = next_state\n",
        "\n",
        "# Print the learned value function\n",
        "print(\"Learned Value Function (TD):\")\n",
        "for s in range(state_size):\n",
        "    print(f\"State {s}: {value_table[s].item():.3f}\")"
      ],
      "metadata": {
        "colab": {
          "base_uri": "https://localhost:8080/"
        },
        "id": "I2WLtipBTN3k",
        "outputId": "caf25a4d-d8be-4392-e49a-a788a851b258"
      },
      "execution_count": null,
      "outputs": [
        {
          "output_type": "stream",
          "name": "stdout",
          "text": [
            "Learned Value Function (TD):\n",
            "State 0: 0.007\n",
            "State 1: 0.005\n",
            "State 2: 0.008\n",
            "State 3: 0.006\n",
            "State 4: 0.010\n",
            "State 5: 0.000\n",
            "State 6: 0.011\n",
            "State 7: 0.000\n",
            "State 8: 0.025\n",
            "State 9: 0.051\n",
            "State 10: 0.094\n",
            "State 11: 0.000\n",
            "State 12: 0.000\n",
            "State 13: 0.098\n",
            "State 14: 0.205\n",
            "State 15: 0.000\n"
          ]
        }
      ]
    },
    {
      "cell_type": "code",
      "source": [
        "# TD learning: neural network"
      ],
      "metadata": {
        "id": "IE6Khy-xU1-Z"
      },
      "execution_count": null,
      "outputs": []
    },
    {
      "cell_type": "code",
      "source": [
        "# One-hot encoding for discrete states\n",
        "def one_hot(state, num_states):\n",
        "    vec = torch.zeros(num_states, dtype=torch.float32)\n",
        "    vec[state] = 1.0\n",
        "    return vec\n",
        "\n",
        "# Define the value network\n",
        "class ValueNetwork(nn.Module):\n",
        "    def __init__(self, input_size):\n",
        "        super().__init__()\n",
        "        self.net = nn.Sequential(\n",
        "            nn.Linear(input_size, 32),\n",
        "            nn.ReLU(),\n",
        "            nn.Linear(32, 1)  # Output: V(s)\n",
        "        )\n",
        "\n",
        "    def forward(self, x):\n",
        "        return self.net(x)\n",
        "\n",
        "# Initialize network and optimizer\n",
        "value_net = ValueNetwork(state_size)\n",
        "optimizer = optim.Adam(value_net.parameters(), lr=0.01)\n",
        "\n",
        "for episode in range(num_episodes):\n",
        "    state, _ = env.reset()\n",
        "    done = False\n",
        "\n",
        "    while not done:\n",
        "        action = env.action_space.sample()  # random policy\n",
        "        next_state, reward, terminated, truncated, _ = env.step(action)\n",
        "        done = terminated or truncated\n",
        "\n",
        "        # Prepare inputs\n",
        "        s = one_hot(state, state_size)\n",
        "        s_next = one_hot(next_state, state_size)\n",
        "\n",
        "        # Compute TD target: R + γ * V(s')\n",
        "        with torch.no_grad():\n",
        "            target = reward + gamma * value_net(s_next)\n",
        "\n",
        "        # Prediction and loss\n",
        "        prediction = value_net(s)\n",
        "        loss = nn.functional.mse_loss(prediction, target)\n",
        "\n",
        "        # Backpropagation\n",
        "        optimizer.zero_grad()\n",
        "        loss.backward()\n",
        "        optimizer.step()\n",
        "\n",
        "        state = next_state\n",
        "\n",
        "# Show learned value estimates\n",
        "print(\"State-Value Estimates (using neural network):\")\n",
        "for s in range(state_size):\n",
        "    v = value_net(one_hot(s, state_size)).item()\n",
        "    print(f\"State {s}: {v:.3f}\")"
      ],
      "metadata": {
        "colab": {
          "base_uri": "https://localhost:8080/"
        },
        "id": "fCa_I3dRRO_s",
        "outputId": "a3a5c402-3257-4470-845a-f00599308941"
      },
      "execution_count": null,
      "outputs": [
        {
          "output_type": "stream",
          "name": "stdout",
          "text": [
            "State-Value Estimates (using neural network):\n",
            "State 0: 0.008\n",
            "State 1: 0.007\n",
            "State 2: 0.013\n",
            "State 3: 0.021\n",
            "State 4: 0.008\n",
            "State 5: -0.008\n",
            "State 6: 0.009\n",
            "State 7: 0.035\n",
            "State 8: 0.019\n",
            "State 9: -0.002\n",
            "State 10: -0.014\n",
            "State 11: -0.008\n",
            "State 12: 0.037\n",
            "State 13: -0.003\n",
            "State 14: -0.040\n",
            "State 15: 0.006\n"
          ]
        }
      ]
    },
    {
      "cell_type": "markdown",
      "source": [
        "TD learning: sarsa algorithm"
      ],
      "metadata": {
        "id": "NdsBB0tYCl_I"
      }
    },
    {
      "cell_type": "code",
      "source": [
        "import gymnasium as gym\n",
        "import numpy as np\n",
        "\n",
        "# Create environment\n",
        "env = gym.make(\"FrozenLake-v1\", is_slippery=False)  # deterministic for easier learning\n",
        "n_states = env.observation_space.n\n",
        "n_actions = env.action_space.n\n",
        "\n",
        "# Initialize Q-table\n",
        "Q = np.zeros((n_states, n_actions))\n",
        "alpha = 0.1       # learning rate\n",
        "gamma = 0.99      # discount factor\n",
        "epsilon = 0.1     # exploration rate\n",
        "\n",
        "# Epsilon-greedy policy\n",
        "def epsilon_greedy(state, Q, epsilon):\n",
        "    if np.random.rand() < epsilon:\n",
        "        return np.random.choice(n_actions)\n",
        "    return np.argmax(Q[state])\n",
        "\n",
        "# Training loop\n",
        "num_episodes = 5000\n",
        "for episode in range(num_episodes):\n",
        "    state, _ = env.reset()\n",
        "    action = epsilon_greedy(state, Q, epsilon)\n",
        "    done = False\n",
        "\n",
        "    while not done:\n",
        "        next_state, reward, terminated, truncated, _ = env.step(action)\n",
        "        done = terminated or truncated\n",
        "        next_action = epsilon_greedy(next_state, Q, epsilon)\n",
        "\n",
        "        # SARSA update\n",
        "        td_target = reward + gamma * Q[next_state, next_action]\n",
        "        td_error = td_target - Q[state, action]\n",
        "        Q[state, action] += alpha * td_error\n",
        "\n",
        "        state = next_state\n",
        "        action = next_action\n",
        "\n",
        "# Print the learned Q-values\n",
        "print(\"Learned Q-values (SARSA):\")\n",
        "print(Q)\n",
        "\n",
        "# Derive policy\n",
        "policy = np.argmax(Q, axis=1)\n",
        "print(\"Derived policy:\")\n",
        "print(policy.reshape((4, 4)))  # 4x4 grid for FrozenLake"
      ],
      "metadata": {
        "colab": {
          "base_uri": "https://localhost:8080/"
        },
        "id": "Pn5Mxvv6Cm-Y",
        "outputId": "a3dfafe2-6514-43e5-c677-a6a2bd724622"
      },
      "execution_count": null,
      "outputs": [
        {
          "output_type": "stream",
          "name": "stdout",
          "text": [
            "Learned Q-values (SARSA):\n",
            "[[0. 0. 0. 0.]\n",
            " [0. 0. 0. 0.]\n",
            " [0. 0. 0. 0.]\n",
            " [0. 0. 0. 0.]\n",
            " [0. 0. 0. 0.]\n",
            " [0. 0. 0. 0.]\n",
            " [0. 0. 0. 0.]\n",
            " [0. 0. 0. 0.]\n",
            " [0. 0. 0. 0.]\n",
            " [0. 0. 0. 0.]\n",
            " [0. 0. 0. 0.]\n",
            " [0. 0. 0. 0.]\n",
            " [0. 0. 0. 0.]\n",
            " [0. 0. 0. 0.]\n",
            " [0. 0. 0. 0.]\n",
            " [0. 0. 0. 0.]]\n",
            "Derived policy:\n",
            "[[0 0 0 0]\n",
            " [0 0 0 0]\n",
            " [0 0 0 0]\n",
            " [0 0 0 0]]\n"
          ]
        }
      ]
    },
    {
      "cell_type": "code",
      "source": [],
      "metadata": {
        "id": "asUt5XWYXSl2"
      },
      "execution_count": null,
      "outputs": []
    },
    {
      "cell_type": "markdown",
      "source": [
        "TD learning: sarsa neural network version"
      ],
      "metadata": {
        "id": "pw7M9sOmXTuc"
      }
    },
    {
      "cell_type": "code",
      "source": [
        "import gymnasium as gym\n",
        "import torch\n",
        "import torch.nn as nn\n",
        "import torch.optim as optim\n",
        "import random\n",
        "import numpy as np\n",
        "\n",
        "# Set up environment\n",
        "env = gym.make(\"CartPole-v1\")\n",
        "state_dim = env.observation_space.shape[0]\n",
        "action_dim = env.action_space.n\n",
        "\n",
        "# Q-network\n",
        "class QNetwork(nn.Module):\n",
        "    def __init__(self, state_dim, action_dim):\n",
        "        super().__init__()\n",
        "        self.net = nn.Sequential(\n",
        "            nn.Linear(state_dim, 128),\n",
        "            nn.ReLU(),\n",
        "            nn.Linear(128, action_dim)\n",
        "        )\n",
        "\n",
        "    def forward(self, x):\n",
        "        return self.net(x)\n",
        "\n",
        "# Initialize network and optimizer\n",
        "q_net = QNetwork(state_dim, action_dim)\n",
        "optimizer = optim.Adam(q_net.parameters(), lr=1e-3)\n",
        "loss_fn = nn.MSELoss()\n",
        "\n",
        "# Hyperparameters\n",
        "epsilon = 0.1\n",
        "gamma = 0.99\n",
        "num_episodes = 500\n",
        "batch_size = 1  # SARSA is typically updated per step\n",
        "\n",
        "def select_action(state, epsilon):\n",
        "    if random.random() < epsilon:\n",
        "        return random.randint(0, action_dim - 1)\n",
        "    else:\n",
        "        with torch.no_grad():\n",
        "            q_values = q_net(torch.FloatTensor(state))\n",
        "            return torch.argmax(q_values).item()\n",
        "\n",
        "# Training loop\n",
        "for episode in range(num_episodes):\n",
        "    state, _ = env.reset()\n",
        "    action = select_action(state, epsilon)\n",
        "    done = False\n",
        "    total_reward = 0\n",
        "\n",
        "    while not done:\n",
        "        next_state, reward, terminated, truncated, _ = env.step(action)\n",
        "        done = terminated or truncated\n",
        "        next_action = select_action(next_state, epsilon)\n",
        "\n",
        "        # Compute target using SARSA formula\n",
        "        q_values_next = q_net(torch.FloatTensor(next_state))\n",
        "        target = reward + (gamma * q_values_next[next_action].item() * (not done))\n",
        "\n",
        "        # Predicted Q(s, a)\n",
        "        q_values = q_net(torch.FloatTensor(state))\n",
        "        predicted = q_values[action]\n",
        "\n",
        "        loss = loss_fn(predicted, torch.tensor(target))\n",
        "\n",
        "        optimizer.zero_grad()\n",
        "        loss.backward()\n",
        "        optimizer.step()\n",
        "\n",
        "        state = next_state\n",
        "        action = next_action\n",
        "        total_reward += reward\n",
        "\n",
        "    if episode % 50 == 0:\n",
        "        print(f\"Episode {episode}, Total Reward: {total_reward}\")\n",
        "\n",
        "env.close()\n"
      ],
      "metadata": {
        "id": "hMOaUJTVCnsN",
        "outputId": "d13fecc4-a9e9-45ff-805e-2ddeb52e0b7e",
        "colab": {
          "base_uri": "https://localhost:8080/"
        }
      },
      "execution_count": 1,
      "outputs": [
        {
          "output_type": "stream",
          "name": "stdout",
          "text": [
            "Episode 0, Total Reward: 10.0\n",
            "Episode 50, Total Reward: 9.0\n",
            "Episode 100, Total Reward: 10.0\n",
            "Episode 150, Total Reward: 15.0\n",
            "Episode 200, Total Reward: 14.0\n",
            "Episode 250, Total Reward: 49.0\n",
            "Episode 300, Total Reward: 28.0\n",
            "Episode 350, Total Reward: 48.0\n",
            "Episode 400, Total Reward: 32.0\n",
            "Episode 450, Total Reward: 71.0\n"
          ]
        }
      ]
    },
    {
      "cell_type": "code",
      "source": [],
      "metadata": {
        "id": "HgmAY33CXRW9"
      },
      "execution_count": null,
      "outputs": []
    }
  ]
}