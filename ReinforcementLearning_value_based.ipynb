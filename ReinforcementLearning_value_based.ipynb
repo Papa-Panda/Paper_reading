{
  "nbformat": 4,
  "nbformat_minor": 0,
  "metadata": {
    "colab": {
      "provenance": [],
      "authorship_tag": "ABX9TyP0WAXEaeE6VG0w0i4IOerH",
      "include_colab_link": true
    },
    "kernelspec": {
      "name": "python3",
      "display_name": "Python 3"
    },
    "language_info": {
      "name": "python"
    }
  },
  "cells": [
    {
      "cell_type": "markdown",
      "metadata": {
        "id": "view-in-github",
        "colab_type": "text"
      },
      "source": [
        "<a href=\"https://colab.research.google.com/github/Papa-Panda/Paper_reading/blob/main/ReinforcementLearning_value_based.ipynb\" target=\"_parent\"><img src=\"https://colab.research.google.com/assets/colab-badge.svg\" alt=\"Open In Colab\"/></a>"
      ]
    },
    {
      "cell_type": "code",
      "source": [
        "import gymnasium as gym\n",
        "import numpy as np\n",
        "import torch\n",
        "from collections import defaultdict"
      ],
      "metadata": {
        "id": "PwDattXRS5Fw"
      },
      "execution_count": 1,
      "outputs": []
    },
    {
      "cell_type": "code",
      "source": [
        "# Create the environment\n",
        "env = gym.make(\"FrozenLake-v1\", is_slippery=False)  # deterministic version\n",
        "\n",
        "# Define parameters\n",
        "num_episodes = 5000\n",
        "gamma = 0.99  # discount factor\n",
        "learning_rate = 0.1\n",
        "\n"
      ],
      "metadata": {
        "id": "iQ6FCc33TNIo"
      },
      "execution_count": 3,
      "outputs": []
    },
    {
      "cell_type": "code",
      "source": [
        "# Monte Carlo"
      ],
      "metadata": {
        "id": "HiJnGayRWnjp"
      },
      "execution_count": null,
      "outputs": []
    },
    {
      "cell_type": "code",
      "execution_count": 4,
      "metadata": {
        "colab": {
          "base_uri": "https://localhost:8080/"
        },
        "id": "HNPInN4hS3r5",
        "outputId": "772b2623-51c6-42d8-acd9-d50b1e81f551"
      },
      "outputs": [
        {
          "output_type": "stream",
          "name": "stdout",
          "text": [
            "Learned Value Function (state-values):\n",
            "State 0: 0.017\n",
            "State 1: 0.016\n",
            "State 2: 0.032\n",
            "State 3: 0.015\n",
            "State 4: 0.018\n",
            "State 5: 0.000\n",
            "State 6: 0.066\n",
            "State 7: 0.000\n",
            "State 8: 0.039\n",
            "State 9: 0.107\n",
            "State 10: 0.198\n",
            "State 11: 0.000\n",
            "State 12: 0.000\n",
            "State 13: 0.258\n",
            "State 14: 0.514\n",
            "State 15: 0.000\n"
          ]
        }
      ],
      "source": [
        "# Initialize value function as torch tensor\n",
        "state_size = env.observation_space.n\n",
        "value_table = torch.zeros(state_size, dtype=torch.float32)\n",
        "\n",
        "# Helper: generate an episode\n",
        "def generate_episode(env):\n",
        "    episode = []\n",
        "    state, _ = env.reset()\n",
        "    done = False\n",
        "    while not done:\n",
        "        action = env.action_space.sample()  # random policy\n",
        "        next_state, reward, terminated, truncated, _ = env.step(action)\n",
        "        done = terminated or truncated\n",
        "        episode.append((state, action, reward))\n",
        "        state = next_state\n",
        "    return episode\n",
        "\n",
        "# Monte Carlo Prediction\n",
        "returns_sum = defaultdict(float)\n",
        "returns_count = defaultdict(int)\n",
        "\n",
        "for episode_idx in range(num_episodes):\n",
        "    episode = generate_episode(env)\n",
        "    visited_states = set()\n",
        "    G = 0\n",
        "    for t in reversed(range(len(episode))):\n",
        "        state, action, reward = episode[t]\n",
        "        G = gamma * G + reward\n",
        "        if state not in visited_states:\n",
        "            visited_states.add(state)\n",
        "            returns_sum[state] += G\n",
        "            returns_count[state] += 1\n",
        "            value_table[state] = returns_sum[state] / returns_count[state]\n",
        "\n",
        "# Print the learned value function\n",
        "print(\"Learned Value Function (state-values):\")\n",
        "for s in range(state_size):\n",
        "    print(f\"State {s}: {value_table[s].item():.3f}\")\n"
      ]
    },
    {
      "cell_type": "code",
      "source": [
        "# TD learning"
      ],
      "metadata": {
        "id": "O_lhUCqxWk8K"
      },
      "execution_count": null,
      "outputs": []
    },
    {
      "cell_type": "code",
      "source": [
        "# Initialize value function as torch tensor\n",
        "state_size = env.observation_space.n\n",
        "value_table = torch.zeros(state_size, dtype=torch.float32)\n",
        "\n",
        "# Helper: generate an episode\n",
        "def generate_episode(env):\n",
        "    episode = []\n",
        "    state, _ = env.reset()\n",
        "    done = False\n",
        "    while not done:\n",
        "        action = env.action_space.sample()  # random policy\n",
        "        next_state, reward, terminated, truncated, _ = env.step(action)\n",
        "        done = terminated or truncated\n",
        "        episode.append((state, action, reward))\n",
        "        state = next_state\n",
        "    return episode\n",
        "\n",
        "# Monte Carlo Prediction\n",
        "returns_sum = defaultdict(float)\n",
        "returns_count = defaultdict(int)\n",
        "\n",
        "for episode_idx in range(num_episodes):\n",
        "    episode = generate_episode(env)\n",
        "    visited_states = set()\n",
        "    G = 0\n",
        "    for t in reversed(range(len(episode))):\n",
        "        state, action, reward = episode[t]\n",
        "        G = gamma * G + reward\n",
        "        if state not in visited_states:\n",
        "            visited_states.add(state)\n",
        "            returns_sum[state] += G\n",
        "            returns_count[state] += 1\n",
        "            value_table[state] = returns_sum[state] / returns_count[state]\n",
        "\n",
        "# Print the learned value function\n",
        "print(\"Learned Value Function (state-values):\")\n",
        "for s in range(state_size):\n",
        "    print(f\"State {s}: {value_table[s].item():.3f}\")\n"
      ],
      "metadata": {
        "colab": {
          "base_uri": "https://localhost:8080/"
        },
        "id": "I2WLtipBTN3k",
        "outputId": "c7d99967-cd10-4073-9e51-f536946a5ee9"
      },
      "execution_count": 7,
      "outputs": [
        {
          "output_type": "stream",
          "name": "stdout",
          "text": [
            "Learned Value Function (state-values):\n",
            "State 0: 0.013\n",
            "State 1: 0.008\n",
            "State 2: 0.016\n",
            "State 3: 0.003\n",
            "State 4: 0.016\n",
            "State 5: 0.000\n",
            "State 6: 0.030\n",
            "State 7: 0.000\n",
            "State 8: 0.034\n",
            "State 9: 0.084\n",
            "State 10: 0.121\n",
            "State 11: 0.000\n",
            "State 12: 0.000\n",
            "State 13: 0.172\n",
            "State 14: 0.402\n",
            "State 15: 0.000\n"
          ]
        }
      ]
    },
    {
      "cell_type": "code",
      "source": [],
      "metadata": {
        "id": "IE6Khy-xU1-Z"
      },
      "execution_count": null,
      "outputs": []
    }
  ]
}