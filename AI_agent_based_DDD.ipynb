{
  "nbformat": 4,
  "nbformat_minor": 0,
  "metadata": {
    "colab": {
      "provenance": [],
      "authorship_tag": "ABX9TyOoSHEXGxOffXhG8btjtGvH",
      "include_colab_link": true
    },
    "kernelspec": {
      "name": "python3",
      "display_name": "Python 3"
    },
    "language_info": {
      "name": "python"
    }
  },
  "cells": [
    {
      "cell_type": "markdown",
      "metadata": {
        "id": "view-in-github",
        "colab_type": "text"
      },
      "source": [
        "<a href=\"https://colab.research.google.com/github/Papa-Panda/Paper_reading/blob/main/AI_agent_based_DDD.ipynb\" target=\"_parent\"><img src=\"https://colab.research.google.com/assets/colab-badge.svg\" alt=\"Open In Colab\"/></a>"
      ]
    },
    {
      "cell_type": "code",
      "execution_count": null,
      "metadata": {
        "id": "ZO5Y-o4o10OY"
      },
      "outputs": [],
      "source": [
        "# paper on AI-agent based DDD\n",
        "\n",
        "# 技术部落应用架构定义文档\n",
        "\n",
        "# papers\n",
        "# https://www.internationaljournalssrg.org/IJCSE/2025/Volume12-Issue3/IJCSE-V12I3P102.pdf\n",
        "\n",
        "\n",
        "# gemini\n",
        "# https://gemini.google.com/app/69001e38cee90b20\n",
        "\n",
        "\n",
        "# paper draft\n",
        "# https://docs.google.com/document/d/1xjlkUeyuJQN5-teuNyvgWCGDqivjj-r3jAEeQ6VEG1E/edit?tab=t.0#heading=h.gr0c466xzvvv"
      ]
    }
  ]
}