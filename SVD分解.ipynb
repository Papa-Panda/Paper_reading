{
  "nbformat": 4,
  "nbformat_minor": 0,
  "metadata": {
    "colab": {
      "provenance": [],
      "authorship_tag": "ABX9TyPDIcEAMp/G2CIKBbKxT8nM",
      "include_colab_link": true
    },
    "kernelspec": {
      "name": "python3",
      "display_name": "Python 3"
    },
    "language_info": {
      "name": "python"
    }
  },
  "cells": [
    {
      "cell_type": "markdown",
      "metadata": {
        "id": "view-in-github",
        "colab_type": "text"
      },
      "source": [
        "<a href=\"https://colab.research.google.com/github/Papa-Panda/Paper_reading/blob/main/SVD%E5%88%86%E8%A7%A3.ipynb\" target=\"_parent\"><img src=\"https://colab.research.google.com/assets/colab-badge.svg\" alt=\"Open In Colab\"/></a>"
      ]
    },
    {
      "cell_type": "code",
      "execution_count": null,
      "metadata": {
        "id": "d68xs7a2wXwh"
      },
      "outputs": [],
      "source": [
        "# SVD分解(一)：自编码器与人工智能\n",
        "# SVD分解(二)：为什么SVD意味着聚类？\n",
        "# SVD分解(三)：连Word2Vec都只不过是个SVD？\n",
        "\n",
        "# 词向量与Embedding究竟是怎么回事？\n",
        "# https://www.spaces.ac.cn/archives/4122\n",
        "\n",
        "# 不太理解CBOW 为啥要两个矩阵\n",
        "# https://gemini.google.com/app/d22aa035fc88962a\n",
        "\n",
        "\n",
        "# current word embedding is still similar to word2vec\n",
        "# https://en.wikipedia.org/wiki/Word2vec\n",
        "# skip-gram vs CBOW\n",
        "# Essentially, skip-gram and CBOW are exactly the same in architecture. They only differ in the objective function during training.\n",
        "\n",
        "# I think v'T * v = onehot ^ T * W' ^ T * W * onehot = onehot ^ T * (W' ^ T * W) * onehot therefore we can consider W' ^ T * W as one matrix during training\n",
        "# answer from https://gemini.google.com/app/d22aa035fc88962a\n",
        "# W has dimensions V×N and W' has dimensions N×V, V >> N, W' ^ T * W will be of shape V X V, which will be too big to compute"
      ]
    }
  ]
}