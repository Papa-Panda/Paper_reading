{
  "nbformat": 4,
  "nbformat_minor": 0,
  "metadata": {
    "colab": {
      "provenance": [],
      "authorship_tag": "ABX9TyOFankHiJIIG2m4dJX2VeSZ",
      "include_colab_link": true
    },
    "kernelspec": {
      "name": "python3",
      "display_name": "Python 3"
    },
    "language_info": {
      "name": "python"
    }
  },
  "cells": [
    {
      "cell_type": "markdown",
      "metadata": {
        "id": "view-in-github",
        "colab_type": "text"
      },
      "source": [
        "<a href=\"https://colab.research.google.com/github/Papa-Panda/Paper_reading/blob/main/%E6%AE%8A%E9%80%94%E5%90%8C%E5%BD%92%E7%9A%84%E7%AD%96%E7%95%A5%E6%A2%AF%E5%BA%A6%E4%B8%8E%E9%9B%B6%E9%98%B6%E4%BC%98%E5%8C%96.ipynb\" target=\"_parent\"><img src=\"https://colab.research.google.com/assets/colab-badge.svg\" alt=\"Open In Colab\"/></a>"
      ]
    },
    {
      "cell_type": "code",
      "execution_count": null,
      "metadata": {
        "id": "Fl4kgl6PTgxN"
      },
      "outputs": [],
      "source": [
        "# 殊途同归的策略梯度与零阶优化\n",
        "# https://spaces.ac.cn/archives/7737"
      ]
    }
  ]
}