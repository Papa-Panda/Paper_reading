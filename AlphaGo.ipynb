{
  "nbformat": 4,
  "nbformat_minor": 0,
  "metadata": {
    "colab": {
      "provenance": [],
      "authorship_tag": "ABX9TyMll/qDzLSfj85hGlaZKAb4",
      "include_colab_link": true
    },
    "kernelspec": {
      "name": "python3",
      "display_name": "Python 3"
    },
    "language_info": {
      "name": "python"
    }
  },
  "cells": [
    {
      "cell_type": "markdown",
      "metadata": {
        "id": "view-in-github",
        "colab_type": "text"
      },
      "source": [
        "<a href=\"https://colab.research.google.com/github/Papa-Panda/Paper_reading/blob/main/AlphaGo.ipynb\" target=\"_parent\"><img src=\"https://colab.research.google.com/assets/colab-badge.svg\" alt=\"Open In Colab\"/></a>"
      ]
    },
    {
      "cell_type": "code",
      "execution_count": null,
      "metadata": {
        "colab": {
          "base_uri": "https://localhost:8080/"
        },
        "id": "jp7-LIujRhKm",
        "outputId": "2f4ab600-3ddb-4999-a616-532b39c148d0"
      },
      "outputs": [
        {
          "output_type": "stream",
          "name": "stdout",
          "text": [
            "Epoch 1, Loss: 0.6759\n"
          ]
        }
      ],
      "source": [
        "import torch\n",
        "import torch.nn as nn\n",
        "import torch.optim as optim\n",
        "import numpy as np\n",
        "\n",
        "def create_random_go_data(num_samples=1000, board_size=19):\n",
        "    \"\"\"Generate pseudo-training data with random board states and move probabilities.\"\"\"\n",
        "    X = np.random.randint(0, 3, (num_samples, 1, board_size, board_size)).astype(np.float32)  # Board state (1 channel)\n",
        "    y_policy = np.random.rand(num_samples, board_size * board_size).astype(np.float32)  # Move probabilities\n",
        "    y_value = np.random.uniform(-1, 1, (num_samples, 1)).astype(np.float32)  # Game outcome (-1 to 1)\n",
        "    return torch.tensor(X), torch.tensor(y_policy), torch.tensor(y_value)\n",
        "\n",
        "class AlphaGoNet(nn.Module):\n",
        "    def __init__(self, board_size=19):\n",
        "        super(AlphaGoNet, self).__init__()\n",
        "        self.board_size = board_size\n",
        "\n",
        "        # Common Feature Extraction\n",
        "        self.conv_layers = nn.Sequential(\n",
        "            nn.Conv2d(1, 64, kernel_size=3, padding=1), nn.ReLU(),\n",
        "            nn.Conv2d(64, 128, kernel_size=3, padding=1), nn.ReLU(),\n",
        "            nn.Conv2d(128, 256, kernel_size=3, padding=1), nn.ReLU(),\n",
        "        )\n",
        "\n",
        "        # Policy Head\n",
        "        self.policy_head = nn.Sequential(\n",
        "            nn.Conv2d(256, 2, kernel_size=1), nn.ReLU(),\n",
        "            nn.Flatten(),\n",
        "            nn.Linear(2 * board_size * board_size, board_size * board_size),\n",
        "            nn.Softmax(dim=1)\n",
        "        )\n",
        "\n",
        "        # Value Head\n",
        "        self.value_head = nn.Sequential(\n",
        "            nn.Conv2d(256, 1, kernel_size=1), nn.ReLU(),\n",
        "            nn.Flatten(),\n",
        "            nn.Linear(board_size * board_size, 64), nn.ReLU(),\n",
        "            nn.Linear(64, 1), nn.Tanh()\n",
        "        )\n",
        "\n",
        "    def forward(self, x):\n",
        "        features = self.conv_layers(x)\n",
        "        policy = self.policy_head(features)\n",
        "        value = self.value_head(features)\n",
        "        return policy, value\n",
        "\n",
        "# Training Setup\n",
        "device = torch.device(\"cuda\" if torch.cuda.is_available() else \"cpu\")\n",
        "model = AlphaGoNet().to(device)\n",
        "optimizer = optim.Adam(model.parameters(), lr=0.001)\n",
        "criterion_policy = nn.MSELoss()\n",
        "criterion_value = nn.MSELoss()\n",
        "\n",
        "# Generate Random Data\n",
        "X_train, y_policy_train, y_value_train = create_random_go_data()\n",
        "X_train, y_policy_train, y_value_train = X_train.to(device), y_policy_train.to(device), y_value_train.to(device)\n",
        "\n",
        "# Training Loop\n",
        "for epoch in range(10):  # Small training loop\n",
        "    optimizer.zero_grad()\n",
        "    policy_pred, value_pred = model(X_train)\n",
        "    loss_policy = criterion_policy(policy_pred, y_policy_train)\n",
        "    loss_value = criterion_value(value_pred, y_value_train)\n",
        "    loss = loss_policy + loss_value\n",
        "    loss.backward()\n",
        "    optimizer.step()\n",
        "    print(f\"Epoch {epoch+1}, Loss: {loss.item():.4f}\")\n",
        "\n",
        "# Testing Inference\n",
        "test_board = torch.randint(0, 3, (1, 1, 19, 19), dtype=torch.float32).to(device)\n",
        "policy_out, value_out = model(test_board)\n",
        "print(\"Sample Policy Output:\", policy_out.detach().cpu().numpy())\n",
        "print(\"Sample Value Output:\", value_out.detach().cpu().numpy())\n"
      ]
    },
    {
      "cell_type": "code",
      "source": [],
      "metadata": {
        "id": "LGDkaYSNR56D"
      },
      "execution_count": null,
      "outputs": []
    }
  ]
}