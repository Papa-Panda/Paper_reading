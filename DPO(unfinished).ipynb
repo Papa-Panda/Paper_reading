{
  "nbformat": 4,
  "nbformat_minor": 0,
  "metadata": {
    "colab": {
      "provenance": [],
      "authorship_tag": "ABX9TyOKmSRiEu/JNsbv74UAE6U+",
      "include_colab_link": true
    },
    "kernelspec": {
      "name": "python3",
      "display_name": "Python 3"
    },
    "language_info": {
      "name": "python"
    }
  },
  "cells": [
    {
      "cell_type": "markdown",
      "metadata": {
        "id": "view-in-github",
        "colab_type": "text"
      },
      "source": [
        "<a href=\"https://colab.research.google.com/github/Papa-Panda/Paper_reading/blob/main/DPO(unfinished).ipynb\" target=\"_parent\"><img src=\"https://colab.research.google.com/assets/colab-badge.svg\" alt=\"Open In Colab\"/></a>"
      ]
    },
    {
      "cell_type": "code",
      "source": [
        "# DPO 原理 https://blog.csdn.net/qq_27590277/article/details/142383849"
      ],
      "metadata": {
        "id": "VM9FO03ulw4o"
      },
      "execution_count": 1,
      "outputs": []
    },
    {
      "cell_type": "code",
      "execution_count": null,
      "metadata": {
        "id": "wK5FPk9fEJMT"
      },
      "outputs": [],
      "source": [
        "import torch\n",
        "import torch.nn as nn\n",
        "import torch.optim as optim\n",
        "\n",
        "# Let's assume you have a base language model (transformer-based)\n",
        "class LanguageModel(nn.Module):\n",
        "    def __init__(self, transformer_model):\n",
        "        super(LanguageModel, self).__init__()\n",
        "        self.transformer = transformer_model  # Pre-trained transformer model like GPT\n",
        "        self.classifier = nn.Linear(transformer_model.config.hidden_size, 1)  # Output a score for each response\n",
        "\n",
        "    def forward(self, input_ids, attention_mask=None):\n",
        "        # Forward pass through the transformer\n",
        "        transformer_output = self.transformer(input_ids, attention_mask=attention_mask).last_hidden_state\n",
        "\n",
        "        # Take the hidden state of the [CLS] token (for simplicity)\n",
        "        cls_embedding = transformer_output[:, 0, :]\n",
        "\n",
        "        # Output a single score for the response\n",
        "        score = self.classifier(cls_embedding)\n",
        "        return score"
      ]
    },
    {
      "cell_type": "code",
      "source": [
        "import torch\n",
        "import torch.nn as nn\n",
        "import torch.optim as optim\n",
        "\n",
        "# Let's assume you have a base language model (transformer-based)\n",
        "class LanguageModel(nn.Module):\n",
        "    def __init__(self, transformer_model):\n",
        "        super(LanguageModel, self).__init__()\n",
        "        self.transformer = transformer_model  # Pre-trained transformer model like GPT\n",
        "        self.classifier = nn.Linear(transformer_model.config.hidden_size, 1)  # Output a score for each response\n",
        "\n",
        "    def forward(self, input_ids, attention_mask=None):\n",
        "        # Forward pass through the transformer\n",
        "        transformer_output = self.transformer(input_ids, attention_mask=attention_mask).last_hidden_state\n",
        "\n",
        "        # Take the hidden state of the [CLS] token (for simplicity)\n",
        "        cls_embedding = transformer_output[:, 0, :]\n",
        "\n",
        "        # Output a single score for the response\n",
        "        score = self.classifier(cls_embedding)\n",
        "        return score\n",
        "\n",
        "\n",
        "# Assume we have a pre-trained transformer model\n",
        "pretrained_transformer = ...  # Load a transformer like GPT or BERT\n",
        "model = LanguageModel(pretrained_transformer).cuda()\n",
        "\n",
        "# Optimizer\n",
        "optimizer = optim.AdamW(model.parameters(), lr=5e-5)\n",
        "\n",
        "# Loss function: Binary cross-entropy for pairwise comparisons\n",
        "def dpo_loss(preferred_score, non_preferred_score):\n",
        "    return -torch.log(torch.sigmoid(preferred_score - non_preferred_score))\n",
        "\n",
        "# Example training loop\n",
        "def train_dpo(model, dataloader, optimizer):\n",
        "    model.train()\n",
        "\n",
        "    for batch in dataloader:\n",
        "        # Assume the batch consists of input pairs and their preference labels\n",
        "        preferred_inputs = batch['preferred_input_ids'].cuda()  # Preferred response input IDs\n",
        "        non_preferred_inputs = batch['non_preferred_input_ids'].cuda()  # Non-preferred response input IDs\n",
        "\n",
        "        preferred_attention_mask = batch['preferred_attention_mask'].cuda()\n",
        "        non_preferred_attention_mask = batch['non_preferred_attention_mask'].cuda()\n",
        "\n",
        "        # Forward pass: Compute scores for both preferred and non-preferred responses\n",
        "        preferred_score = model(preferred_inputs, attention_mask=preferred_attention_mask)\n",
        "        non_preferred_score = model(non_preferred_inputs, attention_mask=non_preferred_attention_mask)\n",
        "\n",
        "        # Compute DPO loss\n",
        "        loss = dpo_loss(preferred_score, non_preferred_score)\n",
        "\n",
        "        # Backward pass and optimization\n",
        "        optimizer.zero_grad()\n",
        "        loss.backward()\n",
        "        optimizer.step()\n",
        "\n",
        "        # Optionally, log loss and other metrics\n",
        "        print(f\"Training loss: {loss.item()}\")\n",
        "\n",
        "# Dataset for DPO (pseudo code)\n",
        "# You need to prepare a dataset with pairs of responses\n",
        "dataloader = ...  # Assume we have a dataloader that loads pairs of responses\n",
        "\n",
        "# Training\n",
        "for epoch in range(10):\n",
        "    train_dpo(model, dataloader, optimizer)\n"
      ],
      "metadata": {
        "id": "NlGVUTt1Ebq5"
      },
      "execution_count": null,
      "outputs": []
    }
  ]
}